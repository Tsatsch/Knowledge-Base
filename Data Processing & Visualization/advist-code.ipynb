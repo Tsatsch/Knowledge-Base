{
 "cells": [
  {
   "cell_type": "markdown",
   "id": "37cd0333-26d6-4b0d-ae0a-241d48a1c41b",
   "metadata": {},
   "source": [
    "# Advist Exam 2022.04.20 [Coding]"
   ]
  },
  {
   "cell_type": "markdown",
   "id": "1ca9ca6a-c357-4525-a224-107eef3725e8",
   "metadata": {},
   "source": [
    "## 1. Intro Python"
   ]
  },
  {
   "cell_type": "markdown",
   "id": "58089ae6-1e07-47e7-aaec-f30e8f9c0d14",
   "metadata": {},
   "source": [
    "### Variables"
   ]
  },
  {
   "cell_type": "markdown",
   "id": "8e19980b-4e80-4c48-b41e-61aa77b283d7",
   "metadata": {},
   "source": [
    "Python is <b>strongly typed dynamic </b> language"
   ]
  },
  {
   "cell_type": "code",
   "execution_count": 2,
   "id": "505fcc1a-2331-447a-a32e-a50ee715900c",
   "metadata": {},
   "outputs": [
    {
     "name": "stdout",
     "output_type": "stream",
     "text": [
      "<class 'int'> test\n",
      "1 test\n"
     ]
    }
   ],
   "source": [
    "example_var = 1\n",
    "example_str = \"test\"\n",
    "print(type(example_var), (example_str))\n",
    "print(example_var, example_str)"
   ]
  },
  {
   "cell_type": "markdown",
   "id": "a536b5c9-d23b-49c9-96de-144151e9c645",
   "metadata": {},
   "source": [
    "Variable names cannot start with a digit or be the same as Python keywords"
   ]
  },
  {
   "cell_type": "code",
   "execution_count": 3,
   "id": "d355e6e9-6ed7-463b-a49a-c9da576edf11",
   "metadata": {},
   "outputs": [
    {
     "ename": "SyntaxError",
     "evalue": "invalid syntax (4273355539.py, line 1)",
     "output_type": "error",
     "traceback": [
      "\u001b[0;36m  Input \u001b[0;32mIn [3]\u001b[0;36m\u001b[0m\n\u001b[0;31m    1war = \"hello\"\u001b[0m\n\u001b[0m     ^\u001b[0m\n\u001b[0;31mSyntaxError\u001b[0m\u001b[0;31m:\u001b[0m invalid syntax\n"
     ]
    }
   ],
   "source": [
    "1war = \"hello\""
   ]
  },
  {
   "cell_type": "code",
   "execution_count": 4,
   "id": "798167d4-0f4e-49b4-85f6-28449aa5427c",
   "metadata": {},
   "outputs": [
    {
     "name": "stdout",
     "output_type": "stream",
     "text": [
      "['False', 'None', 'True', 'and', 'as', 'assert', 'async', 'await', 'break', 'class', 'continue', 'def', 'del', 'elif', 'else', 'except', 'finally', 'for', 'from', 'global', 'if', 'import', 'in', 'is', 'lambda', 'nonlocal', 'not', 'or', 'pass', 'raise', 'return', 'try', 'while', 'with', 'yield']\n"
     ]
    }
   ],
   "source": [
    "import keyword\n",
    "print(keyword.kwlist)"
   ]
  },
  {
   "cell_type": "markdown",
   "id": "77567e69-81cf-42d6-9655-760e306f0811",
   "metadata": {},
   "source": [
    "Python naming convention: lowercase with underscores. No cammelcase!"
   ]
  },
  {
   "cell_type": "code",
   "execution_count": 5,
   "id": "73885727-d901-46c0-a4e2-1068d6325019",
   "metadata": {},
   "outputs": [],
   "source": [
    "this_is_a_cool_variable = \"var\"\n",
    "thisIsWrongNaming = \"var2\""
   ]
  },
  {
   "cell_type": "markdown",
   "id": "f2509eeb-d4ce-422b-b016-173a1cded0f3",
   "metadata": {
    "tags": []
   },
   "source": [
    "### Data Types"
   ]
  },
  {
   "cell_type": "markdown",
   "id": "f487489c-15ce-4215-bc33-010ec90e0f15",
   "metadata": {
    "tags": []
   },
   "source": [
    "bool<br>\n",
    "int <br>\n",
    "float<br>\n",
    "str<br>\n",
    "sequences: list, tuple, range<br>\n",
    "set<br>\n",
    "dict<br>\n",
    "None <br>"
   ]
  },
  {
   "cell_type": "markdown",
   "id": "e1652dfb-dffd-4fe3-ab0b-89d2894ae9d3",
   "metadata": {},
   "source": [
    "#### bool\n",
    "True and False values. We can perform logical operations using and, or and not operators"
   ]
  },
  {
   "cell_type": "code",
   "execution_count": 7,
   "id": "9028e794-34ae-4cac-b3dd-4630fe464202",
   "metadata": {},
   "outputs": [
    {
     "data": {
      "text/plain": [
       "False"
      ]
     },
     "execution_count": 7,
     "metadata": {},
     "output_type": "execute_result"
    }
   ],
   "source": [
    "True and False"
   ]
  },
  {
   "cell_type": "code",
   "execution_count": 8,
   "id": "64ae119f-5c9e-4fda-ba46-9059907771bc",
   "metadata": {},
   "outputs": [
    {
     "data": {
      "text/plain": [
       "True"
      ]
     },
     "execution_count": 8,
     "metadata": {},
     "output_type": "execute_result"
    }
   ],
   "source": [
    "True or False"
   ]
  },
  {
   "cell_type": "code",
   "execution_count": 9,
   "id": "e8851ba0-d829-4acc-980d-c75150e6501d",
   "metadata": {},
   "outputs": [
    {
     "data": {
      "text/plain": [
       "False"
      ]
     },
     "execution_count": 9,
     "metadata": {},
     "output_type": "execute_result"
    }
   ],
   "source": [
    "not True"
   ]
  },
  {
   "cell_type": "markdown",
   "id": "08ce599f-1089-4925-84da-3978b55149ce",
   "metadata": {},
   "source": [
    "For arithmetic operation True is considered as 1 and False as 0"
   ]
  },
  {
   "cell_type": "code",
   "execution_count": 17,
   "id": "dda74e1f-8485-4d91-a8e8-c3805abccf7b",
   "metadata": {},
   "outputs": [
    {
     "data": {
      "text/plain": [
       "3"
      ]
     },
     "execution_count": 17,
     "metadata": {},
     "output_type": "execute_result"
    }
   ],
   "source": [
    "2 + True"
   ]
  },
  {
   "cell_type": "code",
   "execution_count": 18,
   "id": "1aa4fe80-33aa-4625-a363-100d00715b09",
   "metadata": {},
   "outputs": [
    {
     "data": {
      "text/plain": [
       "2"
      ]
     },
     "execution_count": 18,
     "metadata": {},
     "output_type": "execute_result"
    }
   ],
   "source": [
    "2 + False"
   ]
  },
  {
   "cell_type": "code",
   "execution_count": 20,
   "id": "9e19797d-a1c6-4fa6-85e0-0df63a3bfa96",
   "metadata": {},
   "outputs": [
    {
     "data": {
      "text/plain": [
       "35.215"
      ]
     },
     "execution_count": 20,
     "metadata": {},
     "output_type": "execute_result"
    }
   ],
   "source": [
    "34.215 + True"
   ]
  },
  {
   "cell_type": "markdown",
   "id": "5ab147df-758b-4775-9785-eaddeb54c5e3",
   "metadata": {},
   "source": [
    "#### int\n",
    "range is limited by machine's memory\n",
    "- compare integers with operators like >,<,==, != etc."
   ]
  },
  {
   "cell_type": "code",
   "execution_count": 10,
   "id": "c3e28d25-e0a9-4120-92c7-009a7f9f5c59",
   "metadata": {},
   "outputs": [
    {
     "data": {
      "text/plain": [
       "True"
      ]
     },
     "execution_count": 10,
     "metadata": {},
     "output_type": "execute_result"
    }
   ],
   "source": [
    "5>3"
   ]
  },
  {
   "cell_type": "code",
   "execution_count": 11,
   "id": "a36fc4ce-44be-4a8d-9b14-482dca36dd43",
   "metadata": {},
   "outputs": [
    {
     "data": {
      "text/plain": [
       "False"
      ]
     },
     "execution_count": 11,
     "metadata": {},
     "output_type": "execute_result"
    }
   ],
   "source": [
    "4==2"
   ]
  },
  {
   "cell_type": "markdown",
   "id": "b78a65f6-3a2d-45a9-9f5e-23432465c640",
   "metadata": {
    "tags": []
   },
   "source": [
    "##### Arithmetic operations\n",
    "\"+\" <br>\n",
    "-<br>\n",
    "*<br>\n",
    "/<br>\n",
    "//<br>\n",
    "%<br>\n",
    "** "
   ]
  },
  {
   "cell_type": "code",
   "execution_count": 4,
   "id": "36229f12-fc04-475c-893f-70b58d4ecd32",
   "metadata": {},
   "outputs": [
    {
     "data": {
      "text/plain": [
       "8"
      ]
     },
     "execution_count": 4,
     "metadata": {},
     "output_type": "execute_result"
    }
   ],
   "source": [
    "5 + 3"
   ]
  },
  {
   "cell_type": "code",
   "execution_count": 5,
   "id": "22e1e902-b7e9-438e-a738-77f9b9143ce6",
   "metadata": {},
   "outputs": [
    {
     "data": {
      "text/plain": [
       "1.6666666666666667"
      ]
     },
     "execution_count": 5,
     "metadata": {},
     "output_type": "execute_result"
    }
   ],
   "source": [
    "5 / 3"
   ]
  },
  {
   "cell_type": "code",
   "execution_count": 6,
   "id": "d70602ba-6ba5-4cab-b609-f7c9e4d89a3c",
   "metadata": {},
   "outputs": [
    {
     "data": {
      "text/plain": [
       "1"
      ]
     },
     "execution_count": 6,
     "metadata": {},
     "output_type": "execute_result"
    }
   ],
   "source": [
    "5 // 3"
   ]
  },
  {
   "cell_type": "code",
   "execution_count": 8,
   "id": "b44ae817-bf5e-4827-89b1-af3f88163a33",
   "metadata": {},
   "outputs": [
    {
     "data": {
      "text/plain": [
       "2"
      ]
     },
     "execution_count": 8,
     "metadata": {},
     "output_type": "execute_result"
    }
   ],
   "source": [
    "12 % 5 # mod"
   ]
  },
  {
   "cell_type": "code",
   "execution_count": 10,
   "id": "726fa378-6db0-4313-89cb-e7694152da89",
   "metadata": {},
   "outputs": [
    {
     "data": {
      "text/plain": [
       "16"
      ]
     },
     "execution_count": 10,
     "metadata": {},
     "output_type": "execute_result"
    }
   ],
   "source": [
    "2**4 #(2^4)"
   ]
  },
  {
   "cell_type": "markdown",
   "id": "67f37347-afb0-4e63-9dc6-269a6136d36d",
   "metadata": {
    "tags": []
   },
   "source": [
    "Presedence of the operations: <b>PEMDAS</b> (parentheses, exponentiation, multiplication, division, addition, subtraction)"
   ]
  },
  {
   "cell_type": "code",
   "execution_count": 11,
   "id": "c7b0dcf7-da4c-47f8-93c1-d401cbe6d03c",
   "metadata": {},
   "outputs": [
    {
     "data": {
      "text/plain": [
       "6.0"
      ]
     },
     "execution_count": 11,
     "metadata": {},
     "output_type": "execute_result"
    }
   ],
   "source": [
    "(3+2)*4/2**2+1"
   ]
  },
  {
   "cell_type": "code",
   "execution_count": 12,
   "id": "5ae6cc45-5940-4921-9457-34b6394e08be",
   "metadata": {},
   "outputs": [
    {
     "name": "stdout",
     "output_type": "stream",
     "text": [
      "6.0\n"
     ]
    }
   ],
   "source": [
    "x1 = 3+2\n",
    "x2 = 2**2\n",
    "x3 = x1 * 4\n",
    "x4 = x3 / x2 \n",
    "x5 = x4+1\n",
    "print(x5)"
   ]
  },
  {
   "cell_type": "markdown",
   "id": "351594d5-eeed-4683-bb70-e7a38913fe2e",
   "metadata": {},
   "source": [
    "#### float\n",
    "- have limited precision"
   ]
  },
  {
   "cell_type": "code",
   "execution_count": 15,
   "id": "bf869ba6-5111-4e3c-b036-30a105f7ba13",
   "metadata": {},
   "outputs": [
    {
     "data": {
      "text/plain": [
       "True"
      ]
     },
     "execution_count": 15,
     "metadata": {},
     "output_type": "execute_result"
    }
   ],
   "source": [
    "0.1 == 0.10000000000000001"
   ]
  },
  {
   "cell_type": "code",
   "execution_count": 16,
   "id": "7cd6d643-9350-45f4-bab4-954ab1cea7f3",
   "metadata": {},
   "outputs": [
    {
     "data": {
      "text/plain": [
       "0.24"
      ]
     },
     "execution_count": 16,
     "metadata": {},
     "output_type": "execute_result"
    }
   ],
   "source": [
    "24e-2"
   ]
  },
  {
   "cell_type": "markdown",
   "id": "05d9a030-2809-4c6e-8ff7-fc80d9bed4e6",
   "metadata": {},
   "source": [
    "Same arithmetic operations as for float"
   ]
  },
  {
   "cell_type": "markdown",
   "id": "dc9591dc-cbbc-4c05-bd41-0b1b41e3a002",
   "metadata": {},
   "source": [
    "#### None\n",
    "None represents absense of the value"
   ]
  },
  {
   "cell_type": "code",
   "execution_count": 23,
   "id": "39ee8a52-f860-45f6-a025-e06d22dd665a",
   "metadata": {},
   "outputs": [
    {
     "name": "stdout",
     "output_type": "stream",
     "text": [
      "None\n"
     ]
    }
   ],
   "source": [
    "a = None\n",
    "print(a)"
   ]
  },
  {
   "cell_type": "markdown",
   "id": "cbdbb928-778a-4638-98fe-091a5d6482a8",
   "metadata": {},
   "source": [
    "#### str\n",
    "str - sequence of characters <br>\n",
    "there is no specific datatype for single character like char is Java<br>\n",
    "so single characters are str too<br>"
   ]
  },
  {
   "cell_type": "code",
   "execution_count": 24,
   "id": "04ef6395-f452-4625-88eb-ceccd0fa00ce",
   "metadata": {},
   "outputs": [
    {
     "name": "stdout",
     "output_type": "stream",
     "text": [
      "<class 'str'>\n",
      "Hello world\n"
     ]
    }
   ],
   "source": [
    "my_str = 'Hello world'\n",
    "print(type(my_str))\n",
    "print(my_str)"
   ]
  },
  {
   "cell_type": "code",
   "execution_count": 25,
   "id": "57abfa3c-d3cd-48f5-8777-dd4539e9880f",
   "metadata": {},
   "outputs": [
    {
     "name": "stdout",
     "output_type": "stream",
     "text": [
      "<class 'str'>\n",
      "a\n"
     ]
    }
   ],
   "source": [
    "char_str = \"a\"\n",
    "print(type(char_str))\n",
    "print(char_str)"
   ]
  },
  {
   "cell_type": "code",
   "execution_count": 26,
   "id": "14709f44-8a8f-45ba-8d65-8492f9bc101f",
   "metadata": {},
   "outputs": [
    {
     "name": "stdout",
     "output_type": "stream",
     "text": [
      "<class 'str'>\n",
      "\n"
     ]
    }
   ],
   "source": [
    "empty_str = ''\n",
    "print(type(empty_str))\n",
    "print(empty_str)"
   ]
  },
  {
   "cell_type": "markdown",
   "id": "d6018953-05b1-4c52-b4da-3166f181ee17",
   "metadata": {},
   "source": [
    "it does not matter whether you use '' or \"\" "
   ]
  },
  {
   "cell_type": "code",
   "execution_count": 29,
   "id": "7b58c016-e8cb-45ef-a174-2a62b7f10884",
   "metadata": {},
   "outputs": [
    {
     "data": {
      "text/plain": [
       "True"
      ]
     },
     "execution_count": 29,
     "metadata": {},
     "output_type": "execute_result"
    }
   ],
   "source": [
    "\"wowo That was fast\" == 'wowo That was fast'"
   ]
  },
  {
   "cell_type": "markdown",
   "id": "c8695f22-0f5b-486b-ade0-1aabefd4938d",
   "metadata": {},
   "source": [
    "how usage of single and double quoted string makes live easier:"
   ]
  },
  {
   "cell_type": "code",
   "execution_count": 27,
   "id": "57609ebb-967a-45d1-9901-1cf279caf61f",
   "metadata": {},
   "outputs": [
    {
     "data": {
      "text/plain": [
       "\"Let's go\""
      ]
     },
     "execution_count": 27,
     "metadata": {},
     "output_type": "execute_result"
    }
   ],
   "source": [
    "\"Let's go\""
   ]
  },
  {
   "cell_type": "code",
   "execution_count": 28,
   "id": "c9dad03f-aff9-4fd9-9013-d491eb3c3920",
   "metadata": {},
   "outputs": [
    {
     "data": {
      "text/plain": [
       "'Company is called \"Apple\"'"
      ]
     },
     "execution_count": 28,
     "metadata": {},
     "output_type": "execute_result"
    }
   ],
   "source": [
    "'Company is called \"Apple\"'"
   ]
  },
  {
   "cell_type": "markdown",
   "id": "0866fce6-28b0-44e4-9d9d-dc1523de2864",
   "metadata": {},
   "source": [
    "if we have both ' and \" in our string we can use \\' or \\\"\" <br>\n",
    "alternatively we can use \"\"\" triple quotes"
   ]
  },
  {
   "cell_type": "code",
   "execution_count": 33,
   "id": "5fd6e310-58f4-4881-80d7-6b767112e171",
   "metadata": {},
   "outputs": [
    {
     "data": {
      "text/plain": [
       "'Let\\'s go to \"Apple\"'"
      ]
     },
     "execution_count": 33,
     "metadata": {},
     "output_type": "execute_result"
    }
   ],
   "source": [
    "\"Let's go to \\\"Apple\\\"\""
   ]
  },
  {
   "cell_type": "code",
   "execution_count": 36,
   "id": "774aef5a-baf2-4cbb-97c6-b805888513d6",
   "metadata": {},
   "outputs": [
    {
     "data": {
      "text/plain": [
       "'Let\\'s go to \"Apple'"
      ]
     },
     "execution_count": 36,
     "metadata": {},
     "output_type": "execute_result"
    }
   ],
   "source": [
    "\"\"\"Let's go to \"Apple\"\"\"\"\""
   ]
  },
  {
   "cell_type": "markdown",
   "id": "a5b2737f-6f3c-4f9d-89c6-748c03c5005b",
   "metadata": {},
   "source": [
    "use tripple quotes for multiline too"
   ]
  },
  {
   "cell_type": "code",
   "execution_count": 39,
   "id": "070f190a-e7a4-4d0a-93bc-2d19b5f10b34",
   "metadata": {},
   "outputs": [
    {
     "data": {
      "text/plain": [
       "'this is\\na multiline\\nmadness '"
      ]
     },
     "execution_count": 39,
     "metadata": {},
     "output_type": "execute_result"
    }
   ],
   "source": [
    "\"\"\"this is\n",
    "a multiline\n",
    "madness \"\"\""
   ]
  },
  {
   "cell_type": "markdown",
   "id": "9bc3dbd1-6b6d-4c9a-9ca0-1b38556019bc",
   "metadata": {},
   "source": [
    "Or with \\ and single quotes (but here line break is ignored)"
   ]
  },
  {
   "cell_type": "code",
   "execution_count": 40,
   "id": "a89b6503-73d2-4012-ba72-99469df31393",
   "metadata": {},
   "outputs": [
    {
     "data": {
      "text/plain": [
       "'This is a multiline with single quote'"
      ]
     },
     "execution_count": 40,
     "metadata": {},
     "output_type": "execute_result"
    }
   ],
   "source": [
    "'This is a multiline with \\\n",
    "single quote'"
   ]
  },
  {
   "cell_type": "markdown",
   "id": "73a1c1e0-62e3-4582-828d-621b47f5c9ed",
   "metadata": {},
   "source": [
    "Concatenate strings"
   ]
  },
  {
   "cell_type": "code",
   "execution_count": 41,
   "id": "7987d3d6-7ebe-42cb-b43b-90a51e22053c",
   "metadata": {},
   "outputs": [
    {
     "name": "stdout",
     "output_type": "stream",
     "text": [
      "Hello, World: \n",
      "Hello, World: Yesss\n"
     ]
    }
   ],
   "source": [
    "a = \"Hello, \"\n",
    "b = \"World: \"\n",
    "print(a + b)\n",
    "c = a+b+\"Yesss\"\n",
    "print(c)"
   ]
  },
  {
   "cell_type": "markdown",
   "id": "4498daf5-526e-4ebb-aa3a-ff398ecaa27e",
   "metadata": {},
   "source": [
    "Indexing single characters: str is sequeunce of characters"
   ]
  },
  {
   "cell_type": "code",
   "execution_count": 45,
   "id": "43644977-1a94-4e38-b05d-fe94ae64cb91",
   "metadata": {},
   "outputs": [
    {
     "name": "stdout",
     "output_type": "stream",
     "text": [
      "! T\n",
      "24\n"
     ]
    }
   ],
   "source": [
    "a = \"This is a long sentence!\"\n",
    "print(a[-1], a[0])\n",
    "print(len(a))"
   ]
  },
  {
   "cell_type": "markdown",
   "id": "14ada146-2140-4a0e-a6c9-faadc5ad5962",
   "metadata": {
    "tags": []
   },
   "source": [
    "#### Sequence data types: lists, tuples and ranges.\n",
    "sequence - ordered collection of values (String are sequences too!)"
   ]
  },
  {
   "cell_type": "code",
   "execution_count": 46,
   "id": "e7a63346-5227-47d1-a04a-59ab8a67f0c0",
   "metadata": {},
   "outputs": [
    {
     "name": "stdout",
     "output_type": "stream",
     "text": [
      "[1, 2, 3, 5, 0, 10]\n",
      "(3, 1, 5, 6, 7, 10, 1)\n",
      "range(0, 7)\n"
     ]
    }
   ],
   "source": [
    "cool_list = [1,2,3,5,0,10]\n",
    "cool_tuple = (3,1,5,6,7,10,1)\n",
    "cool_range = range(0,7)\n",
    "print(cool_list)\n",
    "print(cool_tuple)\n",
    "print(cool_range)"
   ]
  },
  {
   "cell_type": "markdown",
   "id": "8524fe60-ce50-47fe-b108-1ae78ef46c5c",
   "metadata": {},
   "source": [
    "<b>List<b>\n",
    "- mutable, heterogeneous, ordered sequence of elements\n",
    "\n",
    "mutable - changable <br>\n",
    "heterogeneous - can be of different data types (list with int and str elements) <br>\n",
    "ordered - indexing possible, every element has fixed position"
   ]
  },
  {
   "cell_type": "code",
   "execution_count": 47,
   "id": "3eee5585-7a80-4ef8-8693-e2cf1addb9b5",
   "metadata": {},
   "outputs": [
    {
     "data": {
      "text/plain": [
       "2"
      ]
     },
     "execution_count": 47,
     "metadata": {},
     "output_type": "execute_result"
    }
   ],
   "source": [
    "my_list = [True, 2, \"string\"] # boolean, integer, string\n",
    "my_list[1]"
   ]
  },
  {
   "cell_type": "code",
   "execution_count": 48,
   "id": "c6c5482a-5e50-4811-a1ac-172d1a123d8b",
   "metadata": {},
   "outputs": [
    {
     "data": {
      "text/plain": [
       "[True, 'wowo', 'string']"
      ]
     },
     "execution_count": 48,
     "metadata": {},
     "output_type": "execute_result"
    }
   ],
   "source": [
    "my_list[1] = \"wowo\"\n",
    "my_list"
   ]
  },
  {
   "cell_type": "markdown",
   "id": "de2c98e4-d962-4dc3-9e45-b6a9edb3e6ba",
   "metadata": {},
   "source": [
    "add elements to list <br>\n",
    "extend() or + - add multiple elements (add list to list)<br>\n",
    "append() - add single element"
   ]
  },
  {
   "cell_type": "code",
   "execution_count": 55,
   "id": "6753e180-9374-4c74-8741-46a7366528f9",
   "metadata": {},
   "outputs": [
    {
     "name": "stdout",
     "output_type": "stream",
     "text": [
      "[True, 2, 'string', '12', 'cool', False, 23]\n",
      "[True, 2, 'string', '12', 'cool', False, 23]\n",
      "['12', 'cool', False, 23, '999999999']\n"
     ]
    }
   ],
   "source": [
    "my_list = [True, 2, \"string\"]\n",
    "extention_list = [\"12\", \"cool\", False, 23]\n",
    "single_elem = \"999999999\"\n",
    "big_one = my_list + extention_list\n",
    "my_list.extend(extention_list)\n",
    "print(my_list)\n",
    "print(big_one)\n",
    "extention_list.append(single_elem)\n",
    "print(extention_list)"
   ]
  },
  {
   "cell_type": "markdown",
   "id": "0d563bc8-30fd-4056-8625-50425306667a",
   "metadata": {},
   "source": [
    "<b> tuple <b>\n",
    "- immutable, heterogeneous, ordered sequence of elements\n",
    "    \n",
    "immutable - non-changable <br>\n",
    "heterogeneous - can be of different data types (list with int and str elements) <br>\n",
    "ordered - indexing possible, every element has fixed position"
   ]
  },
  {
   "cell_type": "code",
   "execution_count": 56,
   "id": "f46b8eb8-1848-4451-98f1-1c8eaaf10b1c",
   "metadata": {},
   "outputs": [
    {
     "data": {
      "text/plain": [
       "('hello', 1, 1.235)"
      ]
     },
     "execution_count": 56,
     "metadata": {},
     "output_type": "execute_result"
    }
   ],
   "source": [
    "my_tuple = (\"hello\", 1, 1.235)\n",
    "my_tuple"
   ]
  },
  {
   "cell_type": "code",
   "execution_count": 57,
   "id": "f13defc5-c20a-4b9f-bedc-edc8f9c1ce1b",
   "metadata": {},
   "outputs": [
    {
     "ename": "TypeError",
     "evalue": "'tuple' object does not support item assignment",
     "output_type": "error",
     "traceback": [
      "\u001b[0;31m---------------------------------------------------------------------------\u001b[0m",
      "\u001b[0;31mTypeError\u001b[0m                                 Traceback (most recent call last)",
      "Input \u001b[0;32mIn [57]\u001b[0m, in \u001b[0;36m<cell line: 2>\u001b[0;34m()\u001b[0m\n\u001b[1;32m      1\u001b[0m \u001b[38;5;66;03m# change value\u001b[39;00m\n\u001b[0;32m----> 2\u001b[0m my_tuple[\u001b[38;5;241m0\u001b[39m] \u001b[38;5;241m=\u001b[39m \u001b[38;5;124m\"\u001b[39m\u001b[38;5;124mchange me\u001b[39m\u001b[38;5;124m\"\u001b[39m\n",
      "\u001b[0;31mTypeError\u001b[0m: 'tuple' object does not support item assignment"
     ]
    }
   ],
   "source": [
    "# change value\n",
    "my_tuple[0] = \"change me\""
   ]
  },
  {
   "cell_type": "code",
   "execution_count": 59,
   "id": "0bf2b674-a620-47ba-8327-aff581411fd4",
   "metadata": {},
   "outputs": [
    {
     "data": {
      "text/plain": [
       "('hello', 1, 1.235, False, 1, 234, 'a', 'a', 'thri')"
      ]
     },
     "execution_count": 59,
     "metadata": {},
     "output_type": "execute_result"
    }
   ],
   "source": [
    "# but we can concatenate tuples\n",
    "my_tuple = (\"hello\", 1, 1.235)\n",
    "my_second_tuple = (False, 1, 234)\n",
    "my_third_tuple = (\"a\",\"a\",\"thri\")\n",
    "combo = my_tuple + my_second_tuple + my_third_tuple\n",
    "combo"
   ]
  },
  {
   "cell_type": "markdown",
   "id": "11f9eba5-56fc-4402-8c02-04a663a78918",
   "metadata": {},
   "source": [
    "<b>range<b>\n",
    "- sequnce of integers from start to end\n",
    "- see how it is used in for loop in Control Flow section\n",
    "    \n",
    "range(start, end, step)<br>\n",
    "End index is not inlcuded!"
   ]
  },
  {
   "cell_type": "code",
   "execution_count": 63,
   "id": "2b71588b-bb6a-41ef-818a-566e620a02a7",
   "metadata": {},
   "outputs": [
    {
     "name": "stdout",
     "output_type": "stream",
     "text": [
      "range(0, 10)\n",
      "range(0, 10, 2)\n"
     ]
    }
   ],
   "source": [
    "range_a = range(0,10)\n",
    "print(range_a)\n",
    "range_b = range(0,10,2)\n",
    "print(range_b)"
   ]
  },
  {
   "cell_type": "markdown",
   "id": "c38177a5-d7e0-4d72-b5f6-0cd40d959810",
   "metadata": {},
   "source": [
    "#### set\n",
    "- mutable, heterogenous, unordered sequence of <b> distinct values </b>\n",
    "\n",
    "mutable - changable <br>\n",
    "heterogeneous - can be of different data types (list with int and str elements) <br>\n",
    "unordered - no indexing possible"
   ]
  },
  {
   "cell_type": "code",
   "execution_count": 76,
   "id": "5666731a-ce4a-44ae-a4d3-a21b8305a6fd",
   "metadata": {},
   "outputs": [
    {
     "data": {
      "text/plain": [
       "{1, 2, 3, 4, False, 'string'}"
      ]
     },
     "execution_count": 76,
     "metadata": {},
     "output_type": "execute_result"
    }
   ],
   "source": [
    "my_set = {'string', 1,2,3,4,4,False}\n",
    "my_set"
   ]
  },
  {
   "cell_type": "markdown",
   "id": "c08cb66f-2b75-41d4-8afc-aacfcad0b6f5",
   "metadata": {},
   "source": [
    "add elements to a set and check elements presence in the set"
   ]
  },
  {
   "cell_type": "code",
   "execution_count": 77,
   "id": "e44c85a0-2100-491b-9f23-d22046674035",
   "metadata": {},
   "outputs": [
    {
     "name": "stdout",
     "output_type": "stream",
     "text": [
      "{False, 1, 2, 3, 4, 'string'}\n",
      "{False, 1, 2, 3, 4, 'string', '99999'}\n",
      "True\n",
      "True\n"
     ]
    }
   ],
   "source": [
    "a = \"99999\"\n",
    "print(my_set)\n",
    "my_set.add(a)\n",
    "print(my_set)\n",
    "\n",
    "print(1 in my_set)\n",
    "print(5 not in my_set)"
   ]
  },
  {
   "cell_type": "markdown",
   "id": "d6233b78-8aca-44dc-b9f5-08ad0c283e66",
   "metadata": {},
   "source": [
    "Compute sets operations:\n",
    "\n",
    "| - union <br>\n",
    "& - intersection <br>\n",
    "\"-\" - difference <br>\n",
    "^ - symmetric difference <br>"
   ]
  },
  {
   "cell_type": "code",
   "execution_count": 78,
   "id": "5497f82e-e859-4a7b-87cd-9055f3f1d587",
   "metadata": {},
   "outputs": [],
   "source": [
    "set_1 = {1,2,3,4,5,6}\n",
    "set_2 = {5,6,7,8,9,10}"
   ]
  },
  {
   "cell_type": "code",
   "execution_count": 79,
   "id": "aaef018f-517f-4930-8d5a-a078778a6c12",
   "metadata": {},
   "outputs": [
    {
     "data": {
      "text/plain": [
       "{1, 2, 3, 4, 5, 6, 7, 8, 9, 10}"
      ]
     },
     "execution_count": 79,
     "metadata": {},
     "output_type": "execute_result"
    }
   ],
   "source": [
    "set_1 | set_2"
   ]
  },
  {
   "cell_type": "code",
   "execution_count": 80,
   "id": "33aff189-d407-41c4-b16f-10a66b117297",
   "metadata": {},
   "outputs": [
    {
     "data": {
      "text/plain": [
       "{5, 6}"
      ]
     },
     "execution_count": 80,
     "metadata": {},
     "output_type": "execute_result"
    }
   ],
   "source": [
    "set_1 & set_2"
   ]
  },
  {
   "cell_type": "code",
   "execution_count": 81,
   "id": "9bcf5fe6-1ecd-45db-9c2b-1fee8673c9df",
   "metadata": {},
   "outputs": [
    {
     "data": {
      "text/plain": [
       "{1, 2, 3, 4}"
      ]
     },
     "execution_count": 81,
     "metadata": {},
     "output_type": "execute_result"
    }
   ],
   "source": [
    "set_1 - set_2"
   ]
  },
  {
   "cell_type": "code",
   "execution_count": 82,
   "id": "023e1656-a16c-41a6-a907-04c733f786ec",
   "metadata": {},
   "outputs": [
    {
     "data": {
      "text/plain": [
       "{1, 2, 3, 4, 7, 8, 9, 10}"
      ]
     },
     "execution_count": 82,
     "metadata": {},
     "output_type": "execute_result"
    }
   ],
   "source": [
    "set_1 ^ set_2"
   ]
  },
  {
   "cell_type": "markdown",
   "id": "910dfcf3-b646-47a2-885f-2d5927db739d",
   "metadata": {},
   "source": [
    "#### Dict\n",
    "- mutable, heterogenous unordered sequence of <b> key-value </b> value pairs\n",
    "\n",
    "mutable - changable <br>\n",
    "heterogeneous - can be of different data types (list with int and str elements) <br>"
   ]
  },
  {
   "cell_type": "code",
   "execution_count": 1,
   "id": "285a75e8-e428-41a7-ba16-427933e0880a",
   "metadata": {},
   "outputs": [
    {
     "data": {
      "text/plain": [
       "{'key': 99999, 12: True, 'id': 'smkwma'}"
      ]
     },
     "execution_count": 1,
     "metadata": {},
     "output_type": "execute_result"
    }
   ],
   "source": [
    "my_cool_dict = {\"key\":1231, 12: True, \"id\":\"smkwma\"}\n",
    "my_cool_dict['key'] = 99999\n",
    "my_cool_dict"
   ]
  },
  {
   "cell_type": "code",
   "execution_count": 2,
   "id": "f36ef43c-b882-4a9f-bf9c-8d62b0d568c1",
   "metadata": {},
   "outputs": [
    {
     "data": {
      "text/plain": [
       "'smkwma'"
      ]
     },
     "execution_count": 2,
     "metadata": {},
     "output_type": "execute_result"
    }
   ],
   "source": [
    "my_cool_dict['id']"
   ]
  },
  {
   "cell_type": "markdown",
   "id": "e87684a4-0208-43e7-855b-01c1976c8c2a",
   "metadata": {},
   "source": [
    "Concatenation of two dictionaries with \"|\""
   ]
  },
  {
   "cell_type": "code",
   "execution_count": 4,
   "id": "07a3f97a-9e91-4bf2-b09b-19c6ad88c365",
   "metadata": {},
   "outputs": [
    {
     "data": {
      "text/plain": [
       "{'key': 1231, 12: True, 'id': 'smkwma', 'key2': 1111, 'name': 'Kalven'}"
      ]
     },
     "execution_count": 4,
     "metadata": {},
     "output_type": "execute_result"
    }
   ],
   "source": [
    "my_cool_dict = {\"key\":1231, 12: True, \"id\":\"smkwma\"}\n",
    "my_cool_dict2 = {\"key2\":1111, \"name\": \"Kalven\"}\n",
    "sumdic = my_cool_dict | my_cool_dict2\n",
    "sumdic"
   ]
  },
  {
   "cell_type": "markdown",
   "id": "b8097ab3-3432-4e67-8f11-22174e0ad3db",
   "metadata": {},
   "source": [
    "update value of dictionary with other dictionary. Values with same keys are updated, rest is concatenated."
   ]
  },
  {
   "cell_type": "code",
   "execution_count": 5,
   "id": "50e10e66-915c-48c3-8e9f-a3c6595bcfa3",
   "metadata": {},
   "outputs": [
    {
     "data": {
      "text/plain": [
       "{'key': 99999, 12: True, 'id': 'WWWW', 'new_key': 'newone'}"
      ]
     },
     "execution_count": 5,
     "metadata": {},
     "output_type": "execute_result"
    }
   ],
   "source": [
    "my_cool_dict = {\"key\":1231, 12: True, \"id\":\"smkwma\"}\n",
    "my_cool_dict_update = {\"key\":99999, \"id\":\"WWWW\", \"new_key\": \"newone\"}\n",
    "my_cool_dict.update(my_cool_dict_update)\n",
    "my_cool_dict"
   ]
  },
  {
   "cell_type": "markdown",
   "id": "9eacd406-5a9b-4b1e-a3ed-2f9d11a0d303",
   "metadata": {},
   "source": [
    "### Convertion of Data types"
   ]
  },
  {
   "cell_type": "code",
   "execution_count": 6,
   "id": "accc8495-8c38-4f1f-89bc-74bb813afa28",
   "metadata": {},
   "outputs": [
    {
     "data": {
      "text/plain": [
       "5"
      ]
     },
     "execution_count": 6,
     "metadata": {},
     "output_type": "execute_result"
    }
   ],
   "source": [
    "int(5.4)"
   ]
  },
  {
   "cell_type": "code",
   "execution_count": 7,
   "id": "c32f305c-5bb8-4148-a0f4-f053b0451432",
   "metadata": {},
   "outputs": [
    {
     "data": {
      "text/plain": [
       "True"
      ]
     },
     "execution_count": 7,
     "metadata": {},
     "output_type": "execute_result"
    }
   ],
   "source": [
    "bool('String')"
   ]
  },
  {
   "cell_type": "code",
   "execution_count": 9,
   "id": "20d0bc59-0d3a-4b38-9761-e39dbc5ba962",
   "metadata": {},
   "outputs": [
    {
     "data": {
      "text/plain": [
       "int"
      ]
     },
     "execution_count": 9,
     "metadata": {},
     "output_type": "execute_result"
    }
   ],
   "source": [
    "a = int('10')\n",
    "type(a)"
   ]
  },
  {
   "cell_type": "code",
   "execution_count": 10,
   "id": "169802e9-df62-408b-89d2-33cbe31ed507",
   "metadata": {},
   "outputs": [
    {
     "data": {
      "text/plain": [
       "'12.4'"
      ]
     },
     "execution_count": 10,
     "metadata": {},
     "output_type": "execute_result"
    }
   ],
   "source": [
    "str(12.4)"
   ]
  },
  {
   "cell_type": "code",
   "execution_count": 11,
   "id": "a2333c0d-58a5-4db1-8bb0-653a0a54688c",
   "metadata": {},
   "outputs": [
    {
     "data": {
      "text/plain": [
       "[1, 2, 3, 4]"
      ]
     },
     "execution_count": 11,
     "metadata": {},
     "output_type": "execute_result"
    }
   ],
   "source": [
    "list((1,2,3,4))"
   ]
  },
  {
   "cell_type": "code",
   "execution_count": 13,
   "id": "959a12a0-32ef-495d-a561-f48a88c2e649",
   "metadata": {},
   "outputs": [
    {
     "data": {
      "text/plain": [
       "{1, 2, 4, 5}"
      ]
     },
     "execution_count": 13,
     "metadata": {},
     "output_type": "execute_result"
    }
   ],
   "source": [
    "set([1,2,4,4,2,5])"
   ]
  },
  {
   "cell_type": "code",
   "execution_count": 14,
   "id": "d3c3456c-540d-492c-a5e6-05e472f5e20f",
   "metadata": {},
   "outputs": [
    {
     "data": {
      "text/plain": [
       "['key', 12, 'id']"
      ]
     },
     "execution_count": 14,
     "metadata": {},
     "output_type": "execute_result"
    }
   ],
   "source": [
    "list({\"key\":1231, 12: True, \"id\":\"smkwma\"})"
   ]
  },
  {
   "cell_type": "code",
   "execution_count": 15,
   "id": "4005cffe-f5ec-4fac-847f-d90d1f9b32e2",
   "metadata": {},
   "outputs": [
    {
     "data": {
      "text/plain": [
       "(1, 2, 3)"
      ]
     },
     "execution_count": 15,
     "metadata": {},
     "output_type": "execute_result"
    }
   ],
   "source": [
    "tuple([1,2,3])"
   ]
  },
  {
   "cell_type": "markdown",
   "id": "660209a2-9816-46cd-b4dd-5aa856866574",
   "metadata": {
    "tags": []
   },
   "source": [
    "### Control Flow"
   ]
  },
  {
   "cell_type": "markdown",
   "id": "104d1d4d-b721-45d4-b86c-cc0043a62208",
   "metadata": {},
   "source": [
    "Branching: \n",
    "- If statements<br>\n",
    "\n",
    "Loops: \n",
    "- match-case statement since Python 3.10<br>\n",
    "- for, while statements as loops (no do...while)"
   ]
  },
  {
   "cell_type": "markdown",
   "id": "0edc9a8a-a4de-429e-b62a-d3e8759b4aab",
   "metadata": {},
   "source": [
    "#### if"
   ]
  },
  {
   "cell_type": "code",
   "execution_count": 12,
   "id": "d05563c8-c5a4-46a3-a46f-0c31b6defb7f",
   "metadata": {},
   "outputs": [
    {
     "name": "stdout",
     "output_type": "stream",
     "text": [
      "x > 10\n"
     ]
    }
   ],
   "source": [
    "x = 13\n",
    "if x > 10:\n",
    "    print(\"x > 10\")\n",
    "if x < 10:\n",
    "    print(\"x < 10\")"
   ]
  },
  {
   "cell_type": "markdown",
   "id": "a542d286-2a85-464c-8a2a-9c38e1019109",
   "metadata": {},
   "source": [
    "#### if-else"
   ]
  },
  {
   "cell_type": "code",
   "execution_count": 14,
   "id": "35ae6247-8155-48e6-85cf-a167039b7d17",
   "metadata": {},
   "outputs": [
    {
     "name": "stdout",
     "output_type": "stream",
     "text": [
      "x < 10\n"
     ]
    }
   ],
   "source": [
    "x = 8\n",
    "if x > 10:\n",
    "    print(\"x > 10\")\n",
    "else:\n",
    "    print(\"x < 10\")"
   ]
  },
  {
   "cell_type": "markdown",
   "id": "e4aa52e9-d813-4fe3-b9d6-fe85ac44ef09",
   "metadata": {},
   "source": [
    "#### if-elif-else"
   ]
  },
  {
   "cell_type": "code",
   "execution_count": 17,
   "id": "2ddedb26-520c-4427-915d-bc8d822b5209",
   "metadata": {},
   "outputs": [
    {
     "name": "stdout",
     "output_type": "stream",
     "text": [
      "x > 10\n"
     ]
    }
   ],
   "source": [
    "x = 12\n",
    "if x > 10:\n",
    "    print(\"x > 10\")\n",
    "elif x==12:\n",
    "    print(\"x==8\")\n",
    "else:\n",
    "    print(\"NOP\")"
   ]
  },
  {
   "cell_type": "markdown",
   "id": "2a57821a-d848-4cec-a08d-9ddf016c77a7",
   "metadata": {},
   "source": [
    "#### match-case"
   ]
  },
  {
   "cell_type": "code",
   "execution_count": 3,
   "id": "3466eaaf-532a-4239-b213-e660e783f938",
   "metadata": {},
   "outputs": [
    {
     "name": "stdout",
     "output_type": "stream",
     "text": [
      "YES\n"
     ]
    }
   ],
   "source": [
    "x = 18\n",
    "match x:\n",
    "    case 14:\n",
    "        print(\"nop\")\n",
    "    case 18:\n",
    "        print(\"YES\")\n",
    "    case 18.12:\n",
    "        print(\"not yet\")"
   ]
  },
  {
   "cell_type": "markdown",
   "id": "21d6dfb4-136c-4655-838c-ad4373ace48e",
   "metadata": {},
   "source": [
    "#### while\n",
    "loop is executed as long as the condition is true"
   ]
  },
  {
   "cell_type": "code",
   "execution_count": 22,
   "id": "4446cd5d-e613-4904-a5b0-02381eabaae9",
   "metadata": {},
   "outputs": [
    {
     "name": "stdout",
     "output_type": "stream",
     "text": [
      "012345"
     ]
    }
   ],
   "source": [
    "x = 0\n",
    "while x <= 5:\n",
    "    print(x, end=\"\")\n",
    "    x += 1 # x = x + 1\n"
   ]
  },
  {
   "cell_type": "markdown",
   "id": "2d9220be-6b71-4434-9cb1-f7d838ce98c2",
   "metadata": {},
   "source": [
    "#### For\n",
    "for loops in Python iterate over elements of a collection such as list or tuple"
   ]
  },
  {
   "cell_type": "code",
   "execution_count": 60,
   "id": "b7e72846-f5ce-4807-8d49-2ae6ae593602",
   "metadata": {},
   "outputs": [
    {
     "name": "stdout",
     "output_type": "stream",
     "text": [
      "1\n",
      "True\n",
      "21\n",
      "4583\n"
     ]
    }
   ],
   "source": [
    "for element in [\"1\", True, \"21\", 4583]:\n",
    "    print(element)\n",
    "    "
   ]
  },
  {
   "cell_type": "code",
   "execution_count": 64,
   "id": "c11e0e6b-dc7a-4292-bc5b-6425ce3213d3",
   "metadata": {
    "tags": []
   },
   "outputs": [
    {
     "name": "stdout",
     "output_type": "stream",
     "text": [
      "0\n",
      "2\n",
      "4\n",
      "6\n",
      "8\n"
     ]
    }
   ],
   "source": [
    "for i in range(0,10,2):\n",
    "    print(i)"
   ]
  },
  {
   "cell_type": "markdown",
   "id": "b5ec1bcd-ec64-403c-94f1-a6d001859056",
   "metadata": {
    "tags": []
   },
   "source": [
    "<b>break and continue <b>\n",
    "\n",
    "break stops the loop immedeatly\n",
    "\n",
    "continue jumps over the current iteration (skips current loop)"
   ]
  },
  {
   "cell_type": "code",
   "execution_count": 68,
   "id": "84a9f106-efa1-4194-ae18-cdc3e0eef563",
   "metadata": {},
   "outputs": [
    {
     "name": "stdout",
     "output_type": "stream",
     "text": [
      "0\n",
      "1\n",
      "2\n",
      "3\n",
      "5\n",
      "6\n",
      "7\n"
     ]
    }
   ],
   "source": [
    "for x in range(0,15):\n",
    "    if x == 4:\n",
    "        continue\n",
    "    if x == 8:\n",
    "        break\n",
    "    print(x)"
   ]
  },
  {
   "cell_type": "markdown",
   "id": "8f692c31-ab05-4d67-a26f-8f9bac6542ab",
   "metadata": {},
   "source": [
    "### Functions\n",
    "\n",
    "block of code that can accept arguments and have a return value"
   ]
  },
  {
   "cell_type": "markdown",
   "id": "b959903d-0dc9-4827-85c3-d54386a6501a",
   "metadata": {},
   "source": [
    "Accept 0 to inf values as function parameters"
   ]
  },
  {
   "cell_type": "code",
   "execution_count": 19,
   "id": "3fd48a44-7bd8-4c4c-adb5-e37a03044ef0",
   "metadata": {},
   "outputs": [
    {
     "name": "stdout",
     "output_type": "stream",
     "text": [
      "Hello\n",
      "6\n",
      "21\n"
     ]
    }
   ],
   "source": [
    "def first_fun():\n",
    "    print(\"Hello\")\n",
    "\n",
    "def multiply_values(a,b):\n",
    "    print(a*b)\n",
    "\n",
    "def wowo(a,b,c,d,e,f):\n",
    "    print(a+b+c+d+e+f)\n",
    "\n",
    "first_fun()\n",
    "multiply_values(3,2)\n",
    "wowo(1,4,2,3,5,6)"
   ]
  },
  {
   "cell_type": "markdown",
   "id": "11bee0c9-b4ad-4213-b325-509d5808e6b2",
   "metadata": {},
   "source": [
    "Return 0 to inf values"
   ]
  },
  {
   "cell_type": "code",
   "execution_count": 22,
   "id": "04ffed4f-bd84-4d54-b122-dec68a12299c",
   "metadata": {},
   "outputs": [
    {
     "name": "stdout",
     "output_type": "stream",
     "text": [
      "hello\n",
      "81\n",
      "5.0\n",
      "16.0\n"
     ]
    }
   ],
   "source": [
    "def first_fun():\n",
    "    return \"hello\"\n",
    "\n",
    "def second_fun(a,b):\n",
    "    c = a**b\n",
    "    return c\n",
    "\n",
    "def third_fun(a):\n",
    "    b = a/2\n",
    "    c = b/5 + 15\n",
    "    return b,c\n",
    "\n",
    "res = first_fun()\n",
    "print(res)\n",
    "res2 = second_fun(3,4)\n",
    "print(res2)\n",
    "res3,res4 = third_fun(10)\n",
    "print(res3)\n",
    "print(res4)"
   ]
  },
  {
   "cell_type": "markdown",
   "id": "0bffda60-e3cd-4d10-a72b-1fe388a98c06",
   "metadata": {},
   "source": [
    "Create function with an empty body with pass"
   ]
  },
  {
   "cell_type": "code",
   "execution_count": 23,
   "id": "7d7b8ed9-4986-4a29-b442-b814eee4923e",
   "metadata": {},
   "outputs": [],
   "source": [
    "def empty():\n",
    "    pass\n",
    "\n",
    "empty()"
   ]
  },
  {
   "cell_type": "markdown",
   "id": "4730e8a9-c225-4191-a01f-0aafabe67e5b",
   "metadata": {},
   "source": [
    "### Classes\n",
    "\n",
    "Naming convention: camel case e.g CoolClassName"
   ]
  },
  {
   "cell_type": "markdown",
   "id": "83119838-c61b-45ab-a407-5b00e70dfe53",
   "metadata": {},
   "source": [
    "Initialize object state with init method"
   ]
  },
  {
   "cell_type": "code",
   "execution_count": 25,
   "id": "15edba5f-3586-4424-bdef-ad15a916a6ad",
   "metadata": {},
   "outputs": [
    {
     "name": "stdout",
     "output_type": "stream",
     "text": [
      "<__main__.Human object at 0x7f8d506e43d0>\n",
      "21\n"
     ]
    }
   ],
   "source": [
    "class Human:\n",
    "    def __init__(self, name, age):\n",
    "        self.name = name\n",
    "        self.age = age\n",
    "\n",
    "alex = Human(\"Alex\", 21)\n",
    "print(alex)\n",
    "print(alex.age)"
   ]
  },
  {
   "cell_type": "markdown",
   "id": "c0a3fad2-f6a0-48e3-b11d-a1802bae97a1",
   "metadata": {},
   "source": [
    "#### Object functions"
   ]
  },
  {
   "cell_type": "code",
   "execution_count": 32,
   "id": "1d26858f-c6e7-4118-bc07-88abc2e5bf17",
   "metadata": {},
   "outputs": [
    {
     "name": "stdout",
     "output_type": "stream",
     "text": [
      "<__main__.Human object at 0x7f8d504cb520>\n",
      "21\n",
      "Heyhoo Inna\n"
     ]
    }
   ],
   "source": [
    "class Human:\n",
    "    def __init__(self, name, age):\n",
    "        self.name = name\n",
    "        self.age = age\n",
    "    def greet(self, name):\n",
    "        print(f'Heyhoo {name}')\n",
    "        \n",
    "alex = Human(\"Alex\", 21)\n",
    "print(alex)\n",
    "print(alex.age)\n",
    "alex.greet(\"Inna\")"
   ]
  },
  {
   "cell_type": "markdown",
   "id": "2b365e42-4368-4b95-a81c-a877033c08bd",
   "metadata": {},
   "source": [
    "#### Inheritance"
   ]
  },
  {
   "cell_type": "code",
   "execution_count": 39,
   "id": "f20da9f9-7b6b-4520-a72a-7e890d4bbd12",
   "metadata": {},
   "outputs": [
    {
     "name": "stdout",
     "output_type": "stream",
     "text": [
      "Jamie is 150\n",
      "<class '__main__.Men'>\n"
     ]
    }
   ],
   "source": [
    "class Men(Human):\n",
    "    def __init__(self, name, age, size):\n",
    "        super().__init__(name, age)\n",
    "        self.size  = size\n",
    "    def how_big(self):\n",
    "        print(f'{self.name} is {self.size}')\n",
    "\n",
    "cowboy = Men(\"Jamie\", 18, 150)\n",
    "cowboy.how_big()\n",
    "print(type(cowboy))"
   ]
  },
  {
   "cell_type": "markdown",
   "id": "657007c2-76b9-40f2-bbbf-3efef8646a02",
   "metadata": {},
   "source": [
    "Overriding methods"
   ]
  },
  {
   "cell_type": "code",
   "execution_count": 43,
   "id": "d32c5752-df3a-48b8-b6d8-75cfd6a4e0ea",
   "metadata": {},
   "outputs": [
    {
     "name": "stdout",
     "output_type": "stream",
     "text": [
      "Heyhoo Anna\n",
      "Woman is not greeting you\n"
     ]
    }
   ],
   "source": [
    "class Woman(Human):\n",
    "    def greet(self,name):\n",
    "        print(\"Woman is not greeting you\")\n",
    "\n",
    "        \n",
    "human = Human(\"Max\", 20)\n",
    "human.greet(\"Anna\")\n",
    "anna = Woman(\"Anna\", 59)\n",
    "anna.greet(\"Max\")"
   ]
  },
  {
   "cell_type": "markdown",
   "id": "672dca90-ecd4-41ce-9998-7502ea3897e6",
   "metadata": {},
   "source": [
    "### Modules\n",
    "\n",
    "used to save code as a program to run later\n",
    "\n",
    "Module is a file containing python code and having .py extention. Name of the module is the name of file without extention"
   ]
  },
  {
   "cell_type": "code",
   "execution_count": 45,
   "id": "fe75db21-9b64-4000-b54f-99f94385f287",
   "metadata": {},
   "outputs": [],
   "source": [
    "# file greetings_en.py\n",
    "def hello_world():\n",
    "    return \"HEYHO\"\n",
    "# file greetings_de.py\n",
    "def hello_world():\n",
    "    return \"Guten Tag\"\n",
    "\n",
    "# import greetings_en\n",
    "# greetings_en.hello_world() --> \"HEYHO\"\n",
    "# # import  greetings_de\n",
    "# greetings_de.hello_world() --> \"Guten Tag\""
   ]
  },
  {
   "cell_type": "markdown",
   "id": "c2e48bcc-a235-4b92-876c-f8797c5d0405",
   "metadata": {},
   "source": [
    "Shortcuts for imported modules:<br>\n",
    "<b>import greetings_en as gren<\\b>\n",
    "\n",
    "Import single functions from module: <br>\n",
    "<b>from greetings_en import hello_world<\\b>\n",
    "    \n",
    "Shortcuts for imported functions: <br>\n",
    "<b>from greetings_en import hello_world as hwe<\\b>"
   ]
  },
  {
   "cell_type": "markdown",
   "id": "2d56eb65-7042-4140-ae2c-af4ade485ab6",
   "metadata": {},
   "source": [
    "#### Packages\n",
    "Folder with modules (.py files)\n",
    "\n",
    "<b>from package import module</b> <br>\n",
    "<b>from package.module import function as fcn</b>"
   ]
  },
  {
   "cell_type": "markdown",
   "id": "84863e11-76f1-4153-9fc3-6600f8d0a4e1",
   "metadata": {},
   "source": [
    "#### Regular Packages"
   ]
  },
  {
   "cell_type": "markdown",
   "id": "bd32826b-58f9-47ce-a90f-1531a18ce8f7",
   "metadata": {},
   "source": [
    "package that contains a __init__.py file. This file contains the initialization logic. e.g\n",
    "\n",
    "init.py (is in coolpack package)\n",
    "\n",
    "from . import de <br>\n",
    "from . import en\n",
    "\n",
    "\n",
    "Use this package like this: <br>\n",
    "import coolpack<br>\n",
    "<b>coolpack.de() <b>\n",
    "    \n",
    "With regular packages you cannot do the package.module, you will have to explicitely import the module"
   ]
  },
  {
   "cell_type": "markdown",
   "id": "ed190bd4-84fc-4c22-ba9a-268c5cd0646e",
   "metadata": {},
   "source": [
    "#### Package installation"
   ]
  },
  {
   "cell_type": "markdown",
   "id": "5a71073c-9a1d-43a0-915c-be1eb3bd5c8b",
   "metadata": {},
   "source": [
    "use pip, pipenv, venv or poetry. We use conda"
   ]
  },
  {
   "cell_type": "markdown",
   "id": "2f11678f-e88d-444c-aea6-79065115f379",
   "metadata": {},
   "source": [
    "<b> example commands</b>\n",
    "\n",
    "conda create --name advistenv python=3.9.7 <br>\n",
    "conda activate advistenv <br>\n",
    "conda install matplotlib"
   ]
  },
  {
   "cell_type": "markdown",
   "id": "ae22e78f-a1c4-4e36-8c13-61fba76562a6",
   "metadata": {},
   "source": [
    "## 2. Pythonics 1"
   ]
  },
  {
   "cell_type": "markdown",
   "id": "b6af24bc-3342-4e1c-acd1-0f90704ca32e",
   "metadata": {},
   "source": [
    "Everything is an object "
   ]
  },
  {
   "cell_type": "code",
   "execution_count": 1,
   "id": "184eaa64-65b1-46c9-b193-85b749424d31",
   "metadata": {},
   "outputs": [
    {
     "data": {
      "text/plain": [
       "3"
      ]
     },
     "execution_count": 1,
     "metadata": {},
     "output_type": "execute_result"
    }
   ],
   "source": [
    "(1).__add__(2)"
   ]
  },
  {
   "cell_type": "code",
   "execution_count": 2,
   "id": "d3712d09-df73-432b-81f9-4b1f69c7260d",
   "metadata": {},
   "outputs": [
    {
     "data": {
      "text/plain": [
       "'this is a doc string'"
      ]
     },
     "execution_count": 2,
     "metadata": {},
     "output_type": "execute_result"
    }
   ],
   "source": [
    "def empty_func():\n",
    "    '''this is a doc string'''\n",
    "    pass\n",
    "empty_func.__doc__"
   ]
  },
  {
   "cell_type": "code",
   "execution_count": 3,
   "id": "d15a1471-be48-45d3-b3fb-47bb71ab9e84",
   "metadata": {},
   "outputs": [
    {
     "data": {
      "text/plain": [
       "'empty_func'"
      ]
     },
     "execution_count": 3,
     "metadata": {},
     "output_type": "execute_result"
    }
   ],
   "source": [
    "empty_func.__name__"
   ]
  },
  {
   "cell_type": "markdown",
   "id": "7b2a8813-f87c-4461-92a6-c9b0edba2316",
   "metadata": {},
   "source": [
    "### Exceptions"
   ]
  },
  {
   "cell_type": "markdown",
   "id": "b32833da-d430-4324-927b-e3b9a4161821",
   "metadata": {},
   "source": [
    "throw exception"
   ]
  },
  {
   "cell_type": "code",
   "execution_count": 4,
   "id": "cf50cbc6-e004-4de6-a3d2-321bd7b2bf52",
   "metadata": {},
   "outputs": [
    {
     "ename": "ValueError",
     "evalue": "raised exception",
     "output_type": "error",
     "traceback": [
      "\u001b[0;31m---------------------------------------------------------------------------\u001b[0m",
      "\u001b[0;31mValueError\u001b[0m                                Traceback (most recent call last)",
      "Input \u001b[0;32mIn [4]\u001b[0m, in \u001b[0;36m<cell line: 1>\u001b[0;34m()\u001b[0m\n\u001b[0;32m----> 1\u001b[0m \u001b[38;5;28;01mraise\u001b[39;00m \u001b[38;5;167;01mValueError\u001b[39;00m(\u001b[38;5;124m'\u001b[39m\u001b[38;5;124mraised exception\u001b[39m\u001b[38;5;124m'\u001b[39m)\n",
      "\u001b[0;31mValueError\u001b[0m: raised exception"
     ]
    }
   ],
   "source": [
    "raise ValueError('raised exception')"
   ]
  },
  {
   "cell_type": "markdown",
   "id": "07465aa0-6cb3-41f7-81a1-55a7dfda77e2",
   "metadata": {},
   "source": [
    "catch exception"
   ]
  },
  {
   "cell_type": "code",
   "execution_count": 6,
   "id": "719fa8c6-b40a-4afe-939c-8f545712cbe9",
   "metadata": {},
   "outputs": [
    {
     "name": "stdout",
     "output_type": "stream",
     "text": [
      "catched everything\n"
     ]
    }
   ],
   "source": [
    "try:\n",
    "    1/0\n",
    "except:\n",
    "    print(\"catched everything\") # never use without specific exception"
   ]
  },
  {
   "cell_type": "code",
   "execution_count": 8,
   "id": "b5399eb4-82ca-42ab-8cb2-2167ebf425f9",
   "metadata": {},
   "outputs": [
    {
     "name": "stdout",
     "output_type": "stream",
     "text": [
      "division by zero\n",
      "<class 'ZeroDivisionError'>\n"
     ]
    }
   ],
   "source": [
    "try:\n",
    "    1/0\n",
    "except ZeroDivisionError as error:\n",
    "    print(error)\n",
    "    print(type(error))"
   ]
  },
  {
   "cell_type": "markdown",
   "id": "77d5eba7-0156-40df-936c-92fe8f40854c",
   "metadata": {},
   "source": [
    "there are multiple exceptions cathings possible (multiple except's or one except and multiple exceptions)"
   ]
  },
  {
   "cell_type": "code",
   "execution_count": 10,
   "id": "647c0950-0db4-4570-a427-d4305f6e21ac",
   "metadata": {},
   "outputs": [
    {
     "name": "stdout",
     "output_type": "stream",
     "text": [
      "non numeric\n"
     ]
    }
   ],
   "source": [
    "def divide(a,b):\n",
    "    try:\n",
    "        a/b\n",
    "    except ZeroDivisionError:\n",
    "        print(\"zero division\")\n",
    "    except TypeError:\n",
    "        print(\"non numeric\")\n",
    "\n",
    "divide(\"as\", 10)"
   ]
  },
  {
   "cell_type": "code",
   "execution_count": 12,
   "id": "60c68a90-8a17-4be7-98ba-9d0fb1b6fe5e",
   "metadata": {},
   "outputs": [
    {
     "name": "stdout",
     "output_type": "stream",
     "text": [
      "bruh\n"
     ]
    }
   ],
   "source": [
    "def divide(a,b):\n",
    "    try:\n",
    "        a/b\n",
    "    except (ZeroDivisionError, TypeError) as wtf:\n",
    "        print(\"bruh\")\n",
    "\n",
    "divide(\"as\", 10)"
   ]
  },
  {
   "cell_type": "markdown",
   "id": "8a73847d-a209-414f-9537-1cb677d72cfb",
   "metadata": {},
   "source": [
    "return answer if no exceptions raised"
   ]
  },
  {
   "cell_type": "code",
   "execution_count": 15,
   "id": "777c0afc-c16d-4ab5-b76b-1338bfe2dd3f",
   "metadata": {},
   "outputs": [
    {
     "data": {
      "text/plain": [
       "4.0"
      ]
     },
     "execution_count": 15,
     "metadata": {},
     "output_type": "execute_result"
    }
   ],
   "source": [
    "def divide(a,b):\n",
    "    try:\n",
    "        res = a/b\n",
    "    except (ZeroDivisionError, TypeError) as wtf:\n",
    "        print(\"bruh\")\n",
    "    else:\n",
    "        return res\n",
    "\n",
    "divide(12,3)"
   ]
  },
  {
   "cell_type": "markdown",
   "id": "6fc5efd6-f3e6-4868-a879-a950cdb62aeb",
   "metadata": {},
   "source": [
    "finally keyword is always executed as last task"
   ]
  },
  {
   "cell_type": "code",
   "execution_count": 20,
   "id": "d7531318-4381-48e1-9a64-5e188dd71fb3",
   "metadata": {},
   "outputs": [
    {
     "name": "stdout",
     "output_type": "stream",
     "text": [
      "bruh\n",
      "I am in the final block\n"
     ]
    },
    {
     "ename": "UnboundLocalError",
     "evalue": "local variable 'res' referenced before assignment",
     "output_type": "error",
     "traceback": [
      "\u001b[0;31m---------------------------------------------------------------------------\u001b[0m",
      "\u001b[0;31mUnboundLocalError\u001b[0m                         Traceback (most recent call last)",
      "Input \u001b[0;32mIn [20]\u001b[0m, in \u001b[0;36m<cell line: 12>\u001b[0;34m()\u001b[0m\n\u001b[1;32m      9\u001b[0m         \u001b[38;5;28mprint\u001b[39m(\u001b[38;5;124m\"\u001b[39m\u001b[38;5;124mI am in the final block\u001b[39m\u001b[38;5;124m\"\u001b[39m)\n\u001b[1;32m     10\u001b[0m     \u001b[38;5;28;01mreturn\u001b[39;00m res\n\u001b[0;32m---> 12\u001b[0m \u001b[43mdivide\u001b[49m\u001b[43m(\u001b[49m\u001b[38;5;241;43m12\u001b[39;49m\u001b[43m,\u001b[49m\u001b[38;5;124;43m\"\u001b[39;49m\u001b[38;5;124;43mas\u001b[39;49m\u001b[38;5;124;43m\"\u001b[39;49m\u001b[43m)\u001b[49m\n",
      "Input \u001b[0;32mIn [20]\u001b[0m, in \u001b[0;36mdivide\u001b[0;34m(a, b)\u001b[0m\n\u001b[1;32m      8\u001b[0m \u001b[38;5;28;01mfinally\u001b[39;00m:\n\u001b[1;32m      9\u001b[0m     \u001b[38;5;28mprint\u001b[39m(\u001b[38;5;124m\"\u001b[39m\u001b[38;5;124mI am in the final block\u001b[39m\u001b[38;5;124m\"\u001b[39m)\n\u001b[0;32m---> 10\u001b[0m \u001b[38;5;28;01mreturn\u001b[39;00m \u001b[43mres\u001b[49m\n",
      "\u001b[0;31mUnboundLocalError\u001b[0m: local variable 'res' referenced before assignment"
     ]
    }
   ],
   "source": [
    "def divide(a,b):\n",
    "    try:\n",
    "        res = a/b\n",
    "    except (ZeroDivisionError, TypeError) as wtf:\n",
    "        print(\"bruh\")\n",
    "    else:\n",
    "        res += 12\n",
    "    finally:\n",
    "        print(\"I am in the final block\")\n",
    "    return res\n",
    "\n",
    "divide(12,\"as\")"
   ]
  },
  {
   "cell_type": "markdown",
   "id": "e290ded3-5f94-4e5c-a160-ebc4f43dadbd",
   "metadata": {},
   "source": [
    "### Multiple assignments"
   ]
  },
  {
   "cell_type": "code",
   "execution_count": 22,
   "id": "fd36cf58-f6a6-4bc0-ab18-fe0ccaa4b577",
   "metadata": {},
   "outputs": [
    {
     "data": {
      "text/plain": [
       "(10, 20)"
      ]
     },
     "execution_count": 22,
     "metadata": {},
     "output_type": "execute_result"
    }
   ],
   "source": [
    "a,b = 10,20\n",
    "a,b"
   ]
  },
  {
   "cell_type": "code",
   "execution_count": 24,
   "id": "40c7d615-0286-42c6-8c98-a0ca14c1a444",
   "metadata": {},
   "outputs": [
    {
     "data": {
      "text/plain": [
       "(10, 20)"
      ]
     },
     "execution_count": 24,
     "metadata": {},
     "output_type": "execute_result"
    }
   ],
   "source": [
    "a,b, = b,a # swap numbers\n",
    "a,b"
   ]
  },
  {
   "cell_type": "code",
   "execution_count": 26,
   "id": "81dee5cf-7ba7-4ac7-86e8-f3e38837d712",
   "metadata": {},
   "outputs": [
    {
     "data": {
      "text/plain": [
       "'h'"
      ]
     },
     "execution_count": 26,
     "metadata": {},
     "output_type": "execute_result"
    }
   ],
   "source": [
    "my_str = \"hello\"\n",
    "a,b,c,d,e = my_str\n",
    "a"
   ]
  },
  {
   "cell_type": "code",
   "execution_count": 27,
   "id": "ce7cf9c6-10c7-474c-b34c-a2f2caf3164b",
   "metadata": {},
   "outputs": [
    {
     "data": {
      "text/plain": [
       "3"
      ]
     },
     "execution_count": 27,
     "metadata": {},
     "output_type": "execute_result"
    }
   ],
   "source": [
    "range_my = range(1,4)\n",
    "a,b,c = range_my\n",
    "c"
   ]
  },
  {
   "cell_type": "code",
   "execution_count": 30,
   "id": "9ca73587-845f-47e1-9806-a6ee21456493",
   "metadata": {},
   "outputs": [
    {
     "data": {
      "text/plain": [
       "(1, 'A')"
      ]
     },
     "execution_count": 30,
     "metadata": {},
     "output_type": "execute_result"
    }
   ],
   "source": [
    "my_list = [1,5,2,\"A\"]\n",
    "a,f,k,g = my_list\n",
    "a,g"
   ]
  },
  {
   "cell_type": "markdown",
   "id": "6d5fa3c0-990b-4faa-a7b1-d7a6820bf459",
   "metadata": {},
   "source": [
    "Multiple assignment workds with set and dict too. For set the values in list are then sorted before assignment. For the dictionary the keys are assigned"
   ]
  },
  {
   "cell_type": "markdown",
   "id": "abe391b8-c2fd-4dd4-90b6-d5f8fe2ae248",
   "metadata": {},
   "source": [
    "If the list or sequence is too long for the number of variable do _:"
   ]
  },
  {
   "cell_type": "code",
   "execution_count": 31,
   "id": "2a21b8df-8ac9-4ec6-97dc-43ee7500cec2",
   "metadata": {},
   "outputs": [
    {
     "data": {
      "text/plain": [
       "56"
      ]
     },
     "execution_count": 31,
     "metadata": {},
     "output_type": "execute_result"
    }
   ],
   "source": [
    "a,b,c,_,_ = [23,51,56,0,1]\n",
    "c"
   ]
  },
  {
   "cell_type": "code",
   "execution_count": 32,
   "id": "565330ff-d43a-4abf-b2cf-34c75148f619",
   "metadata": {},
   "outputs": [
    {
     "ename": "ValueError",
     "evalue": "too many values to unpack (expected 3)",
     "output_type": "error",
     "traceback": [
      "\u001b[0;31m---------------------------------------------------------------------------\u001b[0m",
      "\u001b[0;31mValueError\u001b[0m                                Traceback (most recent call last)",
      "Input \u001b[0;32mIn [32]\u001b[0m, in \u001b[0;36m<cell line: 1>\u001b[0;34m()\u001b[0m\n\u001b[0;32m----> 1\u001b[0m a,b,c \u001b[38;5;241m=\u001b[39m [\u001b[38;5;241m23\u001b[39m,\u001b[38;5;241m51\u001b[39m,\u001b[38;5;241m56\u001b[39m,\u001b[38;5;241m0\u001b[39m,\u001b[38;5;241m1\u001b[39m]\n\u001b[1;32m      2\u001b[0m c\n",
      "\u001b[0;31mValueError\u001b[0m: too many values to unpack (expected 3)"
     ]
    }
   ],
   "source": [
    "a,b,c = [23,51,56,0,1]\n",
    "c"
   ]
  },
  {
   "cell_type": "code",
   "execution_count": 33,
   "id": "9ce9afe2-2fa5-4e3d-82c7-a8595a061bec",
   "metadata": {},
   "outputs": [
    {
     "data": {
      "text/plain": [
       "[56, 0, 1]"
      ]
     },
     "execution_count": 33,
     "metadata": {},
     "output_type": "execute_result"
    }
   ],
   "source": [
    "a,b,*c = [23,51,56,0,1]\n",
    "c"
   ]
  },
  {
   "cell_type": "markdown",
   "id": "63320726-b243-45e5-a38b-f03187eafc19",
   "metadata": {},
   "source": [
    "### Augumented assignments\n",
    "- compact way to change value of variable"
   ]
  },
  {
   "cell_type": "code",
   "execution_count": 46,
   "id": "5bb40a42-427a-4b25-b244-37b986cf9ac6",
   "metadata": {},
   "outputs": [
    {
     "data": {
      "text/plain": [
       "2"
      ]
     },
     "execution_count": 46,
     "metadata": {},
     "output_type": "execute_result"
    }
   ],
   "source": [
    "x = 1\n",
    "x+=1\n",
    "x"
   ]
  },
  {
   "cell_type": "code",
   "execution_count": 47,
   "id": "99dc9923-0b6d-467d-8cd7-efb1a935919a",
   "metadata": {},
   "outputs": [
    {
     "data": {
      "text/plain": [
       "6"
      ]
     },
     "execution_count": 47,
     "metadata": {},
     "output_type": "execute_result"
    }
   ],
   "source": [
    "x*=3\n",
    "x"
   ]
  },
  {
   "cell_type": "code",
   "execution_count": 48,
   "id": "d53a66b8-3d8d-4f12-bd30-50aaf81ca568",
   "metadata": {},
   "outputs": [
    {
     "data": {
      "text/plain": [
       "2"
      ]
     },
     "execution_count": 48,
     "metadata": {},
     "output_type": "execute_result"
    }
   ],
   "source": [
    "x/2\n",
    "x**9\n",
    "x//3"
   ]
  },
  {
   "cell_type": "code",
   "execution_count": 49,
   "id": "8afb462c-3fe5-4a8b-9980-f1d6b461eee9",
   "metadata": {},
   "outputs": [
    {
     "data": {
      "text/plain": [
       "{0, 1, 7, 8}"
      ]
     },
     "execution_count": 49,
     "metadata": {},
     "output_type": "execute_result"
    }
   ],
   "source": [
    "my_set = {1,2,3,4,5,6,7,8,0}\n",
    "my_set &={7,8,9,0,1,12,14,15}\n",
    "my_set"
   ]
  },
  {
   "cell_type": "code",
   "execution_count": 50,
   "id": "0e3d503e-7ff9-4338-a831-88b6f112413f",
   "metadata": {},
   "outputs": [],
   "source": [
    "x = 2\n",
    "a = 'Goood' if x<10 else \"Bad\""
   ]
  },
  {
   "cell_type": "code",
   "execution_count": 51,
   "id": "248ec4fa-8599-4ad6-99b5-d9ca5161dfb5",
   "metadata": {},
   "outputs": [
    {
     "data": {
      "text/plain": [
       "'Goood'"
      ]
     },
     "execution_count": 51,
     "metadata": {},
     "output_type": "execute_result"
    }
   ],
   "source": [
    "a"
   ]
  },
  {
   "cell_type": "markdown",
   "id": "0be95a87-276c-4d13-b249-ebfff5b95d54",
   "metadata": {},
   "source": [
    "### Functions 2"
   ]
  },
  {
   "cell_type": "markdown",
   "id": "aaad02d9-b4e6-4570-a387-ea11083b1051",
   "metadata": {},
   "source": [
    "default paameter values\n",
    "\n",
    "they should be always at the end, so mypow(power=2, x) is not allowed"
   ]
  },
  {
   "cell_type": "code",
   "execution_count": 53,
   "id": "91e9dd4a-ba35-4126-9263-a040ed9483ae",
   "metadata": {},
   "outputs": [
    {
     "data": {
      "text/plain": [
       "225"
      ]
     },
     "execution_count": 53,
     "metadata": {},
     "output_type": "execute_result"
    }
   ],
   "source": [
    "def my_pow(x, power=2):\n",
    "    return x **2\n",
    "\n",
    "my_pow(15)"
   ]
  },
  {
   "cell_type": "markdown",
   "id": "0aaea76b-7ef3-4251-9682-189118d096d7",
   "metadata": {},
   "source": [
    "Keyword arguments. We specify the arguments by their name in the function, so the order does not matter. You will have to specify all of them like this so my_pow(\"Alex\", hair_color=\"Black\", age=20) will not work in most cases, only if the non-keyword arguments are before the keyword. So, this example will actually work."
   ]
  },
  {
   "cell_type": "code",
   "execution_count": 1,
   "id": "309f8958-a62e-4ec4-999f-3e622b32c3ba",
   "metadata": {},
   "outputs": [
    {
     "name": "stdout",
     "output_type": "stream",
     "text": [
      "My name is Alex and I am 20. My hair color is Black\n"
     ]
    }
   ],
   "source": [
    "def my_pow(name, age, hair_color):\n",
    "    print(f'My name is {name} and I am {age}. My hair color is {hair_color}')\n",
    "\n",
    "my_pow(age=20, hair_color=\"Black\", name=\"Alex\")"
   ]
  },
  {
   "cell_type": "markdown",
   "id": "d361ba30-75fe-4571-8114-27c049737e62",
   "metadata": {},
   "source": [
    "#### Arbitrary number of arguments"
   ]
  },
  {
   "cell_type": "code",
   "execution_count": 1,
   "id": "085c66c4-14f4-4217-81bb-3c12ae803548",
   "metadata": {},
   "outputs": [
    {
     "name": "stdout",
     "output_type": "stream",
     "text": [
      "36\n",
      "15376\n"
     ]
    }
   ],
   "source": [
    "def sq_sum(*args):\n",
    "    summ = sum(args)\n",
    "    return summ**2\n",
    "\n",
    "print(sq_sum(1,5))\n",
    "print(sq_sum(1,5,7,12,87,12))"
   ]
  },
  {
   "cell_type": "markdown",
   "id": "e1a3a68a-26af-4dd8-a4bf-be94a9f97301",
   "metadata": {},
   "source": [
    "#### unpacking arguments "
   ]
  },
  {
   "cell_type": "markdown",
   "id": "acbf3e24-de4c-484f-847e-278270aecfd5",
   "metadata": {},
   "source": [
    "lists - *"
   ]
  },
  {
   "cell_type": "code",
   "execution_count": 2,
   "id": "0300a837-e293-4749-b122-15c3e2f6165e",
   "metadata": {},
   "outputs": [
    {
     "name": "stdout",
     "output_type": "stream",
     "text": [
      "1 56 Tester\n"
     ]
    }
   ],
   "source": [
    "values = [1,56,\"Tester\"]\n",
    "print(*values)"
   ]
  },
  {
   "cell_type": "code",
   "execution_count": 3,
   "id": "a642311b-ae6f-4dc2-ad5b-167728f61075",
   "metadata": {},
   "outputs": [
    {
     "name": "stdout",
     "output_type": "stream",
     "text": [
      "Well, Alex, you are 21 and pretty good at beeing lazy\n"
     ]
    }
   ],
   "source": [
    "def namer(name, age, skill):\n",
    "    print(f'Well, {name}, you are {age} and pretty good at {skill}')\n",
    "\n",
    "alex = [\"Alex\", 21, \"beeing lazy\"]\n",
    "namer(*alex)"
   ]
  },
  {
   "cell_type": "markdown",
   "id": "b29468d9-3e50-439a-ab49-89782a656cc4",
   "metadata": {},
   "source": [
    "dictionaries - **"
   ]
  },
  {
   "cell_type": "code",
   "execution_count": 14,
   "id": "2f577c87-b0d6-487b-8d91-358555ff19b4",
   "metadata": {},
   "outputs": [
    {
     "name": "stdout",
     "output_type": "stream",
     "text": [
      "args {'day': 15, 'month': 4, 'year': 2022}\n"
     ]
    }
   ],
   "source": [
    "info = {'day':15,\n",
    "        \"month\": 4,\n",
    "        \"year\": 2022 }\n",
    "\n",
    "print('args', info)"
   ]
  },
  {
   "cell_type": "markdown",
   "id": "e482f44d-eada-4c1b-aacf-b7a84cc52c77",
   "metadata": {},
   "source": [
    "#### Functions are objects\n",
    "This allows us to pass functions into other functions as arguments"
   ]
  },
  {
   "cell_type": "code",
   "execution_count": 17,
   "id": "3cedb1f0-45e1-46f7-8e04-e182bcec9bba",
   "metadata": {},
   "outputs": [
    {
     "data": {
      "text/plain": [
       "['Bob', 'Alice', 'Charlie']"
      ]
     },
     "execution_count": 17,
     "metadata": {},
     "output_type": "execute_result"
    }
   ],
   "source": [
    "strings = [\"Bob\", \"Alice\", \"Charlie\"]\n",
    "sorted(strings, key=len)"
   ]
  },
  {
   "cell_type": "code",
   "execution_count": 19,
   "id": "a8d42301-d597-492b-8043-2510268d8ea9",
   "metadata": {},
   "outputs": [
    {
     "data": {
      "text/plain": [
       "['Charlie', 'Alice', 'Bob']"
      ]
     },
     "execution_count": 19,
     "metadata": {},
     "output_type": "execute_result"
    }
   ],
   "source": [
    "def sec_char(elem):\n",
    "    return elem[1]\n",
    "\n",
    "sorted(strings, key=sec_char)"
   ]
  },
  {
   "cell_type": "markdown",
   "id": "59acd3a1-6fe9-4086-bee5-7049282af67e",
   "metadata": {},
   "source": [
    "Alternative approach: lambdas\n",
    "\n",
    "lambda has a keywod lambda, after that the parameters a colon : and an expression. The expression implicitly return the result of function"
   ]
  },
  {
   "cell_type": "code",
   "execution_count": 20,
   "id": "4ac0ac54-c0a7-49c3-a73e-9499ba360255",
   "metadata": {},
   "outputs": [
    {
     "data": {
      "text/plain": [
       "['Charlie', 'Alice', 'Bob']"
      ]
     },
     "execution_count": 20,
     "metadata": {},
     "output_type": "execute_result"
    }
   ],
   "source": [
    "sorted(strings, key= lambda x : x[1])"
   ]
  },
  {
   "cell_type": "markdown",
   "id": "cf7793b4-ba7b-40cc-86ef-7dc1f68c863b",
   "metadata": {},
   "source": [
    "### Numbers 2"
   ]
  },
  {
   "cell_type": "markdown",
   "id": "8e18c9a9-958b-4938-a22c-e97180f0f31c",
   "metadata": {},
   "source": [
    "#### Complex numbers"
   ]
  },
  {
   "cell_type": "code",
   "execution_count": 21,
   "id": "ce0a4c9a-f1b0-4c02-b4cf-7dfc1b730019",
   "metadata": {},
   "outputs": [
    {
     "data": {
      "text/plain": [
       "1.0"
      ]
     },
     "execution_count": 21,
     "metadata": {},
     "output_type": "execute_result"
    }
   ],
   "source": [
    "x = 1 +2j\n",
    "x.real"
   ]
  },
  {
   "cell_type": "code",
   "execution_count": 23,
   "id": "2641af7c-4271-4bad-ab9f-55ed51caa30f",
   "metadata": {},
   "outputs": [
    {
     "data": {
      "text/plain": [
       "2.0"
      ]
     },
     "execution_count": 23,
     "metadata": {},
     "output_type": "execute_result"
    }
   ],
   "source": [
    "x.imag"
   ]
  },
  {
   "cell_type": "markdown",
   "id": "5b4f7dcf-15dc-47ac-87e0-fa6e8952c939",
   "metadata": {},
   "source": [
    "#### Decimals\n",
    "\n",
    "Floats have limited precision, this is why we might use deecimals"
   ]
  },
  {
   "cell_type": "code",
   "execution_count": 32,
   "id": "29150b89-90d5-4701-a1e7-58528fe3afda",
   "metadata": {},
   "outputs": [
    {
     "data": {
      "text/plain": [
       "True"
      ]
     },
     "execution_count": 32,
     "metadata": {},
     "output_type": "execute_result"
    }
   ],
   "source": [
    "1.1 == 1.100000000000000001"
   ]
  },
  {
   "cell_type": "code",
   "execution_count": 33,
   "id": "b54b56eb-31b1-4bec-aab4-86af4c50cc52",
   "metadata": {},
   "outputs": [
    {
     "data": {
      "text/plain": [
       "3.3000000000000003"
      ]
     },
     "execution_count": 33,
     "metadata": {},
     "output_type": "execute_result"
    }
   ],
   "source": [
    "1.10 + 2.20"
   ]
  },
  {
   "cell_type": "code",
   "execution_count": 35,
   "id": "6239f12f-e820-4b42-8f4b-ea7f543ea1dc",
   "metadata": {},
   "outputs": [
    {
     "data": {
      "text/plain": [
       "Decimal('3.300000')"
      ]
     },
     "execution_count": 35,
     "metadata": {},
     "output_type": "execute_result"
    }
   ],
   "source": [
    "from decimal import getcontext, Decimal\n",
    "getcontext().prec = 7\n",
    "dec1 = Decimal(1.10)\n",
    "dec2 = Decimal(2.20)\n",
    "dec1 + dec2"
   ]
  },
  {
   "cell_type": "markdown",
   "id": "7b238903-539d-4302-8bee-e8cb01df7baf",
   "metadata": {},
   "source": [
    "#### Fractions\n",
    "this module supports rational number arithmetic"
   ]
  },
  {
   "cell_type": "code",
   "execution_count": 38,
   "id": "35629a11-0812-4415-a519-da6a77446d79",
   "metadata": {},
   "outputs": [
    {
     "data": {
      "text/plain": [
       "Fraction(1, 2)"
      ]
     },
     "execution_count": 38,
     "metadata": {},
     "output_type": "execute_result"
    }
   ],
   "source": [
    "from fractions import Fraction\n",
    "Fraction(1,2)"
   ]
  },
  {
   "cell_type": "code",
   "execution_count": 42,
   "id": "38caa32a-96d4-451d-a38d-064030470ecb",
   "metadata": {},
   "outputs": [
    {
     "data": {
      "text/plain": [
       "Fraction(7720456504063707, 18014398509481984)"
      ]
     },
     "execution_count": 42,
     "metadata": {},
     "output_type": "execute_result"
    }
   ],
   "source": [
    "Fraction(3/7)"
   ]
  },
  {
   "cell_type": "code",
   "execution_count": 40,
   "id": "f0e9344b-5851-4d90-b00c-5ecb4b4c7b54",
   "metadata": {},
   "outputs": [
    {
     "data": {
      "text/plain": [
       "Fraction(4, 3)"
      ]
     },
     "execution_count": 40,
     "metadata": {},
     "output_type": "execute_result"
    }
   ],
   "source": [
    "Fraction('12/9')"
   ]
  },
  {
   "cell_type": "markdown",
   "id": "dac2d197-abe0-4f0a-b762-3bccfbb46de8",
   "metadata": {},
   "source": [
    "#### Math module\n",
    "provides additional mathematical functions\n",
    "\n",
    "Examples:<br>\n",
    "round floats to int - ceil (up), floor (down)<br>\n",
    "sqrt, factorial, comb, perm, cos, degrees"
   ]
  },
  {
   "cell_type": "code",
   "execution_count": 43,
   "id": "b6718569-8f6d-4b6f-8cec-71c5b905568d",
   "metadata": {},
   "outputs": [
    {
     "data": {
      "text/plain": [
       "6"
      ]
     },
     "execution_count": 43,
     "metadata": {},
     "output_type": "execute_result"
    }
   ],
   "source": [
    "import math \n",
    "math.ceil(5.6)"
   ]
  },
  {
   "cell_type": "code",
   "execution_count": 45,
   "id": "5e5ea52a-e84e-4798-986c-3b1b3f602865",
   "metadata": {},
   "outputs": [
    {
     "data": {
      "text/plain": [
       "5"
      ]
     },
     "execution_count": 45,
     "metadata": {},
     "output_type": "execute_result"
    }
   ],
   "source": [
    "math.floor(5.6)"
   ]
  },
  {
   "cell_type": "code",
   "execution_count": 46,
   "id": "6e6f17f6-26a8-4d21-99ed-9870dedc28a6",
   "metadata": {},
   "outputs": [
    {
     "data": {
      "text/plain": [
       "720"
      ]
     },
     "execution_count": 46,
     "metadata": {},
     "output_type": "execute_result"
    }
   ],
   "source": [
    "math.perm(10,3)"
   ]
  },
  {
   "cell_type": "markdown",
   "id": "77c8aa59-360d-4b73-b3c9-0d73e9dc2501",
   "metadata": {},
   "source": [
    "#### statistics module\n",
    "provides functions for calculating mathematical statistics of numeric data"
   ]
  },
  {
   "cell_type": "code",
   "execution_count": 56,
   "id": "c8a29485-1b62-402e-9d1c-520852ea91b5",
   "metadata": {},
   "outputs": [
    {
     "data": {
      "text/plain": [
       "41.857142857142854"
      ]
     },
     "execution_count": 56,
     "metadata": {},
     "output_type": "execute_result"
    }
   ],
   "source": [
    "import statistics\n",
    "numbers = [1,23,91,65,80,23,10]\n",
    "statistics.mean(numbers) # sum and divide by len"
   ]
  },
  {
   "cell_type": "code",
   "execution_count": 57,
   "id": "407c564b-99fb-4394-88f7-d1f11da4d933",
   "metadata": {},
   "outputs": [
    {
     "data": {
      "text/plain": [
       "23"
      ]
     },
     "execution_count": 57,
     "metadata": {},
     "output_type": "execute_result"
    }
   ],
   "source": [
    "statistics.mode(numbers) # most occuring"
   ]
  },
  {
   "cell_type": "code",
   "execution_count": 58,
   "id": "1fa14f1b-3128-42d9-ae0d-c55a5ebddc4e",
   "metadata": {},
   "outputs": [
    {
     "data": {
      "text/plain": [
       "23"
      ]
     },
     "execution_count": 58,
     "metadata": {},
     "output_type": "execute_result"
    }
   ],
   "source": [
    "statistics.median(numbers) # sorted and middle one"
   ]
  },
  {
   "cell_type": "markdown",
   "id": "17179f97-055c-4ac1-99cd-74fd56ae12d2",
   "metadata": {},
   "source": [
    "#### random module\n",
    "this module implements pseudo random number generator"
   ]
  },
  {
   "cell_type": "code",
   "execution_count": 59,
   "id": "fdf9d7a4-aea0-4e2d-9332-01ae08ce2364",
   "metadata": {},
   "outputs": [
    {
     "data": {
      "text/plain": [
       "5"
      ]
     },
     "execution_count": 59,
     "metadata": {},
     "output_type": "execute_result"
    }
   ],
   "source": [
    "import random\n",
    "random.seed(727)\n",
    "random.randint(1,5)"
   ]
  },
  {
   "cell_type": "code",
   "execution_count": 61,
   "id": "8282b0d7-eb5b-4eaa-8d75-2b0837c5e1a6",
   "metadata": {},
   "outputs": [
    {
     "data": {
      "text/plain": [
       "3"
      ]
     },
     "execution_count": 61,
     "metadata": {},
     "output_type": "execute_result"
    }
   ],
   "source": [
    "random.randrange(1,9,2)"
   ]
  },
  {
   "cell_type": "code",
   "execution_count": 62,
   "id": "c6ef0ff0-e4ca-4733-9a90-8b57594255e2",
   "metadata": {},
   "outputs": [
    {
     "data": {
      "text/plain": [
       "'o'"
      ]
     },
     "execution_count": 62,
     "metadata": {},
     "output_type": "execute_result"
    }
   ],
   "source": [
    "random.choice(\"hello, world\")"
   ]
  },
  {
   "cell_type": "markdown",
   "id": "a90eee9b-d9fa-4837-a442-72ef8600dfec",
   "metadata": {},
   "source": [
    "### Lists 2"
   ]
  },
  {
   "cell_type": "markdown",
   "id": "6da8d654-afd6-468f-861e-44377a9cdfbd",
   "metadata": {},
   "source": [
    "Shallow copy immutables<br>\n",
    "The value of the 1d array is stored on the memory where both arrays (the original one and the copied one) both have access to it. BUt if there is a value change for one of the arrays, the change is not directly on th ememory but on the list. So, the other list has still the access to the memory but not to the changes of other lsit and so it is not affected by the change.<br>\n",
    "Immutables!!!"
   ]
  },
  {
   "cell_type": "code",
   "execution_count": 63,
   "id": "08c70c6d-8c84-4366-8399-506856669345",
   "metadata": {},
   "outputs": [
    {
     "data": {
      "text/plain": [
       "[1, 2, 1]"
      ]
     },
     "execution_count": 63,
     "metadata": {},
     "output_type": "execute_result"
    }
   ],
   "source": [
    "list_1 = [1,2,1]\n",
    "list_1"
   ]
  },
  {
   "cell_type": "code",
   "execution_count": 66,
   "id": "5f308293-7fc4-4cfb-8bb5-33e1a002d06a",
   "metadata": {},
   "outputs": [
    {
     "data": {
      "text/plain": [
       "[]"
      ]
     },
     "execution_count": 66,
     "metadata": {},
     "output_type": "execute_result"
    }
   ],
   "source": [
    "list_1.clear()\n",
    "list_1"
   ]
  },
  {
   "cell_type": "code",
   "execution_count": 67,
   "id": "7558fe39-1761-4c35-ac99-78c3eb7036c3",
   "metadata": {},
   "outputs": [
    {
     "data": {
      "text/plain": [
       "[1, 2, 1]"
      ]
     },
     "execution_count": 67,
     "metadata": {},
     "output_type": "execute_result"
    }
   ],
   "source": [
    "list_1 = [1,2,1]\n",
    "list_2 = list_1.copy()\n",
    "list_2"
   ]
  },
  {
   "cell_type": "code",
   "execution_count": 68,
   "id": "de3a62be-61c4-4564-b55e-d14618e5720e",
   "metadata": {},
   "outputs": [
    {
     "name": "stdout",
     "output_type": "stream",
     "text": [
      "[1, 99, 1]\n",
      "[1, 2, 1]\n"
     ]
    }
   ],
   "source": [
    "list_1[1] = 99\n",
    "print(list_1)\n",
    "print(list_2)"
   ]
  },
  {
   "cell_type": "code",
   "execution_count": 69,
   "id": "e52408a4-b2ca-431c-a471-03fc55ec6d59",
   "metadata": {},
   "outputs": [
    {
     "name": "stdout",
     "output_type": "stream",
     "text": [
      "[1, 99, 1]\n",
      "[1, 1000, 1]\n"
     ]
    }
   ],
   "source": [
    "list_2[1] = 1000\n",
    "print(list_1)\n",
    "print(list_2)"
   ]
  },
  {
   "cell_type": "markdown",
   "id": "ff724abd-a291-4090-bdcb-fc3f72184ad9",
   "metadata": {},
   "source": [
    "#### Shallow copy \n",
    "For 2d arrays the values are stored in the mempry where both lists have access. If there is an edit on the list, the memory values are edited directly and so the other array has the change too.<br>\n",
    "Mutables !"
   ]
  },
  {
   "cell_type": "code",
   "execution_count": 70,
   "id": "9662f1f2-bc50-4b8a-b623-f7439ea43c83",
   "metadata": {},
   "outputs": [
    {
     "name": "stdout",
     "output_type": "stream",
     "text": [
      "[[1, 30, 1], [4, 50, 1], [90, 10, 10]]\n",
      "[[1, 30, 1], [4, 50, 1], [90, 10, 10]]\n"
     ]
    }
   ],
   "source": [
    "list_test = [\n",
    "    [1,30,1],\n",
    "    [4,10,1],\n",
    "    [90,10,10]\n",
    "]\n",
    "list_nr1 = list_test.copy()\n",
    "list_test[1][1] *= 5\n",
    "\n",
    "print(list_test)\n",
    "print(list_nr1)"
   ]
  },
  {
   "cell_type": "markdown",
   "id": "8b465a5d-5e40-48dc-858d-28d2f26346e2",
   "metadata": {},
   "source": [
    "<b>Other useful methods:</b>\n",
    "\n",
    "- list.count: count numeber of occurence sof specific iterm in the list (return number of occurences)\n",
    "- list.index: find the first position of specific item in the list (retunr index)\n",
    "- list.insert: append item to a list to a certain position by index\n",
    "- list.pop: if pop(n) then remove item from list that is on position n, if pop() the last item is removed\n",
    "- list.remove: remove first item found by its value \n",
    "- list.reverse: reverse list in-place (no copy needed)\n",
    "- list.sort: sorts list  in-place (no copy needed)"
   ]
  },
  {
   "cell_type": "markdown",
   "id": "2e5992c1-c724-4bcb-a8b4-dd05c4e1fc01",
   "metadata": {},
   "source": [
    "#### Slicing lists\n",
    "access several items of list at once <br>\n",
    "[start, stop, step]"
   ]
  },
  {
   "cell_type": "code",
   "execution_count": 72,
   "id": "b2624f5e-1aab-40f0-ae30-3361ebbff680",
   "metadata": {},
   "outputs": [
    {
     "data": {
      "text/plain": [
       "[2, 3, 4]"
      ]
     },
     "execution_count": 72,
     "metadata": {},
     "output_type": "execute_result"
    }
   ],
   "source": [
    "my_list = [1,2,3,4,5,6,7,8,9]\n",
    "my_list[1:4]"
   ]
  },
  {
   "cell_type": "code",
   "execution_count": 73,
   "id": "d62b8694-f4c6-422e-aef0-306c3b4004ab",
   "metadata": {},
   "outputs": [
    {
     "data": {
      "text/plain": [
       "[2, 3, 4, 5, 6, 7]"
      ]
     },
     "execution_count": 73,
     "metadata": {},
     "output_type": "execute_result"
    }
   ],
   "source": [
    "my_list[1:-2]"
   ]
  },
  {
   "cell_type": "code",
   "execution_count": 77,
   "id": "2f5af967-4665-4cef-9ebf-6e58a585c9a4",
   "metadata": {},
   "outputs": [
    {
     "data": {
      "text/plain": [
       "[9]"
      ]
     },
     "execution_count": 77,
     "metadata": {},
     "output_type": "execute_result"
    }
   ],
   "source": [
    "my_list[-1:]"
   ]
  },
  {
   "cell_type": "code",
   "execution_count": 78,
   "id": "6b28e336-0954-41a1-9c79-05875bf25522",
   "metadata": {},
   "outputs": [
    {
     "data": {
      "text/plain": [
       "[2, 4, 6, 8]"
      ]
     },
     "execution_count": 78,
     "metadata": {},
     "output_type": "execute_result"
    }
   ],
   "source": [
    "my_list[1::2]"
   ]
  },
  {
   "cell_type": "markdown",
   "id": "46254e6f-6a30-4f1f-b1ce-f7cb2487ae1d",
   "metadata": {},
   "source": [
    "#### List comprehensions\n",
    "compact syntax to map one list to othe r list"
   ]
  },
  {
   "cell_type": "code",
   "execution_count": 79,
   "id": "1b836bdc-4718-4db5-b78a-d60383a8e2fd",
   "metadata": {},
   "outputs": [
    {
     "data": {
      "text/plain": [
       "[4, 9, 16]"
      ]
     },
     "execution_count": 79,
     "metadata": {},
     "output_type": "execute_result"
    }
   ],
   "source": [
    "values = [2,3,4]\n",
    "squares = [number**2 for number in values]\n",
    "squares"
   ]
  },
  {
   "cell_type": "code",
   "execution_count": 81,
   "id": "52bb8722-1d4e-4805-81a7-e8a7c75a5313",
   "metadata": {},
   "outputs": [
    {
     "data": {
      "text/plain": [
       "[4, 16, 36, 64, 100]"
      ]
     },
     "execution_count": 81,
     "metadata": {},
     "output_type": "execute_result"
    }
   ],
   "source": [
    "values = [2,3,4,5,6,7,8,9,10]\n",
    "evn_squares = [number**2 for number in values if number %2 == 0]\n",
    "evn_squares"
   ]
  },
  {
   "cell_type": "markdown",
   "id": "28c21ff1-0dc6-4a49-99a0-1328e97dba41",
   "metadata": {},
   "source": [
    "### Tuples and dictionaries 2"
   ]
  },
  {
   "cell_type": "markdown",
   "id": "5122715d-82c3-4de3-a6da-26d9f6463391",
   "metadata": {},
   "source": [
    "#### Tuples\n",
    "useful methods: <br>\n",
    "- tuple.count: count number of occurences of specific item in tuple\n",
    "- tuple.index: get the index of first found iterm by value"
   ]
  },
  {
   "cell_type": "markdown",
   "id": "f35fa65b-f6a6-4208-bd6a-80a786b2d0a4",
   "metadata": {},
   "source": [
    "#### Dictionaries\n",
    "useful methods:<br>\n",
    "- in and dict.get: if ew access key that is not in dict we get error. With dict.get and in we can check this and avoid error\n",
    "- dict.keys, dict.values: return a list of keys/values\n",
    "- dict.items: lsit of key,value tuple pairs [(key,value)(key2,value2)]\n",
    "- dict.clear, dict.copy\n",
    "- dict.pop: remove item by key \n",
    "- dcit.popitem: remove last value"
   ]
  },
  {
   "cell_type": "code",
   "execution_count": 84,
   "id": "baa88c7a-b4f8-447d-9052-899bff243bd3",
   "metadata": {},
   "outputs": [
    {
     "name": "stdout",
     "output_type": "stream",
     "text": [
      "21\n"
     ]
    },
    {
     "ename": "KeyError",
     "evalue": "'skill'",
     "output_type": "error",
     "traceback": [
      "\u001b[0;31m---------------------------------------------------------------------------\u001b[0m",
      "\u001b[0;31mKeyError\u001b[0m                                  Traceback (most recent call last)",
      "Input \u001b[0;32mIn [84]\u001b[0m, in \u001b[0;36m<cell line: 9>\u001b[0;34m()\u001b[0m\n\u001b[1;32m      7\u001b[0m item \u001b[38;5;241m=\u001b[39m my_dict[\u001b[38;5;124m'\u001b[39m\u001b[38;5;124mage\u001b[39m\u001b[38;5;124m'\u001b[39m] \u001b[38;5;28;01mif\u001b[39;00m \u001b[38;5;124m'\u001b[39m\u001b[38;5;124mage\u001b[39m\u001b[38;5;124m'\u001b[39m \u001b[38;5;129;01min\u001b[39;00m my_dict \u001b[38;5;28;01melse\u001b[39;00m \u001b[38;5;124m'\u001b[39m\u001b[38;5;124mnonono\u001b[39m\u001b[38;5;124m'\u001b[39m\n\u001b[1;32m      8\u001b[0m \u001b[38;5;28mprint\u001b[39m(item)\n\u001b[0;32m----> 9\u001b[0m item2 \u001b[38;5;241m=\u001b[39m \u001b[43mmy_dict\u001b[49m\u001b[43m[\u001b[49m\u001b[38;5;124;43m'\u001b[39;49m\u001b[38;5;124;43mskill\u001b[39;49m\u001b[38;5;124;43m'\u001b[39;49m\u001b[43m]\u001b[49m \u001b[38;5;28;01mif\u001b[39;00m \u001b[38;5;124m'\u001b[39m\u001b[38;5;124mage\u001b[39m\u001b[38;5;124m'\u001b[39m \u001b[38;5;129;01min\u001b[39;00m my_dict \u001b[38;5;28;01melse\u001b[39;00m \u001b[38;5;124m'\u001b[39m\u001b[38;5;124mnonono\u001b[39m\u001b[38;5;124m'\u001b[39m\n\u001b[1;32m     10\u001b[0m \u001b[38;5;28mprint\u001b[39m(item2)\n",
      "\u001b[0;31mKeyError\u001b[0m: 'skill'"
     ]
    }
   ],
   "source": [
    "my_dict = {\n",
    "    \"id\":10210291,\n",
    "    \"name\":\"Alex\",\n",
    "    \"age\":21\n",
    "}\n",
    "\n",
    "item = my_dict['age'] if 'age' in my_dict else 'nonono'\n",
    "print(item)\n",
    "item2 = my_dict['skill'] if 'age' in my_dict else 'nonono'\n",
    "print(item2)"
   ]
  },
  {
   "cell_type": "code",
   "execution_count": 85,
   "id": "5f2bbf50-2876-4b22-90c1-a4c3d2e27f96",
   "metadata": {},
   "outputs": [
    {
     "data": {
      "text/plain": [
       "'default'"
      ]
     },
     "execution_count": 85,
     "metadata": {},
     "output_type": "execute_result"
    }
   ],
   "source": [
    "item3 = my_dict.get('skill','default')\n",
    "item3"
   ]
  },
  {
   "cell_type": "markdown",
   "id": "4cc45a60-8768-479b-8ee7-41725d7a0d53",
   "metadata": {},
   "source": [
    "#### Dictionary comprehension"
   ]
  },
  {
   "cell_type": "code",
   "execution_count": 87,
   "id": "f4f19384-2fa2-404e-b20b-4c151ad9d1ee",
   "metadata": {},
   "outputs": [
    {
     "data": {
      "text/plain": [
       "{'Alex': 4, 'Marina': 6, 'Iana': 4, 'Albina': 6, 'Max': 3}"
      ]
     },
     "execution_count": 87,
     "metadata": {},
     "output_type": "execute_result"
    }
   ],
   "source": [
    "names = [\"Alex\", \"Marina\", \"Iana\", \"Albina\", \"Max\"]\n",
    "{key:len(key) for key in names}"
   ]
  },
  {
   "cell_type": "markdown",
   "id": "e53115fd-2f5d-48d0-a465-bbc8293c176b",
   "metadata": {},
   "source": [
    "### Sets 2\n",
    "useful methods:<br>\n",
    "- add, update \n",
    "- remove, discard, pop, clear\n",
    "- copy"
   ]
  },
  {
   "cell_type": "markdown",
   "id": "9d27759f-a2cb-4ff6-b5ee-ac88f080f363",
   "metadata": {},
   "source": [
    "#### Set comprehension"
   ]
  },
  {
   "cell_type": "code",
   "execution_count": 88,
   "id": "6b50a22e-126c-43e4-8531-f99b6a3e1163",
   "metadata": {},
   "outputs": [
    {
     "data": {
      "text/plain": [
       "{36, 69, 99, 129, 159}"
      ]
     },
     "execution_count": 88,
     "metadata": {},
     "output_type": "execute_result"
    }
   ],
   "source": [
    "{x+x*2 for x in [23,33,43,53,12]}"
   ]
  },
  {
   "cell_type": "markdown",
   "id": "a35f3f0d-0596-45d6-bd53-0d45db64b091",
   "metadata": {},
   "source": [
    "### Strings 2"
   ]
  },
  {
   "cell_type": "markdown",
   "id": "2c7119fd-b099-43b2-b191-93a080bb769c",
   "metadata": {},
   "source": [
    "Slicing is possible on strings too, considere strings as sequences of chars"
   ]
  },
  {
   "cell_type": "code",
   "execution_count": 89,
   "id": "28d9b3ba-2397-4646-8218-9ff38dc70155",
   "metadata": {},
   "outputs": [
    {
     "data": {
      "text/plain": [
       "'ll'"
      ]
     },
     "execution_count": 89,
     "metadata": {},
     "output_type": "execute_result"
    }
   ],
   "source": [
    "a = \"Hello\"\n",
    "a[2:-1]"
   ]
  },
  {
   "cell_type": "markdown",
   "id": "978576dd-902c-4c87-ab59-e9953ee2ef5e",
   "metadata": {},
   "source": [
    "#### String formatting\n",
    "There are 3 ways to format strings:<br>\n",
    "1. printf\n",
    "2. %-operator\n",
    "3. f-strings\n",
    "\n",
    "When use what:<br>\n",
    "do not use printf<br>\n",
    "format/%-operator use for e.g. if you have various values during the program's life cycle<br>\n",
    "f'string- are evaluated at runtime , so use them with any valid expression"
   ]
  },
  {
   "cell_type": "code",
   "execution_count": 90,
   "id": "8b859db8-0c48-4995-aee7-8e90c1369ec6",
   "metadata": {},
   "outputs": [
    {
     "data": {
      "text/plain": [
       "'Pi is approximatly 3.14'"
      ]
     },
     "execution_count": 90,
     "metadata": {},
     "output_type": "execute_result"
    }
   ],
   "source": [
    "# printf\n",
    "'%s is approximatly %.2f' % ('Pi', 3.14)"
   ]
  },
  {
   "cell_type": "code",
   "execution_count": 91,
   "id": "d70dc9e6-1ff0-439f-be86-3d23e40f11b3",
   "metadata": {},
   "outputs": [
    {
     "data": {
      "text/plain": [
       "'12, hello and True'"
      ]
     },
     "execution_count": 91,
     "metadata": {},
     "output_type": "execute_result"
    }
   ],
   "source": [
    "# str.format\n",
    "'{}, {} and {}'.format(\n",
    "12, \"hello\", True\n",
    ")"
   ]
  },
  {
   "cell_type": "code",
   "execution_count": 92,
   "id": "7164595e-332a-4527-a038-a88633d037bf",
   "metadata": {},
   "outputs": [
    {
     "data": {
      "text/plain": [
       "'hello, 12 and True'"
      ]
     },
     "execution_count": 92,
     "metadata": {},
     "output_type": "execute_result"
    }
   ],
   "source": [
    "# str.format\n",
    "'{1}, {0} and {2}'.format(\n",
    "12, \"hello\", True\n",
    ")"
   ]
  },
  {
   "cell_type": "code",
   "execution_count": 93,
   "id": "7c406c0a-760a-415c-be8f-b74b15daad2a",
   "metadata": {},
   "outputs": [
    {
     "data": {
      "text/plain": [
       "'Alex, 12 and True'"
      ]
     },
     "execution_count": 93,
     "metadata": {},
     "output_type": "execute_result"
    }
   ],
   "source": [
    "# str.format\n",
    "'{name}, {age} and {cool_guy}'.format(\n",
    "age=12, name=\"Alex\", cool_guy=True\n",
    ")"
   ]
  },
  {
   "cell_type": "code",
   "execution_count": 95,
   "id": "948c0b80-d2ee-4ca0-8e7c-04f7b0bd6cfa",
   "metadata": {},
   "outputs": [
    {
     "data": {
      "text/plain": [
       "'Hello this is 10 and we can do it to 100 it is a cool naming'"
      ]
     },
     "execution_count": 95,
     "metadata": {},
     "output_type": "execute_result"
    }
   ],
   "source": [
    "# f strings\n",
    "a = 10\n",
    "b = \"naming\"\n",
    "f'Hello this is {a} and we can do it to {10* a} it is a cool {b}'"
   ]
  },
  {
   "cell_type": "markdown",
   "id": "227a652b-c3b0-4b06-b6c5-8c9045f91898",
   "metadata": {},
   "source": [
    "### Collections module datatypes\n",
    "namedtuple - allows to group variables together under one name. Can be used instead of class if we dont care about behavior and jsut want to group attributes. Basically it create an object which is class like but without methods\n",
    "\n",
    "Counter - counts occurences of e.g. char in a string\n",
    "\n",
    "OrderedDict - defsault dictionaries already preserve the order of values, but are compared as sets (so order is not considered). OrderedDict compares the dictionaries not only by items but also the insertion order"
   ]
  },
  {
   "cell_type": "code",
   "execution_count": 96,
   "id": "1c05d070-572d-48ce-b016-62ada40f9a24",
   "metadata": {},
   "outputs": [
    {
     "data": {
      "text/plain": [
       "Human(id=1241, name='Alex', age=21, hair_color='blue')"
      ]
     },
     "execution_count": 96,
     "metadata": {},
     "output_type": "execute_result"
    }
   ],
   "source": [
    "# ordered tuple\n",
    "from collections import namedtuple\n",
    "Human = namedtuple('Human', 'id name age hair_color')\n",
    "alex = Human(id=1241, name=\"Alex\", age=21, hair_color=\"blue\")\n",
    "alex"
   ]
  },
  {
   "cell_type": "code",
   "execution_count": 97,
   "id": "35ffd429-cdb5-499d-9cb5-07ab6699bb38",
   "metadata": {},
   "outputs": [
    {
     "data": {
      "text/plain": [
       "21"
      ]
     },
     "execution_count": 97,
     "metadata": {},
     "output_type": "execute_result"
    }
   ],
   "source": [
    "alex.age"
   ]
  },
  {
   "cell_type": "code",
   "execution_count": 99,
   "id": "761234fd-67bb-4e1a-aed9-0135a7145c24",
   "metadata": {},
   "outputs": [
    {
     "name": "stdout",
     "output_type": "stream",
     "text": [
      "Counter({'t': 10, ' ': 8, 'h': 3, 'i': 3, 's': 3, 'e': 2, 'o': 2, 'a': 1, 'u': 1, 'g': 1, 'x': 1, 'w': 1, 'l': 1, 'f': 1})\n"
     ]
    }
   ],
   "source": [
    "# counter\n",
    "from collections import Counter\n",
    "count = Counter(\"this is a huge text with lots of ttttt\")\n",
    "print(count)"
   ]
  },
  {
   "cell_type": "code",
   "execution_count": 101,
   "id": "095928d0-69df-48c8-9d95-76be35c2131a",
   "metadata": {},
   "outputs": [
    {
     "data": {
      "text/plain": [
       "[('t', 10),\n",
       " (' ', 8),\n",
       " ('h', 3),\n",
       " ('i', 3),\n",
       " ('s', 3),\n",
       " ('e', 2),\n",
       " ('o', 2),\n",
       " ('a', 1),\n",
       " ('u', 1),\n",
       " ('g', 1),\n",
       " ('x', 1),\n",
       " ('w', 1),\n",
       " ('l', 1),\n",
       " ('f', 1)]"
      ]
     },
     "execution_count": 101,
     "metadata": {},
     "output_type": "execute_result"
    }
   ],
   "source": [
    "count.most_common()"
   ]
  },
  {
   "cell_type": "code",
   "execution_count": 103,
   "id": "119e5b0f-ac5b-4c5e-a17e-b39394a86d24",
   "metadata": {},
   "outputs": [
    {
     "data": {
      "text/plain": [
       "[('t', 10)]"
      ]
     },
     "execution_count": 103,
     "metadata": {},
     "output_type": "execute_result"
    }
   ],
   "source": [
    "count.most_common(1)"
   ]
  },
  {
   "cell_type": "code",
   "execution_count": 104,
   "id": "8832e743-78d8-4ae5-9d61-d72cd3bce929",
   "metadata": {},
   "outputs": [
    {
     "name": "stdout",
     "output_type": "stream",
     "text": [
      "True\n",
      "False\n"
     ]
    }
   ],
   "source": [
    "# ordered dict\n",
    "from collections import OrderedDict\n",
    "dict_1 = {\"a\":1, \"b\":2, \"c\":3}\n",
    "dict_2 = {\"b\":2, \"c\":3, \"a\":1}\n",
    "\n",
    "ord_dict_1 = OrderedDict({\"a\":1, \"b\":2, \"c\":3})\n",
    "ord_dict_2 = OrderedDict({\"b\":2, \"c\":3, \"a\":1})\n",
    "\n",
    "# normal dict equality\n",
    "print(dict_1 == dict_2)\n",
    "\n",
    "#ordered dict equality\n",
    "print(ord_dict_1 == ord_dict_2)"
   ]
  },
  {
   "cell_type": "markdown",
   "id": "c31965a1-d39b-47e7-bb30-03796a27e631",
   "metadata": {},
   "source": [
    "## 3. Pythonics 2"
   ]
  },
  {
   "cell_type": "markdown",
   "id": "86554566-4c4c-4eed-b3bb-6b770991df29",
   "metadata": {},
   "source": [
    "### Type checking in Python\n",
    "\n",
    "--> u need to install mypy for jupyter"
   ]
  },
  {
   "cell_type": "code",
   "execution_count": 1,
   "id": "e0c5879d-5664-4d18-9711-2fcd55760f74",
   "metadata": {},
   "outputs": [],
   "source": [
    "def sum_of_chars(string: str) -> int:\n",
    "    return 'abc'"
   ]
  },
  {
   "cell_type": "code",
   "execution_count": 3,
   "id": "dd968c47-da52-469a-bd38-27c9192911b1",
   "metadata": {},
   "outputs": [],
   "source": [
    "age: int\n",
    "name: str\n",
    "age = \"bob\""
   ]
  },
  {
   "cell_type": "markdown",
   "id": "db998fe0-b662-436d-8082-9efb460133ee",
   "metadata": {},
   "source": [
    "both should have returned a type error"
   ]
  },
  {
   "cell_type": "markdown",
   "id": "f51413c6-d38b-4ed7-86ac-678a2fc36c05",
   "metadata": {},
   "source": [
    "### Classes 2"
   ]
  },
  {
   "cell_type": "markdown",
   "id": "b55bc7fb-86fb-4dfc-8d35-fe534fdaf824",
   "metadata": {},
   "source": [
    "#### Magic methods:\n",
    "__str__: how the object behaves when it is printed (what is returned) <br>\n",
    "__int__: how object behaves if it is casted to int<br>\n",
    "__repr__: similar to __str__ but if it is printed without print statement like jupyter allows you <br>\n",
    "__eq__: how the object should be compared <br>\n",
    "__call__: if the object is called as a function, what should be returned "
   ]
  },
  {
   "cell_type": "code",
   "execution_count": 10,
   "id": "0df529bc-5d21-4213-b5b7-4f4a8f647116",
   "metadata": {},
   "outputs": [],
   "source": [
    "class People:\n",
    "    def __init__(self, id, name , age):\n",
    "        self.id = id\n",
    "        self.name = name,\n",
    "        self.age = age\n",
    "    def __str__(self):\n",
    "        return f'People object is here: Hello I am {self.name} and I am {self.age}'\n",
    "    def __int__(self):\n",
    "        return self.age\n",
    "    def __repr__(self):\n",
    "        return f'Hello Jupyter, this is how you can print me cool. BTW my id is {self.id}'\n",
    "    def __eq__(self, other):\n",
    "        return self.id == other.id\n",
    "    def __call__(self):\n",
    "        return f'{self.name} is called as a function :D'\n",
    "\n",
    "    \n",
    "alex = People(293121921, \"Alex\", 29)"
   ]
  },
  {
   "cell_type": "code",
   "execution_count": 12,
   "id": "1416bb7d-a892-465e-9051-85b2e7825374",
   "metadata": {},
   "outputs": [
    {
     "name": "stdout",
     "output_type": "stream",
     "text": [
      "<class '__main__.People'>\n",
      "People object is here: Hello I am ('Alex',) and I am 29\n",
      "29\n"
     ]
    },
    {
     "data": {
      "text/plain": [
       "Hello Jupyter, this is how you can print me cool. BTW my id is 293121921"
      ]
     },
     "execution_count": 12,
     "metadata": {},
     "output_type": "execute_result"
    }
   ],
   "source": [
    "alex = People(293121921, \"Alex\", 29)\n",
    "print(type(alex))\n",
    "print(alex) # __str__\n",
    "print(int(alex)) # __int__\n",
    "alex # __repr__"
   ]
  },
  {
   "cell_type": "code",
   "execution_count": 13,
   "id": "58d1faab-9036-485c-b550-94ecac402504",
   "metadata": {},
   "outputs": [
    {
     "name": "stdout",
     "output_type": "stream",
     "text": [
      "False\n"
     ]
    },
    {
     "data": {
      "text/plain": [
       "\"('Maia',) is called as a function :D\""
      ]
     },
     "execution_count": 13,
     "metadata": {},
     "output_type": "execute_result"
    }
   ],
   "source": [
    "maia = People(2992121921, \"Maia\", 29)\n",
    "print(maia == alex) # __eq__\n",
    "maia()"
   ]
  },
  {
   "cell_type": "markdown",
   "id": "1466c505-764a-46dd-804e-99eab26794b6",
   "metadata": {},
   "source": [
    "### Functions 3 "
   ]
  },
  {
   "cell_type": "markdown",
   "id": "0592c6ac-ed27-4a14-b039-3cf8af630d7b",
   "metadata": {},
   "source": [
    "### Nested functions"
   ]
  },
  {
   "cell_type": "code",
   "execution_count": 16,
   "id": "2588cb69-cd4b-48c1-b59e-958ceee134f0",
   "metadata": {},
   "outputs": [
    {
     "data": {
      "text/plain": [
       "14"
      ]
     },
     "execution_count": 16,
     "metadata": {},
     "output_type": "execute_result"
    }
   ],
   "source": [
    "def outer(a,b):\n",
    "    def secret(c):\n",
    "        return c-1\n",
    "    return secret(a+b) # (10 + 5) - 1\n",
    "outer(10,5)"
   ]
  },
  {
   "cell_type": "code",
   "execution_count": 17,
   "id": "fbea168e-0925-4752-b58b-cc2801d16de6",
   "metadata": {},
   "outputs": [
    {
     "ename": "NameError",
     "evalue": "name 'secret' is not defined",
     "output_type": "error",
     "traceback": [
      "\u001b[0;31m---------------------------------------------------------------------------\u001b[0m",
      "\u001b[0;31mNameError\u001b[0m                                 Traceback (most recent call last)",
      "Input \u001b[0;32mIn [17]\u001b[0m, in \u001b[0;36m<cell line: 1>\u001b[0;34m()\u001b[0m\n\u001b[0;32m----> 1\u001b[0m \u001b[43msecret\u001b[49m(\u001b[38;5;241m15\u001b[39m)\n",
      "\u001b[0;31mNameError\u001b[0m: name 'secret' is not defined"
     ]
    }
   ],
   "source": [
    "secret(15)"
   ]
  },
  {
   "cell_type": "code",
   "execution_count": 23,
   "id": "d0304863-55a3-43ff-9d58-ed6933a8d1c7",
   "metadata": {},
   "outputs": [
    {
     "data": {
      "text/plain": [
       "19.0"
      ]
     },
     "execution_count": 23,
     "metadata": {},
     "output_type": "execute_result"
    }
   ],
   "source": [
    "def outer_1():\n",
    "    def inner_1(x,y):\n",
    "        return (x+y)/2\n",
    "    return inner_1\n",
    "secret = outer_1()\n",
    "secret(30,8)"
   ]
  },
  {
   "cell_type": "markdown",
   "id": "0873147a-b50f-4c9e-9c4c-da98116ede34",
   "metadata": {},
   "source": [
    "Passing functions into functions"
   ]
  },
  {
   "cell_type": "code",
   "execution_count": 26,
   "id": "f4a59f62-6aa1-4bfe-849a-e8dda3e5bb77",
   "metadata": {},
   "outputs": [
    {
     "data": {
      "text/plain": [
       "44"
      ]
     },
     "execution_count": 26,
     "metadata": {},
     "output_type": "execute_result"
    }
   ],
   "source": [
    "def again(a,b, function):\n",
    "    def secret_one(a,b):\n",
    "        return function(a,b)\n",
    "    return secret_one(a,b)\n",
    "\n",
    "again(10,12,lambda x,y : (x+y)*2)  # (10 + 12) *2"
   ]
  },
  {
   "cell_type": "markdown",
   "id": "f15c3106-0203-4d78-8a1d-4e4304ec1f8a",
   "metadata": {},
   "source": [
    "Inner function keeps access to the variables of the outer function"
   ]
  },
  {
   "cell_type": "code",
   "execution_count": 29,
   "id": "4d6affa9-7177-4912-8827-50ac8728c0ad",
   "metadata": {},
   "outputs": [
    {
     "data": {
      "text/plain": [
       "64"
      ]
     },
     "execution_count": 29,
     "metadata": {},
     "output_type": "execute_result"
    }
   ],
   "source": [
    "def power_pac(power):\n",
    "    def not_secret(x):\n",
    "        return x**power\n",
    "    return not_secret\n",
    "\n",
    "cube = power_pac(3)\n",
    "cube(4) # 4**3"
   ]
  },
  {
   "cell_type": "code",
   "execution_count": 32,
   "id": "ba1d84da-da52-4f62-a316-fc1d48e7d5f4",
   "metadata": {},
   "outputs": [
    {
     "data": {
      "text/plain": [
       "4096"
      ]
     },
     "execution_count": 32,
     "metadata": {},
     "output_type": "execute_result"
    }
   ],
   "source": [
    "cubex2 = power_pac(6)\n",
    "cubex2(4) # 2**6"
   ]
  },
  {
   "cell_type": "markdown",
   "id": "6c9dbc35-4403-4d55-8ef8-db9cdc7545dc",
   "metadata": {},
   "source": [
    "### Closures \n",
    "not just a nested function but a mechanism that allows the inner function keep access to its environment as it was when the closure was ceated.<br>\n",
    "this can be used for :<br>\n",
    "1. data hiding or protection\n",
    "2. decorators"
   ]
  },
  {
   "cell_type": "code",
   "execution_count": 37,
   "id": "e20783de-6abc-4ef7-951b-0dee69978cb1",
   "metadata": {},
   "outputs": [
    {
     "name": "stdout",
     "output_type": "stream",
     "text": [
      "jansjans129\n",
      "182u1jnjsnjsk\n"
     ]
    }
   ],
   "source": [
    "def secret_stuff():\n",
    "    key_and_pass = ('jansjans129', '182u1jnjsnjsk')\n",
    "    def secure_key():\n",
    "        return key_and_pass[0]\n",
    "    def secure_pass():\n",
    "        return key_and_pass[1]\n",
    "    return secure_key, secure_pass\n",
    "\n",
    "key, passw = secret_stuff()\n",
    "print(key())\n",
    "print(passw())"
   ]
  },
  {
   "cell_type": "markdown",
   "id": "222ab0e2-340a-4b7c-9eff-f89e2a87d59d",
   "metadata": {},
   "source": [
    "### Decorators\n",
    "Decorate function to add their the ability to measure time for its execution"
   ]
  },
  {
   "cell_type": "code",
   "execution_count": 43,
   "id": "f9887996-2caa-413c-9ceb-ac2f2f15fd2e",
   "metadata": {},
   "outputs": [
    {
     "data": {
      "text/plain": [
       "0.95194411277771"
      ]
     },
     "execution_count": 43,
     "metadata": {},
     "output_type": "execute_result"
    }
   ],
   "source": [
    "import time\n",
    "def time_decorator(func):\n",
    "    def wrapper(*args, **kwargs):\n",
    "        start = time.time()\n",
    "        result = func(*args, **kwargs)\n",
    "        end = time.time()\n",
    "        return end-start\n",
    "    return wrapper\n",
    "\n",
    "def my_func(a,b):\n",
    "    summa = 0\n",
    "    for _ in range(1_000_0000):\n",
    "        summa += a\n",
    "        summa -= b\n",
    "    return summa\n",
    "\n",
    "dec_function = time_decorator(my_func)\n",
    "dec_function(30,29)"
   ]
  },
  {
   "cell_type": "markdown",
   "id": "51c4a9aa-4123-447f-a817-afe492692c98",
   "metadata": {},
   "source": [
    "alternative way to decorate function"
   ]
  },
  {
   "cell_type": "code",
   "execution_count": 44,
   "id": "316cd36a-7c5a-4636-9c5e-6ca73528aafd",
   "metadata": {},
   "outputs": [
    {
     "data": {
      "text/plain": [
       "1.1199150085449219"
      ]
     },
     "execution_count": 44,
     "metadata": {},
     "output_type": "execute_result"
    }
   ],
   "source": [
    "@time_decorator\n",
    "def my_func(a,b):\n",
    "    summa = 0\n",
    "    for _ in range(1_000_0000):d\n",
    "        summa += a\n",
    "        summa -= b\n",
    "    return summa\n",
    "\n",
    "my_func(30,29)"
   ]
  },
  {
   "cell_type": "markdown",
   "id": "b1cb17c1-095d-4b6d-8ad0-62fa5a12b8ac",
   "metadata": {},
   "source": [
    "Decorator examples:\n",
    "\n",
    "- functools cache lru\n",
    "- Flask authentification requirement and @app.get(/)\n",
    "- validation of datatype (list) as argument of function"
   ]
  },
  {
   "cell_type": "code",
   "execution_count": 52,
   "id": "27774a3a-094c-4e0d-852d-98f3fdc7015e",
   "metadata": {},
   "outputs": [
    {
     "name": "stdout",
     "output_type": "stream",
     "text": [
      "this arg should be list \n"
     ]
    }
   ],
   "source": [
    "def validation_dec(func):\n",
    "    def wrapper(args):\n",
    "        if not isinstance(args, list):\n",
    "            print('this arg should be list ')\n",
    "        return func(args)\n",
    "    return wrapper\n",
    "\n",
    "@validation_dec\n",
    "def what_is_list(arg):\n",
    "    pass\n",
    "\n",
    "what_is_list((1,2))"
   ]
  },
  {
   "cell_type": "markdown",
   "id": "bdc1247f-233a-4a51-b7fc-2d1e58f954ed",
   "metadata": {},
   "source": [
    "### Decorators with parameters"
   ]
  },
  {
   "cell_type": "code",
   "execution_count": 59,
   "id": "a3700cbd-0d23-4a79-a068-4ac970239d50",
   "metadata": {},
   "outputs": [
    {
     "name": "stdout",
     "output_type": "stream",
     "text": [
      "Dont use this function bro\n",
      "its alright\n"
     ]
    }
   ],
   "source": [
    "def contains_int(musthave_value):\n",
    "    def contains(func):\n",
    "        def wrapper(func_arg):\n",
    "            if not musthave_value in func_arg:\n",
    "                print(\"Dont use this function bro\")\n",
    "            else:\n",
    "                print(\"its alright\")\n",
    "            return func(func_arg)\n",
    "        return wrapper\n",
    "    return contains\n",
    "\n",
    "@contains_int(99)\n",
    "def tester_func(listing):\n",
    "    pass\n",
    "\n",
    "tester_func([1,2,3,4,5,19,98,100])\n",
    "tester_func((99,10))"
   ]
  },
  {
   "cell_type": "markdown",
   "id": "38b1fd8b-9097-4333-92a7-fd59649725be",
   "metadata": {},
   "source": [
    "### Class based decorators"
   ]
  },
  {
   "cell_type": "code",
   "execution_count": 65,
   "id": "0a67d2ae-57ae-4a66-b8d4-66555f19f371",
   "metadata": {},
   "outputs": [
    {
     "name": "stdout",
     "output_type": "stream",
     "text": [
      "this is not a list, all arguments must be a list\n",
      "its ok\n"
     ]
    }
   ],
   "source": [
    "class ListCheck:\n",
    "    def __init__(self, func):\n",
    "        self.func = func\n",
    "    def __call__(self, *args):\n",
    "        if not all([isinstance(arg, list) for arg in args]):\n",
    "            print(\"this is not a list, all arguments must be a list\")\n",
    "        else:\n",
    "            print(\"its ok\")\n",
    "            return self.func(*args)\n",
    "\n",
    "@ListCheck\n",
    "def test(x):\n",
    "    pass\n",
    "\n",
    "test(12)\n",
    "test([1,2,34,1,1])\n"
   ]
  },
  {
   "cell_type": "markdown",
   "id": "ef287b74-6c9a-4b04-b4c3-1c3f8731c282",
   "metadata": {},
   "source": [
    "### Classes 2"
   ]
  },
  {
   "cell_type": "markdown",
   "id": "0619af80-dba4-44f5-bad2-c9082ec5ee17",
   "metadata": {},
   "source": [
    "dataclass decorator"
   ]
  },
  {
   "cell_type": "code",
   "execution_count": 68,
   "id": "a31a07fa-a17a-43de-bfe4-dab954cd7630",
   "metadata": {},
   "outputs": [
    {
     "data": {
      "text/plain": [
       "12"
      ]
     },
     "execution_count": 68,
     "metadata": {},
     "output_type": "execute_result"
    }
   ],
   "source": [
    "from dataclasses import dataclass\n",
    "@dataclass(init=True, repr=False)\n",
    "class DataPeople:\n",
    "    name: str\n",
    "    age: int\n",
    "    nummer: int \n",
    "    default : float = 34.902\n",
    "\n",
    "alex = DataPeople(name=\"Alex\", age=12, nummer=12312)\n",
    "alex.age"
   ]
  },
  {
   "cell_type": "markdown",
   "id": "bdd7a169-9523-4737-91e6-906ff8075f0b",
   "metadata": {},
   "source": [
    "### Iterators\n"
   ]
  },
  {
   "cell_type": "code",
   "execution_count": 73,
   "id": "c3295f5d-e7b4-4823-8c90-33d6607dfd0b",
   "metadata": {},
   "outputs": [
    {
     "name": "stdout",
     "output_type": "stream",
     "text": [
      "6\n"
     ]
    }
   ],
   "source": [
    "my_sum = 0\n",
    "items = {1,2,3}\n",
    "for i in items:\n",
    "    my_sum += i\n",
    "print(my_sum)"
   ]
  },
  {
   "cell_type": "markdown",
   "id": "b4bfeaa5-056d-4e91-a7d1-dd4b2fad3d2a",
   "metadata": {},
   "source": [
    "same but other syntax"
   ]
  },
  {
   "cell_type": "code",
   "execution_count": 72,
   "id": "0bc723ba-918c-4873-a86f-e3d8ac30a739",
   "metadata": {},
   "outputs": [
    {
     "name": "stdout",
     "output_type": "stream",
     "text": [
      "6\n"
     ]
    }
   ],
   "source": [
    "my_sum = 0\n",
    "items = {1,2,3}\n",
    "iterator = iter(items)\n",
    "while True:\n",
    "    try:\n",
    "        my_sum += next(iterator)\n",
    "    except StopIteration:\n",
    "        break\n",
    "print(my_sum)"
   ]
  },
  {
   "cell_type": "markdown",
   "id": "b0d7e156-0f45-4869-8276-e1086e0a3969",
   "metadata": {},
   "source": [
    "lets create our own iterator"
   ]
  },
  {
   "cell_type": "code",
   "execution_count": 77,
   "id": "9e0f9f15-b432-4163-b9d9-6e34d795c17d",
   "metadata": {},
   "outputs": [
    {
     "name": "stdout",
     "output_type": "stream",
     "text": [
      "0\n",
      "1\n",
      "2\n",
      "3\n",
      "4\n",
      "5\n",
      "6\n",
      "7\n",
      "8\n",
      "9\n",
      "10\n"
     ]
    }
   ],
   "source": [
    "class MyOwnIterator:\n",
    "    def __init__(self):\n",
    "        self.value = 0\n",
    "    def __iter__(self):\n",
    "        return self\n",
    "    def __next__(self):\n",
    "        if self.value > 10:\n",
    "            raise StopIteration\n",
    "        self.value +=1\n",
    "        return self.value - 1\n",
    "\n",
    "for i in MyOwnIterator():\n",
    "    print(i)"
   ]
  },
  {
   "cell_type": "markdown",
   "id": "f101ced7-ad7b-4361-a359-d46af6195e5c",
   "metadata": {},
   "source": [
    "Why would you need a custom iterator?\n",
    "\n",
    "e.g. to parse 1.0GB FASTA file containing a proteime. So we dont load all the records in memory at once."
   ]
  },
  {
   "cell_type": "markdown",
   "id": "7e4e1487-5bbc-45c8-9cca-4bc6bb77cdd7",
   "metadata": {},
   "source": [
    "#### Iterables -  all objects that have the __iter__ method\n",
    "Iterable - object that is capable returning its values one by one and has the __iter__ method\n",
    "\n",
    "Iterator - object that represents stream of data and implements __iter__ and __next__ method\n",
    "\n",
    "when we use an iterable in for loop it automatically creates an iterator that is useed to produce values until the stop exception is raised"
   ]
  },
  {
   "cell_type": "markdown",
   "id": "303addcc-22a4-4d68-82d4-d86a5b7f9c26",
   "metadata": {},
   "source": [
    "### Generators\n",
    "generator is a function that returns a generator iterator"
   ]
  },
  {
   "cell_type": "code",
   "execution_count": 78,
   "id": "89488084-e93e-48a8-b69c-337a1e804be9",
   "metadata": {},
   "outputs": [
    {
     "name": "stdout",
     "output_type": "stream",
     "text": [
      "0\n",
      "1\n",
      "2\n",
      "3\n",
      "4\n",
      "5\n",
      "6\n",
      "7\n",
      "8\n",
      "9\n",
      "10\n"
     ]
    }
   ],
   "source": [
    "def my_own_gen():\n",
    "    i = 0\n",
    "    while i <= 10:\n",
    "        yield i\n",
    "        i+=1\n",
    "gen = my_own_gen()\n",
    "for elem in gen:\n",
    "    print(elem)"
   ]
  },
  {
   "cell_type": "markdown",
   "id": "c7c09f3b-3652-43ee-8c52-25b05099f5a6",
   "metadata": {},
   "source": [
    "Generator expressions - list comprehensions with generators"
   ]
  },
  {
   "cell_type": "code",
   "execution_count": 83,
   "id": "49f67444-808d-492e-8330-63d0d7b31c78",
   "metadata": {},
   "outputs": [
    {
     "name": "stdout",
     "output_type": "stream",
     "text": [
      "<class 'generator'>\n",
      "0\n",
      "1\n",
      "4\n",
      "9\n",
      "16\n"
     ]
    }
   ],
   "source": [
    "numbers = range(1999)\n",
    "squares = (\n",
    "    n**2 for n in numbers\n",
    "    )\n",
    "print(type(squares))\n",
    "for i in range(5):\n",
    "    print(next(squares))"
   ]
  },
  {
   "cell_type": "markdown",
   "id": "4411a539-5dd5-46eb-a934-87ae8a347671",
   "metadata": {},
   "source": [
    "enumerate -> generator that return the value and the index of that element\n",
    "\n",
    "zip -> process two iterables at the same lenght pairwise (elmenets on same positions are related)"
   ]
  },
  {
   "cell_type": "code",
   "execution_count": 86,
   "id": "e3cdd339-0314-46e5-b6e9-ca679374a85c",
   "metadata": {},
   "outputs": [
    {
     "name": "stdout",
     "output_type": "stream",
     "text": [
      "12 is for Alex\n",
      "90 is for Bob\n",
      "89 is for Max\n",
      "13 is for Alonso\n"
     ]
    }
   ],
   "source": [
    "name = [\"Alex\", \"Bob\", \"Max\", \"Alonso\"]\n",
    "id = [12,90,89,13]\n",
    "\n",
    "for id,name in zip(id, name):\n",
    "    print(f'{id} is for {name}')"
   ]
  },
  {
   "cell_type": "markdown",
   "id": "201a8c8d-1982-410b-8583-415fe9328a0e",
   "metadata": {},
   "source": [
    "## 4. Pythonics 3"
   ]
  },
  {
   "cell_type": "markdown",
   "id": "4f3ede5d-4628-44ea-917d-25225e1a7b4e",
   "metadata": {},
   "source": [
    "### Class methods and static\n",
    "\n",
    "Difference between usual object functions, class methods and static methods:\n",
    "\n",
    "<b>object methods</b> - accepts object as paramter, directly related to the one and only object <br>\n",
    "<b>class methods</b> - accepts class as parameter, the method is called for all classes <br>\n",
    "<b>static methods</b> - do not accept class or object as parameter, they behave like plain functions except that you can call them from an instance or the class"
   ]
  },
  {
   "cell_type": "code",
   "execution_count": 10,
   "id": "3b2e7d47-1668-4639-a5f4-339871f05290",
   "metadata": {},
   "outputs": [
    {
     "name": "stdout",
     "output_type": "stream",
     "text": [
      "2\n",
      "2\n"
     ]
    }
   ],
   "source": [
    "class Human:\n",
    "    num_of_legs = 2 # class variable\n",
    "    def __init__(self, age, name, hair_color):\n",
    "        self.age = age\n",
    "        self.name = name\n",
    "        self.hair = hair_color\n",
    "    \n",
    "    @classmethod\n",
    "    def count_age(cls, age):\n",
    "        return 100-age\n",
    "    \n",
    "    @staticmethod\n",
    "    def cool_addition(a,b,c):\n",
    "        return (a+b+c)/a + c - b\n",
    "\n",
    "alex = Human(name=\"Alex\", age=23, hair_color=\"Blond\")\n",
    "mike = Human(name=\"Mike\", age=31, hair_color=\"Black\")\n",
    "\n",
    "print(alex.num_of_legs)\n",
    "print(mike.num_of_legs)"
   ]
  },
  {
   "cell_type": "code",
   "execution_count": 11,
   "id": "6e2f5e12-b0b2-473a-b555-c9a1122e5b3f",
   "metadata": {},
   "outputs": [
    {
     "data": {
      "text/plain": [
       "79"
      ]
     },
     "execution_count": 11,
     "metadata": {},
     "output_type": "execute_result"
    }
   ],
   "source": [
    "Human.count_age(21)"
   ]
  },
  {
   "cell_type": "code",
   "execution_count": 12,
   "id": "997ba30b-2361-4e7e-b0dc-22eac4bb9e60",
   "metadata": {},
   "outputs": [
    {
     "data": {
      "text/plain": [
       "-3.25"
      ]
     },
     "execution_count": 12,
     "metadata": {},
     "output_type": "execute_result"
    }
   ],
   "source": [
    "Human.cool_addition(4,9,2)"
   ]
  },
  {
   "cell_type": "markdown",
   "id": "54c8de91-c988-4600-ac75-98b74e28779d",
   "metadata": {},
   "source": [
    "### Getters / Properties of class\n",
    "are used to control the access to the object attributes"
   ]
  },
  {
   "cell_type": "code",
   "execution_count": 13,
   "id": "1575b465-b3b6-404c-b570-7571cbde5fc6",
   "metadata": {},
   "outputs": [
    {
     "data": {
      "text/plain": [
       "31"
      ]
     },
     "execution_count": 13,
     "metadata": {},
     "output_type": "execute_result"
    }
   ],
   "source": [
    "class Human:\n",
    "    num_of_legs = 2 # class variable\n",
    "    def __init__(self, age, name, hair_color):\n",
    "        self.__age = age\n",
    "        self.__name = name\n",
    "        self.__hair = hair_color\n",
    "    @property\n",
    "    def age(self):\n",
    "        return self.__age\n",
    "    @property\n",
    "    def name(self):\n",
    "        return self.__name\n",
    "    @property\n",
    "    def hair(self):\n",
    "        return self.__hair\n",
    "\n",
    "mike = Human(name=\"Mike\", age=31, hair_color=\"Black\")\n",
    "mike.age"
   ]
  },
  {
   "cell_type": "code",
   "execution_count": 14,
   "id": "b6b502e4-aeb2-4cab-908c-386a3d6d7ce5",
   "metadata": {},
   "outputs": [
    {
     "ename": "AttributeError",
     "evalue": "can't set attribute 'age'",
     "output_type": "error",
     "traceback": [
      "\u001b[0;31m---------------------------------------------------------------------------\u001b[0m",
      "\u001b[0;31mAttributeError\u001b[0m                            Traceback (most recent call last)",
      "Input \u001b[0;32mIn [14]\u001b[0m, in \u001b[0;36m<cell line: 1>\u001b[0;34m()\u001b[0m\n\u001b[0;32m----> 1\u001b[0m mike\u001b[38;5;241m.\u001b[39mage\u001b[38;5;241m+\u001b[39m\u001b[38;5;241m=\u001b[39m\u001b[38;5;241m1\u001b[39m\n",
      "\u001b[0;31mAttributeError\u001b[0m: can't set attribute 'age'"
     ]
    }
   ],
   "source": [
    "mike.age+=1"
   ]
  },
  {
   "cell_type": "markdown",
   "id": "eec1f2ac-2c3e-405e-812b-1ea9ca852fe9",
   "metadata": {},
   "source": [
    "### Setters"
   ]
  },
  {
   "cell_type": "code",
   "execution_count": 18,
   "id": "484302bb-697d-4de4-9df5-3e843a46757c",
   "metadata": {},
   "outputs": [
    {
     "name": "stdout",
     "output_type": "stream",
     "text": [
      "31\n",
      "99\n"
     ]
    }
   ],
   "source": [
    "class Human:\n",
    "    num_of_legs = 2 # class variable\n",
    "    def __init__(self, age, name, hair_color):\n",
    "        self.__age = age\n",
    "        self.__name = name\n",
    "        self.__hair = hair_color\n",
    "    @property\n",
    "    def age(self):\n",
    "        return self.__age\n",
    "    @property\n",
    "    def name(self):\n",
    "        return self.__name\n",
    "    @property\n",
    "    def hair(self):\n",
    "        return self.__hair\n",
    "    @age.setter\n",
    "    def age(self, new_age):\n",
    "        if new_age > 0 and new_age < 100:\n",
    "            self.__age = new_age\n",
    "    @name.setter\n",
    "    def name(self, new_name):\n",
    "        raise AttributeError('name is read only')\n",
    "\n",
    "mike = Human(name=\"Mike\", age=31, hair_color=\"Black\")\n",
    "print(mike.age)\n",
    "mike.age = 99\n",
    "print(mike.age)"
   ]
  },
  {
   "cell_type": "code",
   "execution_count": 19,
   "id": "f7d6b3be-b12d-4607-b4f0-6b11bae66139",
   "metadata": {},
   "outputs": [
    {
     "ename": "AttributeError",
     "evalue": "name is read only",
     "output_type": "error",
     "traceback": [
      "\u001b[0;31m---------------------------------------------------------------------------\u001b[0m",
      "\u001b[0;31mAttributeError\u001b[0m                            Traceback (most recent call last)",
      "Input \u001b[0;32mIn [19]\u001b[0m, in \u001b[0;36m<cell line: 1>\u001b[0;34m()\u001b[0m\n\u001b[0;32m----> 1\u001b[0m mike\u001b[38;5;241m.\u001b[39mname \u001b[38;5;241m=\u001b[39m \u001b[38;5;124m\"\u001b[39m\u001b[38;5;124mSusanne\u001b[39m\u001b[38;5;124m\"\u001b[39m\n",
      "Input \u001b[0;32mIn [18]\u001b[0m, in \u001b[0;36mHuman.name\u001b[0;34m(self, new_name)\u001b[0m\n\u001b[1;32m     20\u001b[0m \u001b[38;5;129m@name\u001b[39m\u001b[38;5;241m.\u001b[39msetter\n\u001b[1;32m     21\u001b[0m \u001b[38;5;28;01mdef\u001b[39;00m \u001b[38;5;21mname\u001b[39m(\u001b[38;5;28mself\u001b[39m, new_name):\n\u001b[0;32m---> 22\u001b[0m     \u001b[38;5;28;01mraise\u001b[39;00m \u001b[38;5;167;01mAttributeError\u001b[39;00m(\u001b[38;5;124m'\u001b[39m\u001b[38;5;124mname is read only\u001b[39m\u001b[38;5;124m'\u001b[39m)\n",
      "\u001b[0;31mAttributeError\u001b[0m: name is read only"
     ]
    }
   ],
   "source": [
    "mike.name = \"Susanne\""
   ]
  },
  {
   "cell_type": "markdown",
   "id": "27c8491c-1607-4b25-b64d-7ecfb7af2743",
   "metadata": {},
   "source": [
    "### Context managers"
   ]
  },
  {
   "cell_type": "code",
   "execution_count": null,
   "id": "7622e13a-94f3-4cc9-a8cb-baf0252c038e",
   "metadata": {},
   "outputs": [],
   "source": [
    "# work with files like this:\n",
    "with open(\"file.txt\") as f:\n",
    "    for line in f:\n",
    "        print(line)"
   ]
  },
  {
   "cell_type": "markdown",
   "id": "13161bd2-e158-4205-8fb6-a443ed253089",
   "metadata": {},
   "source": [
    "How does a context manager work?"
   ]
  },
  {
   "cell_type": "code",
   "execution_count": 22,
   "id": "a22e4cc4-52e5-4def-ae17-1d97f20cf273",
   "metadata": {},
   "outputs": [],
   "source": [
    "import time\n",
    "class Timer:\n",
    "    def __enter__(self):\n",
    "        self.start = time.time()\n",
    "        print(\"start\")\n",
    "    def __exit__(self, exc_type, exc_value, exc_tb):\n",
    "        self.end = time.time()\n",
    "        print(\"stop\")\n",
    "        print(f'time: {self.end-self.start}')"
   ]
  },
  {
   "cell_type": "code",
   "execution_count": 23,
   "id": "1cb2a921-d8eb-42bc-91af-27303c7ab6b1",
   "metadata": {},
   "outputs": [
    {
     "name": "stdout",
     "output_type": "stream",
     "text": [
      "start\n",
      "stop\n",
      "time: 0.9093019962310791\n"
     ]
    }
   ],
   "source": [
    "def fibonacci(n):\n",
    "    if n < 2:\n",
    "        return n\n",
    "    return fibonacci(n-2) + fibonacci(n-1)\n",
    "\n",
    "with Timer():\n",
    "    fibonacci(32)"
   ]
  },
  {
   "cell_type": "markdown",
   "id": "a49c42fe-1cef-48eb-90c4-f70991885e34",
   "metadata": {},
   "source": [
    "## 4. Numpy 1"
   ]
  },
  {
   "cell_type": "markdown",
   "id": "e81eb744-7c8b-4055-b8ae-19b54bd8e088",
   "metadata": {},
   "source": [
    "What is numpy?\n",
    "\n",
    "- its a library implementing an N-dimesional array object and linear algebra capabilities. Its written in Python and C\n",
    "\n",
    "The main advantage of it....it is a lot faster. Why?\n",
    "\n",
    "__Python lists__ have references to values they hold. They dont contain values by themselves, only the location in the memory where the data/value is stored. This gives python lists __heterogenity__ but it does not guarantee that all of the values are copied to the cache in one operation. \n",
    "\n",
    "__Numpy arrays__ are __homogeneous__ and store data in sequential chunks of memory. That means several values can be moved from RAM to the CPU cache at once. + numpy supports some vectorized operation, so no explicit loops over elements needed."
   ]
  },
  {
   "cell_type": "code",
   "execution_count": 4,
   "id": "1242044b-223e-4d22-8842-6e9b8f675396",
   "metadata": {},
   "outputs": [],
   "source": [
    "import numpy as np"
   ]
  },
  {
   "cell_type": "markdown",
   "id": "14b5e857-2df1-47e5-861d-86ec60d9fbbd",
   "metadata": {},
   "source": [
    "### Creation of numpy arrays"
   ]
  },
  {
   "cell_type": "code",
   "execution_count": 26,
   "id": "b8bc9701-8495-47c9-84ce-38bebe29728c",
   "metadata": {},
   "outputs": [
    {
     "data": {
      "text/plain": [
       "array([5, 7, 9])"
      ]
     },
     "execution_count": 26,
     "metadata": {},
     "output_type": "execute_result"
    }
   ],
   "source": [
    "arr_1 = np.array([1,2,3])\n",
    "arr_2 = np.array([4,5,6])\n",
    "arr_1+arr_2"
   ]
  },
  {
   "cell_type": "code",
   "execution_count": 27,
   "id": "78960d0d-bb3d-4dfa-8b2f-60020ad687f0",
   "metadata": {},
   "outputs": [
    {
     "data": {
      "text/plain": [
       "dtype('int64')"
      ]
     },
     "execution_count": 27,
     "metadata": {},
     "output_type": "execute_result"
    }
   ],
   "source": [
    "# check datatype\n",
    "arr_1.dtype"
   ]
  },
  {
   "cell_type": "markdown",
   "id": "cb638d5e-cfcc-4aab-a901-07ee3b538232",
   "metadata": {},
   "source": [
    "#### Specify datatype"
   ]
  },
  {
   "cell_type": "code",
   "execution_count": 28,
   "id": "8ef4573b-5ef8-44c1-92e8-13f81fd06b93",
   "metadata": {},
   "outputs": [
    {
     "name": "stdout",
     "output_type": "stream",
     "text": [
      "[212 120   9]\n"
     ]
    },
    {
     "data": {
      "text/plain": [
       "dtype('uint8')"
      ]
     },
     "execution_count": 28,
     "metadata": {},
     "output_type": "execute_result"
    }
   ],
   "source": [
    "arr_1 = np.array([212,120, 9], dtype=np.uint8)\n",
    "print(arr_1)\n",
    "arr_1.dtype"
   ]
  },
  {
   "cell_type": "markdown",
   "id": "efb28d17-f07e-4b5b-89fe-29f915a9a515",
   "metadata": {},
   "source": [
    "### Numpy Datatypes\n",
    "check information about datatype with np.iinfo('datatype')<br>\n",
    "np.int16<br>\n",
    "np.uint32<br>\n",
    "np.float64<br>\n",
    "np.bool\n",
    "\n",
    "<U1 (one char strings)<br>\n",
    "<U10(max 10 char strings)"
   ]
  },
  {
   "cell_type": "code",
   "execution_count": 29,
   "id": "9334389a-c7a5-4027-bea9-75e721f0a0c6",
   "metadata": {},
   "outputs": [
    {
     "data": {
      "text/plain": [
       "iinfo(min=0, max=4294967295, dtype=uint32)"
      ]
     },
     "execution_count": 29,
     "metadata": {},
     "output_type": "execute_result"
    }
   ],
   "source": [
    "np.iinfo(np.uint32)"
   ]
  },
  {
   "cell_type": "code",
   "execution_count": 34,
   "id": "41077e03-bfd6-4132-a20e-e0423be1050d",
   "metadata": {},
   "outputs": [
    {
     "data": {
      "text/plain": [
       "iinfo(min=-128, max=127, dtype=int8)"
      ]
     },
     "execution_count": 34,
     "metadata": {},
     "output_type": "execute_result"
    }
   ],
   "source": [
    "np.iinfo(np.int8)"
   ]
  },
  {
   "cell_type": "code",
   "execution_count": 39,
   "id": "45de4ecf-116c-48bf-8267-1ab3bef51213",
   "metadata": {},
   "outputs": [
    {
     "data": {
      "text/plain": [
       "array(['hey', 'wow', 'cool'], dtype='<U4')"
      ]
     },
     "execution_count": 39,
     "metadata": {},
     "output_type": "execute_result"
    }
   ],
   "source": [
    "arr = np.array([\"hey\", \"wow\", \"cool\"]) # longest string here has len of 4\n",
    "arr"
   ]
  },
  {
   "cell_type": "code",
   "execution_count": 40,
   "id": "83ee5c50-390e-4206-8aa9-d0e705243db3",
   "metadata": {},
   "outputs": [
    {
     "data": {
      "text/plain": [
       "array(['this', 'wow', 'cool'], dtype='<U4')"
      ]
     },
     "execution_count": 40,
     "metadata": {},
     "output_type": "execute_result"
    }
   ],
   "source": [
    "arr[0] = \"this is a crazy long string, how will it fit into U4?\"\n",
    "arr"
   ]
  },
  {
   "cell_type": "markdown",
   "id": "e99bf5db-36c4-467f-9623-adbd7eaad5b3",
   "metadata": {},
   "source": [
    "The problem with strings is that when the array is created, the size of string cannot be modified. So if smaller strings will still fit normally, the larger strings are cutted.\n",
    "\n",
    "Object datatype fixes this issue, but they have the performance disadvantage since they store references to Python objects"
   ]
  },
  {
   "cell_type": "code",
   "execution_count": 42,
   "id": "693dd296-6ad0-4b55-80d5-0f0694967b4f",
   "metadata": {},
   "outputs": [
    {
     "data": {
      "text/plain": [
       "array(['hey', 'wow', 'cool'], dtype=object)"
      ]
     },
     "execution_count": 42,
     "metadata": {},
     "output_type": "execute_result"
    }
   ],
   "source": [
    "arr_s = np.array([\"hey\", \"wow\", \"cool\"], dtype=object)\n",
    "arr_s"
   ]
  },
  {
   "cell_type": "code",
   "execution_count": 43,
   "id": "f2abb360-20ce-49e6-aca9-ee84cf6e0645",
   "metadata": {},
   "outputs": [
    {
     "data": {
      "text/plain": [
       "array(['this is a crazy long string, how will it fit into U4?', 'wow',\n",
       "       'cool'], dtype=object)"
      ]
     },
     "execution_count": 43,
     "metadata": {},
     "output_type": "execute_result"
    }
   ],
   "source": [
    "arr_s[0] = \"this is a crazy long string, how will it fit into U4?\"\n",
    "arr_s"
   ]
  },
  {
   "cell_type": "markdown",
   "id": "6760a659-22fb-4b06-b122-8f0cdc014c1a",
   "metadata": {},
   "source": [
    "#### Casting\n",
    "arr.astype"
   ]
  },
  {
   "cell_type": "code",
   "execution_count": 45,
   "id": "2d4eaefa-6869-4f13-ac92-3d2d4962b450",
   "metadata": {},
   "outputs": [
    {
     "data": {
      "text/plain": [
       "array([ 1,  3, 19], dtype=uint8)"
      ]
     },
     "execution_count": 45,
     "metadata": {},
     "output_type": "execute_result"
    }
   ],
   "source": [
    "arr_1 = np.array([1.1, 3.5, 19.431])\n",
    "arr_2 = arr_1.astype(np.uint8)\n",
    "arr_2"
   ]
  },
  {
   "cell_type": "markdown",
   "id": "2abeeb40-e98b-489d-a718-8f12be8a1b45",
   "metadata": {},
   "source": [
    "#### Quick array creation and filling"
   ]
  },
  {
   "cell_type": "code",
   "execution_count": 50,
   "id": "51f26eb9-a533-471c-bc6e-e9ea923e333d",
   "metadata": {},
   "outputs": [
    {
     "name": "stdout",
     "output_type": "stream",
     "text": [
      "[[0. 0.]]\n",
      "###########\n",
      "[[1. 1. 1. 1.]\n",
      " [1. 1. 1. 1.]]\n"
     ]
    }
   ],
   "source": [
    "# zeros, ones \n",
    "print(np.zeros((1,2)))\n",
    "print(\"###########\")\n",
    "print(np.ones((2,4)))"
   ]
  },
  {
   "cell_type": "code",
   "execution_count": 52,
   "id": "7876cd0d-ab28-4612-8520-d98de29ecb4e",
   "metadata": {},
   "outputs": [
    {
     "name": "stdout",
     "output_type": "stream",
     "text": [
      "[[1. 0. 0. 0. 0.]\n",
      " [0. 1. 0. 0. 0.]\n",
      " [0. 0. 1. 0. 0.]\n",
      " [0. 0. 0. 1. 0.]\n",
      " [0. 0. 0. 0. 1.]]\n"
     ]
    }
   ],
   "source": [
    "# eye (with ones on the diagonal and zeros elsewhere)\n",
    "print(np.eye(5))"
   ]
  },
  {
   "cell_type": "code",
   "execution_count": 57,
   "id": "9da4fd2b-ce75-4dc2-aeb4-af809bacf649",
   "metadata": {},
   "outputs": [
    {
     "name": "stdout",
     "output_type": "stream",
     "text": [
      "[[99 99 99 99 99]\n",
      " [99 99 99 99 99]\n",
      " [99 99 99 99 99]]\n",
      "###########\n",
      "[[0.18600786 0.44635285 0.3764146 ]\n",
      " [0.83599682 0.76464603 0.96098868]\n",
      " [0.52515966 0.91383767 0.44395723]]\n"
     ]
    }
   ],
   "source": [
    "# custom filling and random filling\n",
    "print(np.full((3,5),99))\n",
    "print(\"###########\")\n",
    "print(np.random.random((3,3)))"
   ]
  },
  {
   "cell_type": "markdown",
   "id": "19734dfc-90f5-4348-becf-b3fa020a6400",
   "metadata": {},
   "source": [
    "#### Reshaping\n",
    "changing the dimensions and shape of arrays"
   ]
  },
  {
   "cell_type": "code",
   "execution_count": 59,
   "id": "f0b33a7e-995d-4e75-8391-2e81f0bdeae8",
   "metadata": {},
   "outputs": [
    {
     "data": {
      "text/plain": [
       "array([0, 1, 2, 3, 4, 5, 6, 7])"
      ]
     },
     "execution_count": 59,
     "metadata": {},
     "output_type": "execute_result"
    }
   ],
   "source": [
    "arr = np.arange(8)\n",
    "arr"
   ]
  },
  {
   "cell_type": "code",
   "execution_count": 60,
   "id": "8c314387-1a7e-414b-920a-1a392a65355c",
   "metadata": {},
   "outputs": [
    {
     "data": {
      "text/plain": [
       "array([[0, 1, 2, 3],\n",
       "       [4, 5, 6, 7]])"
      ]
     },
     "execution_count": 60,
     "metadata": {},
     "output_type": "execute_result"
    }
   ],
   "source": [
    "arr.reshape(2,4)"
   ]
  },
  {
   "cell_type": "code",
   "execution_count": 62,
   "id": "e7f32e44-acbf-44b6-9cdd-abd280d0956a",
   "metadata": {},
   "outputs": [
    {
     "data": {
      "text/plain": [
       "array([[0, 1],\n",
       "       [2, 3],\n",
       "       [4, 5],\n",
       "       [6, 7]])"
      ]
     },
     "execution_count": 62,
     "metadata": {},
     "output_type": "execute_result"
    }
   ],
   "source": [
    "arr.reshape(4,2)"
   ]
  },
  {
   "cell_type": "code",
   "execution_count": 65,
   "id": "abf81a6c-1912-4d16-99fa-6e0811780a16",
   "metadata": {},
   "outputs": [],
   "source": [
    "arr3 = arr.reshape(2,2,2)"
   ]
  },
  {
   "cell_type": "code",
   "execution_count": 66,
   "id": "ead13461-8e5d-4846-b69f-3d858742f4ee",
   "metadata": {},
   "outputs": [
    {
     "data": {
      "text/plain": [
       "2"
      ]
     },
     "execution_count": 66,
     "metadata": {},
     "output_type": "execute_result"
    }
   ],
   "source": [
    "arr3[0,1,0]"
   ]
  },
  {
   "cell_type": "code",
   "execution_count": 69,
   "id": "757dc261-6d18-4c0e-9d89-eeadcf5cb0fd",
   "metadata": {},
   "outputs": [
    {
     "data": {
      "text/plain": [
       "array([[66, 11, 61],\n",
       "       [49, 12, 36]])"
      ]
     },
     "execution_count": 69,
     "metadata": {},
     "output_type": "execute_result"
    }
   ],
   "source": [
    "# transposing\n",
    "arr = np.random.randint(1,100, size=(2,3))\n",
    "arr"
   ]
  },
  {
   "cell_type": "code",
   "execution_count": 72,
   "id": "33207036-9aa9-4292-bb48-05db348bc038",
   "metadata": {},
   "outputs": [
    {
     "name": "stdout",
     "output_type": "stream",
     "text": [
      "[[66 49]\n",
      " [11 12]\n",
      " [61 36]]\n",
      "###########\n",
      "[[66 49]\n",
      " [11 12]\n",
      " [61 36]]\n"
     ]
    }
   ],
   "source": [
    "print(np.transpose(arr))\n",
    "print(\"###########\")\n",
    "print(arr.T) # same as above"
   ]
  },
  {
   "cell_type": "markdown",
   "id": "debf1706-e070-48ce-8527-b4a66a04bc86",
   "metadata": {},
   "source": [
    "#### Element access"
   ]
  },
  {
   "cell_type": "code",
   "execution_count": 74,
   "id": "0fad7737-26d6-49ba-b4de-1f48b81ee3b0",
   "metadata": {},
   "outputs": [
    {
     "data": {
      "text/plain": [
       "array([[0, 1, 2, 3, 4],\n",
       "       [5, 6, 7, 8, 9]])"
      ]
     },
     "execution_count": 74,
     "metadata": {},
     "output_type": "execute_result"
    }
   ],
   "source": [
    "arr2 = np.arange(10).reshape((2,5))\n",
    "arr2"
   ]
  },
  {
   "cell_type": "code",
   "execution_count": 76,
   "id": "27c3516e-3825-4010-b2f4-617ab0478393",
   "metadata": {},
   "outputs": [
    {
     "data": {
      "text/plain": [
       "9"
      ]
     },
     "execution_count": 76,
     "metadata": {},
     "output_type": "execute_result"
    }
   ],
   "source": [
    "arr2[1,4]"
   ]
  },
  {
   "cell_type": "code",
   "execution_count": 78,
   "id": "fec78701-821e-4a09-99a8-8ea3b0ce10fe",
   "metadata": {},
   "outputs": [
    {
     "data": {
      "text/plain": [
       "array([66, 11, 61])"
      ]
     },
     "execution_count": 78,
     "metadata": {},
     "output_type": "execute_result"
    }
   ],
   "source": [
    "arr[0,:5]"
   ]
  },
  {
   "cell_type": "code",
   "execution_count": 83,
   "id": "c236ee38-a4a9-4ac0-9fa7-a1e9b80876f4",
   "metadata": {},
   "outputs": [
    {
     "data": {
      "text/plain": [
       "array([[ True, False, False],\n",
       "       [False,  True,  True]])"
      ]
     },
     "execution_count": 83,
     "metadata": {},
     "output_type": "execute_result"
    }
   ],
   "source": [
    "booleans = (arr %2 == 0) # even values\n",
    "booleans"
   ]
  },
  {
   "cell_type": "code",
   "execution_count": 84,
   "id": "ce23939d-9e0f-4f77-8b94-d50994493252",
   "metadata": {},
   "outputs": [
    {
     "data": {
      "text/plain": [
       "array([66, 12, 36])"
      ]
     },
     "execution_count": 84,
     "metadata": {},
     "output_type": "execute_result"
    }
   ],
   "source": [
    "arr[booleans]"
   ]
  },
  {
   "cell_type": "markdown",
   "id": "f0a5a014-8cb7-4ff1-8c3e-f7e561672b3a",
   "metadata": {},
   "source": [
    "#### Fancy Indexing"
   ]
  },
  {
   "cell_type": "code",
   "execution_count": 89,
   "id": "caa7da95-ff1b-4e8f-98d0-594e2ab9d438",
   "metadata": {},
   "outputs": [
    {
     "data": {
      "text/plain": [
       "array([[102,  22,  18,  16],\n",
       "       [ 85,  43,  30,  32],\n",
       "       [ 45,  92, 100,  83]])"
      ]
     },
     "execution_count": 89,
     "metadata": {},
     "output_type": "execute_result"
    }
   ],
   "source": [
    "arr = np.random.randint(1,120, size=(3,4))\n",
    "arr"
   ]
  },
  {
   "cell_type": "code",
   "execution_count": 91,
   "id": "0da76a3f-fa18-465e-a9c7-9d635dbb9145",
   "metadata": {},
   "outputs": [
    {
     "data": {
      "text/plain": [
       "array([102,  92,  30])"
      ]
     },
     "execution_count": 91,
     "metadata": {},
     "output_type": "execute_result"
    }
   ],
   "source": [
    "arr[[0,2,1],[0,1,2]]"
   ]
  },
  {
   "cell_type": "code",
   "execution_count": 92,
   "id": "210ae985-7e7b-42f8-b8ca-001dadffc570",
   "metadata": {},
   "outputs": [
    {
     "data": {
      "text/plain": [
       "array([ 45, 100,  83])"
      ]
     },
     "execution_count": 92,
     "metadata": {},
     "output_type": "execute_result"
    }
   ],
   "source": [
    "arr[2,[0,2,3]]"
   ]
  },
  {
   "cell_type": "code",
   "execution_count": 93,
   "id": "193d0799-6b47-4237-9cc3-3f68ce4e87ca",
   "metadata": {},
   "outputs": [
    {
     "data": {
      "text/plain": [
       "array([[85, 32],\n",
       "       [45, 83]])"
      ]
     },
     "execution_count": 93,
     "metadata": {},
     "output_type": "execute_result"
    }
   ],
   "source": [
    "arr[1:, [0,3]]"
   ]
  },
  {
   "cell_type": "markdown",
   "id": "257ebd80-595d-427d-8525-c799505859fe",
   "metadata": {},
   "source": [
    "#### Basic math"
   ]
  },
  {
   "cell_type": "code",
   "execution_count": 96,
   "id": "d74c8e9f-922c-498e-862c-5655124757e9",
   "metadata": {},
   "outputs": [
    {
     "name": "stdout",
     "output_type": "stream",
     "text": [
      "[5 7 9]\n"
     ]
    },
    {
     "data": {
      "text/plain": [
       "array([5, 7, 9])"
      ]
     },
     "execution_count": 96,
     "metadata": {},
     "output_type": "execute_result"
    }
   ],
   "source": [
    "arr_1 = np.array([1,2,3])\n",
    "arr_2 = np.array([4,5,6])\n",
    "print(np.add(arr_1,arr_2))\n",
    "arr_1+arr_2"
   ]
  },
  {
   "cell_type": "code",
   "execution_count": 97,
   "id": "5f69e6b4-5e84-42d5-927e-a32a2e15e6ee",
   "metadata": {},
   "outputs": [
    {
     "data": {
      "text/plain": [
       "array([-3, -3, -3])"
      ]
     },
     "execution_count": 97,
     "metadata": {},
     "output_type": "execute_result"
    }
   ],
   "source": [
    "arr_1 - arr_2"
   ]
  },
  {
   "cell_type": "code",
   "execution_count": 98,
   "id": "32e6a8c9-a628-40db-a556-9f7c5d12068a",
   "metadata": {},
   "outputs": [
    {
     "data": {
      "text/plain": [
       "array([ 4, 10, 18])"
      ]
     },
     "execution_count": 98,
     "metadata": {},
     "output_type": "execute_result"
    }
   ],
   "source": [
    "arr_1 * arr_2"
   ]
  },
  {
   "cell_type": "code",
   "execution_count": 101,
   "id": "4e06899b-1df0-4915-9335-4290f9d8fa41",
   "metadata": {},
   "outputs": [
    {
     "name": "stdout",
     "output_type": "stream",
     "text": [
      "32\n",
      "32\n"
     ]
    }
   ],
   "source": [
    "print(np.dot(arr_1, arr_2))\n",
    "print(arr_1.dot(arr_2))"
   ]
  },
  {
   "cell_type": "code",
   "execution_count": 102,
   "id": "0a460aea-a348-44ba-bb90-25a8ba65e0be",
   "metadata": {},
   "outputs": [
    {
     "data": {
      "text/plain": [
       "6"
      ]
     },
     "execution_count": 102,
     "metadata": {},
     "output_type": "execute_result"
    }
   ],
   "source": [
    "np.sum(arr_1)"
   ]
  },
  {
   "cell_type": "code",
   "execution_count": 103,
   "id": "d659d315-e710-4c6e-95b8-86eac859039e",
   "metadata": {},
   "outputs": [
    {
     "data": {
      "text/plain": [
       "120"
      ]
     },
     "execution_count": 103,
     "metadata": {},
     "output_type": "execute_result"
    }
   ],
   "source": [
    "arr_2.prod()"
   ]
  },
  {
   "cell_type": "code",
   "execution_count": 105,
   "id": "059f70d2-331a-4162-add3-6c0e815c4790",
   "metadata": {},
   "outputs": [
    {
     "data": {
      "text/plain": [
       "array([[ 0,  1,  2,  3,  4,  5,  6,  7],\n",
       "       [ 8,  9, 10, 11, 12, 13, 14, 15]])"
      ]
     },
     "execution_count": 105,
     "metadata": {},
     "output_type": "execute_result"
    }
   ],
   "source": [
    "arr2d = np.arange(16).reshape((2,8))\n",
    "arr2d"
   ]
  },
  {
   "cell_type": "code",
   "execution_count": 106,
   "id": "76456171-be84-4f95-b383-334ab5b0915e",
   "metadata": {},
   "outputs": [
    {
     "data": {
      "text/plain": [
       "array([ 8, 10, 12, 14, 16, 18, 20, 22])"
      ]
     },
     "execution_count": 106,
     "metadata": {},
     "output_type": "execute_result"
    }
   ],
   "source": [
    "arr2d.sum(axis=0) # column for colum"
   ]
  },
  {
   "cell_type": "code",
   "execution_count": 108,
   "id": "0bfd19ae-2bb1-4c38-8c69-db9b8c91009c",
   "metadata": {},
   "outputs": [
    {
     "data": {
      "text/plain": [
       "array([28, 92])"
      ]
     },
     "execution_count": 108,
     "metadata": {},
     "output_type": "execute_result"
    }
   ],
   "source": [
    "arr2d.sum(axis=1) # row for row"
   ]
  },
  {
   "cell_type": "code",
   "execution_count": 109,
   "id": "a6f7f46b-fe4d-44ca-a782-99ef011bc434",
   "metadata": {},
   "outputs": [
    {
     "data": {
      "text/plain": [
       "7.5"
      ]
     },
     "execution_count": 109,
     "metadata": {},
     "output_type": "execute_result"
    }
   ],
   "source": [
    "np.mean(arr2d)"
   ]
  },
  {
   "cell_type": "code",
   "execution_count": 112,
   "id": "74d4d49b-8d72-4b4c-b171-96ce2209efc3",
   "metadata": {},
   "outputs": [
    {
     "data": {
      "text/plain": [
       "array([ 3.5, 11.5])"
      ]
     },
     "execution_count": 112,
     "metadata": {},
     "output_type": "execute_result"
    }
   ],
   "source": [
    "np.mean(arr2d, axis=1)"
   ]
  },
  {
   "cell_type": "markdown",
   "id": "7b7101e5-6eb2-415d-bd68-d32ce958890d",
   "metadata": {},
   "source": [
    "find highest and lowest values"
   ]
  },
  {
   "cell_type": "code",
   "execution_count": 113,
   "id": "9ea7a097-390e-4afd-a8a2-2c0604e76cb2",
   "metadata": {},
   "outputs": [
    {
     "data": {
      "text/plain": [
       "0"
      ]
     },
     "execution_count": 113,
     "metadata": {},
     "output_type": "execute_result"
    }
   ],
   "source": [
    "np.min(arr2d)"
   ]
  },
  {
   "cell_type": "code",
   "execution_count": 114,
   "id": "1f065deb-2fe5-43d0-8589-1533c2c5fa80",
   "metadata": {},
   "outputs": [
    {
     "data": {
      "text/plain": [
       "15"
      ]
     },
     "execution_count": 114,
     "metadata": {},
     "output_type": "execute_result"
    }
   ],
   "source": [
    "np.max(arr2d)"
   ]
  },
  {
   "cell_type": "markdown",
   "id": "b08ad2cd-7ac5-413b-a227-167c01136965",
   "metadata": {},
   "source": [
    "find inices of highest and lowest values"
   ]
  },
  {
   "cell_type": "code",
   "execution_count": 115,
   "id": "384be7b8-3640-424e-80f6-c1352e11800d",
   "metadata": {},
   "outputs": [
    {
     "data": {
      "text/plain": [
       "array([7, 7])"
      ]
     },
     "execution_count": 115,
     "metadata": {},
     "output_type": "execute_result"
    }
   ],
   "source": [
    "np.argmax(arr2d, axis=1)"
   ]
  },
  {
   "cell_type": "code",
   "execution_count": 116,
   "id": "08aec422-cb3c-4c51-b878-6cf32f5e8417",
   "metadata": {},
   "outputs": [
    {
     "data": {
      "text/plain": [
       "0"
      ]
     },
     "execution_count": 116,
     "metadata": {},
     "output_type": "execute_result"
    }
   ],
   "source": [
    "np.argmin(arr2d)"
   ]
  },
  {
   "cell_type": "markdown",
   "id": "8c7b6a4b-8223-46a9-a215-24ee94531e7a",
   "metadata": {},
   "source": [
    "#### More complex math\n",
    "numpy provides a wealth of mathematical functions: trigonometric functions, hypebolic functions, rounding functions, exponenents and logairithms etc."
   ]
  },
  {
   "cell_type": "code",
   "execution_count": 118,
   "id": "ff00c651-1e21-4057-870f-3264515645a4",
   "metadata": {},
   "outputs": [
    {
     "data": {
      "text/plain": [
       "array([ 0,  1,  2,  3,  5, 10, 12])"
      ]
     },
     "execution_count": 118,
     "metadata": {},
     "output_type": "execute_result"
    }
   ],
   "source": [
    "# e.g. sorting\n",
    "np.sort(np.array([2,3,12,10,1,0,5]))"
   ]
  },
  {
   "cell_type": "code",
   "execution_count": 126,
   "id": "0a31c4fa-b3b4-4ee3-a7a4-3897b61db909",
   "metadata": {},
   "outputs": [
    {
     "data": {
      "text/plain": [
       "array([[1, 4, 3],\n",
       "       [2, 5, 6]])"
      ]
     },
     "execution_count": 126,
     "metadata": {},
     "output_type": "execute_result"
    }
   ],
   "source": [
    "np.sort(np.array([\n",
    "   [2,5,6],\n",
    "    [1,4,3]\n",
    "]), axis=0)"
   ]
  },
  {
   "cell_type": "markdown",
   "id": "958f04f9-ce1e-4201-955e-7801979bb5a4",
   "metadata": {},
   "source": [
    "#### Conditional element search"
   ]
  },
  {
   "cell_type": "code",
   "execution_count": 130,
   "id": "3131970c-99f0-40c3-aee5-8494bed92db0",
   "metadata": {},
   "outputs": [],
   "source": [
    "arr = np.array([\n",
    "[25,35,7],\n",
    "    [86,21,5],\n",
    "    [28,81,61]], dtype=np.int8)"
   ]
  },
  {
   "cell_type": "code",
   "execution_count": 131,
   "id": "a0256697-6056-49fe-bf46-510589d153ba",
   "metadata": {},
   "outputs": [
    {
     "name": "stdout",
     "output_type": "stream",
     "text": [
      "(array([1, 2, 2]), array([0, 1, 2]))\n"
     ]
    }
   ],
   "source": [
    "indices = np.where(arr > 50)\n",
    "print(indices)"
   ]
  },
  {
   "cell_type": "code",
   "execution_count": 132,
   "id": "c2821319-fcef-458b-aa8a-b438e8f36949",
   "metadata": {},
   "outputs": [
    {
     "data": {
      "text/plain": [
       "array([86, 81, 61], dtype=int8)"
      ]
     },
     "execution_count": 132,
     "metadata": {},
     "output_type": "execute_result"
    }
   ],
   "source": [
    "arr[indices]"
   ]
  },
  {
   "cell_type": "markdown",
   "id": "130b1452-78f7-4240-8484-812ee4e27272",
   "metadata": {},
   "source": [
    "### Broadcasting\n",
    "pairwise operations on arrays of different shapes\n",
    "\n",
    "Rules:<br>\n",
    "- if arrays do not have the same number of dimensions, prepend 1 to the shape of the smaller one until the do\n",
    "- arrays are compatible in a dimension if they have the same size in a given dimension OR if a smaller array has size 1\n",
    "- a smaller array acts as if it was copied along those dimensions where its size is 1"
   ]
  },
  {
   "cell_type": "code",
   "execution_count": 133,
   "id": "ee5377a9-d081-437c-9645-24db57a9f226",
   "metadata": {},
   "outputs": [
    {
     "data": {
      "text/plain": [
       "array([[  10, 2000],\n",
       "       [  30, 4000],\n",
       "       [  50, 6000]])"
      ]
     },
     "execution_count": 133,
     "metadata": {},
     "output_type": "execute_result"
    }
   ],
   "source": [
    "long = np.array([[1,2],[3,4],[5,6]])\n",
    "short = np.array([10,1000])\n",
    "long*short"
   ]
  },
  {
   "cell_type": "markdown",
   "id": "0cb68d3a-2be7-4b77-b1f8-d714d82b16e9",
   "metadata": {},
   "source": [
    "#### Copies and Views\n",
    "View - a new array object that refers to the same data (when we slice an array we create a view and not a copy)<br>\n",
    "Copy - copy returns a new array containing copy of the data"
   ]
  },
  {
   "cell_type": "code",
   "execution_count": 135,
   "id": "8a724547-498e-4524-9d8c-b01c0728d2f5",
   "metadata": {},
   "outputs": [
    {
     "data": {
      "text/plain": [
       "array([[25, 35,  7],\n",
       "       [86, 21,  5],\n",
       "       [28, 81, 61]], dtype=int8)"
      ]
     },
     "execution_count": 135,
     "metadata": {},
     "output_type": "execute_result"
    }
   ],
   "source": [
    "# view\n",
    "arr_view = arr.view()\n",
    "arr_view"
   ]
  },
  {
   "cell_type": "code",
   "execution_count": 143,
   "id": "af7faec8-204b-4592-a17e-bd6124cb9e42",
   "metadata": {},
   "outputs": [
    {
     "data": {
      "text/plain": [
       "array([[99, 35,  7],\n",
       "       [86, 21,  5],\n",
       "       [28, 81, 61]], dtype=int8)"
      ]
     },
     "execution_count": 143,
     "metadata": {},
     "output_type": "execute_result"
    }
   ],
   "source": [
    "# if orignal changes , the view changes too since it refers to the same data\n",
    "arr[0,0] = 99\n",
    "arr_view"
   ]
  },
  {
   "cell_type": "code",
   "execution_count": 144,
   "id": "7280a604-ad77-49ef-b6a7-00e31fcbe2fb",
   "metadata": {},
   "outputs": [
    {
     "data": {
      "text/plain": [
       "array([[99, 35,  7],\n",
       "       [86, 21,  5],\n",
       "       [28, 81, 61]], dtype=int8)"
      ]
     },
     "execution_count": 144,
     "metadata": {},
     "output_type": "execute_result"
    }
   ],
   "source": [
    "# copy\n",
    "arr_cp = arr.copy()\n",
    "arr_cp"
   ]
  },
  {
   "cell_type": "code",
   "execution_count": 145,
   "id": "f5df02b1-48f3-4681-9da2-ebdafc1c49e0",
   "metadata": {},
   "outputs": [
    {
     "data": {
      "text/plain": [
       "array([[99, 35,  7],\n",
       "       [86, 21,  5],\n",
       "       [28, 81, 61]], dtype=int8)"
      ]
     },
     "execution_count": 145,
     "metadata": {},
     "output_type": "execute_result"
    }
   ],
   "source": [
    "# if orignal changes , the copy stay same too since it refers to its own data (which orginally was copied)\n",
    "\n",
    "arr[0,0] = 22\n",
    "arr_cp"
   ]
  },
  {
   "cell_type": "markdown",
   "id": "6016c063-3c16-4b29-8664-5a1fd35cfa58",
   "metadata": {},
   "source": [
    "## 5. Numpy 2"
   ]
  },
  {
   "cell_type": "markdown",
   "id": "ca9c793e-b58b-4960-afa0-209291ed1aa6",
   "metadata": {},
   "source": [
    "#### Constants"
   ]
  },
  {
   "cell_type": "code",
   "execution_count": 3,
   "id": "a94c6109-8c50-414f-942e-1f89a1611329",
   "metadata": {},
   "outputs": [
    {
     "data": {
      "text/plain": [
       "inf"
      ]
     },
     "execution_count": 3,
     "metadata": {},
     "output_type": "execute_result"
    }
   ],
   "source": [
    "np.inf"
   ]
  },
  {
   "cell_type": "code",
   "execution_count": 4,
   "id": "46bcda85-9229-45b6-bf73-a10f68843dc3",
   "metadata": {},
   "outputs": [
    {
     "data": {
      "text/plain": [
       "-inf"
      ]
     },
     "execution_count": 4,
     "metadata": {},
     "output_type": "execute_result"
    }
   ],
   "source": [
    "np.NINF"
   ]
  },
  {
   "cell_type": "code",
   "execution_count": 5,
   "id": "c79ccf61-a320-4680-aef0-e5699f0db339",
   "metadata": {},
   "outputs": [
    {
     "data": {
      "text/plain": [
       "array([ True,  True, False, False])"
      ]
     },
     "execution_count": 5,
     "metadata": {},
     "output_type": "execute_result"
    }
   ],
   "source": [
    "np.isinf([np.inf, np.NINF, np.nan, 0])"
   ]
  },
  {
   "cell_type": "markdown",
   "id": "2de0d03a-b865-49c2-8aac-f1589aea3fa4",
   "metadata": {},
   "source": [
    "there are also: <br>\n",
    "- isposinf\n",
    "- isneginf\n",
    "- isnan\n",
    "- isfinite"
   ]
  },
  {
   "cell_type": "code",
   "execution_count": 6,
   "id": "337750b7-e50d-4678-9870-6db88e012927",
   "metadata": {},
   "outputs": [
    {
     "name": "stdout",
     "output_type": "stream",
     "text": [
      "2.718281828459045\n",
      "3.141592653589793\n"
     ]
    }
   ],
   "source": [
    "print(np.e)\n",
    "print(np.pi)"
   ]
  },
  {
   "cell_type": "markdown",
   "id": "d338d18e-b4d8-434a-8529-e888bfdcdf16",
   "metadata": {},
   "source": [
    "#### Date and Time"
   ]
  },
  {
   "cell_type": "code",
   "execution_count": 8,
   "id": "e2b22add-28e2-4e31-962a-160c564e9fe0",
   "metadata": {},
   "outputs": [
    {
     "data": {
      "text/plain": [
       "numpy.datetime64('2022-01-01')"
      ]
     },
     "execution_count": 8,
     "metadata": {},
     "output_type": "execute_result"
    }
   ],
   "source": [
    "np.datetime64('2022-01-01')"
   ]
  },
  {
   "cell_type": "code",
   "execution_count": 9,
   "id": "cb5f33c2-5973-4c3a-bfee-1257bf81cb5b",
   "metadata": {},
   "outputs": [
    {
     "data": {
      "text/plain": [
       "numpy.datetime64('1970-01-02')"
      ]
     },
     "execution_count": 9,
     "metadata": {},
     "output_type": "execute_result"
    }
   ],
   "source": [
    "np.datetime64(1,'D')"
   ]
  },
  {
   "cell_type": "markdown",
   "id": "ca7f89a6-ac17-4ac2-bb9f-e08844b2f0fd",
   "metadata": {},
   "source": [
    "unites of time:\n",
    "- Y\n",
    "- M\n",
    "- W: weeks\n",
    "- D\n",
    "- h\n",
    "- m\n",
    "- s\n",
    "- ms"
   ]
  },
  {
   "cell_type": "code",
   "execution_count": 11,
   "id": "ba4c41e6-366e-4f10-8c60-e62ecf5aabe1",
   "metadata": {},
   "outputs": [
    {
     "data": {
      "text/plain": [
       "array(['2021-01-02T00:00', '2022-01-02T00:00'], dtype='datetime64[m]')"
      ]
     },
     "execution_count": 11,
     "metadata": {},
     "output_type": "execute_result"
    }
   ],
   "source": [
    "np.array(\n",
    "['2021-01-02', '2022-01-02'],\n",
    "dtype='datetime64[m]')"
   ]
  },
  {
   "cell_type": "markdown",
   "id": "308fbb54-d13d-4dd4-bfde-cdeadcf4ba32",
   "metadata": {},
   "source": [
    "Not a time 'NAT' = none for time dt"
   ]
  },
  {
   "cell_type": "markdown",
   "id": "3af19703-4baa-409e-932b-b1d215679038",
   "metadata": {},
   "source": [
    "use timedelta to store results of subtraction of two Datetime values"
   ]
  },
  {
   "cell_type": "code",
   "execution_count": 16,
   "id": "cce82dfd-548c-4c55-8460-82cc37ad7f42",
   "metadata": {},
   "outputs": [
    {
     "data": {
      "text/plain": [
       "numpy.timedelta64(425,'D')"
      ]
     },
     "execution_count": 16,
     "metadata": {},
     "output_type": "execute_result"
    }
   ],
   "source": [
    "np.datetime64('2022-03-02') - np.datetime64('2021-01-01')"
   ]
  },
  {
   "cell_type": "markdown",
   "id": "92a61e35-e646-4e99-80e4-bb4857e5b9b8",
   "metadata": {},
   "source": [
    "### Type Aliases"
   ]
  },
  {
   "cell_type": "code",
   "execution_count": 17,
   "id": "53a76bdc-465e-4733-badc-03cbd9df7c78",
   "metadata": {},
   "outputs": [
    {
     "data": {
      "text/plain": [
       "array([ 0,  1, 45,  9], dtype=int8)"
      ]
     },
     "execution_count": 17,
     "metadata": {},
     "output_type": "execute_result"
    }
   ],
   "source": [
    "arr = np.array([0,1.23,45,9], dtype='i1')\n",
    "arr"
   ]
  },
  {
   "cell_type": "markdown",
   "id": "74e1a211-5809-451e-98b4-124b0da08260",
   "metadata": {},
   "source": [
    "__int__<br>\n",
    "i1 - int8 <br>\n",
    "i2 - int16<br>\n",
    "i4 - int32<br>\n",
    "i8 - int 64<br>\n",
    "u1 - uint8<br>\n",
    "....<br>\n",
    "u8 - uint64\n",
    "\n",
    "__float__<br>\n",
    "f2 - float16<br>\n",
    "f4 - float32<br>\n",
    "f8 - float64\n",
    "\n",
    "__others__:<br>\n",
    "? - bool<br>\n",
    "M - datetime64[D]<br>\n",
    "\n",
    "__str__:<br>\n",
    "U3 - string of length 3<br>\n",
    "U29 - string of length 29"
   ]
  },
  {
   "cell_type": "markdown",
   "id": "0904a12b-151a-4ef3-aaa0-89f0aa220348",
   "metadata": {},
   "source": [
    "#### Create new own datatypes --> Structured Arrays"
   ]
  },
  {
   "cell_type": "code",
   "execution_count": 21,
   "id": "9d9428d6-1532-49ad-894d-6b9da8c841d3",
   "metadata": {},
   "outputs": [
    {
     "data": {
      "text/plain": [
       "array([('Max', 'Cooler', 29), ('Flora', 'Mayer', 41)],\n",
       "      dtype=[('first_name', '<U20'), ('second_name', '<U20'), ('age', 'u1')])"
      ]
     },
     "execution_count": 21,
     "metadata": {},
     "output_type": "execute_result"
    }
   ],
   "source": [
    "my_new_dt = np.dtype({\n",
    "'names':['first_name', 'second_name', 'age'],\n",
    "'formats': ['U20','U20','u1']\n",
    "})\n",
    "\n",
    "my_friends = np.array(\n",
    "    [('Max', 'Cooler', 29),\n",
    "     ('Flora', 'Mayer', 41)\n",
    "    ], dtype = my_new_dt)\n",
    "my_friends"
   ]
  },
  {
   "cell_type": "code",
   "execution_count": 22,
   "id": "55291355-ed00-411b-8d96-6c9b8a8afed4",
   "metadata": {},
   "outputs": [
    {
     "data": {
      "text/plain": [
       "array(['Cooler', 'Mayer'], dtype='<U20')"
      ]
     },
     "execution_count": 22,
     "metadata": {},
     "output_type": "execute_result"
    }
   ],
   "source": [
    "my_friends['second_name']"
   ]
  },
  {
   "cell_type": "code",
   "execution_count": 24,
   "id": "8ec3fb4c-5663-49c7-8f28-9e3cfa306ad2",
   "metadata": {},
   "outputs": [
    {
     "data": {
      "text/plain": [
       "array([41], dtype=uint8)"
      ]
     },
     "execution_count": 24,
     "metadata": {},
     "output_type": "execute_result"
    }
   ],
   "source": [
    "my_friends[my_friends['first_name'] == 'Flora']['age']"
   ]
  },
  {
   "cell_type": "markdown",
   "id": "9ca8ef5e-5f42-4053-b18e-5f155c0f8c86",
   "metadata": {},
   "source": [
    "### Record arrays"
   ]
  },
  {
   "cell_type": "markdown",
   "id": "6e017deb-4eb1-4ba2-b2bf-6986809eb10e",
   "metadata": {},
   "source": [
    "recarray subclass gives the ability to access named fields through attribute lookup (dot notation). But regular strcutured array are more performant."
   ]
  },
  {
   "cell_type": "code",
   "execution_count": 27,
   "id": "51841ec2-3948-4cca-8683-94f33991a443",
   "metadata": {},
   "outputs": [
    {
     "name": "stdout",
     "output_type": "stream",
     "text": [
      "[array(['Max', 'Flora'], dtype='<U20')]\n"
     ]
    },
    {
     "data": {
      "text/plain": [
       "array(['Max', 'Flora'], dtype='<U20')"
      ]
     },
     "execution_count": 27,
     "metadata": {},
     "output_type": "execute_result"
    }
   ],
   "source": [
    "record_friends = np.rec.fromrecords(\n",
    "    my_friends,\n",
    "    formats = 'U20,U20,u1',\n",
    "    names = 'first_name, last_name, age' \n",
    ")\n",
    "print([record_friends['first_name']])\n",
    "record_friends.first_name # main feature of record arrs"
   ]
  },
  {
   "cell_type": "markdown",
   "id": "5debb9c7-d320-4527-97dc-6a5b8009791d",
   "metadata": {},
   "source": [
    "### Content manipulation"
   ]
  },
  {
   "cell_type": "code",
   "execution_count": 31,
   "id": "dc2a7767-6954-4221-bb7a-ebc2beb7ace3",
   "metadata": {},
   "outputs": [
    {
     "data": {
      "text/plain": [
       "array([[1, 2, 3],\n",
       "       [2, 3, 1]])"
      ]
     },
     "execution_count": 31,
     "metadata": {},
     "output_type": "execute_result"
    }
   ],
   "source": [
    "arr = np.array([\n",
    "[1,2,3],\n",
    "    [2,3,1],\n",
    "    [1,2,3]\n",
    "])\n",
    "np.unique(arr, axis=0)"
   ]
  },
  {
   "cell_type": "markdown",
   "id": "c8bdee35-7f53-4830-83c5-dfa2406d1432",
   "metadata": {},
   "source": [
    "count values satisfying a specific condition wiht np.count_nonzero"
   ]
  },
  {
   "cell_type": "code",
   "execution_count": 32,
   "id": "e16a87c7-9e28-4a83-b2d4-bc2ec38a4e8d",
   "metadata": {},
   "outputs": [
    {
     "data": {
      "text/plain": [
       "5"
      ]
     },
     "execution_count": 32,
     "metadata": {},
     "output_type": "execute_result"
    }
   ],
   "source": [
    "# count values\n",
    "arr = np.array([\n",
    "[1,2,3,4,5],\n",
    "    [6,7,8,9,10],\n",
    "    [11,12,13,14,15]\n",
    "])\n",
    "np.count_nonzero(arr%3==0)"
   ]
  },
  {
   "cell_type": "markdown",
   "id": "b4a7dbc5-445c-49ba-a617-e89f3f89bbb1",
   "metadata": {},
   "source": [
    "#### Shape manipulation"
   ]
  },
  {
   "cell_type": "code",
   "execution_count": 3,
   "id": "94a608d0-aa3f-4566-84c0-8f804138893b",
   "metadata": {},
   "outputs": [
    {
     "data": {
      "text/plain": [
       "array([1, 2, 3, 4, 5])"
      ]
     },
     "execution_count": 3,
     "metadata": {},
     "output_type": "execute_result"
    }
   ],
   "source": [
    "arr = np.array([1,2,3,4,5])\n",
    "arr"
   ]
  },
  {
   "cell_type": "code",
   "execution_count": 4,
   "id": "b0bc2539-70cd-4239-a63e-b139044cde03",
   "metadata": {},
   "outputs": [
    {
     "data": {
      "text/plain": [
       "array([[1],\n",
       "       [2],\n",
       "       [3],\n",
       "       [4],\n",
       "       [5]])"
      ]
     },
     "execution_count": 4,
     "metadata": {},
     "output_type": "execute_result"
    }
   ],
   "source": [
    "arr.reshape(-1,1)"
   ]
  },
  {
   "cell_type": "code",
   "execution_count": 6,
   "id": "7577c5f6-b351-4c60-9f95-400f2fca9d5f",
   "metadata": {},
   "outputs": [
    {
     "data": {
      "text/plain": [
       "array([[1],\n",
       "       [2],\n",
       "       [3],\n",
       "       [4],\n",
       "       [5]])"
      ]
     },
     "execution_count": 6,
     "metadata": {},
     "output_type": "execute_result"
    }
   ],
   "source": [
    "np.expand_dims(arr,-1)"
   ]
  },
  {
   "cell_type": "code",
   "execution_count": 10,
   "id": "84b936dd-9ac4-46eb-9659-9e750ef9a656",
   "metadata": {},
   "outputs": [
    {
     "name": "stdout",
     "output_type": "stream",
     "text": [
      "3\n",
      "[[[1 2]\n",
      "  [3 4]]]\n"
     ]
    }
   ],
   "source": [
    "arr = np.array([[[1,2],[3,4]]])\n",
    "print(arr.ndim)\n",
    "print(arr)"
   ]
  },
  {
   "cell_type": "code",
   "execution_count": 11,
   "id": "523ef4fa-0730-4b63-8598-64094b451cd3",
   "metadata": {},
   "outputs": [
    {
     "name": "stdout",
     "output_type": "stream",
     "text": [
      "2\n",
      "[[1 2]\n",
      " [3 4]]\n"
     ]
    }
   ],
   "source": [
    "arr = arr.squeeze()\n",
    "print(arr.ndim)\n",
    "print(arr)"
   ]
  },
  {
   "cell_type": "code",
   "execution_count": 12,
   "id": "3964621e-7fa2-4768-b3b3-cad358e8c1f9",
   "metadata": {},
   "outputs": [
    {
     "name": "stdout",
     "output_type": "stream",
     "text": [
      "2\n",
      "[[1 2]\n",
      " [3 4]]\n"
     ]
    }
   ],
   "source": [
    "arr = arr.squeeze()\n",
    "print(arr.ndim)\n",
    "print(arr)"
   ]
  },
  {
   "cell_type": "code",
   "execution_count": 14,
   "id": "0e021432-345a-4fd9-b279-bad69019cb8e",
   "metadata": {},
   "outputs": [
    {
     "name": "stdout",
     "output_type": "stream",
     "text": [
      "1\n",
      "[1 2 3 4]\n"
     ]
    }
   ],
   "source": [
    "arr = arr.flatten()\n",
    "print(arr.ndim)\n",
    "print(arr)"
   ]
  },
  {
   "cell_type": "markdown",
   "id": "55164eef-0e1f-489c-a2cb-be23f8d2f1d1",
   "metadata": {},
   "source": [
    "#### Arrays concatenation"
   ]
  },
  {
   "cell_type": "markdown",
   "id": "704e7fb9-06e8-476c-8070-3128387d1d6b",
   "metadata": {},
   "source": [
    "first dimension must be same for arrays concatenation\n",
    "- column_stack\n",
    "- hstack: stacks arrays horizontally (column-wise)  \n",
    "- vstack: stacks arrays vertically (row-wise) "
   ]
  },
  {
   "cell_type": "code",
   "execution_count": 21,
   "id": "2f68437c-08a4-4fc4-a950-46efa6846fb2",
   "metadata": {},
   "outputs": [
    {
     "data": {
      "text/plain": [
       "array([[ 1,  6],\n",
       "       [ 2,  7],\n",
       "       [ 3,  8],\n",
       "       [ 4,  9],\n",
       "       [ 5, 10]])"
      ]
     },
     "execution_count": 21,
     "metadata": {},
     "output_type": "execute_result"
    }
   ],
   "source": [
    "vec1 = np.array([1,2,3,4,5])\n",
    "vec2 = np.array([6,7,8,9,10])\n",
    "\n",
    "matrix = np.column_stack((vec1, vec2))\n",
    "matrix"
   ]
  },
  {
   "cell_type": "code",
   "execution_count": 22,
   "id": "4a93f36e-60c4-47e3-a0ae-ab7f45c1a30b",
   "metadata": {},
   "outputs": [
    {
     "data": {
      "text/plain": [
       "array([ 1,  2,  3,  4,  5,  6,  7,  8,  9, 10])"
      ]
     },
     "execution_count": 22,
     "metadata": {},
     "output_type": "execute_result"
    }
   ],
   "source": [
    "hstakced = np.hstack((vec1, vec2))\n",
    "hstakced"
   ]
  },
  {
   "cell_type": "code",
   "execution_count": 24,
   "id": "c58ad0c1-85a7-4209-a0b4-871656255151",
   "metadata": {},
   "outputs": [
    {
     "data": {
      "text/plain": [
       "array([[ 1,  2,  3,  4,  5],\n",
       "       [ 6,  7,  8,  9, 10]])"
      ]
     },
     "execution_count": 24,
     "metadata": {},
     "output_type": "execute_result"
    }
   ],
   "source": [
    "vstacked = np.vstack((vec1, vec2))\n",
    "vstacked"
   ]
  },
  {
   "cell_type": "markdown",
   "id": "3de56eff-9a51-4866-941e-259f315fee93",
   "metadata": {},
   "source": [
    "#### Stack"
   ]
  },
  {
   "cell_type": "markdown",
   "id": "f3b76fc4-345f-4913-b99b-9198bb65c63d",
   "metadata": {},
   "source": [
    "same as above but here you can see axis paramter that can be 0  or 1}"
   ]
  },
  {
   "cell_type": "code",
   "execution_count": 43,
   "id": "d68ae2de-9193-4f21-8f72-6fa73f23ad6a",
   "metadata": {},
   "outputs": [
    {
     "data": {
      "text/plain": [
       "array([[ 1,  6],\n",
       "       [ 2,  7],\n",
       "       [ 3,  8],\n",
       "       [ 4,  9],\n",
       "       [ 5, 10]])"
      ]
     },
     "execution_count": 43,
     "metadata": {},
     "output_type": "execute_result"
    }
   ],
   "source": [
    "arr1 = np.array([1,2,3,4,5])\n",
    "arr2 = np.array([6,7,8,9,10])\n",
    "a = np.stack(\n",
    "    (\n",
    "       arr1, arr2\n",
    "    ), axis=-1\n",
    ")\n",
    "a"
   ]
  },
  {
   "cell_type": "markdown",
   "id": "a3fc1b25-ef95-4cea-84b9-2e6cf46df0e3",
   "metadata": {},
   "source": [
    "#### Concatenate along the existing axis\n"
   ]
  },
  {
   "cell_type": "code",
   "execution_count": 44,
   "id": "8e8ac585-dc1a-4990-b975-2151e8f7d5f3",
   "metadata": {},
   "outputs": [
    {
     "data": {
      "text/plain": [
       "array([ 1,  2,  3,  4,  5,  6,  7,  8,  9, 10])"
      ]
     },
     "execution_count": 44,
     "metadata": {},
     "output_type": "execute_result"
    }
   ],
   "source": [
    "arr1 = np.array([1,2,3,4,5])\n",
    "arr2 = np.array([6,7,8,9,10])\n",
    "np.concatenate((arr1,arr2))"
   ]
  },
  {
   "cell_type": "code",
   "execution_count": 45,
   "id": "f0db0a7b-f510-4358-9d29-a64870bb725c",
   "metadata": {},
   "outputs": [
    {
     "ename": "AxisError",
     "evalue": "axis 1 is out of bounds for array of dimension 1",
     "output_type": "error",
     "traceback": [
      "\u001b[0;31m---------------------------------------------------------------------------\u001b[0m",
      "\u001b[0;31mAxisError\u001b[0m                                 Traceback (most recent call last)",
      "Input \u001b[0;32mIn [45]\u001b[0m, in \u001b[0;36m<cell line: 1>\u001b[0;34m()\u001b[0m\n\u001b[0;32m----> 1\u001b[0m \u001b[43mnp\u001b[49m\u001b[38;5;241;43m.\u001b[39;49m\u001b[43mconcatenate\u001b[49m\u001b[43m(\u001b[49m\u001b[43m(\u001b[49m\u001b[43marr1\u001b[49m\u001b[43m,\u001b[49m\u001b[43marr2\u001b[49m\u001b[43m)\u001b[49m\u001b[43m,\u001b[49m\u001b[43m \u001b[49m\u001b[43maxis\u001b[49m\u001b[43m \u001b[49m\u001b[38;5;241;43m=\u001b[39;49m\u001b[43m \u001b[49m\u001b[38;5;241;43m1\u001b[39;49m\u001b[43m)\u001b[49m\n",
      "File \u001b[0;32m<__array_function__ internals>:180\u001b[0m, in \u001b[0;36mconcatenate\u001b[0;34m(*args, **kwargs)\u001b[0m\n",
      "\u001b[0;31mAxisError\u001b[0m: axis 1 is out of bounds for array of dimension 1"
     ]
    }
   ],
   "source": [
    "np.concatenate((arr1,arr2), axis = 1)"
   ]
  },
  {
   "cell_type": "markdown",
   "id": "d0e9adef-7d16-4492-8d40-6d9daf5509de",
   "metadata": {},
   "source": [
    "### ufuncs"
   ]
  },
  {
   "cell_type": "markdown",
   "id": "0f17ff0c-da90-4e17-9558-26e087d3aa68",
   "metadata": {},
   "source": [
    "ufuncs - a function that takes numpy array as input and performs computation on the array element by element.<br>\n",
    "Methods:\n",
    "- __reduce__: repeatedly applies the function it is invoked on the array until it computes a single result\n",
    "- __accumulate__: reduce + returns intermediate results\n",
    "- __outer__: applies the function it is invoked on the array on every possible pairs"
   ]
  },
  {
   "cell_type": "code",
   "execution_count": 49,
   "id": "42802ad4-a9fb-4d70-9f2e-04b8aa6ee3dc",
   "metadata": {},
   "outputs": [
    {
     "name": "stdout",
     "output_type": "stream",
     "text": [
      "[1 2 3 4 5]\n"
     ]
    },
    {
     "data": {
      "text/plain": [
       "15"
      ]
     },
     "execution_count": 49,
     "metadata": {},
     "output_type": "execute_result"
    }
   ],
   "source": [
    "# reduce\n",
    "arr = np.array([1,2,3,4,5])\n",
    "print(arr)\n",
    "np.add.reduce(arr)"
   ]
  },
  {
   "cell_type": "code",
   "execution_count": 51,
   "id": "127fb831-ca1c-4689-903b-e44b7eff8cd6",
   "metadata": {},
   "outputs": [
    {
     "name": "stdout",
     "output_type": "stream",
     "text": [
      "[1 2 3 4 5]\n"
     ]
    },
    {
     "data": {
      "text/plain": [
       "array([ 1,  3,  6, 10, 15])"
      ]
     },
     "execution_count": 51,
     "metadata": {},
     "output_type": "execute_result"
    }
   ],
   "source": [
    "# accumulate\n",
    "print(arr)\n",
    "np.add.accumulate(arr)"
   ]
  },
  {
   "cell_type": "markdown",
   "id": "66ab0a15-964d-4b82-929d-e716ef856eab",
   "metadata": {},
   "source": [
    "create own ufuncs"
   ]
  },
  {
   "cell_type": "code",
   "execution_count": 52,
   "id": "b3db1e30-6315-4f7f-ba1a-0a3f58368f6a",
   "metadata": {},
   "outputs": [
    {
     "data": {
      "text/plain": [
       "array([ 4, 11, 20, 31])"
      ]
     },
     "execution_count": 52,
     "metadata": {},
     "output_type": "execute_result"
    }
   ],
   "source": [
    "def complex_math(a,b):\n",
    "    return a*b - 1\n",
    "arr1 = np.array([1,2,3,4])\n",
    "arr2 = np.array([5,6,7,8])\n",
    "vec = np.vectorize(complex_math)\n",
    "vec(arr1,arr2)\n"
   ]
  },
  {
   "cell_type": "markdown",
   "id": "dc3d0c2f-bf98-4a62-85af-c19b5dd3e19d",
   "metadata": {},
   "source": [
    "Ufuncs are actually pretty slow, so you can use Numba to speed it up"
   ]
  },
  {
   "cell_type": "code",
   "execution_count": 59,
   "id": "dc001434-a301-4984-8dbd-ecf5338dd76f",
   "metadata": {},
   "outputs": [
    {
     "ename": "ImportError",
     "evalue": "Numba needs NumPy 1.21 or less",
     "output_type": "error",
     "traceback": [
      "\u001b[0;31m---------------------------------------------------------------------------\u001b[0m",
      "\u001b[0;31mImportError\u001b[0m                               Traceback (most recent call last)",
      "Input \u001b[0;32mIn [59]\u001b[0m, in \u001b[0;36m<cell line: 1>\u001b[0;34m()\u001b[0m\n\u001b[0;32m----> 1\u001b[0m \u001b[38;5;28;01mimport\u001b[39;00m \u001b[38;5;21;01mnumba\u001b[39;00m\n\u001b[1;32m      3\u001b[0m \u001b[38;5;129m@numba\u001b[39m\u001b[38;5;241m.\u001b[39mvectorize \n\u001b[1;32m      4\u001b[0m \u001b[38;5;28;01mdef\u001b[39;00m \u001b[38;5;21mcomplex_math\u001b[39m(a,b):\n\u001b[1;32m      5\u001b[0m     \u001b[38;5;28;01mreturn\u001b[39;00m a\u001b[38;5;241m*\u001b[39mb \u001b[38;5;241m-\u001b[39m \u001b[38;5;241m1\u001b[39m\n",
      "File \u001b[0;32m~/opt/anaconda3/envs/py3104/lib/python3.10/site-packages/numba/__init__.py:200\u001b[0m, in \u001b[0;36m<module>\u001b[0;34m\u001b[0m\n\u001b[1;32m    197\u001b[0m     \u001b[38;5;28;01mreturn\u001b[39;00m \u001b[38;5;28;01mFalse\u001b[39;00m\n\u001b[1;32m    199\u001b[0m _ensure_llvm()\n\u001b[0;32m--> 200\u001b[0m \u001b[43m_ensure_critical_deps\u001b[49m\u001b[43m(\u001b[49m\u001b[43m)\u001b[49m\n\u001b[1;32m    202\u001b[0m \u001b[38;5;66;03m# we know llvmlite is working as the above tests passed, import it now as SVML\u001b[39;00m\n\u001b[1;32m    203\u001b[0m \u001b[38;5;66;03m# needs to mutate runtime options (sets the `-vector-library`).\u001b[39;00m\n\u001b[1;32m    204\u001b[0m \u001b[38;5;28;01mimport\u001b[39;00m \u001b[38;5;21;01mllvmlite\u001b[39;00m\n",
      "File \u001b[0;32m~/opt/anaconda3/envs/py3104/lib/python3.10/site-packages/numba/__init__.py:140\u001b[0m, in \u001b[0;36m_ensure_critical_deps\u001b[0;34m()\u001b[0m\n\u001b[1;32m    138\u001b[0m     \u001b[38;5;28;01mraise\u001b[39;00m \u001b[38;5;167;01mImportError\u001b[39;00m(\u001b[38;5;124m\"\u001b[39m\u001b[38;5;124mNumba needs NumPy 1.18 or greater\u001b[39m\u001b[38;5;124m\"\u001b[39m)\n\u001b[1;32m    139\u001b[0m \u001b[38;5;28;01melif\u001b[39;00m numpy_version \u001b[38;5;241m>\u001b[39m (\u001b[38;5;241m1\u001b[39m, \u001b[38;5;241m21\u001b[39m):\n\u001b[0;32m--> 140\u001b[0m     \u001b[38;5;28;01mraise\u001b[39;00m \u001b[38;5;167;01mImportError\u001b[39;00m(\u001b[38;5;124m\"\u001b[39m\u001b[38;5;124mNumba needs NumPy 1.21 or less\u001b[39m\u001b[38;5;124m\"\u001b[39m)\n\u001b[1;32m    142\u001b[0m \u001b[38;5;28;01mtry\u001b[39;00m:\n\u001b[1;32m    143\u001b[0m     \u001b[38;5;28;01mimport\u001b[39;00m \u001b[38;5;21;01mscipy\u001b[39;00m\n",
      "\u001b[0;31mImportError\u001b[0m: Numba needs NumPy 1.21 or less"
     ]
    }
   ],
   "source": [
    "import numba\n",
    "\n",
    "@numba.vectorize \n",
    "def complex_math(a,b):\n",
    "    return a*b - 1\n",
    "\n",
    "arr1 = np.array([1,2,3,4])\n",
    "arr2 = np.array([5,6,7,8])\n",
    "complex_math(arr1, arr2)\n",
    "# it does same as above but faster"
   ]
  },
  {
   "cell_type": "markdown",
   "id": "0283b4a3-b655-46bf-a207-0704348d1261",
   "metadata": {},
   "source": [
    "### Working with Files\n",
    "save numpy array to a file with np.save"
   ]
  },
  {
   "cell_type": "code",
   "execution_count": null,
   "id": "26cb093b-4e1a-46c8-8d6f-2fdb64dfc5e1",
   "metadata": {},
   "outputs": [],
   "source": [
    "# single array file save and open\n",
    "arr = np.array([1,2,3,4,5])\n",
    "np.save('file1',arr)"
   ]
  },
  {
   "cell_type": "code",
   "execution_count": null,
   "id": "4b68a80c-6c77-413b-a9e6-f86721cc6d3d",
   "metadata": {},
   "outputs": [],
   "source": [
    "loaded_np = np.load('file_1.npy')\n",
    "# alternativly\n",
    "with open('file_1.npy', 'wb') as file:\n",
    "    arr_loaded = np.load(file)"
   ]
  },
  {
   "cell_type": "code",
   "execution_count": null,
   "id": "91443525-56d5-47a9-9127-db2e20465053",
   "metadata": {},
   "outputs": [],
   "source": [
    "# multiple array file save and open\n",
    "# save multiple arrays\n",
    "arr = np.array([1,2,3,4,5])\n",
    "arr2 = np.array([3,24,2,4,10])\n",
    "np.savez('file2', arr, arr2)"
   ]
  },
  {
   "cell_type": "code",
   "execution_count": null,
   "id": "c1f8a07f-dccf-4755-84d5-1571146d5bf6",
   "metadata": {},
   "outputs": [],
   "source": [
    "loaded_arrays = np.load('file2.npz') # <- compressed file\n",
    "loaded_arrays['arr_0']\n",
    "# by default, arrays are given names arr_0, arr_1 etc. but we can make our own\n",
    "np.savez('file2', my_firsti=arr, secondy=arr2)\n",
    "loaded_arrays['my_firsti']\n",
    "loaded_arrays['secondy']"
   ]
  },
  {
   "cell_type": "markdown",
   "id": "9a3ef9de-cf67-48f2-94ef-95dcdaaff9bc",
   "metadata": {},
   "source": [
    "#### save test files\n",
    "\n",
    "same approach as above but with \"np.savetxt\" <br>\n",
    "We can also specify delimiter, the newline character, header, footer, comments character, and the encoding"
   ]
  },
  {
   "cell_type": "code",
   "execution_count": null,
   "id": "ee458b79-7b0e-4136-8d2a-1fec58576e49",
   "metadata": {},
   "outputs": [],
   "source": [
    "arr = np.array([1,2,3,4,5])\n",
    "arr2 = np.array([3,24,2,4,10])\n",
    "np.savetxt(\n",
    "    'text',\n",
    "    (arr1, arr2),\n",
    "    fmt='%i',\n",
    "    delimeter=', ',\n",
    "    newline='!\\n',\n",
    "    header='DATA FROM 20.02.2020',\n",
    "    footer='DATA END',\n",
    "    comments='#'\n",
    ")"
   ]
  },
  {
   "cell_type": "code",
   "execution_count": null,
   "id": "8308e029-e815-41e6-ac1a-3c56d25ae848",
   "metadata": {},
   "outputs": [],
   "source": [
    "# load txx\n",
    "np.loadtxt(\n",
    "    'name.csv',\n",
    "    skiprows=1,\n",
    "    delimiter=', ',\n",
    "    usecols=(0,1,2,3)\n",
    ")"
   ]
  },
  {
   "cell_type": "markdown",
   "id": "a5acccf5-61e7-49a1-b550-ebf9c457d3e7",
   "metadata": {},
   "source": [
    "### Useful Libraries and Tools\n",
    "__SciPy__ - more algorithms and data structures<br>\n",
    "__CuPy__ - GPU-accelerated computing with Python<br>\n",
    "__CuNumeric__ - drop-in replacement for numpy<br>\n",
    "__Cython and Numba__ - Numba: speed up vanilla python functions and compile to GPU code, Cython: opimistic static compiler for Python and Cython language. Good for creating C based extentions.\n",
    "\n",
    "\n",
    "__Dask__ - tool that providesparallelism for analytics, enabling performance at scale https://dask.org <br>\n",
    "__Dash / Zeal__ - documentation managers"
   ]
  },
  {
   "cell_type": "markdown",
   "id": "c2efa9db-a09f-4329-b194-fce99d3620b2",
   "metadata": {
    "tags": []
   },
   "source": [
    "## 6. Pandas 1"
   ]
  },
  {
   "cell_type": "markdown",
   "id": "253bdf14-5b03-448b-adbf-76136b7f2e4d",
   "metadata": {},
   "source": [
    "Why we need pandas?\n",
    "- simplify working with tabular data\n",
    "- performance of numpy and flexibility of spreadsheets\n",
    "- routines to reshape, split, aggregate, select subsets of data\n",
    "- flexible handling of missing data\n",
    "- relational operations on tables\n",
    "- exchange data between csv, txt, excel, sql etc."
   ]
  },
  {
   "cell_type": "code",
   "execution_count": 3,
   "id": "7956ff25-7c09-40bb-bc38-a4c9b255fa48",
   "metadata": {},
   "outputs": [],
   "source": [
    "import pandas as pd"
   ]
  },
  {
   "cell_type": "code",
   "execution_count": 4,
   "id": "bab131a8-e5e9-4d0f-8e41-c4743011b18d",
   "metadata": {},
   "outputs": [
    {
     "data": {
      "text/html": [
       "<div>\n",
       "<style scoped>\n",
       "    .dataframe tbody tr th:only-of-type {\n",
       "        vertical-align: middle;\n",
       "    }\n",
       "\n",
       "    .dataframe tbody tr th {\n",
       "        vertical-align: top;\n",
       "    }\n",
       "\n",
       "    .dataframe thead th {\n",
       "        text-align: right;\n",
       "    }\n",
       "</style>\n",
       "<table border=\"1\" class=\"dataframe\">\n",
       "  <thead>\n",
       "    <tr style=\"text-align: right;\">\n",
       "      <th></th>\n",
       "      <th>first_name</th>\n",
       "      <th>second_name</th>\n",
       "      <th>matriculation</th>\n",
       "    </tr>\n",
       "  </thead>\n",
       "  <tbody>\n",
       "    <tr>\n",
       "      <th>0</th>\n",
       "      <td>Max</td>\n",
       "      <td>Mustermann</td>\n",
       "      <td>1234656</td>\n",
       "    </tr>\n",
       "    <tr>\n",
       "      <th>1</th>\n",
       "      <td>Alex</td>\n",
       "      <td>Wallaer</td>\n",
       "      <td>9121211</td>\n",
       "    </tr>\n",
       "  </tbody>\n",
       "</table>\n",
       "</div>"
      ],
      "text/plain": [
       "  first_name second_name  matriculation\n",
       "0        Max  Mustermann        1234656\n",
       "1       Alex     Wallaer        9121211"
      ]
     },
     "execution_count": 4,
     "metadata": {},
     "output_type": "execute_result"
    }
   ],
   "source": [
    "python_students = [\n",
    "    (\"Max\",\"Mustermann\", 1234656),\n",
    "    (\"Alex\", \"Wallaer\", 9121211)\n",
    "]\n",
    "\n",
    "students_df = pd.DataFrame(\n",
    "    python_students,\n",
    "    columns=('first_name', 'second_name', 'matriculation')\n",
    ")\n",
    "students_df"
   ]
  },
  {
   "cell_type": "code",
   "execution_count": 7,
   "id": "99cd5d86-b755-4e3e-85ea-4533a3b5d165",
   "metadata": {},
   "outputs": [
    {
     "data": {
      "text/html": [
       "<div>\n",
       "<style scoped>\n",
       "    .dataframe tbody tr th:only-of-type {\n",
       "        vertical-align: middle;\n",
       "    }\n",
       "\n",
       "    .dataframe tbody tr th {\n",
       "        vertical-align: top;\n",
       "    }\n",
       "\n",
       "    .dataframe thead th {\n",
       "        text-align: right;\n",
       "    }\n",
       "</style>\n",
       "<table border=\"1\" class=\"dataframe\">\n",
       "  <thead>\n",
       "    <tr style=\"text-align: right;\">\n",
       "      <th></th>\n",
       "      <th>first_name</th>\n",
       "      <th>second_name</th>\n",
       "      <th>matriculation</th>\n",
       "      <th>grade</th>\n",
       "    </tr>\n",
       "  </thead>\n",
       "  <tbody>\n",
       "    <tr>\n",
       "      <th>0</th>\n",
       "      <td>Max</td>\n",
       "      <td>Mustermann</td>\n",
       "      <td>1234656</td>\n",
       "      <td>1.3</td>\n",
       "    </tr>\n",
       "    <tr>\n",
       "      <th>1</th>\n",
       "      <td>Alex</td>\n",
       "      <td>Wallaer</td>\n",
       "      <td>9121211</td>\n",
       "      <td>1.0</td>\n",
       "    </tr>\n",
       "  </tbody>\n",
       "</table>\n",
       "</div>"
      ],
      "text/plain": [
       "  first_name second_name  matriculation  grade\n",
       "0        Max  Mustermann        1234656    1.3\n",
       "1       Alex     Wallaer        9121211    1.0"
      ]
     },
     "execution_count": 7,
     "metadata": {},
     "output_type": "execute_result"
    }
   ],
   "source": [
    "students_df['grade'] = [1.3,1.0]\n",
    "students_df"
   ]
  },
  {
   "cell_type": "code",
   "execution_count": 8,
   "id": "768ab971-87d1-4c27-90df-ad60e0f5b6c7",
   "metadata": {},
   "outputs": [
    {
     "data": {
      "text/html": [
       "<div>\n",
       "<style scoped>\n",
       "    .dataframe tbody tr th:only-of-type {\n",
       "        vertical-align: middle;\n",
       "    }\n",
       "\n",
       "    .dataframe tbody tr th {\n",
       "        vertical-align: top;\n",
       "    }\n",
       "\n",
       "    .dataframe thead th {\n",
       "        text-align: right;\n",
       "    }\n",
       "</style>\n",
       "<table border=\"1\" class=\"dataframe\">\n",
       "  <thead>\n",
       "    <tr style=\"text-align: right;\">\n",
       "      <th></th>\n",
       "      <th>matriculation</th>\n",
       "      <th>program</th>\n",
       "    </tr>\n",
       "  </thead>\n",
       "  <tbody>\n",
       "    <tr>\n",
       "      <th>0</th>\n",
       "      <td>1234656</td>\n",
       "      <td>Bioinfo</td>\n",
       "    </tr>\n",
       "    <tr>\n",
       "      <th>1</th>\n",
       "      <td>9121211</td>\n",
       "      <td>Info</td>\n",
       "    </tr>\n",
       "  </tbody>\n",
       "</table>\n",
       "</div>"
      ],
      "text/plain": [
       "   matriculation  program\n",
       "0        1234656  Bioinfo\n",
       "1        9121211     Info"
      ]
     },
     "execution_count": 8,
     "metadata": {},
     "output_type": "execute_result"
    }
   ],
   "source": [
    "programs_df = pd.DataFrame(\n",
    "    {\n",
    "        'matriculation':[1234656, 9121211],\n",
    "        'program': ['Bioinfo', 'Info']\n",
    "    }\n",
    ")\n",
    "programs_df"
   ]
  },
  {
   "cell_type": "code",
   "execution_count": 10,
   "id": "5ee9006b-6ffa-4e83-8bb7-51802f92016f",
   "metadata": {},
   "outputs": [
    {
     "data": {
      "text/html": [
       "<div>\n",
       "<style scoped>\n",
       "    .dataframe tbody tr th:only-of-type {\n",
       "        vertical-align: middle;\n",
       "    }\n",
       "\n",
       "    .dataframe tbody tr th {\n",
       "        vertical-align: top;\n",
       "    }\n",
       "\n",
       "    .dataframe thead th {\n",
       "        text-align: right;\n",
       "    }\n",
       "</style>\n",
       "<table border=\"1\" class=\"dataframe\">\n",
       "  <thead>\n",
       "    <tr style=\"text-align: right;\">\n",
       "      <th></th>\n",
       "      <th>matriculation</th>\n",
       "      <th>program</th>\n",
       "      <th>first_name</th>\n",
       "      <th>second_name</th>\n",
       "      <th>grade</th>\n",
       "    </tr>\n",
       "  </thead>\n",
       "  <tbody>\n",
       "    <tr>\n",
       "      <th>0</th>\n",
       "      <td>1234656</td>\n",
       "      <td>Bioinfo</td>\n",
       "      <td>Max</td>\n",
       "      <td>Mustermann</td>\n",
       "      <td>1.3</td>\n",
       "    </tr>\n",
       "    <tr>\n",
       "      <th>1</th>\n",
       "      <td>9121211</td>\n",
       "      <td>Info</td>\n",
       "      <td>Alex</td>\n",
       "      <td>Wallaer</td>\n",
       "      <td>1.0</td>\n",
       "    </tr>\n",
       "  </tbody>\n",
       "</table>\n",
       "</div>"
      ],
      "text/plain": [
       "   matriculation  program first_name second_name  grade\n",
       "0        1234656  Bioinfo        Max  Mustermann    1.3\n",
       "1        9121211     Info       Alex     Wallaer    1.0"
      ]
     },
     "execution_count": 12,
     "metadata": {},
     "output_type": "execute_result"
    }
   ],
   "source": [
    "pd.merge(programs_df,students_df, on='matriculation')"
   ]
  },
  {
   "cell_type": "markdown",
   "id": "cd9e335a-64f2-4225-99f4-b01f3dd9fcdd",
   "metadata": {},
   "source": [
    "Pandas Ingredients:\n",
    "1. pd.Index\n",
    "2. pd.Series\n",
    "3. pd.DataFrame"
   ]
  },
  {
   "cell_type": "markdown",
   "id": "c6712f2b-5589-42d5-8e62-7256ca1d2bef",
   "metadata": {},
   "source": [
    "### pd.Index\n",
    "=immutable array "
   ]
  },
  {
   "cell_type": "code",
   "execution_count": 13,
   "id": "91a6809c-d6e2-41e5-8c70-741cd6c7172c",
   "metadata": {},
   "outputs": [
    {
     "data": {
      "text/plain": [
       "Int64Index([1, 2, 3, 4, 5], dtype='int64')"
      ]
     },
     "execution_count": 13,
     "metadata": {},
     "output_type": "execute_result"
    }
   ],
   "source": [
    "pd_index = pd.Index([1,2,3,4,5])\n",
    "pd_index"
   ]
  },
  {
   "cell_type": "code",
   "execution_count": 16,
   "id": "58e8fcee-c64e-4cbd-8708-0f2714f2895b",
   "metadata": {},
   "outputs": [
    {
     "name": "stdout",
     "output_type": "stream",
     "text": [
      "Int64Index([1, 2, 3], dtype='int64')\n",
      "4\n"
     ]
    }
   ],
   "source": [
    "print(pd_index[:3])\n",
    "print(pd_index[-2])"
   ]
  },
  {
   "cell_type": "markdown",
   "id": "34059d95-799b-4824-bdf7-c3639a66c412",
   "metadata": {},
   "source": [
    "pd.Index can hold:\n",
    "- strings\n",
    "- floats\n",
    "- booleans\n",
    "\n",
    "because it is based on numpy arrays"
   ]
  },
  {
   "cell_type": "code",
   "execution_count": 19,
   "id": "75d4206a-68a9-4eaa-9d05-76d651bfc0d0",
   "metadata": {},
   "outputs": [
    {
     "name": "stdout",
     "output_type": "stream",
     "text": [
      "[1 2 3 4 5]\n",
      "<class 'numpy.ndarray'>\n"
     ]
    }
   ],
   "source": [
    "print(pd_index.values)\n",
    "print(type(pd_index.values))"
   ]
  },
  {
   "cell_type": "code",
   "execution_count": 20,
   "id": "9d2338d8-49bd-4032-a53b-cd191582a5fc",
   "metadata": {},
   "outputs": [
    {
     "name": "stdout",
     "output_type": "stream",
     "text": [
      "(5,)\n",
      "5\n",
      "int64\n"
     ]
    }
   ],
   "source": [
    "print(pd_index.shape)\n",
    "print(pd_index.size)\n",
    "print(pd_index.dtype)"
   ]
  },
  {
   "cell_type": "markdown",
   "id": "3ba399cc-7027-4638-b549-af36737501ce",
   "metadata": {},
   "source": [
    "#### Set like operations"
   ]
  },
  {
   "cell_type": "code",
   "execution_count": 25,
   "id": "2a324a86-dcd6-4e12-b9c0-6d1c119e7f8b",
   "metadata": {},
   "outputs": [
    {
     "name": "stdout",
     "output_type": "stream",
     "text": [
      "Int64Index([5], dtype='int64')\n",
      "Int64Index([1, 2, 3, 4, 5, 6, 7, 8, 9], dtype='int64')\n",
      "Int64Index([1, 2, 3, 4], dtype='int64')\n",
      "Int64Index([1, 2, 3, 4, 6, 7, 8, 9], dtype='int64')\n"
     ]
    }
   ],
   "source": [
    "ind1 = pd.Index([1,2,3,4,5])\n",
    "ind2 = pd.Index([5,6,7,8,9])\n",
    "\n",
    "print(ind1.intersection(ind2))\n",
    "print(ind1.union(ind2))\n",
    "print(ind1.difference(ind2))\n",
    "print(ind1.symmetric_difference(ind2))"
   ]
  },
  {
   "cell_type": "markdown",
   "id": "1cedce6b-450a-4660-b6d8-9761d6c61da0",
   "metadata": {},
   "source": [
    "#### useful attribtues"
   ]
  },
  {
   "cell_type": "code",
   "execution_count": 32,
   "id": "e6e016db-990a-40e1-b3f1-7b54e991ca6b",
   "metadata": {},
   "outputs": [
    {
     "name": "stdout",
     "output_type": "stream",
     "text": [
      "True\n",
      "False\n",
      "*****\n",
      "True\n",
      "*****\n",
      "True\n",
      "True\n",
      "*****\n",
      "False\n",
      "*****\n"
     ]
    }
   ],
   "source": [
    "ind1 = pd.Index([1,2,3,4,5,6,7])\n",
    "ind2 = pd.Index([5,6,7,8,9,9,2])\n",
    "\n",
    "print(ind1.is_unique)\n",
    "print(ind2.is_unique)\n",
    "print(\"*****\")\n",
    "\n",
    "print(ind2.has_duplicates)\n",
    "print(\"*****\")\n",
    "\n",
    "print(ind1.is_monotonic)\n",
    "print(ind1.is_monotonic_increasing)\n",
    "print(\"*****\")\n",
    "\n",
    "print(ind2.is_monotonic)\n",
    "print(\"*****\")"
   ]
  },
  {
   "cell_type": "markdown",
   "id": "5ad612e8-9a78-4a34-a07f-54ba0b94e2e1",
   "metadata": {},
   "source": [
    "#### useful methods"
   ]
  },
  {
   "cell_type": "code",
   "execution_count": 34,
   "id": "c5fd24f5-f2c6-41dd-b5fc-1ee7962a5e29",
   "metadata": {},
   "outputs": [
    {
     "name": "stdout",
     "output_type": "stream",
     "text": [
      "Int64Index([1, 2, 3, 4, 5, 6, 7, 5, 6, 7, 8, 9, 9, 2, 8, 9, 10, 12, 2, 3, 7], dtype='int64')\n"
     ]
    }
   ],
   "source": [
    "ind1 = pd.Index([1,2,3,4,5,6,7])\n",
    "ind2 = pd.Index([5,6,7,8,9,9,2])\n",
    "ind3 = pd.Index([8,9,10,12,2,3,7])\n",
    "\n",
    "print(ind1.append((ind2, ind3)))"
   ]
  },
  {
   "cell_type": "code",
   "execution_count": 36,
   "id": "47f4383d-be79-428a-bdea-e08f56412bdd",
   "metadata": {},
   "outputs": [
    {
     "data": {
      "text/plain": [
       "Int64Index([9999, 5, 6, 7, 8, 9, 9, 2], dtype='int64')"
      ]
     },
     "execution_count": 36,
     "metadata": {},
     "output_type": "execute_result"
    }
   ],
   "source": [
    "ind2.insert(0,9999)"
   ]
  },
  {
   "cell_type": "code",
   "execution_count": 40,
   "id": "de3031a3-6ebc-4b90-afcd-59e0745b6031",
   "metadata": {},
   "outputs": [
    {
     "name": "stdout",
     "output_type": "stream",
     "text": [
      "Int64Index([5, 6, 7, 8, 9, 9, 2], dtype='int64')\n"
     ]
    },
    {
     "data": {
      "text/plain": [
       "Int64Index([6, 7, 8, 9, 9, 2], dtype='int64')"
      ]
     },
     "execution_count": 40,
     "metadata": {},
     "output_type": "execute_result"
    }
   ],
   "source": [
    "print(ind2)\n",
    "ind2.delete(0)  # index"
   ]
  },
  {
   "cell_type": "code",
   "execution_count": 43,
   "id": "ce4e5782-3fa7-47ac-927f-e17b79b744ab",
   "metadata": {},
   "outputs": [
    {
     "name": "stdout",
     "output_type": "stream",
     "text": [
      "12\n",
      "3\n"
     ]
    },
    {
     "data": {
      "text/plain": [
       "Int64Index([8, 9, 10, 12, 2, 3, 7], dtype='int64')"
      ]
     },
     "execution_count": 43,
     "metadata": {},
     "output_type": "execute_result"
    }
   ],
   "source": [
    "print(ind3.max())\n",
    "print(ind3.argmax())\n",
    "ind3\n",
    "\n",
    "# same for min"
   ]
  },
  {
   "cell_type": "code",
   "execution_count": 44,
   "id": "f21927bc-4ce2-47f0-9e93-098dae2abc1d",
   "metadata": {},
   "outputs": [
    {
     "data": {
      "text/plain": [
       "Int64Index([2, 3, 7, 8, 9, 10, 12], dtype='int64')"
      ]
     },
     "execution_count": 44,
     "metadata": {},
     "output_type": "execute_result"
    }
   ],
   "source": [
    "ind3.sort_values()"
   ]
  },
  {
   "cell_type": "code",
   "execution_count": 45,
   "id": "adf66ca4-5ec2-47cc-9782-1f11cf3359ba",
   "metadata": {},
   "outputs": [
    {
     "data": {
      "text/plain": [
       "8     1\n",
       "9     1\n",
       "10    1\n",
       "12    1\n",
       "2     1\n",
       "3     1\n",
       "7     1\n",
       "dtype: int64"
      ]
     },
     "execution_count": 45,
     "metadata": {},
     "output_type": "execute_result"
    }
   ],
   "source": [
    "ind3.value_counts()"
   ]
  },
  {
   "cell_type": "code",
   "execution_count": 46,
   "id": "da3b9b9d-15c2-448d-868b-17038722e4c8",
   "metadata": {},
   "outputs": [
    {
     "data": {
      "text/plain": [
       "Int64Index([5, 6, 7, 8, 9, 9, 2], dtype='int64')"
      ]
     },
     "execution_count": 46,
     "metadata": {},
     "output_type": "execute_result"
    }
   ],
   "source": [
    "ind2"
   ]
  },
  {
   "cell_type": "code",
   "execution_count": 48,
   "id": "90b0bf1a-504b-4c97-98e5-4cd0115f2fe0",
   "metadata": {},
   "outputs": [
    {
     "data": {
      "text/plain": [
       "Int64Index([5, 6, 7, 8, 9, 2], dtype='int64')"
      ]
     },
     "execution_count": 48,
     "metadata": {},
     "output_type": "execute_result"
    }
   ],
   "source": [
    "ind2 = ind2.drop_duplicates()\n",
    "ind2"
   ]
  },
  {
   "cell_type": "markdown",
   "id": "070a9399-7d3f-42e9-aafd-8fcb0825f56b",
   "metadata": {},
   "source": [
    "### pd.Series\n",
    "= 1d array of indexed data"
   ]
  },
  {
   "cell_type": "code",
   "execution_count": 49,
   "id": "93a7ece4-d47a-4ded-805b-f70acee4efc6",
   "metadata": {},
   "outputs": [
    {
     "data": {
      "text/plain": [
       "0       Max\n",
       "1    Helena\n",
       "dtype: object"
      ]
     },
     "execution_count": 49,
     "metadata": {},
     "output_type": "execute_result"
    }
   ],
   "source": [
    "ser1 = pd.Series(['Max','Helena'])\n",
    "ser1"
   ]
  },
  {
   "cell_type": "code",
   "execution_count": 50,
   "id": "92fc0b6e-3bcc-41ad-a127-7d916b19ed0f",
   "metadata": {},
   "outputs": [
    {
     "name": "stdout",
     "output_type": "stream",
     "text": [
      "['Max' 'Helena']\n",
      "RangeIndex(start=0, stop=2, step=1)\n"
     ]
    }
   ],
   "source": [
    "print(ser1.values)\n",
    "print(ser1.index)"
   ]
  },
  {
   "cell_type": "markdown",
   "id": "2c85cfa5-1028-47b9-b501-d469aec3e877",
   "metadata": {},
   "source": [
    "series is also based on numpy arrays"
   ]
  },
  {
   "cell_type": "markdown",
   "id": "a3bd22b9-71ae-4d5f-b0b2-2fdb40ae650c",
   "metadata": {},
   "source": [
    "#### array and dict like series"
   ]
  },
  {
   "cell_type": "code",
   "execution_count": 52,
   "id": "d32b85f4-656c-45e8-a890-3bdd1f356cc0",
   "metadata": {},
   "outputs": [
    {
     "name": "stdout",
     "output_type": "stream",
     "text": [
      "a       Max\n",
      "b    Helena\n",
      "c     Chris\n",
      "d      Mike\n",
      "dtype: object\n",
      "a       Max\n",
      "b    Helena\n",
      "c     Chris\n",
      "d      Mike\n",
      "dtype: object\n"
     ]
    }
   ],
   "source": [
    "# array like\n",
    "ser1 = pd.Series(('Max','Helena', 'Chris', 'Mike'), index = ['a', 'b', 'c','d'])\n",
    "# dict like\n",
    "serone = pd.Series({\n",
    "    'a':'Max',\n",
    "    'b':'Helena',\n",
    "    'c': 'Chris',\n",
    "    'd': 'Mike'\n",
    "})\n",
    "\n",
    "print(ser1)\n",
    "print(serone)"
   ]
  },
  {
   "cell_type": "code",
   "execution_count": 56,
   "id": "a1c5f5cd-6c20-424e-988a-5d7ff823af0f",
   "metadata": {},
   "outputs": [
    {
     "data": {
      "text/plain": [
       "b    Helena\n",
       "c     Chris\n",
       "dtype: object"
      ]
     },
     "execution_count": 56,
     "metadata": {},
     "output_type": "execute_result"
    }
   ],
   "source": [
    "serone[1:3] # 3 is not included"
   ]
  },
  {
   "cell_type": "code",
   "execution_count": 57,
   "id": "b74e522e-13ac-4f34-8c66-149364a39e58",
   "metadata": {},
   "outputs": [
    {
     "data": {
      "text/plain": [
       "b    Helena\n",
       "c     Chris\n",
       "d      Mike\n",
       "dtype: object"
      ]
     },
     "execution_count": 57,
     "metadata": {},
     "output_type": "execute_result"
    }
   ],
   "source": [
    "serone['b':'d'] # d is included"
   ]
  },
  {
   "cell_type": "code",
   "execution_count": 59,
   "id": "20c58334-d3dd-4b99-a2b1-1f0230771f64",
   "metadata": {},
   "outputs": [
    {
     "data": {
      "text/plain": [
       "c    Chris\n",
       "a      Max\n",
       "d     Mike\n",
       "dtype: object"
      ]
     },
     "execution_count": 59,
     "metadata": {},
     "output_type": "execute_result"
    }
   ],
   "source": [
    "serone[['c','a','d']]"
   ]
  },
  {
   "cell_type": "markdown",
   "id": "367369c1-0df9-4373-a34b-53300421673c",
   "metadata": {},
   "source": [
    "Mix both approaches"
   ]
  },
  {
   "cell_type": "code",
   "execution_count": 61,
   "id": "2020fe39-6b8c-4d44-b1d5-7236abae7f0f",
   "metadata": {},
   "outputs": [
    {
     "data": {
      "text/plain": [
       "a       Max\n",
       "b    Helena\n",
       "g       NaN\n",
       "dtype: object"
      ]
     },
     "execution_count": 61,
     "metadata": {},
     "output_type": "execute_result"
    }
   ],
   "source": [
    "series_crazy = pd.Series({\n",
    "    'a':'Max',\n",
    "    'b':'Helena',\n",
    "    'c': 'Chris',\n",
    "    'd': 'Mike'\n",
    "},\n",
    "    index=('a','b','g')\n",
    ")\n",
    "series_crazy"
   ]
  },
  {
   "cell_type": "markdown",
   "id": "99bc897e-a6dd-477b-b029-f126c54de492",
   "metadata": {},
   "source": [
    "pd.Series has same useful attributes as pd.Index has"
   ]
  },
  {
   "cell_type": "markdown",
   "id": "f981d360-e503-467a-805e-8dc993ba26ae",
   "metadata": {},
   "source": [
    "__iloc - index__\n",
    "\n",
    "__loc - keys__"
   ]
  },
  {
   "cell_type": "code",
   "execution_count": 68,
   "id": "2477e902-549a-436e-872f-bb79a32cbd60",
   "metadata": {},
   "outputs": [
    {
     "name": "stdout",
     "output_type": "stream",
     "text": [
      "Chris\n",
      "Chris\n",
      "Chris\n",
      "Chris\n"
     ]
    }
   ],
   "source": [
    "print(serone.iloc[2])\n",
    "print(serone.loc['c'])\n",
    "print(serone[2])\n",
    "print(serone['c'])"
   ]
  },
  {
   "cell_type": "markdown",
   "id": "e2afe83c-d9e1-47c0-860a-b81f945a6edc",
   "metadata": {},
   "source": [
    "Why use loc and iloc instead of regular access?\n",
    "- if we set explicit integer index on pd.Series object, a regular element access will use the explicit index while slicing will use the regular numpy like index"
   ]
  },
  {
   "cell_type": "code",
   "execution_count": 69,
   "id": "96c74582-df9f-4593-a2d6-c495b230260c",
   "metadata": {},
   "outputs": [],
   "source": [
    "ser1 = pd.Series(('Max','Helena', 'Chris', 'Mike'), index = [2,3,1,7])"
   ]
  },
  {
   "cell_type": "code",
   "execution_count": 70,
   "id": "011b6cf9-1d99-46e9-bb74-01d35f830e3c",
   "metadata": {},
   "outputs": [
    {
     "data": {
      "text/plain": [
       "'Chris'"
      ]
     },
     "execution_count": 70,
     "metadata": {},
     "output_type": "execute_result"
    }
   ],
   "source": [
    "ser1[1]"
   ]
  },
  {
   "cell_type": "code",
   "execution_count": 72,
   "id": "3743f4d5-04ad-44e3-a099-5a2900aac1e2",
   "metadata": {},
   "outputs": [
    {
     "data": {
      "text/plain": [
       "3    Helena\n",
       "dtype: object"
      ]
     },
     "execution_count": 72,
     "metadata": {},
     "output_type": "execute_result"
    }
   ],
   "source": [
    "ser1[1:2]"
   ]
  },
  {
   "cell_type": "markdown",
   "id": "6230d26a-90ef-494c-b9f3-0bb0c2b3981d",
   "metadata": {},
   "source": [
    "#### Arithmetic operations"
   ]
  },
  {
   "cell_type": "code",
   "execution_count": 73,
   "id": "5ad486cf-cead-4805-b849-58607d19fb29",
   "metadata": {},
   "outputs": [],
   "source": [
    "ser1 = pd.Series([1,2,3])\n",
    "ser2 = pd.Series([10,20,30])"
   ]
  },
  {
   "cell_type": "code",
   "execution_count": 75,
   "id": "ff578c1a-acfa-4f02-b2f5-59dc37084107",
   "metadata": {},
   "outputs": [
    {
     "data": {
      "text/plain": [
       "0    11\n",
       "1    22\n",
       "2    33\n",
       "dtype: int64"
      ]
     },
     "execution_count": 75,
     "metadata": {},
     "output_type": "execute_result"
    }
   ],
   "source": [
    "ser1+ser2 # same works with subtraction, multiplication etc."
   ]
  },
  {
   "cell_type": "code",
   "execution_count": 76,
   "id": "122ab22a-157c-48af-9219-74a61c74e897",
   "metadata": {},
   "outputs": [
    {
     "data": {
      "text/plain": [
       "140"
      ]
     },
     "execution_count": 76,
     "metadata": {},
     "output_type": "execute_result"
    }
   ],
   "source": [
    "ser1.dot(ser2)"
   ]
  },
  {
   "cell_type": "code",
   "execution_count": 81,
   "id": "46e8acff-5f2b-49e4-bcdf-8e6c02c404aa",
   "metadata": {},
   "outputs": [
    {
     "data": {
      "text/plain": [
       "0     -1.23\n",
       "1      6.19\n",
       "2    912.12\n",
       "dtype: float64"
      ]
     },
     "execution_count": 81,
     "metadata": {},
     "output_type": "execute_result"
    }
   ],
   "source": [
    "serf = pd.Series([-1.231,6.192, 912.1212])\n",
    "serf.round(2) # by 2 after . "
   ]
  },
  {
   "cell_type": "code",
   "execution_count": 80,
   "id": "624809bb-ebf2-475c-953a-90c02fe80cc1",
   "metadata": {},
   "outputs": [
    {
     "data": {
      "text/plain": [
       "0      1.2310\n",
       "1      6.1920\n",
       "2    912.1212\n",
       "dtype: float64"
      ]
     },
     "execution_count": 80,
     "metadata": {},
     "output_type": "execute_result"
    }
   ],
   "source": [
    "serf.abs()"
   ]
  },
  {
   "cell_type": "code",
   "execution_count": 92,
   "id": "c861d9a5-1391-4650-8599-1bbd61f5093c",
   "metadata": {},
   "outputs": [
    {
     "name": "stdout",
     "output_type": "stream",
     "text": [
      "0     1\n",
      "1     2\n",
      "2     3\n",
      "0    10\n",
      "1    20\n",
      "2    30\n",
      "dtype: int64\n",
      "5 30\n"
     ]
    }
   ],
   "source": [
    "serall = pd.concat([ser1,ser2])\n",
    "print(serall)\n",
    "print(serall.argmax(), serall.max())"
   ]
  },
  {
   "cell_type": "code",
   "execution_count": 95,
   "id": "ea8c4607-72df-4f7e-bd6e-06ff4646f34b",
   "metadata": {},
   "outputs": [
    {
     "name": "stdout",
     "output_type": "stream",
     "text": [
      "11.0\n",
      "0     1\n",
      "1     2\n",
      "2     3\n",
      "3    10\n",
      "4    20\n",
      "5    30\n",
      "dtype: int64\n",
      "6.5\n"
     ]
    }
   ],
   "source": [
    "print(serall.mean())\n",
    "print(serall.mode())\n",
    "print(serall.median())"
   ]
  },
  {
   "cell_type": "code",
   "execution_count": 96,
   "id": "92d9b58f-7913-4b4c-a73b-78eab028980f",
   "metadata": {},
   "outputs": [
    {
     "data": {
      "text/plain": [
       "0    1\n",
       "dtype: int64"
      ]
     },
     "execution_count": 96,
     "metadata": {},
     "output_type": "execute_result"
    }
   ],
   "source": [
    "serall.head(1)"
   ]
  },
  {
   "cell_type": "code",
   "execution_count": 97,
   "id": "06f9f36f-f06d-4d7f-b456-d0509e638778",
   "metadata": {},
   "outputs": [
    {
     "data": {
      "text/plain": [
       "1    20\n",
       "2    30\n",
       "dtype: int64"
      ]
     },
     "execution_count": 97,
     "metadata": {},
     "output_type": "execute_result"
    }
   ],
   "source": [
    "serall.tail(2)"
   ]
  },
  {
   "cell_type": "code",
   "execution_count": 99,
   "id": "2cde765f-8e06-4f3b-a201-e8add648d013",
   "metadata": {},
   "outputs": [
    {
     "data": {
      "text/plain": [
       "2    30\n",
       "1    20\n",
       "dtype: int64"
      ]
     },
     "execution_count": 99,
     "metadata": {},
     "output_type": "execute_result"
    }
   ],
   "source": [
    "serall.nlargest(2) # same with nsmallest"
   ]
  },
  {
   "cell_type": "markdown",
   "id": "7598f46e-c758-40e5-96ea-4ee8ce16ace0",
   "metadata": {},
   "source": [
    "#### Sorting index and values"
   ]
  },
  {
   "cell_type": "code",
   "execution_count": 101,
   "id": "42dc99d5-c3c1-44fc-9409-29bbb5547c93",
   "metadata": {},
   "outputs": [
    {
     "name": "stdout",
     "output_type": "stream",
     "text": [
      "b       Max\n",
      "c    Helena\n",
      "a     Chris\n",
      "d      Mike\n",
      "dtype: object\n",
      "a     Chris\n",
      "b       Max\n",
      "c    Helena\n",
      "d      Mike\n",
      "dtype: object\n"
     ]
    }
   ],
   "source": [
    "# sort by index\n",
    "ser1 = pd.Series(('Max','Helena', 'Chris', 'Mike'), index = ['b', 'c', 'a','d'])\n",
    "print(ser1)\n",
    "ser1 = ser1.sort_index(ascending=True)\n",
    "print(ser1)"
   ]
  },
  {
   "cell_type": "code",
   "execution_count": 104,
   "id": "c52c3ae2-ba11-4e71-8a05-5f7452fb518f",
   "metadata": {},
   "outputs": [
    {
     "name": "stdout",
     "output_type": "stream",
     "text": [
      "a     Chris\n",
      "c    Helena\n",
      "b       Max\n",
      "d      Mike\n",
      "dtype: object\n",
      "a     Chris\n",
      "c    Helena\n",
      "b       Max\n",
      "d      Mike\n",
      "dtype: object\n"
     ]
    }
   ],
   "source": [
    "# sort by value\n",
    "print(ser1)\n",
    "ser1 = ser1.sort_values(ascending=True) # you can also do inplace=True\n",
    "print(ser1)"
   ]
  },
  {
   "cell_type": "code",
   "execution_count": 105,
   "id": "02f75f10-988c-4c33-a837-2a7e1872f15f",
   "metadata": {},
   "outputs": [
    {
     "data": {
      "text/plain": [
       "Int64Index([8, 9, 10, 12, 2, 3, 7], dtype='int64')"
      ]
     },
     "execution_count": 105,
     "metadata": {},
     "output_type": "execute_result"
    }
   ],
   "source": [
    "ind3 = pd.Index([8,9,10,12,2,3,7,2])\n",
    "ind3.unique()"
   ]
  },
  {
   "cell_type": "code",
   "execution_count": 106,
   "id": "dcaa4d8d-8602-45af-b116-e0e77c9e3e98",
   "metadata": {},
   "outputs": [
    {
     "data": {
      "text/plain": [
       "2     2\n",
       "8     1\n",
       "9     1\n",
       "10    1\n",
       "12    1\n",
       "3     1\n",
       "7     1\n",
       "dtype: int64"
      ]
     },
     "execution_count": 106,
     "metadata": {},
     "output_type": "execute_result"
    }
   ],
   "source": [
    "ind3.value_counts()"
   ]
  },
  {
   "cell_type": "code",
   "execution_count": 111,
   "id": "b9918f88-0840-4dda-baf7-9659360179c2",
   "metadata": {},
   "outputs": [
    {
     "data": {
      "text/plain": [
       "0      8\n",
       "1      9\n",
       "2     10\n",
       "3     12\n",
       "4    500\n",
       "5      3\n",
       "6      7\n",
       "7    500\n",
       "dtype: int64"
      ]
     },
     "execution_count": 111,
     "metadata": {},
     "output_type": "execute_result"
    }
   ],
   "source": [
    "ind3 = pd.Series(ind3) # convert pd.Index to pd.Series\n",
    "ind3.replace(to_replace=[2,2], value=[500,500], inplace=True)\n",
    "ind3"
   ]
  },
  {
   "cell_type": "code",
   "execution_count": 115,
   "id": "17a20a9c-331b-4e89-8f4a-1ca6a2495284",
   "metadata": {},
   "outputs": [
    {
     "data": {
      "text/plain": [
       "0     8\n",
       "1     9\n",
       "2    10\n",
       "3    12\n",
       "5     3\n",
       "6     7\n",
       "dtype: int64"
      ]
     },
     "execution_count": 115,
     "metadata": {},
     "output_type": "execute_result"
    }
   ],
   "source": [
    "ind3.drop([4,7])"
   ]
  },
  {
   "cell_type": "markdown",
   "id": "b891f3ca-3c46-491f-903b-2817c31c170d",
   "metadata": {},
   "source": [
    "### pd.DataFrame\n",
    "= 2d array with convenient access <br>\n",
    "= group of alligned by index pd.Series"
   ]
  },
  {
   "cell_type": "markdown",
   "id": "c6f51dc4-63c8-4166-839b-f41c7f3101f5",
   "metadata": {},
   "source": [
    "#### Creation of pd.Dataframe\n",
    "from:<br>\n",
    "- list of dictionaries\n",
    "- dictionary of series\n",
    "- dictionary of iterables\n",
    "- 2d numpy array\n",
    "- strucured numpy array"
   ]
  },
  {
   "cell_type": "code",
   "execution_count": 6,
   "id": "4442d249-658f-47fd-b0d7-26a932e4446c",
   "metadata": {},
   "outputs": [
    {
     "data": {
      "text/html": [
       "<div>\n",
       "<style scoped>\n",
       "    .dataframe tbody tr th:only-of-type {\n",
       "        vertical-align: middle;\n",
       "    }\n",
       "\n",
       "    .dataframe tbody tr th {\n",
       "        vertical-align: top;\n",
       "    }\n",
       "\n",
       "    .dataframe thead th {\n",
       "        text-align: right;\n",
       "    }\n",
       "</style>\n",
       "<table border=\"1\" class=\"dataframe\">\n",
       "  <thead>\n",
       "    <tr style=\"text-align: right;\">\n",
       "      <th></th>\n",
       "      <th>name</th>\n",
       "      <th>capital</th>\n",
       "      <th>population</th>\n",
       "      <th>area</th>\n",
       "    </tr>\n",
       "  </thead>\n",
       "  <tbody>\n",
       "    <tr>\n",
       "      <th>LB</th>\n",
       "      <td>Lower Bavaria</td>\n",
       "      <td>Landshut</td>\n",
       "      <td>1244169</td>\n",
       "      <td>10330</td>\n",
       "    </tr>\n",
       "    <tr>\n",
       "      <th>LF</th>\n",
       "      <td>Lower Franconia</td>\n",
       "      <td>Würzburg</td>\n",
       "      <td>1317619</td>\n",
       "      <td>8531</td>\n",
       "    </tr>\n",
       "    <tr>\n",
       "      <th>UF</th>\n",
       "      <td>Upper Franconia</td>\n",
       "      <td>Bayreuth</td>\n",
       "      <td>1065371</td>\n",
       "      <td>7231</td>\n",
       "    </tr>\n",
       "    <tr>\n",
       "      <th>MF</th>\n",
       "      <td>Middle Franconia</td>\n",
       "      <td>Ansbach</td>\n",
       "      <td>1775169</td>\n",
       "      <td>7245</td>\n",
       "    </tr>\n",
       "    <tr>\n",
       "      <th>UP</th>\n",
       "      <td>Upper Palatinate</td>\n",
       "      <td>Regensburg</td>\n",
       "      <td>1112102</td>\n",
       "      <td>9691</td>\n",
       "    </tr>\n",
       "    <tr>\n",
       "      <th>S</th>\n",
       "      <td>Swabia</td>\n",
       "      <td>Augsburg</td>\n",
       "      <td>1899442</td>\n",
       "      <td>9992</td>\n",
       "    </tr>\n",
       "    <tr>\n",
       "      <th>UB</th>\n",
       "      <td>Upper Bavaria</td>\n",
       "      <td>Munich</td>\n",
       "      <td>4710865</td>\n",
       "      <td>17530</td>\n",
       "    </tr>\n",
       "  </tbody>\n",
       "</table>\n",
       "</div>"
      ],
      "text/plain": [
       "                name     capital  population   area\n",
       "LB     Lower Bavaria    Landshut     1244169  10330\n",
       "LF   Lower Franconia    Würzburg     1317619   8531\n",
       "UF   Upper Franconia    Bayreuth     1065371   7231\n",
       "MF  Middle Franconia     Ansbach     1775169   7245\n",
       "UP  Upper Palatinate  Regensburg     1112102   9691\n",
       "S             Swabia    Augsburg     1899442   9992\n",
       "UB     Upper Bavaria      Munich     4710865  17530"
      ]
     },
     "execution_count": 6,
     "metadata": {},
     "output_type": "execute_result"
    }
   ],
   "source": [
    "df = pd.DataFrame(\n",
    "    { 'name': [\n",
    "        'Lower Bavaria', 'Lower Franconia', 'Upper Franconia', 'Middle Franconia', 'Upper Palatinate', 'Swabia','Upper Bavaria'],\n",
    "      'capital': ['Landshut', 'Würzburg', 'Bayreuth', 'Ansbach', 'Regensburg', 'Augsburg', 'Munich'], \n",
    "     'population': [1_244_169, 1_317_619, 1_065_371, 1_775_169, 1_112_102, 1_899_442, 4_710_865], \n",
    "     'area': [10_330, 8_531, 7_231, 7_245, 9_691, 9_992, 17_530 ] \n",
    "    }) \n",
    "\n",
    "df.index = pd.Index(('LB', 'LF', 'UF', 'MF', 'UP', 'S', 'UB'))\n",
    "df"
   ]
  },
  {
   "cell_type": "code",
   "execution_count": 5,
   "id": "4ffa6e2e-c3dc-40bd-9071-a6d275b0e19d",
   "metadata": {},
   "outputs": [
    {
     "name": "stdout",
     "output_type": "stream",
     "text": [
      "Index(['name', 'capital', 'population', 'area'], dtype='object')\n",
      "Index(['LB', 'LF', 'UF', 'MF', 'UP', 'S', 'UB'], dtype='object')\n",
      "               name   capital  population   area\n",
      "LB    Lower Bavaria  Landshut     1244169  10330\n",
      "LF  Lower Franconia  Würzburg     1317619   8531\n",
      "             name   capital  population   area\n",
      "S          Swabia  Augsburg     1899442   9992\n",
      "UB  Upper Bavaria    Munich     4710865  17530\n"
     ]
    }
   ],
   "source": [
    "print(df.columns)\n",
    "print(df.index)\n",
    "print(df.head(2))\n",
    "print(df.tail(2))"
   ]
  },
  {
   "cell_type": "code",
   "execution_count": 6,
   "id": "c7527e6d-6e6c-4c2d-9d4f-f3eb98f5740a",
   "metadata": {},
   "outputs": [
    {
     "data": {
      "text/plain": [
       "(7, 4)"
      ]
     },
     "execution_count": 6,
     "metadata": {},
     "output_type": "execute_result"
    }
   ],
   "source": [
    "df.shape"
   ]
  },
  {
   "cell_type": "code",
   "execution_count": 7,
   "id": "00442040-c202-4050-b2a7-b5f03dcc4f11",
   "metadata": {},
   "outputs": [
    {
     "data": {
      "text/plain": [
       "28"
      ]
     },
     "execution_count": 7,
     "metadata": {},
     "output_type": "execute_result"
    }
   ],
   "source": [
    "df.size"
   ]
  },
  {
   "cell_type": "markdown",
   "id": "ed2c200c-3b16-4396-b6ed-8cdcfba318d5",
   "metadata": {},
   "source": [
    "#### Access of elements"
   ]
  },
  {
   "cell_type": "code",
   "execution_count": 8,
   "id": "7ff304a1-d69f-4101-bfd8-09a120a6221f",
   "metadata": {},
   "outputs": [
    {
     "data": {
      "text/plain": [
       "LB      Landshut\n",
       "LF      Würzburg\n",
       "UF      Bayreuth\n",
       "MF       Ansbach\n",
       "UP    Regensburg\n",
       "S       Augsburg\n",
       "UB        Munich\n",
       "Name: capital, dtype: object"
      ]
     },
     "execution_count": 8,
     "metadata": {},
     "output_type": "execute_result"
    }
   ],
   "source": [
    "df['capital']"
   ]
  },
  {
   "cell_type": "code",
   "execution_count": 9,
   "id": "69810398-2e1b-4cfd-b780-08f97b898d86",
   "metadata": {},
   "outputs": [
    {
     "data": {
      "text/html": [
       "<div>\n",
       "<style scoped>\n",
       "    .dataframe tbody tr th:only-of-type {\n",
       "        vertical-align: middle;\n",
       "    }\n",
       "\n",
       "    .dataframe tbody tr th {\n",
       "        vertical-align: top;\n",
       "    }\n",
       "\n",
       "    .dataframe thead th {\n",
       "        text-align: right;\n",
       "    }\n",
       "</style>\n",
       "<table border=\"1\" class=\"dataframe\">\n",
       "  <thead>\n",
       "    <tr style=\"text-align: right;\">\n",
       "      <th></th>\n",
       "      <th>capital</th>\n",
       "      <th>area</th>\n",
       "    </tr>\n",
       "  </thead>\n",
       "  <tbody>\n",
       "    <tr>\n",
       "      <th>LB</th>\n",
       "      <td>Landshut</td>\n",
       "      <td>10330</td>\n",
       "    </tr>\n",
       "    <tr>\n",
       "      <th>LF</th>\n",
       "      <td>Würzburg</td>\n",
       "      <td>8531</td>\n",
       "    </tr>\n",
       "    <tr>\n",
       "      <th>UF</th>\n",
       "      <td>Bayreuth</td>\n",
       "      <td>7231</td>\n",
       "    </tr>\n",
       "    <tr>\n",
       "      <th>MF</th>\n",
       "      <td>Ansbach</td>\n",
       "      <td>7245</td>\n",
       "    </tr>\n",
       "    <tr>\n",
       "      <th>UP</th>\n",
       "      <td>Regensburg</td>\n",
       "      <td>9691</td>\n",
       "    </tr>\n",
       "    <tr>\n",
       "      <th>S</th>\n",
       "      <td>Augsburg</td>\n",
       "      <td>9992</td>\n",
       "    </tr>\n",
       "    <tr>\n",
       "      <th>UB</th>\n",
       "      <td>Munich</td>\n",
       "      <td>17530</td>\n",
       "    </tr>\n",
       "  </tbody>\n",
       "</table>\n",
       "</div>"
      ],
      "text/plain": [
       "       capital   area\n",
       "LB    Landshut  10330\n",
       "LF    Würzburg   8531\n",
       "UF    Bayreuth   7231\n",
       "MF     Ansbach   7245\n",
       "UP  Regensburg   9691\n",
       "S     Augsburg   9992\n",
       "UB      Munich  17530"
      ]
     },
     "execution_count": 9,
     "metadata": {},
     "output_type": "execute_result"
    }
   ],
   "source": [
    "df[['capital', 'area']]"
   ]
  },
  {
   "cell_type": "markdown",
   "id": "29b4958a-0865-490c-a8ec-7f0408f63a4e",
   "metadata": {},
   "source": [
    "slicing"
   ]
  },
  {
   "cell_type": "code",
   "execution_count": 12,
   "id": "83c31ca0-b4c0-4329-b587-0c94d381f4d2",
   "metadata": {},
   "outputs": [
    {
     "data": {
      "text/html": [
       "<div>\n",
       "<style scoped>\n",
       "    .dataframe tbody tr th:only-of-type {\n",
       "        vertical-align: middle;\n",
       "    }\n",
       "\n",
       "    .dataframe tbody tr th {\n",
       "        vertical-align: top;\n",
       "    }\n",
       "\n",
       "    .dataframe thead th {\n",
       "        text-align: right;\n",
       "    }\n",
       "</style>\n",
       "<table border=\"1\" class=\"dataframe\">\n",
       "  <thead>\n",
       "    <tr style=\"text-align: right;\">\n",
       "      <th></th>\n",
       "      <th>capital</th>\n",
       "      <th>population</th>\n",
       "      <th>area</th>\n",
       "    </tr>\n",
       "  </thead>\n",
       "  <tbody>\n",
       "    <tr>\n",
       "      <th>LB</th>\n",
       "      <td>Landshut</td>\n",
       "      <td>1244169</td>\n",
       "      <td>10330</td>\n",
       "    </tr>\n",
       "    <tr>\n",
       "      <th>LF</th>\n",
       "      <td>Würzburg</td>\n",
       "      <td>1317619</td>\n",
       "      <td>8531</td>\n",
       "    </tr>\n",
       "    <tr>\n",
       "      <th>UF</th>\n",
       "      <td>Bayreuth</td>\n",
       "      <td>1065371</td>\n",
       "      <td>7231</td>\n",
       "    </tr>\n",
       "    <tr>\n",
       "      <th>MF</th>\n",
       "      <td>Ansbach</td>\n",
       "      <td>1775169</td>\n",
       "      <td>7245</td>\n",
       "    </tr>\n",
       "    <tr>\n",
       "      <th>UP</th>\n",
       "      <td>Regensburg</td>\n",
       "      <td>1112102</td>\n",
       "      <td>9691</td>\n",
       "    </tr>\n",
       "    <tr>\n",
       "      <th>S</th>\n",
       "      <td>Augsburg</td>\n",
       "      <td>1899442</td>\n",
       "      <td>9992</td>\n",
       "    </tr>\n",
       "    <tr>\n",
       "      <th>UB</th>\n",
       "      <td>Munich</td>\n",
       "      <td>4710865</td>\n",
       "      <td>17530</td>\n",
       "    </tr>\n",
       "  </tbody>\n",
       "</table>\n",
       "</div>"
      ],
      "text/plain": [
       "       capital  population   area\n",
       "LB    Landshut     1244169  10330\n",
       "LF    Würzburg     1317619   8531\n",
       "UF    Bayreuth     1065371   7231\n",
       "MF     Ansbach     1775169   7245\n",
       "UP  Regensburg     1112102   9691\n",
       "S     Augsburg     1899442   9992\n",
       "UB      Munich     4710865  17530"
      ]
     },
     "execution_count": 12,
     "metadata": {},
     "output_type": "execute_result"
    }
   ],
   "source": [
    "df.loc[:,'capital':'area']"
   ]
  },
  {
   "cell_type": "code",
   "execution_count": 13,
   "id": "d831a3a4-66c4-4684-a533-2faf9c77dbea",
   "metadata": {},
   "outputs": [
    {
     "data": {
      "text/html": [
       "<div>\n",
       "<style scoped>\n",
       "    .dataframe tbody tr th:only-of-type {\n",
       "        vertical-align: middle;\n",
       "    }\n",
       "\n",
       "    .dataframe tbody tr th {\n",
       "        vertical-align: top;\n",
       "    }\n",
       "\n",
       "    .dataframe thead th {\n",
       "        text-align: right;\n",
       "    }\n",
       "</style>\n",
       "<table border=\"1\" class=\"dataframe\">\n",
       "  <thead>\n",
       "    <tr style=\"text-align: right;\">\n",
       "      <th></th>\n",
       "      <th>capital</th>\n",
       "      <th>population</th>\n",
       "    </tr>\n",
       "  </thead>\n",
       "  <tbody>\n",
       "    <tr>\n",
       "      <th>LB</th>\n",
       "      <td>Landshut</td>\n",
       "      <td>1244169</td>\n",
       "    </tr>\n",
       "    <tr>\n",
       "      <th>LF</th>\n",
       "      <td>Würzburg</td>\n",
       "      <td>1317619</td>\n",
       "    </tr>\n",
       "    <tr>\n",
       "      <th>UF</th>\n",
       "      <td>Bayreuth</td>\n",
       "      <td>1065371</td>\n",
       "    </tr>\n",
       "    <tr>\n",
       "      <th>MF</th>\n",
       "      <td>Ansbach</td>\n",
       "      <td>1775169</td>\n",
       "    </tr>\n",
       "    <tr>\n",
       "      <th>UP</th>\n",
       "      <td>Regensburg</td>\n",
       "      <td>1112102</td>\n",
       "    </tr>\n",
       "    <tr>\n",
       "      <th>S</th>\n",
       "      <td>Augsburg</td>\n",
       "      <td>1899442</td>\n",
       "    </tr>\n",
       "    <tr>\n",
       "      <th>UB</th>\n",
       "      <td>Munich</td>\n",
       "      <td>4710865</td>\n",
       "    </tr>\n",
       "  </tbody>\n",
       "</table>\n",
       "</div>"
      ],
      "text/plain": [
       "       capital  population\n",
       "LB    Landshut     1244169\n",
       "LF    Würzburg     1317619\n",
       "UF    Bayreuth     1065371\n",
       "MF     Ansbach     1775169\n",
       "UP  Regensburg     1112102\n",
       "S     Augsburg     1899442\n",
       "UB      Munich     4710865"
      ]
     },
     "execution_count": 13,
     "metadata": {},
     "output_type": "execute_result"
    }
   ],
   "source": [
    "df.iloc[:, 1:3]"
   ]
  },
  {
   "cell_type": "markdown",
   "id": "7b4c8338-a6ca-46a7-a6c9-ef00996e4a37",
   "metadata": {
    "tags": []
   },
   "source": [
    "adding and removing columns"
   ]
  },
  {
   "cell_type": "code",
   "execution_count": 15,
   "id": "527e1599-a067-487f-beef-fc62e9756f5e",
   "metadata": {},
   "outputs": [
    {
     "data": {
      "text/html": [
       "<div>\n",
       "<style scoped>\n",
       "    .dataframe tbody tr th:only-of-type {\n",
       "        vertical-align: middle;\n",
       "    }\n",
       "\n",
       "    .dataframe tbody tr th {\n",
       "        vertical-align: top;\n",
       "    }\n",
       "\n",
       "    .dataframe thead th {\n",
       "        text-align: right;\n",
       "    }\n",
       "</style>\n",
       "<table border=\"1\" class=\"dataframe\">\n",
       "  <thead>\n",
       "    <tr style=\"text-align: right;\">\n",
       "      <th></th>\n",
       "      <th>name</th>\n",
       "      <th>capital</th>\n",
       "      <th>population</th>\n",
       "      <th>area</th>\n",
       "      <th>new_col</th>\n",
       "    </tr>\n",
       "  </thead>\n",
       "  <tbody>\n",
       "    <tr>\n",
       "      <th>LB</th>\n",
       "      <td>Lower Bavaria</td>\n",
       "      <td>Landshut</td>\n",
       "      <td>1244169</td>\n",
       "      <td>10330</td>\n",
       "      <td>231</td>\n",
       "    </tr>\n",
       "    <tr>\n",
       "      <th>LF</th>\n",
       "      <td>Lower Franconia</td>\n",
       "      <td>Würzburg</td>\n",
       "      <td>1317619</td>\n",
       "      <td>8531</td>\n",
       "      <td>999</td>\n",
       "    </tr>\n",
       "    <tr>\n",
       "      <th>UF</th>\n",
       "      <td>Upper Franconia</td>\n",
       "      <td>Bayreuth</td>\n",
       "      <td>1065371</td>\n",
       "      <td>7231</td>\n",
       "      <td>1000</td>\n",
       "    </tr>\n",
       "    <tr>\n",
       "      <th>MF</th>\n",
       "      <td>Middle Franconia</td>\n",
       "      <td>Ansbach</td>\n",
       "      <td>1775169</td>\n",
       "      <td>7245</td>\n",
       "      <td>222</td>\n",
       "    </tr>\n",
       "    <tr>\n",
       "      <th>UP</th>\n",
       "      <td>Upper Palatinate</td>\n",
       "      <td>Regensburg</td>\n",
       "      <td>1112102</td>\n",
       "      <td>9691</td>\n",
       "      <td>333</td>\n",
       "    </tr>\n",
       "    <tr>\n",
       "      <th>S</th>\n",
       "      <td>Swabia</td>\n",
       "      <td>Augsburg</td>\n",
       "      <td>1899442</td>\n",
       "      <td>9992</td>\n",
       "      <td>555</td>\n",
       "    </tr>\n",
       "    <tr>\n",
       "      <th>UB</th>\n",
       "      <td>Upper Bavaria</td>\n",
       "      <td>Munich</td>\n",
       "      <td>4710865</td>\n",
       "      <td>17530</td>\n",
       "      <td>99898</td>\n",
       "    </tr>\n",
       "  </tbody>\n",
       "</table>\n",
       "</div>"
      ],
      "text/plain": [
       "                name     capital  population   area  new_col\n",
       "LB     Lower Bavaria    Landshut     1244169  10330      231\n",
       "LF   Lower Franconia    Würzburg     1317619   8531      999\n",
       "UF   Upper Franconia    Bayreuth     1065371   7231     1000\n",
       "MF  Middle Franconia     Ansbach     1775169   7245      222\n",
       "UP  Upper Palatinate  Regensburg     1112102   9691      333\n",
       "S             Swabia    Augsburg     1899442   9992      555\n",
       "UB     Upper Bavaria      Munich     4710865  17530    99898"
      ]
     },
     "execution_count": 15,
     "metadata": {},
     "output_type": "execute_result"
    }
   ],
   "source": [
    "df['new_col'] = [231,999,1000,222,333,555,99898]\n",
    "df"
   ]
  },
  {
   "cell_type": "code",
   "execution_count": 16,
   "id": "eef34778-83de-4c2f-a8c2-17539aba9ed6",
   "metadata": {},
   "outputs": [],
   "source": [
    "del df['new_col']"
   ]
  },
  {
   "cell_type": "code",
   "execution_count": 18,
   "id": "488d64b3-30da-4c27-b7d7-130a75e5f700",
   "metadata": {},
   "outputs": [
    {
     "data": {
      "text/html": [
       "<div>\n",
       "<style scoped>\n",
       "    .dataframe tbody tr th:only-of-type {\n",
       "        vertical-align: middle;\n",
       "    }\n",
       "\n",
       "    .dataframe tbody tr th {\n",
       "        vertical-align: top;\n",
       "    }\n",
       "\n",
       "    .dataframe thead th {\n",
       "        text-align: right;\n",
       "    }\n",
       "</style>\n",
       "<table border=\"1\" class=\"dataframe\">\n",
       "  <thead>\n",
       "    <tr style=\"text-align: right;\">\n",
       "      <th></th>\n",
       "      <th>name</th>\n",
       "      <th>capital</th>\n",
       "      <th>population</th>\n",
       "      <th>area</th>\n",
       "    </tr>\n",
       "  </thead>\n",
       "  <tbody>\n",
       "    <tr>\n",
       "      <th>LB</th>\n",
       "      <td>Lower Bavaria</td>\n",
       "      <td>Landshut</td>\n",
       "      <td>1244169</td>\n",
       "      <td>10330</td>\n",
       "    </tr>\n",
       "    <tr>\n",
       "      <th>LF</th>\n",
       "      <td>Lower Franconia</td>\n",
       "      <td>Würzburg</td>\n",
       "      <td>1317619</td>\n",
       "      <td>8531</td>\n",
       "    </tr>\n",
       "    <tr>\n",
       "      <th>UF</th>\n",
       "      <td>Upper Franconia</td>\n",
       "      <td>Bayreuth</td>\n",
       "      <td>1065371</td>\n",
       "      <td>7231</td>\n",
       "    </tr>\n",
       "    <tr>\n",
       "      <th>MF</th>\n",
       "      <td>Middle Franconia</td>\n",
       "      <td>Ansbach</td>\n",
       "      <td>1775169</td>\n",
       "      <td>7245</td>\n",
       "    </tr>\n",
       "    <tr>\n",
       "      <th>UP</th>\n",
       "      <td>Upper Palatinate</td>\n",
       "      <td>Regensburg</td>\n",
       "      <td>1112102</td>\n",
       "      <td>9691</td>\n",
       "    </tr>\n",
       "    <tr>\n",
       "      <th>S</th>\n",
       "      <td>Swabia</td>\n",
       "      <td>Augsburg</td>\n",
       "      <td>1899442</td>\n",
       "      <td>9992</td>\n",
       "    </tr>\n",
       "    <tr>\n",
       "      <th>UB</th>\n",
       "      <td>Upper Bavaria</td>\n",
       "      <td>Munich</td>\n",
       "      <td>4710865</td>\n",
       "      <td>17530</td>\n",
       "    </tr>\n",
       "  </tbody>\n",
       "</table>\n",
       "</div>"
      ],
      "text/plain": [
       "                name     capital  population   area\n",
       "LB     Lower Bavaria    Landshut     1244169  10330\n",
       "LF   Lower Franconia    Würzburg     1317619   8531\n",
       "UF   Upper Franconia    Bayreuth     1065371   7231\n",
       "MF  Middle Franconia     Ansbach     1775169   7245\n",
       "UP  Upper Palatinate  Regensburg     1112102   9691\n",
       "S             Swabia    Augsburg     1899442   9992\n",
       "UB     Upper Bavaria      Munich     4710865  17530"
      ]
     },
     "execution_count": 18,
     "metadata": {},
     "output_type": "execute_result"
    }
   ],
   "source": [
    "df"
   ]
  },
  {
   "cell_type": "code",
   "execution_count": 19,
   "id": "ed102b0b-bf49-470c-99fc-154dfa50615f",
   "metadata": {},
   "outputs": [
    {
     "data": {
      "text/html": [
       "<div>\n",
       "<style scoped>\n",
       "    .dataframe tbody tr th:only-of-type {\n",
       "        vertical-align: middle;\n",
       "    }\n",
       "\n",
       "    .dataframe tbody tr th {\n",
       "        vertical-align: top;\n",
       "    }\n",
       "\n",
       "    .dataframe thead th {\n",
       "        text-align: right;\n",
       "    }\n",
       "</style>\n",
       "<table border=\"1\" class=\"dataframe\">\n",
       "  <thead>\n",
       "    <tr style=\"text-align: right;\">\n",
       "      <th></th>\n",
       "      <th>name</th>\n",
       "      <th>capital</th>\n",
       "      <th>population</th>\n",
       "      <th>area</th>\n",
       "    </tr>\n",
       "  </thead>\n",
       "  <tbody>\n",
       "    <tr>\n",
       "      <th>LB</th>\n",
       "      <td>Lower Bavaria</td>\n",
       "      <td>Landshut</td>\n",
       "      <td>1244169</td>\n",
       "      <td>10330.0</td>\n",
       "    </tr>\n",
       "    <tr>\n",
       "      <th>LF</th>\n",
       "      <td>Lower Franconia</td>\n",
       "      <td>Würzburg</td>\n",
       "      <td>1317619</td>\n",
       "      <td>8531.0</td>\n",
       "    </tr>\n",
       "    <tr>\n",
       "      <th>UF</th>\n",
       "      <td>Upper Franconia</td>\n",
       "      <td>Bayreuth</td>\n",
       "      <td>1065371</td>\n",
       "      <td>7231.0</td>\n",
       "    </tr>\n",
       "    <tr>\n",
       "      <th>MF</th>\n",
       "      <td>Middle Franconia</td>\n",
       "      <td>Ansbach</td>\n",
       "      <td>1775169</td>\n",
       "      <td>7245.0</td>\n",
       "    </tr>\n",
       "    <tr>\n",
       "      <th>UP</th>\n",
       "      <td>Upper Palatinate</td>\n",
       "      <td>Regensburg</td>\n",
       "      <td>1112102</td>\n",
       "      <td>9691.0</td>\n",
       "    </tr>\n",
       "    <tr>\n",
       "      <th>S</th>\n",
       "      <td>Swabia</td>\n",
       "      <td>Augsburg</td>\n",
       "      <td>1899442</td>\n",
       "      <td>9992.0</td>\n",
       "    </tr>\n",
       "    <tr>\n",
       "      <th>UB</th>\n",
       "      <td>Upper Bavaria</td>\n",
       "      <td>Munich</td>\n",
       "      <td>4710865</td>\n",
       "      <td>17530.0</td>\n",
       "    </tr>\n",
       "  </tbody>\n",
       "</table>\n",
       "</div>"
      ],
      "text/plain": [
       "                name     capital  population     area\n",
       "LB     Lower Bavaria    Landshut     1244169  10330.0\n",
       "LF   Lower Franconia    Würzburg     1317619   8531.0\n",
       "UF   Upper Franconia    Bayreuth     1065371   7231.0\n",
       "MF  Middle Franconia     Ansbach     1775169   7245.0\n",
       "UP  Upper Palatinate  Regensburg     1112102   9691.0\n",
       "S             Swabia    Augsburg     1899442   9992.0\n",
       "UB     Upper Bavaria      Munich     4710865  17530.0"
      ]
     },
     "execution_count": 19,
     "metadata": {},
     "output_type": "execute_result"
    }
   ],
   "source": [
    "df['area'] = df['area'].astype(float)\n",
    "df"
   ]
  },
  {
   "cell_type": "code",
   "execution_count": 20,
   "id": "4a91bbb7-896e-42e1-a232-95e27436746e",
   "metadata": {},
   "outputs": [
    {
     "ename": "NameError",
     "evalue": "name 'np' is not defined",
     "output_type": "error",
     "traceback": [
      "\u001b[0;31m---------------------------------------------------------------------------\u001b[0m",
      "\u001b[0;31mNameError\u001b[0m                                 Traceback (most recent call last)",
      "Input \u001b[0;32mIn [20]\u001b[0m, in \u001b[0;36m<cell line: 1>\u001b[0;34m()\u001b[0m\n\u001b[0;32m----> 1\u001b[0m df\u001b[38;5;241m.\u001b[39mastype({\u001b[38;5;124m'\u001b[39m\u001b[38;5;124marea\u001b[39m\u001b[38;5;124m'\u001b[39m:\u001b[43mnp\u001b[49m\u001b[38;5;241m.\u001b[39mint64, \u001b[38;5;124m'\u001b[39m\u001b[38;5;124mpopulation\u001b[39m\u001b[38;5;124m'\u001b[39m:np\u001b[38;5;241m.\u001b[39mfloat64})\n",
      "\u001b[0;31mNameError\u001b[0m: name 'np' is not defined"
     ]
    }
   ],
   "source": [
    "df.astype({'area':np.int64, 'population':np.float64})"
   ]
  },
  {
   "cell_type": "code",
   "execution_count": 22,
   "id": "ba225c9c-5da0-4ec4-854f-9589c64552ed",
   "metadata": {},
   "outputs": [
    {
     "data": {
      "text/plain": [
       "name           object\n",
       "capital        object\n",
       "population      int64\n",
       "area          float64\n",
       "dtype: object"
      ]
     },
     "execution_count": 22,
     "metadata": {},
     "output_type": "execute_result"
    }
   ],
   "source": [
    "df.dtypes"
   ]
  },
  {
   "cell_type": "markdown",
   "id": "4f4ae8a0-001a-4137-9fa1-5b1a92153328",
   "metadata": {},
   "source": [
    "### Datatypes\n",
    "- float\n",
    "- int\n",
    "- bool\n",
    "- timedelta64\n",
    "- datetime64\n",
    "- pd.StringDtype"
   ]
  },
  {
   "cell_type": "markdown",
   "id": "bad89478-7571-4921-a099-6451c3664174",
   "metadata": {},
   "source": [
    "DF data access"
   ]
  },
  {
   "cell_type": "code",
   "execution_count": 11,
   "id": "15075972-7d21-488a-9547-9f2165db5aa5",
   "metadata": {},
   "outputs": [
    {
     "data": {
      "text/html": [
       "<div>\n",
       "<style scoped>\n",
       "    .dataframe tbody tr th:only-of-type {\n",
       "        vertical-align: middle;\n",
       "    }\n",
       "\n",
       "    .dataframe tbody tr th {\n",
       "        vertical-align: top;\n",
       "    }\n",
       "\n",
       "    .dataframe thead th {\n",
       "        text-align: right;\n",
       "    }\n",
       "</style>\n",
       "<table border=\"1\" class=\"dataframe\">\n",
       "  <thead>\n",
       "    <tr style=\"text-align: right;\">\n",
       "      <th></th>\n",
       "      <th>name</th>\n",
       "      <th>capital</th>\n",
       "      <th>population</th>\n",
       "      <th>area</th>\n",
       "    </tr>\n",
       "  </thead>\n",
       "  <tbody>\n",
       "    <tr>\n",
       "      <th>LB</th>\n",
       "      <td>Lower Bavaria</td>\n",
       "      <td>Landshut</td>\n",
       "      <td>1244169</td>\n",
       "      <td>10330</td>\n",
       "    </tr>\n",
       "    <tr>\n",
       "      <th>LF</th>\n",
       "      <td>Lower Franconia</td>\n",
       "      <td>Würzburg</td>\n",
       "      <td>1317619</td>\n",
       "      <td>8531</td>\n",
       "    </tr>\n",
       "    <tr>\n",
       "      <th>UF</th>\n",
       "      <td>Upper Franconia</td>\n",
       "      <td>Bayreuth</td>\n",
       "      <td>1065371</td>\n",
       "      <td>7231</td>\n",
       "    </tr>\n",
       "    <tr>\n",
       "      <th>MF</th>\n",
       "      <td>Middle Franconia</td>\n",
       "      <td>Ansbach</td>\n",
       "      <td>1775169</td>\n",
       "      <td>7245</td>\n",
       "    </tr>\n",
       "    <tr>\n",
       "      <th>UP</th>\n",
       "      <td>Upper Palatinate</td>\n",
       "      <td>Regensburg</td>\n",
       "      <td>1112102</td>\n",
       "      <td>9691</td>\n",
       "    </tr>\n",
       "    <tr>\n",
       "      <th>S</th>\n",
       "      <td>Swabia</td>\n",
       "      <td>Augsburg</td>\n",
       "      <td>1899442</td>\n",
       "      <td>9992</td>\n",
       "    </tr>\n",
       "    <tr>\n",
       "      <th>UB</th>\n",
       "      <td>Upper Bavaria</td>\n",
       "      <td>Munich</td>\n",
       "      <td>4710865</td>\n",
       "      <td>17530</td>\n",
       "    </tr>\n",
       "  </tbody>\n",
       "</table>\n",
       "</div>"
      ],
      "text/plain": [
       "                name     capital  population   area\n",
       "LB     Lower Bavaria    Landshut     1244169  10330\n",
       "LF   Lower Franconia    Würzburg     1317619   8531\n",
       "UF   Upper Franconia    Bayreuth     1065371   7231\n",
       "MF  Middle Franconia     Ansbach     1775169   7245\n",
       "UP  Upper Palatinate  Regensburg     1112102   9691\n",
       "S             Swabia    Augsburg     1899442   9992\n",
       "UB     Upper Bavaria      Munich     4710865  17530"
      ]
     },
     "execution_count": 11,
     "metadata": {},
     "output_type": "execute_result"
    }
   ],
   "source": [
    "df"
   ]
  },
  {
   "cell_type": "code",
   "execution_count": 12,
   "id": "d766e5d3-c752-4e0e-b594-e1b3635bcdb0",
   "metadata": {},
   "outputs": [
    {
     "data": {
      "text/html": [
       "<div>\n",
       "<style scoped>\n",
       "    .dataframe tbody tr th:only-of-type {\n",
       "        vertical-align: middle;\n",
       "    }\n",
       "\n",
       "    .dataframe tbody tr th {\n",
       "        vertical-align: top;\n",
       "    }\n",
       "\n",
       "    .dataframe thead th {\n",
       "        text-align: right;\n",
       "    }\n",
       "</style>\n",
       "<table border=\"1\" class=\"dataframe\">\n",
       "  <thead>\n",
       "    <tr style=\"text-align: right;\">\n",
       "      <th></th>\n",
       "      <th>name</th>\n",
       "      <th>capital</th>\n",
       "      <th>population</th>\n",
       "      <th>area</th>\n",
       "    </tr>\n",
       "  </thead>\n",
       "  <tbody>\n",
       "    <tr>\n",
       "      <th>LB</th>\n",
       "      <td>Lower Bavaria</td>\n",
       "      <td>Landshut</td>\n",
       "      <td>1244169</td>\n",
       "      <td>10330</td>\n",
       "    </tr>\n",
       "    <tr>\n",
       "      <th>UB</th>\n",
       "      <td>Upper Bavaria</td>\n",
       "      <td>Munich</td>\n",
       "      <td>4710865</td>\n",
       "      <td>17530</td>\n",
       "    </tr>\n",
       "  </tbody>\n",
       "</table>\n",
       "</div>"
      ],
      "text/plain": [
       "             name   capital  population   area\n",
       "LB  Lower Bavaria  Landshut     1244169  10330\n",
       "UB  Upper Bavaria    Munich     4710865  17530"
      ]
     },
     "execution_count": 12,
     "metadata": {},
     "output_type": "execute_result"
    }
   ],
   "source": [
    "df.loc[df['area']>10_000]"
   ]
  },
  {
   "cell_type": "code",
   "execution_count": 13,
   "id": "5ecb217b-ec50-48db-823e-8208b8b63102",
   "metadata": {},
   "outputs": [
    {
     "data": {
      "text/html": [
       "<div>\n",
       "<style scoped>\n",
       "    .dataframe tbody tr th:only-of-type {\n",
       "        vertical-align: middle;\n",
       "    }\n",
       "\n",
       "    .dataframe tbody tr th {\n",
       "        vertical-align: top;\n",
       "    }\n",
       "\n",
       "    .dataframe thead th {\n",
       "        text-align: right;\n",
       "    }\n",
       "</style>\n",
       "<table border=\"1\" class=\"dataframe\">\n",
       "  <thead>\n",
       "    <tr style=\"text-align: right;\">\n",
       "      <th></th>\n",
       "      <th>population</th>\n",
       "      <th>area</th>\n",
       "    </tr>\n",
       "  </thead>\n",
       "  <tbody>\n",
       "    <tr>\n",
       "      <th>MF</th>\n",
       "      <td>1775169</td>\n",
       "      <td>7245</td>\n",
       "    </tr>\n",
       "    <tr>\n",
       "      <th>UP</th>\n",
       "      <td>1112102</td>\n",
       "      <td>9691</td>\n",
       "    </tr>\n",
       "    <tr>\n",
       "      <th>S</th>\n",
       "      <td>1899442</td>\n",
       "      <td>9992</td>\n",
       "    </tr>\n",
       "    <tr>\n",
       "      <th>UB</th>\n",
       "      <td>4710865</td>\n",
       "      <td>17530</td>\n",
       "    </tr>\n",
       "  </tbody>\n",
       "</table>\n",
       "</div>"
      ],
      "text/plain": [
       "    population   area\n",
       "MF     1775169   7245\n",
       "UP     1112102   9691\n",
       "S      1899442   9992\n",
       "UB     4710865  17530"
      ]
     },
     "execution_count": 13,
     "metadata": {},
     "output_type": "execute_result"
    }
   ],
   "source": [
    "df.iloc[3:,2:]"
   ]
  },
  {
   "cell_type": "code",
   "execution_count": 19,
   "id": "aea90dca-b938-49e4-8ad4-77ec49e6129a",
   "metadata": {},
   "outputs": [
    {
     "data": {
      "text/html": [
       "<div>\n",
       "<style scoped>\n",
       "    .dataframe tbody tr th:only-of-type {\n",
       "        vertical-align: middle;\n",
       "    }\n",
       "\n",
       "    .dataframe tbody tr th {\n",
       "        vertical-align: top;\n",
       "    }\n",
       "\n",
       "    .dataframe thead th {\n",
       "        text-align: right;\n",
       "    }\n",
       "</style>\n",
       "<table border=\"1\" class=\"dataframe\">\n",
       "  <thead>\n",
       "    <tr style=\"text-align: right;\">\n",
       "      <th></th>\n",
       "      <th>name</th>\n",
       "      <th>capital</th>\n",
       "      <th>population</th>\n",
       "      <th>area</th>\n",
       "    </tr>\n",
       "  </thead>\n",
       "  <tbody>\n",
       "    <tr>\n",
       "      <th>MF</th>\n",
       "      <td>Middle Franconia</td>\n",
       "      <td>Ansbach</td>\n",
       "      <td>1775169</td>\n",
       "      <td>7245</td>\n",
       "    </tr>\n",
       "    <tr>\n",
       "      <th>S</th>\n",
       "      <td>Swabia</td>\n",
       "      <td>Augsburg</td>\n",
       "      <td>1899442</td>\n",
       "      <td>9992</td>\n",
       "    </tr>\n",
       "    <tr>\n",
       "      <th>UB</th>\n",
       "      <td>Upper Bavaria</td>\n",
       "      <td>Munich</td>\n",
       "      <td>4710865</td>\n",
       "      <td>17530</td>\n",
       "    </tr>\n",
       "  </tbody>\n",
       "</table>\n",
       "</div>"
      ],
      "text/plain": [
       "                name   capital  population   area\n",
       "MF  Middle Franconia   Ansbach     1775169   7245\n",
       "S             Swabia  Augsburg     1899442   9992\n",
       "UB     Upper Bavaria    Munich     4710865  17530"
      ]
     },
     "execution_count": 19,
     "metadata": {},
     "output_type": "execute_result"
    }
   ],
   "source": [
    "df.loc[df['population'] > 1_500_000]"
   ]
  },
  {
   "cell_type": "code",
   "execution_count": 22,
   "id": "5a7cd4ec-4ed2-4023-8e13-3e1dbe3c4887",
   "metadata": {},
   "outputs": [
    {
     "data": {
      "text/plain": [
       "LB    False\n",
       "LF    False\n",
       "UF    False\n",
       "MF     True\n",
       "UP    False\n",
       "S      True\n",
       "UB     True\n",
       "Name: population, dtype: bool"
      ]
     },
     "execution_count": 22,
     "metadata": {},
     "output_type": "execute_result"
    }
   ],
   "source": [
    "df['population'] > 1_500_000"
   ]
  },
  {
   "cell_type": "code",
   "execution_count": 21,
   "id": "864b465c-7aa0-4d6d-abd6-1fe8a0e895d3",
   "metadata": {},
   "outputs": [
    {
     "data": {
      "text/plain": [
       "array([False, False, False,  True, False,  True,  True])"
      ]
     },
     "execution_count": 21,
     "metadata": {},
     "output_type": "execute_result"
    }
   ],
   "source": [
    "(df['population'] > 1_500_000).values"
   ]
  },
  {
   "cell_type": "code",
   "execution_count": 23,
   "id": "2494a78e-2185-4f6f-b66d-b8ef76cea537",
   "metadata": {},
   "outputs": [
    {
     "data": {
      "text/html": [
       "<div>\n",
       "<style scoped>\n",
       "    .dataframe tbody tr th:only-of-type {\n",
       "        vertical-align: middle;\n",
       "    }\n",
       "\n",
       "    .dataframe tbody tr th {\n",
       "        vertical-align: top;\n",
       "    }\n",
       "\n",
       "    .dataframe thead th {\n",
       "        text-align: right;\n",
       "    }\n",
       "</style>\n",
       "<table border=\"1\" class=\"dataframe\">\n",
       "  <thead>\n",
       "    <tr style=\"text-align: right;\">\n",
       "      <th></th>\n",
       "      <th>name</th>\n",
       "      <th>capital</th>\n",
       "      <th>population</th>\n",
       "      <th>area</th>\n",
       "    </tr>\n",
       "  </thead>\n",
       "  <tbody>\n",
       "    <tr>\n",
       "      <th>MF</th>\n",
       "      <td>Middle Franconia</td>\n",
       "      <td>Ansbach</td>\n",
       "      <td>1775169</td>\n",
       "      <td>7245</td>\n",
       "    </tr>\n",
       "    <tr>\n",
       "      <th>S</th>\n",
       "      <td>Swabia</td>\n",
       "      <td>Augsburg</td>\n",
       "      <td>1899442</td>\n",
       "      <td>9992</td>\n",
       "    </tr>\n",
       "    <tr>\n",
       "      <th>UB</th>\n",
       "      <td>Upper Bavaria</td>\n",
       "      <td>Munich</td>\n",
       "      <td>4710865</td>\n",
       "      <td>17530</td>\n",
       "    </tr>\n",
       "  </tbody>\n",
       "</table>\n",
       "</div>"
      ],
      "text/plain": [
       "                name   capital  population   area\n",
       "MF  Middle Franconia   Ansbach     1775169   7245\n",
       "S             Swabia  Augsburg     1899442   9992\n",
       "UB     Upper Bavaria    Munich     4710865  17530"
      ]
     },
     "execution_count": 23,
     "metadata": {},
     "output_type": "execute_result"
    }
   ],
   "source": [
    "df.loc[(df['population'] > 1_500_000).values] # we need to use .values here to be able to use the loc"
   ]
  },
  {
   "cell_type": "markdown",
   "id": "981c969b-0653-4eb0-895b-cf2233249064",
   "metadata": {},
   "source": [
    "#### All and any\n",
    "- all: returns True if all elements are true\n",
    "- any: returns True if at least one element it True"
   ]
  },
  {
   "cell_type": "code",
   "execution_count": 24,
   "id": "29043746-c5e3-4a30-8398-551471e04d54",
   "metadata": {},
   "outputs": [
    {
     "name": "stdout",
     "output_type": "stream",
     "text": [
      "False\n",
      "True\n"
     ]
    }
   ],
   "source": [
    "series = pd.Series([True, False, True])\n",
    "print(series.all())\n",
    "print(series.any())"
   ]
  },
  {
   "cell_type": "code",
   "execution_count": 25,
   "id": "0049e0c0-0db3-4b24-84d9-273e6ae542f7",
   "metadata": {},
   "outputs": [
    {
     "data": {
      "text/html": [
       "<div>\n",
       "<style scoped>\n",
       "    .dataframe tbody tr th:only-of-type {\n",
       "        vertical-align: middle;\n",
       "    }\n",
       "\n",
       "    .dataframe tbody tr th {\n",
       "        vertical-align: top;\n",
       "    }\n",
       "\n",
       "    .dataframe thead th {\n",
       "        text-align: right;\n",
       "    }\n",
       "</style>\n",
       "<table border=\"1\" class=\"dataframe\">\n",
       "  <thead>\n",
       "    <tr style=\"text-align: right;\">\n",
       "      <th></th>\n",
       "      <th>col1</th>\n",
       "      <th>col2</th>\n",
       "    </tr>\n",
       "  </thead>\n",
       "  <tbody>\n",
       "    <tr>\n",
       "      <th>0</th>\n",
       "      <td>True</td>\n",
       "      <td>True</td>\n",
       "    </tr>\n",
       "    <tr>\n",
       "      <th>1</th>\n",
       "      <td>False</td>\n",
       "      <td>True</td>\n",
       "    </tr>\n",
       "  </tbody>\n",
       "</table>\n",
       "</div>"
      ],
      "text/plain": [
       "    col1  col2\n",
       "0   True  True\n",
       "1  False  True"
      ]
     },
     "execution_count": 25,
     "metadata": {},
     "output_type": "execute_result"
    }
   ],
   "source": [
    "df_bool = pd.DataFrame({\n",
    "    'col1':[True, False],\n",
    "    'col2': [True, True]})\n",
    "df_bool"
   ]
  },
  {
   "cell_type": "code",
   "execution_count": 26,
   "id": "88b6fe51-79f9-42e2-b560-f1889a21e811",
   "metadata": {},
   "outputs": [
    {
     "name": "stdout",
     "output_type": "stream",
     "text": [
      "col1    False\n",
      "col2     True\n",
      "dtype: bool\n",
      "col1    True\n",
      "col2    True\n",
      "dtype: bool\n"
     ]
    }
   ],
   "source": [
    "print(df_bool.all())\n",
    "print(df_bool.any())"
   ]
  },
  {
   "cell_type": "code",
   "execution_count": 27,
   "id": "64490989-0a74-4f26-8b19-1dafe93c2a73",
   "metadata": {},
   "outputs": [
    {
     "data": {
      "text/plain": [
       "0     True\n",
       "1    False\n",
       "dtype: bool"
      ]
     },
     "execution_count": 27,
     "metadata": {},
     "output_type": "execute_result"
    }
   ],
   "source": [
    "df_bool.all(axis=1) # row-wise"
   ]
  },
  {
   "cell_type": "code",
   "execution_count": 28,
   "id": "00824c56-194d-405b-b0cf-cb712e269b86",
   "metadata": {},
   "outputs": [
    {
     "data": {
      "text/plain": [
       "col1    False\n",
       "col2     True\n",
       "dtype: bool"
      ]
     },
     "execution_count": 28,
     "metadata": {},
     "output_type": "execute_result"
    }
   ],
   "source": [
    "df_bool.all(axis=0) # col-wise"
   ]
  },
  {
   "cell_type": "markdown",
   "id": "f788d555-7edf-4240-a068-bd9eaa1998b5",
   "metadata": {},
   "source": [
    "#### Apply\n",
    "apply a given function along the specified axis"
   ]
  },
  {
   "cell_type": "code",
   "execution_count": 29,
   "id": "54c8f7e5-c642-4ea7-be39-a3440894ad7b",
   "metadata": {},
   "outputs": [
    {
     "data": {
      "text/html": [
       "<div>\n",
       "<style scoped>\n",
       "    .dataframe tbody tr th:only-of-type {\n",
       "        vertical-align: middle;\n",
       "    }\n",
       "\n",
       "    .dataframe tbody tr th {\n",
       "        vertical-align: top;\n",
       "    }\n",
       "\n",
       "    .dataframe thead th {\n",
       "        text-align: right;\n",
       "    }\n",
       "</style>\n",
       "<table border=\"1\" class=\"dataframe\">\n",
       "  <thead>\n",
       "    <tr style=\"text-align: right;\">\n",
       "      <th></th>\n",
       "      <th>col1</th>\n",
       "      <th>col2</th>\n",
       "    </tr>\n",
       "  </thead>\n",
       "  <tbody>\n",
       "    <tr>\n",
       "      <th>0</th>\n",
       "      <td>1</td>\n",
       "      <td>9</td>\n",
       "    </tr>\n",
       "    <tr>\n",
       "      <th>1</th>\n",
       "      <td>4</td>\n",
       "      <td>16</td>\n",
       "    </tr>\n",
       "  </tbody>\n",
       "</table>\n",
       "</div>"
      ],
      "text/plain": [
       "   col1  col2\n",
       "0     1     9\n",
       "1     4    16"
      ]
     },
     "execution_count": 29,
     "metadata": {},
     "output_type": "execute_result"
    }
   ],
   "source": [
    "df = pd.DataFrame({\n",
    "    'col1':[1, 4],\n",
    "    'col2': [9, 16]})\n",
    "df"
   ]
  },
  {
   "cell_type": "code",
   "execution_count": 30,
   "id": "1e2ba3ad-0328-4d84-a16a-8cb61b3e8504",
   "metadata": {},
   "outputs": [
    {
     "data": {
      "text/html": [
       "<div>\n",
       "<style scoped>\n",
       "    .dataframe tbody tr th:only-of-type {\n",
       "        vertical-align: middle;\n",
       "    }\n",
       "\n",
       "    .dataframe tbody tr th {\n",
       "        vertical-align: top;\n",
       "    }\n",
       "\n",
       "    .dataframe thead th {\n",
       "        text-align: right;\n",
       "    }\n",
       "</style>\n",
       "<table border=\"1\" class=\"dataframe\">\n",
       "  <thead>\n",
       "    <tr style=\"text-align: right;\">\n",
       "      <th></th>\n",
       "      <th>col1</th>\n",
       "      <th>col2</th>\n",
       "    </tr>\n",
       "  </thead>\n",
       "  <tbody>\n",
       "    <tr>\n",
       "      <th>0</th>\n",
       "      <td>1.0</td>\n",
       "      <td>3.0</td>\n",
       "    </tr>\n",
       "    <tr>\n",
       "      <th>1</th>\n",
       "      <td>2.0</td>\n",
       "      <td>4.0</td>\n",
       "    </tr>\n",
       "  </tbody>\n",
       "</table>\n",
       "</div>"
      ],
      "text/plain": [
       "   col1  col2\n",
       "0   1.0   3.0\n",
       "1   2.0   4.0"
      ]
     },
     "execution_count": 30,
     "metadata": {},
     "output_type": "execute_result"
    }
   ],
   "source": [
    "df.apply(np.sqrt)"
   ]
  },
  {
   "cell_type": "code",
   "execution_count": 34,
   "id": "f86ea733-dad4-40c7-ab48-9b7375cb077e",
   "metadata": {},
   "outputs": [
    {
     "data": {
      "text/plain": [
       "0    9.0\n",
       "1    4.0\n",
       "dtype: float64"
      ]
     },
     "execution_count": 34,
     "metadata": {},
     "output_type": "execute_result"
    }
   ],
   "source": [
    "df.apply(lambda series : series.iloc[-1] / series.iloc[0], axis = 1)\n",
    "# 9/1\n",
    "# 16/4"
   ]
  },
  {
   "cell_type": "code",
   "execution_count": 36,
   "id": "bf58bcf5-1ae4-4c3c-9e44-60df1703e34d",
   "metadata": {},
   "outputs": [
    {
     "data": {
      "text/plain": [
       "col1    4.000000\n",
       "col2    1.777778\n",
       "dtype: float64"
      ]
     },
     "execution_count": 36,
     "metadata": {},
     "output_type": "execute_result"
    }
   ],
   "source": [
    "df.apply(lambda series : series.iloc[-1] / series.iloc[0], axis = 0)\n",
    "# 4/1\n",
    "# 16/9"
   ]
  },
  {
   "cell_type": "markdown",
   "id": "f2a9378c-ffca-459b-bf83-a9da4e87172e",
   "metadata": {},
   "source": [
    "### Working with Strings"
   ]
  },
  {
   "cell_type": "code",
   "execution_count": 37,
   "id": "ce7b73df-f2aa-4e52-8a43-68f828e9f5dc",
   "metadata": {},
   "outputs": [
    {
     "data": {
      "text/html": [
       "<div>\n",
       "<style scoped>\n",
       "    .dataframe tbody tr th:only-of-type {\n",
       "        vertical-align: middle;\n",
       "    }\n",
       "\n",
       "    .dataframe tbody tr th {\n",
       "        vertical-align: top;\n",
       "    }\n",
       "\n",
       "    .dataframe thead th {\n",
       "        text-align: right;\n",
       "    }\n",
       "</style>\n",
       "<table border=\"1\" class=\"dataframe\">\n",
       "  <thead>\n",
       "    <tr style=\"text-align: right;\">\n",
       "      <th></th>\n",
       "      <th>name</th>\n",
       "      <th>capital</th>\n",
       "      <th>population</th>\n",
       "      <th>area</th>\n",
       "    </tr>\n",
       "  </thead>\n",
       "  <tbody>\n",
       "    <tr>\n",
       "      <th>LB</th>\n",
       "      <td>Lower Bavaria</td>\n",
       "      <td>Landshut</td>\n",
       "      <td>1244169</td>\n",
       "      <td>10330</td>\n",
       "    </tr>\n",
       "    <tr>\n",
       "      <th>LF</th>\n",
       "      <td>Lower Franconia</td>\n",
       "      <td>Würzburg</td>\n",
       "      <td>1317619</td>\n",
       "      <td>8531</td>\n",
       "    </tr>\n",
       "    <tr>\n",
       "      <th>UF</th>\n",
       "      <td>Upper Franconia</td>\n",
       "      <td>None</td>\n",
       "      <td>1065371</td>\n",
       "      <td>7231</td>\n",
       "    </tr>\n",
       "    <tr>\n",
       "      <th>MF</th>\n",
       "      <td>Middle Franconia</td>\n",
       "      <td>Ansbach</td>\n",
       "      <td>1775169</td>\n",
       "      <td>7245</td>\n",
       "    </tr>\n",
       "    <tr>\n",
       "      <th>UP</th>\n",
       "      <td>Upper Palatinate</td>\n",
       "      <td>Regensburg</td>\n",
       "      <td>1112102</td>\n",
       "      <td>9691</td>\n",
       "    </tr>\n",
       "    <tr>\n",
       "      <th>S</th>\n",
       "      <td>Swabia</td>\n",
       "      <td>Augsburg</td>\n",
       "      <td>1899442</td>\n",
       "      <td>9992</td>\n",
       "    </tr>\n",
       "    <tr>\n",
       "      <th>UB</th>\n",
       "      <td>None</td>\n",
       "      <td>Munich</td>\n",
       "      <td>4710865</td>\n",
       "      <td>17530</td>\n",
       "    </tr>\n",
       "  </tbody>\n",
       "</table>\n",
       "</div>"
      ],
      "text/plain": [
       "                name     capital  population   area\n",
       "LB     Lower Bavaria    Landshut     1244169  10330\n",
       "LF   Lower Franconia    Würzburg     1317619   8531\n",
       "UF   Upper Franconia        None     1065371   7231\n",
       "MF  Middle Franconia     Ansbach     1775169   7245\n",
       "UP  Upper Palatinate  Regensburg     1112102   9691\n",
       "S             Swabia    Augsburg     1899442   9992\n",
       "UB              None      Munich     4710865  17530"
      ]
     },
     "execution_count": 37,
     "metadata": {},
     "output_type": "execute_result"
    }
   ],
   "source": [
    "df = pd.DataFrame( data={ 'name': [ 'Lower Bavaria', 'Lower Franconia', 'Upper Franconia', 'Middle Franconia', 'Upper Palatinate', 'Swabia', None ],\n",
    "                         'capital': [ 'Landshut', 'Würzburg', None, 'Ansbach', 'Regensburg', 'Augsburg', 'Munich' ], \n",
    "                         'population': [ 1_244_169, 1_317_619, 1_065_371, 1_775_169, 1_112_102, 1_899_442, 4_710_865 ], \n",
    "                         'area': [ 10_330, 8_531, 7_231, 7_245, 9_691, 9_992, 17_530 ] }, \n",
    "                  index=('LB', 'LF', 'UF', 'MF', 'UP', 'S', 'UB') )\n",
    "df\n"
   ]
  },
  {
   "cell_type": "code",
   "execution_count": 39,
   "id": "838915ea-dea5-40b9-bced-a18c5d57a6db",
   "metadata": {},
   "outputs": [
    {
     "data": {
      "text/plain": [
       "name          object\n",
       "capital       object\n",
       "population     int64\n",
       "area           int64\n",
       "dtype: object"
      ]
     },
     "execution_count": 39,
     "metadata": {},
     "output_type": "execute_result"
    }
   ],
   "source": [
    "df.dtypes"
   ]
  },
  {
   "cell_type": "code",
   "execution_count": 42,
   "id": "a7110da9-a4fe-4600-8f9e-2732d3cedd9f",
   "metadata": {},
   "outputs": [
    {
     "data": {
      "text/plain": [
       "name          string\n",
       "capital       string\n",
       "population     int64\n",
       "area           int64\n",
       "dtype: object"
      ]
     },
     "execution_count": 42,
     "metadata": {},
     "output_type": "execute_result"
    }
   ],
   "source": [
    "# make strings datatype from object to strings\n",
    "# because object can have any value and string has to be textual\n",
    "typed_df = df.astype({\n",
    "    'name':'string',\n",
    "    'capital': 'string',\n",
    "    'area': np.int64,\n",
    "    'population': np.int64\n",
    "})\n",
    "typed_df.dtypes"
   ]
  },
  {
   "cell_type": "markdown",
   "id": "1819b1b5-33c5-44f3-926d-c3efacdc0220",
   "metadata": {},
   "source": [
    "we can do it automatically!\n",
    "- convert_dtypes tries to automatically infer a fitting data type for our values"
   ]
  },
  {
   "cell_type": "code",
   "execution_count": 43,
   "id": "1599acdb-579d-4fc0-98ac-73271e8a7372",
   "metadata": {},
   "outputs": [
    {
     "data": {
      "text/plain": [
       "name          string\n",
       "capital       string\n",
       "population     Int64\n",
       "area           Int64\n",
       "dtype: object"
      ]
     },
     "execution_count": 43,
     "metadata": {},
     "output_type": "execute_result"
    }
   ],
   "source": [
    "df = df.convert_dtypes()\n",
    "df.dtypes"
   ]
  },
  {
   "cell_type": "code",
   "execution_count": 45,
   "id": "a1678349-30f2-49b9-ba48-0ba0d4b3f7ca",
   "metadata": {},
   "outputs": [
    {
     "name": "stdout",
     "output_type": "stream",
     "text": [
      "LB       lower bavaria\n",
      "LF     lower franconia\n",
      "UF     upper franconia\n",
      "MF    middle franconia\n",
      "UP    upper palatinate\n",
      "S               swabia\n",
      "UB                <NA>\n",
      "Name: name, dtype: string\n",
      "LB       LOWER BAVARIA\n",
      "LF     LOWER FRANCONIA\n",
      "UF     UPPER FRANCONIA\n",
      "MF    MIDDLE FRANCONIA\n",
      "UP    UPPER PALATINATE\n",
      "S               SWABIA\n",
      "UB                <NA>\n",
      "Name: name, dtype: string\n"
     ]
    }
   ],
   "source": [
    "print(df['name'].str.lower())\n",
    "print(df['name'].str.upper())"
   ]
  },
  {
   "cell_type": "code",
   "execution_count": 46,
   "id": "4138fd6f-567f-4e61-ba08-84919db693e6",
   "metadata": {},
   "outputs": [
    {
     "data": {
      "text/plain": [
       "LB     True\n",
       "LF     True\n",
       "UF    False\n",
       "MF    False\n",
       "UP    False\n",
       "S     False\n",
       "UB     <NA>\n",
       "Name: name, dtype: boolean"
      ]
     },
     "execution_count": 46,
     "metadata": {},
     "output_type": "execute_result"
    }
   ],
   "source": [
    "df['name'].str.startswith('L')"
   ]
  },
  {
   "cell_type": "code",
   "execution_count": 47,
   "id": "194ae2dd-5ade-406e-a3b4-05744aee86fc",
   "metadata": {},
   "outputs": [
    {
     "data": {
      "text/plain": [
       "LB       o\n",
       "LF       o\n",
       "UF       p\n",
       "MF       i\n",
       "UP       p\n",
       "S        w\n",
       "UB    <NA>\n",
       "Name: name, dtype: string"
      ]
     },
     "execution_count": 47,
     "metadata": {},
     "output_type": "execute_result"
    }
   ],
   "source": [
    "df['name'].str.get(1)"
   ]
  },
  {
   "cell_type": "code",
   "execution_count": 48,
   "id": "054acf19-db0c-488b-935c-f17eecbfb324",
   "metadata": {},
   "outputs": [
    {
     "data": {
      "text/plain": [
       "LB       t\n",
       "LF       g\n",
       "UF    <NA>\n",
       "MF       h\n",
       "UP       g\n",
       "S        g\n",
       "UB       h\n",
       "Name: capital, dtype: string"
      ]
     },
     "execution_count": 48,
     "metadata": {},
     "output_type": "execute_result"
    }
   ],
   "source": [
    "df['capital'].str.get(-1)"
   ]
  },
  {
   "cell_type": "code",
   "execution_count": 50,
   "id": "1d4d37aa-2cb9-4213-bd67-ba78e4191e52",
   "metadata": {},
   "outputs": [
    {
     "data": {
      "text/plain": [
       "LB      ands\n",
       "LF      ürzb\n",
       "UF      <NA>\n",
       "MF       nsb\n",
       "UP    egensb\n",
       "S       ugsb\n",
       "UB        un\n",
       "Name: capital, dtype: string"
      ]
     },
     "execution_count": 50,
     "metadata": {},
     "output_type": "execute_result"
    }
   ],
   "source": [
    "df['capital'].str.slice(1,-3)"
   ]
  },
  {
   "cell_type": "code",
   "execution_count": 53,
   "id": "983b7fb8-7f00-42b3-9433-07d36481450b",
   "metadata": {},
   "outputs": [
    {
     "data": {
      "text/plain": [
       "LB      ands\n",
       "LF      ürzb\n",
       "UF      <NA>\n",
       "MF       nsb\n",
       "UP    egensb\n",
       "S       ugsb\n",
       "UB        un\n",
       "Name: capital, dtype: string"
      ]
     },
     "execution_count": 53,
     "metadata": {},
     "output_type": "execute_result"
    }
   ],
   "source": [
    "df['capital'].str[1:-3]"
   ]
  },
  {
   "cell_type": "code",
   "execution_count": 55,
   "id": "158aa85d-f843-472d-bb39-431b3d19f870",
   "metadata": {},
   "outputs": [
    {
     "data": {
      "text/plain": [
       "LB       [Lower, Bavaria]\n",
       "LF     [Lower, Franconia]\n",
       "UF     [Upper, Franconia]\n",
       "MF    [Middle, Franconia]\n",
       "UP    [Upper, Palatinate]\n",
       "S                [Swabia]\n",
       "UB                   <NA>\n",
       "Name: name, dtype: object"
      ]
     },
     "execution_count": 55,
     "metadata": {},
     "output_type": "execute_result"
    }
   ],
   "source": [
    "df['name'].str.split(' ')"
   ]
  },
  {
   "cell_type": "code",
   "execution_count": 59,
   "id": "9311ca93-f380-40bf-87c9-bec841013208",
   "metadata": {},
   "outputs": [
    {
     "data": {
      "text/plain": [
       "LB       Bavaria\n",
       "LF     Franconia\n",
       "UF     Franconia\n",
       "MF     Franconia\n",
       "UP    Palatinate\n",
       "S            NaN\n",
       "UB          <NA>\n",
       "Name: name, dtype: object"
      ]
     },
     "execution_count": 59,
     "metadata": {},
     "output_type": "execute_result"
    }
   ],
   "source": [
    "df['name'].str.split(' ').str[1]"
   ]
  },
  {
   "cell_type": "code",
   "execution_count": 60,
   "id": "52f07cb7-9952-4e70-a9b2-f7773f1f0625",
   "metadata": {},
   "outputs": [
    {
     "data": {
      "text/html": [
       "<div>\n",
       "<style scoped>\n",
       "    .dataframe tbody tr th:only-of-type {\n",
       "        vertical-align: middle;\n",
       "    }\n",
       "\n",
       "    .dataframe tbody tr th {\n",
       "        vertical-align: top;\n",
       "    }\n",
       "\n",
       "    .dataframe thead th {\n",
       "        text-align: right;\n",
       "    }\n",
       "</style>\n",
       "<table border=\"1\" class=\"dataframe\">\n",
       "  <thead>\n",
       "    <tr style=\"text-align: right;\">\n",
       "      <th></th>\n",
       "      <th>0</th>\n",
       "      <th>1</th>\n",
       "    </tr>\n",
       "  </thead>\n",
       "  <tbody>\n",
       "    <tr>\n",
       "      <th>LB</th>\n",
       "      <td>Lower</td>\n",
       "      <td>Bavaria</td>\n",
       "    </tr>\n",
       "    <tr>\n",
       "      <th>LF</th>\n",
       "      <td>Lower</td>\n",
       "      <td>Franconia</td>\n",
       "    </tr>\n",
       "    <tr>\n",
       "      <th>UF</th>\n",
       "      <td>Upper</td>\n",
       "      <td>Franconia</td>\n",
       "    </tr>\n",
       "    <tr>\n",
       "      <th>MF</th>\n",
       "      <td>Middle</td>\n",
       "      <td>Franconia</td>\n",
       "    </tr>\n",
       "    <tr>\n",
       "      <th>UP</th>\n",
       "      <td>Upper</td>\n",
       "      <td>Palatinate</td>\n",
       "    </tr>\n",
       "    <tr>\n",
       "      <th>S</th>\n",
       "      <td>Swabia</td>\n",
       "      <td>&lt;NA&gt;</td>\n",
       "    </tr>\n",
       "    <tr>\n",
       "      <th>UB</th>\n",
       "      <td>&lt;NA&gt;</td>\n",
       "      <td>&lt;NA&gt;</td>\n",
       "    </tr>\n",
       "  </tbody>\n",
       "</table>\n",
       "</div>"
      ],
      "text/plain": [
       "         0           1\n",
       "LB   Lower     Bavaria\n",
       "LF   Lower   Franconia\n",
       "UF   Upper   Franconia\n",
       "MF  Middle   Franconia\n",
       "UP   Upper  Palatinate\n",
       "S   Swabia        <NA>\n",
       "UB    <NA>        <NA>"
      ]
     },
     "execution_count": 60,
     "metadata": {},
     "output_type": "execute_result"
    }
   ],
   "source": [
    "df['name'].str.split(' ', expand=True)"
   ]
  },
  {
   "cell_type": "code",
   "execution_count": 61,
   "id": "fb986ad5-ffb4-46b1-ab0e-e498d20a9fc4",
   "metadata": {},
   "outputs": [
    {
     "data": {
      "text/plain": [
       "LB      13\n",
       "LF      15\n",
       "UF      15\n",
       "MF      16\n",
       "UP      16\n",
       "S        6\n",
       "UB    <NA>\n",
       "Name: name, dtype: Int64"
      ]
     },
     "execution_count": 61,
     "metadata": {},
     "output_type": "execute_result"
    }
   ],
   "source": [
    "df['name'].str.len()"
   ]
  },
  {
   "cell_type": "markdown",
   "id": "5f854647-7bdc-4146-ad42-400e0cac1dfd",
   "metadata": {},
   "source": [
    "### Dealing with missing data\n",
    "\n",
    "use following for missing data:\n",
    "- None\n",
    "- np.nan\n",
    "- pd.NA --> special one, especially for representing missing values\n"
   ]
  },
  {
   "cell_type": "markdown",
   "id": "f292ae1a-f1ca-41ac-b99e-3e7166f44a08",
   "metadata": {},
   "source": [
    "#### None"
   ]
  },
  {
   "cell_type": "code",
   "execution_count": 66,
   "id": "444aae4f-5f8a-45f2-b00b-c52cd1ac85e8",
   "metadata": {},
   "outputs": [
    {
     "data": {
      "text/plain": [
       "0    1.0\n",
       "1    4.0\n",
       "2    NaN\n",
       "3    9.0\n",
       "dtype: float64"
      ]
     },
     "execution_count": 66,
     "metadata": {},
     "output_type": "execute_result"
    }
   ],
   "source": [
    "ints_0 = pd.Series([1,4,None,9])\n",
    "ints_0\n",
    "# automatically converted to NaN # here NaN is float64"
   ]
  },
  {
   "cell_type": "code",
   "execution_count": 65,
   "id": "44b203b9-2876-4901-abe1-d59d11fe14d6",
   "metadata": {},
   "outputs": [
    {
     "data": {
      "text/plain": [
       "0       1\n",
       "1       4\n",
       "2    <NA>\n",
       "3       9\n",
       "dtype: Int64"
      ]
     },
     "execution_count": 65,
     "metadata": {},
     "output_type": "execute_result"
    }
   ],
   "source": [
    "ints_0 = ints_0.convert_dtypes()\n",
    "ints_0"
   ]
  },
  {
   "cell_type": "markdown",
   "id": "2efc0534-a6f6-4d6f-9434-dd54eb53603c",
   "metadata": {},
   "source": [
    "#### np.nan"
   ]
  },
  {
   "cell_type": "code",
   "execution_count": 67,
   "id": "ee3c1382-db57-4bac-8feb-95b9352debc9",
   "metadata": {},
   "outputs": [
    {
     "data": {
      "text/plain": [
       "0     1.0\n",
       "1     4.0\n",
       "2     NaN\n",
       "3    90.0\n",
       "dtype: float64"
      ]
     },
     "execution_count": 67,
     "metadata": {},
     "output_type": "execute_result"
    }
   ],
   "source": [
    "nulled = pd.Series([1,4,np.nan,90])\n",
    "nulled"
   ]
  },
  {
   "cell_type": "code",
   "execution_count": 71,
   "id": "c4ba8372-302a-40d7-b3a8-0cfcd037e641",
   "metadata": {},
   "outputs": [
    {
     "ename": "ValueError",
     "evalue": "cannot convert float NaN to integer",
     "output_type": "error",
     "traceback": [
      "\u001b[0;31m---------------------------------------------------------------------------\u001b[0m",
      "\u001b[0;31mValueError\u001b[0m                                Traceback (most recent call last)",
      "Input \u001b[0;32mIn [71]\u001b[0m, in \u001b[0;36m<cell line: 1>\u001b[0;34m()\u001b[0m\n\u001b[0;32m----> 1\u001b[0m nulled2 \u001b[38;5;241m=\u001b[39m \u001b[43mpd\u001b[49m\u001b[38;5;241;43m.\u001b[39;49m\u001b[43mSeries\u001b[49m\u001b[43m(\u001b[49m\u001b[43m[\u001b[49m\u001b[38;5;241;43m1\u001b[39;49m\u001b[43m,\u001b[49m\u001b[38;5;241;43m4\u001b[39;49m\u001b[43m,\u001b[49m\u001b[43mnp\u001b[49m\u001b[38;5;241;43m.\u001b[39;49m\u001b[43mnan\u001b[49m\u001b[43m,\u001b[49m\u001b[38;5;241;43m90\u001b[39;49m\u001b[43m]\u001b[49m\u001b[43m,\u001b[49m\u001b[43m \u001b[49m\u001b[43mdtype\u001b[49m\u001b[38;5;241;43m=\u001b[39;49m\u001b[43mnp\u001b[49m\u001b[38;5;241;43m.\u001b[39;49m\u001b[43mint64\u001b[49m\u001b[43m)\u001b[49m\n",
      "File \u001b[0;32m~/opt/anaconda3/envs/py3104/lib/python3.10/site-packages/pandas/core/series.py:451\u001b[0m, in \u001b[0;36mSeries.__init__\u001b[0;34m(self, data, index, dtype, name, copy, fastpath)\u001b[0m\n\u001b[1;32m    449\u001b[0m         data \u001b[38;5;241m=\u001b[39m data\u001b[38;5;241m.\u001b[39mcopy()\n\u001b[1;32m    450\u001b[0m \u001b[38;5;28;01melse\u001b[39;00m:\n\u001b[0;32m--> 451\u001b[0m     data \u001b[38;5;241m=\u001b[39m \u001b[43msanitize_array\u001b[49m\u001b[43m(\u001b[49m\u001b[43mdata\u001b[49m\u001b[43m,\u001b[49m\u001b[43m \u001b[49m\u001b[43mindex\u001b[49m\u001b[43m,\u001b[49m\u001b[43m \u001b[49m\u001b[43mdtype\u001b[49m\u001b[43m,\u001b[49m\u001b[43m \u001b[49m\u001b[43mcopy\u001b[49m\u001b[43m)\u001b[49m\n\u001b[1;32m    453\u001b[0m     manager \u001b[38;5;241m=\u001b[39m get_option(\u001b[38;5;124m\"\u001b[39m\u001b[38;5;124mmode.data_manager\u001b[39m\u001b[38;5;124m\"\u001b[39m)\n\u001b[1;32m    454\u001b[0m     \u001b[38;5;28;01mif\u001b[39;00m manager \u001b[38;5;241m==\u001b[39m \u001b[38;5;124m\"\u001b[39m\u001b[38;5;124mblock\u001b[39m\u001b[38;5;124m\"\u001b[39m:\n",
      "File \u001b[0;32m~/opt/anaconda3/envs/py3104/lib/python3.10/site-packages/pandas/core/construction.py:591\u001b[0m, in \u001b[0;36msanitize_array\u001b[0;34m(data, index, dtype, copy, raise_cast_failure, allow_2d)\u001b[0m\n\u001b[1;32m    588\u001b[0m     data \u001b[38;5;241m=\u001b[39m \u001b[38;5;28mlist\u001b[39m(data)\n\u001b[1;32m    590\u001b[0m \u001b[38;5;28;01mif\u001b[39;00m dtype \u001b[38;5;129;01mis\u001b[39;00m \u001b[38;5;129;01mnot\u001b[39;00m \u001b[38;5;28;01mNone\u001b[39;00m \u001b[38;5;129;01mor\u001b[39;00m \u001b[38;5;28mlen\u001b[39m(data) \u001b[38;5;241m==\u001b[39m \u001b[38;5;241m0\u001b[39m:\n\u001b[0;32m--> 591\u001b[0m     subarr \u001b[38;5;241m=\u001b[39m \u001b[43m_try_cast\u001b[49m\u001b[43m(\u001b[49m\u001b[43mdata\u001b[49m\u001b[43m,\u001b[49m\u001b[43m \u001b[49m\u001b[43mdtype\u001b[49m\u001b[43m,\u001b[49m\u001b[43m \u001b[49m\u001b[43mcopy\u001b[49m\u001b[43m,\u001b[49m\u001b[43m \u001b[49m\u001b[43mraise_cast_failure\u001b[49m\u001b[43m)\u001b[49m\n\u001b[1;32m    592\u001b[0m \u001b[38;5;28;01melse\u001b[39;00m:\n\u001b[1;32m    593\u001b[0m     subarr \u001b[38;5;241m=\u001b[39m maybe_convert_platform(data)\n",
      "File \u001b[0;32m~/opt/anaconda3/envs/py3104/lib/python3.10/site-packages/pandas/core/construction.py:776\u001b[0m, in \u001b[0;36m_try_cast\u001b[0;34m(arr, dtype, copy, raise_cast_failure)\u001b[0m\n\u001b[1;32m    770\u001b[0m \u001b[38;5;28;01mtry\u001b[39;00m:\n\u001b[1;32m    771\u001b[0m     \u001b[38;5;66;03m# GH#15832: Check if we are requesting a numeric dtype and\u001b[39;00m\n\u001b[1;32m    772\u001b[0m     \u001b[38;5;66;03m# that we can convert the data to the requested dtype.\u001b[39;00m\n\u001b[1;32m    773\u001b[0m     \u001b[38;5;28;01mif\u001b[39;00m is_integer_dtype(dtype):\n\u001b[1;32m    774\u001b[0m         \u001b[38;5;66;03m# this will raise if we have e.g. floats\u001b[39;00m\n\u001b[0;32m--> 776\u001b[0m         subarr \u001b[38;5;241m=\u001b[39m \u001b[43mmaybe_cast_to_integer_array\u001b[49m\u001b[43m(\u001b[49m\u001b[43marr\u001b[49m\u001b[43m,\u001b[49m\u001b[43m \u001b[49m\u001b[43mdtype\u001b[49m\u001b[43m)\u001b[49m\n\u001b[1;32m    777\u001b[0m     \u001b[38;5;28;01melse\u001b[39;00m:\n\u001b[1;32m    778\u001b[0m         \u001b[38;5;66;03m# 4 tests fail if we move this to a try/except/else; see\u001b[39;00m\n\u001b[1;32m    779\u001b[0m         \u001b[38;5;66;03m#  test_constructor_compound_dtypes, test_constructor_cast_failure\u001b[39;00m\n\u001b[1;32m    780\u001b[0m         \u001b[38;5;66;03m#  test_constructor_dict_cast2, test_loc_setitem_dtype\u001b[39;00m\n\u001b[1;32m    781\u001b[0m         subarr \u001b[38;5;241m=\u001b[39m np\u001b[38;5;241m.\u001b[39marray(arr, dtype\u001b[38;5;241m=\u001b[39mdtype, copy\u001b[38;5;241m=\u001b[39mcopy)\n",
      "File \u001b[0;32m~/opt/anaconda3/envs/py3104/lib/python3.10/site-packages/pandas/core/dtypes/cast.py:2031\u001b[0m, in \u001b[0;36mmaybe_cast_to_integer_array\u001b[0;34m(arr, dtype, copy)\u001b[0m\n\u001b[1;32m   2029\u001b[0m \u001b[38;5;28;01mtry\u001b[39;00m:\n\u001b[1;32m   2030\u001b[0m     \u001b[38;5;28;01mif\u001b[39;00m \u001b[38;5;129;01mnot\u001b[39;00m \u001b[38;5;28misinstance\u001b[39m(arr, np\u001b[38;5;241m.\u001b[39mndarray):\n\u001b[0;32m-> 2031\u001b[0m         casted \u001b[38;5;241m=\u001b[39m \u001b[43mnp\u001b[49m\u001b[38;5;241;43m.\u001b[39;49m\u001b[43marray\u001b[49m\u001b[43m(\u001b[49m\u001b[43marr\u001b[49m\u001b[43m,\u001b[49m\u001b[43m \u001b[49m\u001b[43mdtype\u001b[49m\u001b[38;5;241;43m=\u001b[39;49m\u001b[43mdtype\u001b[49m\u001b[43m,\u001b[49m\u001b[43m \u001b[49m\u001b[43mcopy\u001b[49m\u001b[38;5;241;43m=\u001b[39;49m\u001b[43mcopy\u001b[49m\u001b[43m)\u001b[49m\n\u001b[1;32m   2032\u001b[0m     \u001b[38;5;28;01melse\u001b[39;00m:\n\u001b[1;32m   2033\u001b[0m         casted \u001b[38;5;241m=\u001b[39m arr\u001b[38;5;241m.\u001b[39mastype(dtype, copy\u001b[38;5;241m=\u001b[39mcopy)\n",
      "\u001b[0;31mValueError\u001b[0m: cannot convert float NaN to integer"
     ]
    }
   ],
   "source": [
    "nulled2 = pd.Series([1,4,np.nan,90], dtype=np.int64)"
   ]
  },
  {
   "cell_type": "code",
   "execution_count": 70,
   "id": "27c7c6e5-9f55-47eb-85d8-49b69e87f301",
   "metadata": {},
   "outputs": [
    {
     "data": {
      "text/plain": [
       "0       1\n",
       "1       4\n",
       "2    <NA>\n",
       "3      90\n",
       "dtype: Int64"
      ]
     },
     "execution_count": 70,
     "metadata": {},
     "output_type": "execute_result"
    }
   ],
   "source": [
    "nulled2 = pd.Series([1,4,np.nan,90], dtype='Int64')\n",
    "nulled2"
   ]
  },
  {
   "cell_type": "code",
   "execution_count": 74,
   "id": "614dad4e-f5fd-4384-940d-70884acc078e",
   "metadata": {},
   "outputs": [
    {
     "data": {
      "text/plain": [
       "0       1\n",
       "1       4\n",
       "2    <NA>\n",
       "3      90\n",
       "dtype: Int64"
      ]
     },
     "execution_count": 74,
     "metadata": {},
     "output_type": "execute_result"
    }
   ],
   "source": [
    "nulled = nulled.convert_dtypes()\n",
    "nulled"
   ]
  },
  {
   "cell_type": "markdown",
   "id": "56665e72-2afc-4fb7-b018-75bd974eba16",
   "metadata": {},
   "source": [
    "#### pd.NA\n",
    "we can use pd.NA with nullable integers, boolean and string and do not need to cast it as with None and np.nan which are floats"
   ]
  },
  {
   "cell_type": "code",
   "execution_count": 75,
   "id": "319c098c-fd01-4779-a14a-d6fcbd749f68",
   "metadata": {},
   "outputs": [
    {
     "data": {
      "text/html": [
       "<div>\n",
       "<style scoped>\n",
       "    .dataframe tbody tr th:only-of-type {\n",
       "        vertical-align: middle;\n",
       "    }\n",
       "\n",
       "    .dataframe tbody tr th {\n",
       "        vertical-align: top;\n",
       "    }\n",
       "\n",
       "    .dataframe thead th {\n",
       "        text-align: right;\n",
       "    }\n",
       "</style>\n",
       "<table border=\"1\" class=\"dataframe\">\n",
       "  <thead>\n",
       "    <tr style=\"text-align: right;\">\n",
       "      <th></th>\n",
       "      <th>name</th>\n",
       "      <th>population</th>\n",
       "      <th>has_bears</th>\n",
       "    </tr>\n",
       "  </thead>\n",
       "  <tbody>\n",
       "    <tr>\n",
       "      <th>LB</th>\n",
       "      <td>Lower Bavaria</td>\n",
       "      <td>1244169</td>\n",
       "      <td>True</td>\n",
       "    </tr>\n",
       "    <tr>\n",
       "      <th>LF</th>\n",
       "      <td>Lower Franconia</td>\n",
       "      <td>1317619</td>\n",
       "      <td>&lt;NA&gt;</td>\n",
       "    </tr>\n",
       "    <tr>\n",
       "      <th>UF</th>\n",
       "      <td>Upper Franconia</td>\n",
       "      <td>&lt;NA&gt;</td>\n",
       "      <td>False</td>\n",
       "    </tr>\n",
       "    <tr>\n",
       "      <th>MF</th>\n",
       "      <td>&lt;NA&gt;</td>\n",
       "      <td>1775169</td>\n",
       "      <td>True</td>\n",
       "    </tr>\n",
       "  </tbody>\n",
       "</table>\n",
       "</div>"
      ],
      "text/plain": [
       "               name  population  has_bears\n",
       "LB    Lower Bavaria     1244169       True\n",
       "LF  Lower Franconia     1317619       <NA>\n",
       "UF  Upper Franconia        <NA>      False\n",
       "MF             <NA>     1775169       True"
      ]
     },
     "execution_count": 75,
     "metadata": {},
     "output_type": "execute_result"
    }
   ],
   "source": [
    "df = pd.DataFrame( data={ 'name': [ 'Lower Bavaria', 'Lower Franconia', 'Upper Franconia', None], \n",
    "                         'population': [1_244_169, 1_317_619, np.nan, 1_775_169], \n",
    "                         'has_bears': [True, None, False, True] }, \n",
    "                  index=('LB', 'LF', 'UF', 'MF') ).convert_dtypes()\n",
    "df\n"
   ]
  },
  {
   "cell_type": "code",
   "execution_count": 76,
   "id": "86e9980f-8c4b-4b23-a7b8-a57a6eb573e3",
   "metadata": {},
   "outputs": [
    {
     "data": {
      "text/plain": [
       "name           string\n",
       "population      Int64\n",
       "has_bears     boolean\n",
       "dtype: object"
      ]
     },
     "execution_count": 76,
     "metadata": {},
     "output_type": "execute_result"
    }
   ],
   "source": [
    "df.dtypes"
   ]
  },
  {
   "cell_type": "code",
   "execution_count": 77,
   "id": "5d952f8d-e5ab-4b2c-bed5-d71b77b0c746",
   "metadata": {},
   "outputs": [
    {
     "data": {
      "text/html": [
       "<div>\n",
       "<style scoped>\n",
       "    .dataframe tbody tr th:only-of-type {\n",
       "        vertical-align: middle;\n",
       "    }\n",
       "\n",
       "    .dataframe tbody tr th {\n",
       "        vertical-align: top;\n",
       "    }\n",
       "\n",
       "    .dataframe thead th {\n",
       "        text-align: right;\n",
       "    }\n",
       "</style>\n",
       "<table border=\"1\" class=\"dataframe\">\n",
       "  <thead>\n",
       "    <tr style=\"text-align: right;\">\n",
       "      <th></th>\n",
       "      <th>name</th>\n",
       "      <th>population</th>\n",
       "      <th>has_bears</th>\n",
       "    </tr>\n",
       "  </thead>\n",
       "  <tbody>\n",
       "    <tr>\n",
       "      <th>LB</th>\n",
       "      <td>False</td>\n",
       "      <td>False</td>\n",
       "      <td>False</td>\n",
       "    </tr>\n",
       "    <tr>\n",
       "      <th>LF</th>\n",
       "      <td>False</td>\n",
       "      <td>False</td>\n",
       "      <td>True</td>\n",
       "    </tr>\n",
       "    <tr>\n",
       "      <th>UF</th>\n",
       "      <td>False</td>\n",
       "      <td>True</td>\n",
       "      <td>False</td>\n",
       "    </tr>\n",
       "    <tr>\n",
       "      <th>MF</th>\n",
       "      <td>True</td>\n",
       "      <td>False</td>\n",
       "      <td>False</td>\n",
       "    </tr>\n",
       "  </tbody>\n",
       "</table>\n",
       "</div>"
      ],
      "text/plain": [
       "     name  population  has_bears\n",
       "LB  False       False      False\n",
       "LF  False       False       True\n",
       "UF  False        True      False\n",
       "MF   True       False      False"
      ]
     },
     "execution_count": 77,
     "metadata": {},
     "output_type": "execute_result"
    }
   ],
   "source": [
    "df.isna()"
   ]
  },
  {
   "cell_type": "code",
   "execution_count": 78,
   "id": "303a4765-8f83-44ba-9577-8d696f65b3eb",
   "metadata": {},
   "outputs": [
    {
     "data": {
      "text/html": [
       "<div>\n",
       "<style scoped>\n",
       "    .dataframe tbody tr th:only-of-type {\n",
       "        vertical-align: middle;\n",
       "    }\n",
       "\n",
       "    .dataframe tbody tr th {\n",
       "        vertical-align: top;\n",
       "    }\n",
       "\n",
       "    .dataframe thead th {\n",
       "        text-align: right;\n",
       "    }\n",
       "</style>\n",
       "<table border=\"1\" class=\"dataframe\">\n",
       "  <thead>\n",
       "    <tr style=\"text-align: right;\">\n",
       "      <th></th>\n",
       "      <th>name</th>\n",
       "      <th>population</th>\n",
       "      <th>has_bears</th>\n",
       "    </tr>\n",
       "  </thead>\n",
       "  <tbody>\n",
       "    <tr>\n",
       "      <th>LB</th>\n",
       "      <td>True</td>\n",
       "      <td>True</td>\n",
       "      <td>True</td>\n",
       "    </tr>\n",
       "    <tr>\n",
       "      <th>LF</th>\n",
       "      <td>True</td>\n",
       "      <td>True</td>\n",
       "      <td>False</td>\n",
       "    </tr>\n",
       "    <tr>\n",
       "      <th>UF</th>\n",
       "      <td>True</td>\n",
       "      <td>False</td>\n",
       "      <td>True</td>\n",
       "    </tr>\n",
       "    <tr>\n",
       "      <th>MF</th>\n",
       "      <td>False</td>\n",
       "      <td>True</td>\n",
       "      <td>True</td>\n",
       "    </tr>\n",
       "  </tbody>\n",
       "</table>\n",
       "</div>"
      ],
      "text/plain": [
       "     name  population  has_bears\n",
       "LB   True        True       True\n",
       "LF   True        True      False\n",
       "UF   True       False       True\n",
       "MF  False        True       True"
      ]
     },
     "execution_count": 78,
     "metadata": {},
     "output_type": "execute_result"
    }
   ],
   "source": [
    "df.notna()"
   ]
  },
  {
   "cell_type": "markdown",
   "id": "3c872f3a-d9a2-440e-b990-71b99defa941",
   "metadata": {},
   "source": [
    "alternative use here isnull and notnull"
   ]
  },
  {
   "cell_type": "markdown",
   "id": "a8d784b5-247f-44aa-b145-88edef5cf7e4",
   "metadata": {},
   "source": [
    "Drop NA"
   ]
  },
  {
   "cell_type": "code",
   "execution_count": 80,
   "id": "508ceb04-42ed-40d5-b046-1c3a1278c4e1",
   "metadata": {},
   "outputs": [
    {
     "data": {
      "text/plain": [
       "0       1\n",
       "1       5\n",
       "2       7\n",
       "3    <NA>\n",
       "4      12\n",
       "dtype: Int64"
      ]
     },
     "execution_count": 80,
     "metadata": {},
     "output_type": "execute_result"
    }
   ],
   "source": [
    "nulled = pd.Series([1,5,7,np.nan, 12]).convert_dtypes()\n",
    "nulled"
   ]
  },
  {
   "cell_type": "code",
   "execution_count": 81,
   "id": "74c75b89-3a95-42d2-a0de-705760c6ce9b",
   "metadata": {},
   "outputs": [
    {
     "data": {
      "text/plain": [
       "0     1\n",
       "1     5\n",
       "2     7\n",
       "4    12\n",
       "dtype: Int64"
      ]
     },
     "execution_count": 81,
     "metadata": {},
     "output_type": "execute_result"
    }
   ],
   "source": [
    "nulled.dropna()"
   ]
  },
  {
   "cell_type": "markdown",
   "id": "6ec62810-4b97-478e-b14a-f7003f9618e9",
   "metadata": {},
   "source": [
    "remove rows with NA values"
   ]
  },
  {
   "cell_type": "code",
   "execution_count": 82,
   "id": "edc3db00-0317-4a15-a7d1-8c09ed7b1e97",
   "metadata": {},
   "outputs": [
    {
     "data": {
      "text/html": [
       "<div>\n",
       "<style scoped>\n",
       "    .dataframe tbody tr th:only-of-type {\n",
       "        vertical-align: middle;\n",
       "    }\n",
       "\n",
       "    .dataframe tbody tr th {\n",
       "        vertical-align: top;\n",
       "    }\n",
       "\n",
       "    .dataframe thead th {\n",
       "        text-align: right;\n",
       "    }\n",
       "</style>\n",
       "<table border=\"1\" class=\"dataframe\">\n",
       "  <thead>\n",
       "    <tr style=\"text-align: right;\">\n",
       "      <th></th>\n",
       "      <th>name</th>\n",
       "      <th>population</th>\n",
       "      <th>has_bears</th>\n",
       "    </tr>\n",
       "  </thead>\n",
       "  <tbody>\n",
       "    <tr>\n",
       "      <th>LB</th>\n",
       "      <td>Lower Bavaria</td>\n",
       "      <td>1244169</td>\n",
       "      <td>True</td>\n",
       "    </tr>\n",
       "    <tr>\n",
       "      <th>LF</th>\n",
       "      <td>Lower Franconia</td>\n",
       "      <td>1317619</td>\n",
       "      <td>&lt;NA&gt;</td>\n",
       "    </tr>\n",
       "    <tr>\n",
       "      <th>UF</th>\n",
       "      <td>Upper Franconia</td>\n",
       "      <td>&lt;NA&gt;</td>\n",
       "      <td>False</td>\n",
       "    </tr>\n",
       "    <tr>\n",
       "      <th>MF</th>\n",
       "      <td>&lt;NA&gt;</td>\n",
       "      <td>1775169</td>\n",
       "      <td>True</td>\n",
       "    </tr>\n",
       "  </tbody>\n",
       "</table>\n",
       "</div>"
      ],
      "text/plain": [
       "               name  population  has_bears\n",
       "LB    Lower Bavaria     1244169       True\n",
       "LF  Lower Franconia     1317619       <NA>\n",
       "UF  Upper Franconia        <NA>      False\n",
       "MF             <NA>     1775169       True"
      ]
     },
     "execution_count": 82,
     "metadata": {},
     "output_type": "execute_result"
    }
   ],
   "source": [
    "df"
   ]
  },
  {
   "cell_type": "code",
   "execution_count": 83,
   "id": "00a31cdf-4b90-46b8-826c-141b52bb6bcc",
   "metadata": {},
   "outputs": [
    {
     "data": {
      "text/html": [
       "<div>\n",
       "<style scoped>\n",
       "    .dataframe tbody tr th:only-of-type {\n",
       "        vertical-align: middle;\n",
       "    }\n",
       "\n",
       "    .dataframe tbody tr th {\n",
       "        vertical-align: top;\n",
       "    }\n",
       "\n",
       "    .dataframe thead th {\n",
       "        text-align: right;\n",
       "    }\n",
       "</style>\n",
       "<table border=\"1\" class=\"dataframe\">\n",
       "  <thead>\n",
       "    <tr style=\"text-align: right;\">\n",
       "      <th></th>\n",
       "      <th>name</th>\n",
       "      <th>population</th>\n",
       "      <th>has_bears</th>\n",
       "    </tr>\n",
       "  </thead>\n",
       "  <tbody>\n",
       "    <tr>\n",
       "      <th>LB</th>\n",
       "      <td>Lower Bavaria</td>\n",
       "      <td>1244169</td>\n",
       "      <td>True</td>\n",
       "    </tr>\n",
       "  </tbody>\n",
       "</table>\n",
       "</div>"
      ],
      "text/plain": [
       "             name  population  has_bears\n",
       "LB  Lower Bavaria     1244169       True"
      ]
     },
     "execution_count": 83,
     "metadata": {},
     "output_type": "execute_result"
    }
   ],
   "source": [
    "df.dropna()"
   ]
  },
  {
   "cell_type": "code",
   "execution_count": 88,
   "id": "b27deec0-eddb-4d32-a49a-3b4ae101e386",
   "metadata": {},
   "outputs": [
    {
     "data": {
      "text/html": [
       "<div>\n",
       "<style scoped>\n",
       "    .dataframe tbody tr th:only-of-type {\n",
       "        vertical-align: middle;\n",
       "    }\n",
       "\n",
       "    .dataframe tbody tr th {\n",
       "        vertical-align: top;\n",
       "    }\n",
       "\n",
       "    .dataframe thead th {\n",
       "        text-align: right;\n",
       "    }\n",
       "</style>\n",
       "<table border=\"1\" class=\"dataframe\">\n",
       "  <thead>\n",
       "    <tr style=\"text-align: right;\">\n",
       "      <th></th>\n",
       "    </tr>\n",
       "  </thead>\n",
       "  <tbody>\n",
       "    <tr>\n",
       "      <th>LB</th>\n",
       "    </tr>\n",
       "    <tr>\n",
       "      <th>LF</th>\n",
       "    </tr>\n",
       "    <tr>\n",
       "      <th>UF</th>\n",
       "    </tr>\n",
       "    <tr>\n",
       "      <th>MF</th>\n",
       "    </tr>\n",
       "  </tbody>\n",
       "</table>\n",
       "</div>"
      ],
      "text/plain": [
       "Empty DataFrame\n",
       "Columns: []\n",
       "Index: [LB, LF, UF, MF]"
      ]
     },
     "execution_count": 88,
     "metadata": {},
     "output_type": "execute_result"
    }
   ],
   "source": [
    "df.dropna(axis=1)"
   ]
  },
  {
   "cell_type": "code",
   "execution_count": 86,
   "id": "00e08ce2-38d8-467b-9e1b-3ab49d1c32d9",
   "metadata": {},
   "outputs": [
    {
     "data": {
      "text/html": [
       "<div>\n",
       "<style scoped>\n",
       "    .dataframe tbody tr th:only-of-type {\n",
       "        vertical-align: middle;\n",
       "    }\n",
       "\n",
       "    .dataframe tbody tr th {\n",
       "        vertical-align: top;\n",
       "    }\n",
       "\n",
       "    .dataframe thead th {\n",
       "        text-align: right;\n",
       "    }\n",
       "</style>\n",
       "<table border=\"1\" class=\"dataframe\">\n",
       "  <thead>\n",
       "    <tr style=\"text-align: right;\">\n",
       "      <th></th>\n",
       "      <th>name</th>\n",
       "      <th>population</th>\n",
       "      <th>has_bears</th>\n",
       "    </tr>\n",
       "  </thead>\n",
       "  <tbody>\n",
       "    <tr>\n",
       "      <th>LB</th>\n",
       "      <td>Lower Bavaria</td>\n",
       "      <td>1244169</td>\n",
       "      <td>True</td>\n",
       "    </tr>\n",
       "    <tr>\n",
       "      <th>LF</th>\n",
       "      <td>Lower Franconia</td>\n",
       "      <td>1317619</td>\n",
       "      <td>&lt;NA&gt;</td>\n",
       "    </tr>\n",
       "    <tr>\n",
       "      <th>UF</th>\n",
       "      <td>Upper Franconia</td>\n",
       "      <td>&lt;NA&gt;</td>\n",
       "      <td>False</td>\n",
       "    </tr>\n",
       "    <tr>\n",
       "      <th>MF</th>\n",
       "      <td>&lt;NA&gt;</td>\n",
       "      <td>1775169</td>\n",
       "      <td>True</td>\n",
       "    </tr>\n",
       "  </tbody>\n",
       "</table>\n",
       "</div>"
      ],
      "text/plain": [
       "               name  population  has_bears\n",
       "LB    Lower Bavaria     1244169       True\n",
       "LF  Lower Franconia     1317619       <NA>\n",
       "UF  Upper Franconia        <NA>      False\n",
       "MF             <NA>     1775169       True"
      ]
     },
     "execution_count": 86,
     "metadata": {},
     "output_type": "execute_result"
    }
   ],
   "source": [
    "df.dropna(how='all') # remove rows if the whole row is full of <NA>"
   ]
  },
  {
   "cell_type": "code",
   "execution_count": 91,
   "id": "01a4d299-dec3-4ef4-b63d-95212359c387",
   "metadata": {},
   "outputs": [
    {
     "data": {
      "text/html": [
       "<div>\n",
       "<style scoped>\n",
       "    .dataframe tbody tr th:only-of-type {\n",
       "        vertical-align: middle;\n",
       "    }\n",
       "\n",
       "    .dataframe tbody tr th {\n",
       "        vertical-align: top;\n",
       "    }\n",
       "\n",
       "    .dataframe thead th {\n",
       "        text-align: right;\n",
       "    }\n",
       "</style>\n",
       "<table border=\"1\" class=\"dataframe\">\n",
       "  <thead>\n",
       "    <tr style=\"text-align: right;\">\n",
       "      <th></th>\n",
       "      <th>name</th>\n",
       "      <th>population</th>\n",
       "      <th>has_bears</th>\n",
       "    </tr>\n",
       "  </thead>\n",
       "  <tbody>\n",
       "    <tr>\n",
       "      <th>LB</th>\n",
       "      <td>Lower Bavaria</td>\n",
       "      <td>1244169</td>\n",
       "      <td>True</td>\n",
       "    </tr>\n",
       "    <tr>\n",
       "      <th>LF</th>\n",
       "      <td>Lower Franconia</td>\n",
       "      <td>1317619</td>\n",
       "      <td>&lt;NA&gt;</td>\n",
       "    </tr>\n",
       "    <tr>\n",
       "      <th>UF</th>\n",
       "      <td>Upper Franconia</td>\n",
       "      <td>&lt;NA&gt;</td>\n",
       "      <td>False</td>\n",
       "    </tr>\n",
       "    <tr>\n",
       "      <th>MF</th>\n",
       "      <td>&lt;NA&gt;</td>\n",
       "      <td>1775169</td>\n",
       "      <td>True</td>\n",
       "    </tr>\n",
       "  </tbody>\n",
       "</table>\n",
       "</div>"
      ],
      "text/plain": [
       "               name  population  has_bears\n",
       "LB    Lower Bavaria     1244169       True\n",
       "LF  Lower Franconia     1317619       <NA>\n",
       "UF  Upper Franconia        <NA>      False\n",
       "MF             <NA>     1775169       True"
      ]
     },
     "execution_count": 91,
     "metadata": {},
     "output_type": "execute_result"
    }
   ],
   "source": [
    "# remove rows if there are n or more <NA>\n",
    " (thresh=2) # there is no more <Na than or equal 2>"
   ]
  },
  {
   "cell_type": "code",
   "execution_count": 99,
   "id": "8542c870-28a2-4b05-aa94-3da39c794517",
   "metadata": {},
   "outputs": [
    {
     "data": {
      "text/html": [
       "<div>\n",
       "<style scoped>\n",
       "    .dataframe tbody tr th:only-of-type {\n",
       "        vertical-align: middle;\n",
       "    }\n",
       "\n",
       "    .dataframe tbody tr th {\n",
       "        vertical-align: top;\n",
       "    }\n",
       "\n",
       "    .dataframe thead th {\n",
       "        text-align: right;\n",
       "    }\n",
       "</style>\n",
       "<table border=\"1\" class=\"dataframe\">\n",
       "  <thead>\n",
       "    <tr style=\"text-align: right;\">\n",
       "      <th></th>\n",
       "      <th>name</th>\n",
       "      <th>population</th>\n",
       "      <th>has_bears</th>\n",
       "    </tr>\n",
       "  </thead>\n",
       "  <tbody>\n",
       "    <tr>\n",
       "      <th>LB</th>\n",
       "      <td>Lower Bavaria</td>\n",
       "      <td>1244169</td>\n",
       "      <td>True</td>\n",
       "    </tr>\n",
       "    <tr>\n",
       "      <th>LF</th>\n",
       "      <td>Lower Franconia</td>\n",
       "      <td>1317619</td>\n",
       "      <td>&lt;NA&gt;</td>\n",
       "    </tr>\n",
       "  </tbody>\n",
       "</table>\n",
       "</div>"
      ],
      "text/plain": [
       "               name  population  has_bears\n",
       "LB    Lower Bavaria     1244169       True\n",
       "LF  Lower Franconia     1317619       <NA>"
      ]
     },
     "execution_count": 99,
     "metadata": {},
     "output_type": "execute_result"
    }
   ],
   "source": [
    "df.dropna(subset=['name', 'population']) # remove rows where NA is in name and population"
   ]
  },
  {
   "cell_type": "code",
   "execution_count": 101,
   "id": "bf0709a8-7800-445e-a90e-9690c5c82265",
   "metadata": {},
   "outputs": [
    {
     "data": {
      "text/html": [
       "<div>\n",
       "<style scoped>\n",
       "    .dataframe tbody tr th:only-of-type {\n",
       "        vertical-align: middle;\n",
       "    }\n",
       "\n",
       "    .dataframe tbody tr th {\n",
       "        vertical-align: top;\n",
       "    }\n",
       "\n",
       "    .dataframe thead th {\n",
       "        text-align: right;\n",
       "    }\n",
       "</style>\n",
       "<table border=\"1\" class=\"dataframe\">\n",
       "  <thead>\n",
       "    <tr style=\"text-align: right;\">\n",
       "      <th></th>\n",
       "      <th>name</th>\n",
       "      <th>has_bears</th>\n",
       "    </tr>\n",
       "  </thead>\n",
       "  <tbody>\n",
       "    <tr>\n",
       "      <th>LB</th>\n",
       "      <td>Lower Bavaria</td>\n",
       "      <td>True</td>\n",
       "    </tr>\n",
       "    <tr>\n",
       "      <th>LF</th>\n",
       "      <td>Lower Franconia</td>\n",
       "      <td>&lt;NA&gt;</td>\n",
       "    </tr>\n",
       "    <tr>\n",
       "      <th>UF</th>\n",
       "      <td>Upper Franconia</td>\n",
       "      <td>False</td>\n",
       "    </tr>\n",
       "    <tr>\n",
       "      <th>MF</th>\n",
       "      <td>&lt;NA&gt;</td>\n",
       "      <td>True</td>\n",
       "    </tr>\n",
       "  </tbody>\n",
       "</table>\n",
       "</div>"
      ],
      "text/plain": [
       "               name  has_bears\n",
       "LB    Lower Bavaria       True\n",
       "LF  Lower Franconia       <NA>\n",
       "UF  Upper Franconia      False\n",
       "MF             <NA>       True"
      ]
     },
     "execution_count": 101,
     "metadata": {},
     "output_type": "execute_result"
    }
   ],
   "source": [
    "df.dropna(axis = 1, subset=['LB', 'UF']) # remove rows LB and UF if there is NA"
   ]
  },
  {
   "cell_type": "markdown",
   "id": "e84ef106-300a-4ecb-965c-f47fda085cdc",
   "metadata": {},
   "source": [
    "Calculations with missing values"
   ]
  },
  {
   "cell_type": "markdown",
   "id": "06f9511a-50f0-432d-8a54-faa7fe112b0a",
   "metadata": {},
   "source": [
    "usual calculation such as min(), sum() etc can be performed with missing values, They are simply ignored"
   ]
  },
  {
   "cell_type": "markdown",
   "id": "6c0e736a-9697-46c8-a8ba-e326d46b8afa",
   "metadata": {},
   "source": [
    "### Fill in the missing values\n",
    "Many possibilities to do it:\n",
    "1. filling with single value\n",
    "2. forward propagation\n",
    "3. backward propagation\n",
    "4. filling with dictionary/series\n",
    "5. interpolation"
   ]
  },
  {
   "cell_type": "code",
   "execution_count": 104,
   "id": "4099a1b5-7424-47bf-8946-ee0192fbfeeb",
   "metadata": {},
   "outputs": [
    {
     "data": {
      "text/plain": [
       "0       1\n",
       "1    <NA>\n",
       "2       3\n",
       "3    <NA>\n",
       "4       5\n",
       "5    <NA>\n",
       "dtype: Int64"
      ]
     },
     "execution_count": 104,
     "metadata": {},
     "output_type": "execute_result"
    }
   ],
   "source": [
    "series = pd.Series([1,None,3,None,5,None]).convert_dtypes()\n",
    "series"
   ]
  },
  {
   "cell_type": "code",
   "execution_count": 105,
   "id": "24f55252-5768-4cb8-af11-b5aa20542b6a",
   "metadata": {},
   "outputs": [
    {
     "data": {
      "text/plain": [
       "0     1\n",
       "1    -1\n",
       "2     3\n",
       "3    -1\n",
       "4     5\n",
       "5    -1\n",
       "dtype: Int64"
      ]
     },
     "execution_count": 105,
     "metadata": {},
     "output_type": "execute_result"
    }
   ],
   "source": [
    "# 1. filling with single value with fillna\n",
    "series.fillna(-1)"
   ]
  },
  {
   "cell_type": "code",
   "execution_count": 110,
   "id": "3770fe8c-6758-4bac-aa65-bff2bf53b270",
   "metadata": {},
   "outputs": [
    {
     "data": {
      "text/plain": [
       "0    1\n",
       "1    1\n",
       "2    3\n",
       "3    3\n",
       "4    5\n",
       "5    5\n",
       "dtype: Int64"
      ]
     },
     "execution_count": 110,
     "metadata": {},
     "output_type": "execute_result"
    }
   ],
   "source": [
    "# 2 forward propagation\n",
    "# replace by last valid value (the one before na). if NA is first, it will be remained as NA\n",
    "series.fillna(method='ffill')"
   ]
  },
  {
   "cell_type": "code",
   "execution_count": 112,
   "id": "845893cd-33aa-4023-b192-e3f30e0601f9",
   "metadata": {},
   "outputs": [
    {
     "data": {
      "text/plain": [
       "0       1\n",
       "1       3\n",
       "2       3\n",
       "3       5\n",
       "4       5\n",
       "5    <NA>\n",
       "dtype: Int64"
      ]
     },
     "execution_count": 112,
     "metadata": {},
     "output_type": "execute_result"
    }
   ],
   "source": [
    "# 3. backward propagation, same as 2 but use the value after and not before\n",
    "# here is the issue if the last value is NA, it will remain NA\n",
    "series.fillna(method='bfill')"
   ]
  },
  {
   "cell_type": "code",
   "execution_count": 114,
   "id": "1c35456f-5f39-478d-ba51-f7ddbf896381",
   "metadata": {},
   "outputs": [
    {
     "data": {
      "text/plain": [
       "0       1\n",
       "1       3\n",
       "2       3\n",
       "3       3\n",
       "4    <NA>\n",
       "5    <NA>\n",
       "6      12\n",
       "dtype: Int64"
      ]
     },
     "execution_count": 114,
     "metadata": {},
     "output_type": "execute_result"
    }
   ],
   "source": [
    "# we can set limit of values for propagation e.g. if we have 1,3,None,None,None,None, 12 and we set limit to 2 \n",
    "# then it will be 1,3,3,3,None,None,12\n",
    "ex = pd.Series([1,3,None,None,None,None,12]).convert_dtypes()\n",
    "ex.fillna(method='ffill',limit=2)"
   ]
  },
  {
   "cell_type": "markdown",
   "id": "7d73a91c-7257-41ef-af36-49f3832da276",
   "metadata": {},
   "source": [
    "alternative we can write: ffil() and bfill(limit=2)"
   ]
  },
  {
   "cell_type": "code",
   "execution_count": 115,
   "id": "972c6cc7-9771-47ac-8054-2fd575e029fa",
   "metadata": {},
   "outputs": [
    {
     "data": {
      "text/html": [
       "<div>\n",
       "<style scoped>\n",
       "    .dataframe tbody tr th:only-of-type {\n",
       "        vertical-align: middle;\n",
       "    }\n",
       "\n",
       "    .dataframe tbody tr th {\n",
       "        vertical-align: top;\n",
       "    }\n",
       "\n",
       "    .dataframe thead th {\n",
       "        text-align: right;\n",
       "    }\n",
       "</style>\n",
       "<table border=\"1\" class=\"dataframe\">\n",
       "  <thead>\n",
       "    <tr style=\"text-align: right;\">\n",
       "      <th></th>\n",
       "      <th>name</th>\n",
       "      <th>population</th>\n",
       "      <th>has_bears</th>\n",
       "    </tr>\n",
       "  </thead>\n",
       "  <tbody>\n",
       "    <tr>\n",
       "      <th>LB</th>\n",
       "      <td>Lower Bavaria</td>\n",
       "      <td>1244169</td>\n",
       "      <td>True</td>\n",
       "    </tr>\n",
       "    <tr>\n",
       "      <th>LF</th>\n",
       "      <td>Lower Franconia</td>\n",
       "      <td>&lt;NA&gt;</td>\n",
       "      <td>&lt;NA&gt;</td>\n",
       "    </tr>\n",
       "    <tr>\n",
       "      <th>UF</th>\n",
       "      <td>Upper Franconia</td>\n",
       "      <td>&lt;NA&gt;</td>\n",
       "      <td>False</td>\n",
       "    </tr>\n",
       "    <tr>\n",
       "      <th>MF</th>\n",
       "      <td>&lt;NA&gt;</td>\n",
       "      <td>&lt;NA&gt;</td>\n",
       "      <td>&lt;NA&gt;</td>\n",
       "    </tr>\n",
       "  </tbody>\n",
       "</table>\n",
       "</div>"
      ],
      "text/plain": [
       "               name  population  has_bears\n",
       "LB    Lower Bavaria     1244169       True\n",
       "LF  Lower Franconia        <NA>       <NA>\n",
       "UF  Upper Franconia        <NA>      False\n",
       "MF             <NA>        <NA>       <NA>"
      ]
     },
     "execution_count": 115,
     "metadata": {},
     "output_type": "execute_result"
    }
   ],
   "source": [
    "# 4. filling with dictionary/series\n",
    "df = pd.DataFrame( data={ \n",
    "    'name': [ 'Lower Bavaria', 'Lower Franconia', 'Upper Franconia', None], \n",
    "    'population': [1_244_169, None, None, None], 'has_bears': [True, None, False, None] },\n",
    "                  index=('LB', 'LF', 'UF', 'MF') ).convert_dtypes()\n",
    "\n",
    "df\n",
    "\n",
    "\n"
   ]
  },
  {
   "cell_type": "code",
   "execution_count": 117,
   "id": "3fdfd776-a78f-422f-8364-f44dd7e66a08",
   "metadata": {},
   "outputs": [
    {
     "data": {
      "text/html": [
       "<div>\n",
       "<style scoped>\n",
       "    .dataframe tbody tr th:only-of-type {\n",
       "        vertical-align: middle;\n",
       "    }\n",
       "\n",
       "    .dataframe tbody tr th {\n",
       "        vertical-align: top;\n",
       "    }\n",
       "\n",
       "    .dataframe thead th {\n",
       "        text-align: right;\n",
       "    }\n",
       "</style>\n",
       "<table border=\"1\" class=\"dataframe\">\n",
       "  <thead>\n",
       "    <tr style=\"text-align: right;\">\n",
       "      <th></th>\n",
       "      <th>name</th>\n",
       "      <th>population</th>\n",
       "      <th>has_bears</th>\n",
       "    </tr>\n",
       "  </thead>\n",
       "  <tbody>\n",
       "    <tr>\n",
       "      <th>LB</th>\n",
       "      <td>Lower Bavaria</td>\n",
       "      <td>1244169</td>\n",
       "      <td>True</td>\n",
       "    </tr>\n",
       "    <tr>\n",
       "      <th>LF</th>\n",
       "      <td>Lower Franconia</td>\n",
       "      <td>9999</td>\n",
       "      <td>False</td>\n",
       "    </tr>\n",
       "    <tr>\n",
       "      <th>UF</th>\n",
       "      <td>Upper Franconia</td>\n",
       "      <td>9999</td>\n",
       "      <td>False</td>\n",
       "    </tr>\n",
       "    <tr>\n",
       "      <th>MF</th>\n",
       "      <td>WOWO</td>\n",
       "      <td>9999</td>\n",
       "      <td>False</td>\n",
       "    </tr>\n",
       "  </tbody>\n",
       "</table>\n",
       "</div>"
      ],
      "text/plain": [
       "               name  population  has_bears\n",
       "LB    Lower Bavaria     1244169       True\n",
       "LF  Lower Franconia        9999      False\n",
       "UF  Upper Franconia        9999      False\n",
       "MF             WOWO        9999      False"
      ]
     },
     "execution_count": 117,
     "metadata": {},
     "output_type": "execute_result"
    }
   ],
   "source": [
    "df.fillna({'name':'WOWO', 'population':9999, 'has_bears':False})"
   ]
  },
  {
   "cell_type": "code",
   "execution_count": 123,
   "id": "cea8064d-5e60-48bc-bc18-548a3510be8a",
   "metadata": {},
   "outputs": [],
   "source": [
    "# 5. interpolation\n",
    "# uses linear intrerpolation"
   ]
  },
  {
   "cell_type": "code",
   "execution_count": 122,
   "id": "6bfa2be0-328d-4b34-8d96-51fe4b6cc9f1",
   "metadata": {},
   "outputs": [
    {
     "data": {
      "text/plain": [
       "0    1.0\n",
       "1    2.0\n",
       "2    3.0\n",
       "dtype: float64"
      ]
     },
     "execution_count": 122,
     "metadata": {},
     "output_type": "execute_result"
    }
   ],
   "source": [
    "my_ser = pd.Series([1.0,None,3.0]) # does not work with int\n",
    "my_ser.interpolate()"
   ]
  },
  {
   "cell_type": "code",
   "execution_count": 121,
   "id": "14ebe060-1dce-49b6-9461-e5c1572c89a7",
   "metadata": {},
   "outputs": [
    {
     "ename": "ValueError",
     "evalue": "Invalid fill method. Expecting pad (ffill) or backfill (bfill). Got linear",
     "output_type": "error",
     "traceback": [
      "\u001b[0;31m---------------------------------------------------------------------------\u001b[0m",
      "\u001b[0;31mValueError\u001b[0m                                Traceback (most recent call last)",
      "Input \u001b[0;32mIn [121]\u001b[0m, in \u001b[0;36m<cell line: 2>\u001b[0;34m()\u001b[0m\n\u001b[1;32m      1\u001b[0m my_ser \u001b[38;5;241m=\u001b[39m pd\u001b[38;5;241m.\u001b[39mSeries([\u001b[38;5;241m1\u001b[39m,\u001b[38;5;28;01mNone\u001b[39;00m,\u001b[38;5;241m3\u001b[39m])\u001b[38;5;241m.\u001b[39mconvert_dtypes()\n\u001b[0;32m----> 2\u001b[0m \u001b[43mmy_ser\u001b[49m\u001b[38;5;241;43m.\u001b[39;49m\u001b[43minterpolate\u001b[49m\u001b[43m(\u001b[49m\u001b[43m)\u001b[49m\n",
      "File \u001b[0;32m~/opt/anaconda3/envs/py3104/lib/python3.10/site-packages/pandas/util/_decorators.py:311\u001b[0m, in \u001b[0;36mdeprecate_nonkeyword_arguments.<locals>.decorate.<locals>.wrapper\u001b[0;34m(*args, **kwargs)\u001b[0m\n\u001b[1;32m    305\u001b[0m \u001b[38;5;28;01mif\u001b[39;00m \u001b[38;5;28mlen\u001b[39m(args) \u001b[38;5;241m>\u001b[39m num_allow_args:\n\u001b[1;32m    306\u001b[0m     warnings\u001b[38;5;241m.\u001b[39mwarn(\n\u001b[1;32m    307\u001b[0m         msg\u001b[38;5;241m.\u001b[39mformat(arguments\u001b[38;5;241m=\u001b[39marguments),\n\u001b[1;32m    308\u001b[0m         \u001b[38;5;167;01mFutureWarning\u001b[39;00m,\n\u001b[1;32m    309\u001b[0m         stacklevel\u001b[38;5;241m=\u001b[39mstacklevel,\n\u001b[1;32m    310\u001b[0m     )\n\u001b[0;32m--> 311\u001b[0m \u001b[38;5;28;01mreturn\u001b[39;00m \u001b[43mfunc\u001b[49m\u001b[43m(\u001b[49m\u001b[38;5;241;43m*\u001b[39;49m\u001b[43margs\u001b[49m\u001b[43m,\u001b[49m\u001b[43m \u001b[49m\u001b[38;5;241;43m*\u001b[39;49m\u001b[38;5;241;43m*\u001b[39;49m\u001b[43mkwargs\u001b[49m\u001b[43m)\u001b[49m\n",
      "File \u001b[0;32m~/opt/anaconda3/envs/py3104/lib/python3.10/site-packages/pandas/core/series.py:5545\u001b[0m, in \u001b[0;36mSeries.interpolate\u001b[0;34m(self, method, axis, limit, inplace, limit_direction, limit_area, downcast, **kwargs)\u001b[0m\n\u001b[1;32m   5533\u001b[0m \u001b[38;5;129m@deprecate_nonkeyword_arguments\u001b[39m(version\u001b[38;5;241m=\u001b[39m\u001b[38;5;28;01mNone\u001b[39;00m, allowed_args\u001b[38;5;241m=\u001b[39m[\u001b[38;5;124m\"\u001b[39m\u001b[38;5;124mself\u001b[39m\u001b[38;5;124m\"\u001b[39m, \u001b[38;5;124m\"\u001b[39m\u001b[38;5;124mmethod\u001b[39m\u001b[38;5;124m\"\u001b[39m])\n\u001b[1;32m   5534\u001b[0m \u001b[38;5;28;01mdef\u001b[39;00m \u001b[38;5;21minterpolate\u001b[39m(\n\u001b[1;32m   5535\u001b[0m     \u001b[38;5;28mself\u001b[39m: Series,\n\u001b[0;32m   (...)\u001b[0m\n\u001b[1;32m   5543\u001b[0m     \u001b[38;5;241m*\u001b[39m\u001b[38;5;241m*\u001b[39mkwargs,\n\u001b[1;32m   5544\u001b[0m ) \u001b[38;5;241m-\u001b[39m\u001b[38;5;241m>\u001b[39m Series \u001b[38;5;241m|\u001b[39m \u001b[38;5;28;01mNone\u001b[39;00m:\n\u001b[0;32m-> 5545\u001b[0m     \u001b[38;5;28;01mreturn\u001b[39;00m \u001b[38;5;28;43msuper\u001b[39;49m\u001b[43m(\u001b[49m\u001b[43m)\u001b[49m\u001b[38;5;241;43m.\u001b[39;49m\u001b[43minterpolate\u001b[49m\u001b[43m(\u001b[49m\n\u001b[1;32m   5546\u001b[0m \u001b[43m        \u001b[49m\u001b[43mmethod\u001b[49m\u001b[43m,\u001b[49m\n\u001b[1;32m   5547\u001b[0m \u001b[43m        \u001b[49m\u001b[43maxis\u001b[49m\u001b[43m,\u001b[49m\n\u001b[1;32m   5548\u001b[0m \u001b[43m        \u001b[49m\u001b[43mlimit\u001b[49m\u001b[43m,\u001b[49m\n\u001b[1;32m   5549\u001b[0m \u001b[43m        \u001b[49m\u001b[43minplace\u001b[49m\u001b[43m,\u001b[49m\n\u001b[1;32m   5550\u001b[0m \u001b[43m        \u001b[49m\u001b[43mlimit_direction\u001b[49m\u001b[43m,\u001b[49m\n\u001b[1;32m   5551\u001b[0m \u001b[43m        \u001b[49m\u001b[43mlimit_area\u001b[49m\u001b[43m,\u001b[49m\n\u001b[1;32m   5552\u001b[0m \u001b[43m        \u001b[49m\u001b[43mdowncast\u001b[49m\u001b[43m,\u001b[49m\n\u001b[1;32m   5553\u001b[0m \u001b[43m        \u001b[49m\u001b[38;5;241;43m*\u001b[39;49m\u001b[38;5;241;43m*\u001b[39;49m\u001b[43mkwargs\u001b[49m\u001b[43m,\u001b[49m\n\u001b[1;32m   5554\u001b[0m \u001b[43m    \u001b[49m\u001b[43m)\u001b[49m\n",
      "File \u001b[0;32m~/opt/anaconda3/envs/py3104/lib/python3.10/site-packages/pandas/core/generic.py:7034\u001b[0m, in \u001b[0;36mNDFrame.interpolate\u001b[0;34m(self, method, axis, limit, inplace, limit_direction, limit_area, downcast, **kwargs)\u001b[0m\n\u001b[1;32m   7028\u001b[0m \u001b[38;5;28;01mif\u001b[39;00m isna(index)\u001b[38;5;241m.\u001b[39many():\n\u001b[1;32m   7029\u001b[0m     \u001b[38;5;28;01mraise\u001b[39;00m \u001b[38;5;167;01mNotImplementedError\u001b[39;00m(\n\u001b[1;32m   7030\u001b[0m         \u001b[38;5;124m\"\u001b[39m\u001b[38;5;124mInterpolation with NaNs in the index \u001b[39m\u001b[38;5;124m\"\u001b[39m\n\u001b[1;32m   7031\u001b[0m         \u001b[38;5;124m\"\u001b[39m\u001b[38;5;124mhas not been implemented. Try filling \u001b[39m\u001b[38;5;124m\"\u001b[39m\n\u001b[1;32m   7032\u001b[0m         \u001b[38;5;124m\"\u001b[39m\u001b[38;5;124mthose NaNs before interpolating.\u001b[39m\u001b[38;5;124m\"\u001b[39m\n\u001b[1;32m   7033\u001b[0m     )\n\u001b[0;32m-> 7034\u001b[0m new_data \u001b[38;5;241m=\u001b[39m \u001b[43mobj\u001b[49m\u001b[38;5;241;43m.\u001b[39;49m\u001b[43m_mgr\u001b[49m\u001b[38;5;241;43m.\u001b[39;49m\u001b[43minterpolate\u001b[49m\u001b[43m(\u001b[49m\n\u001b[1;32m   7035\u001b[0m \u001b[43m    \u001b[49m\u001b[43mmethod\u001b[49m\u001b[38;5;241;43m=\u001b[39;49m\u001b[43mmethod\u001b[49m\u001b[43m,\u001b[49m\n\u001b[1;32m   7036\u001b[0m \u001b[43m    \u001b[49m\u001b[43maxis\u001b[49m\u001b[38;5;241;43m=\u001b[39;49m\u001b[43maxis\u001b[49m\u001b[43m,\u001b[49m\n\u001b[1;32m   7037\u001b[0m \u001b[43m    \u001b[49m\u001b[43mindex\u001b[49m\u001b[38;5;241;43m=\u001b[39;49m\u001b[43mindex\u001b[49m\u001b[43m,\u001b[49m\n\u001b[1;32m   7038\u001b[0m \u001b[43m    \u001b[49m\u001b[43mlimit\u001b[49m\u001b[38;5;241;43m=\u001b[39;49m\u001b[43mlimit\u001b[49m\u001b[43m,\u001b[49m\n\u001b[1;32m   7039\u001b[0m \u001b[43m    \u001b[49m\u001b[43mlimit_direction\u001b[49m\u001b[38;5;241;43m=\u001b[39;49m\u001b[43mlimit_direction\u001b[49m\u001b[43m,\u001b[49m\n\u001b[1;32m   7040\u001b[0m \u001b[43m    \u001b[49m\u001b[43mlimit_area\u001b[49m\u001b[38;5;241;43m=\u001b[39;49m\u001b[43mlimit_area\u001b[49m\u001b[43m,\u001b[49m\n\u001b[1;32m   7041\u001b[0m \u001b[43m    \u001b[49m\u001b[43minplace\u001b[49m\u001b[38;5;241;43m=\u001b[39;49m\u001b[43minplace\u001b[49m\u001b[43m,\u001b[49m\n\u001b[1;32m   7042\u001b[0m \u001b[43m    \u001b[49m\u001b[43mdowncast\u001b[49m\u001b[38;5;241;43m=\u001b[39;49m\u001b[43mdowncast\u001b[49m\u001b[43m,\u001b[49m\n\u001b[1;32m   7043\u001b[0m \u001b[43m    \u001b[49m\u001b[38;5;241;43m*\u001b[39;49m\u001b[38;5;241;43m*\u001b[39;49m\u001b[43mkwargs\u001b[49m\u001b[43m,\u001b[49m\n\u001b[1;32m   7044\u001b[0m \u001b[43m\u001b[49m\u001b[43m)\u001b[49m\n\u001b[1;32m   7046\u001b[0m result \u001b[38;5;241m=\u001b[39m \u001b[38;5;28mself\u001b[39m\u001b[38;5;241m.\u001b[39m_constructor(new_data)\n\u001b[1;32m   7047\u001b[0m \u001b[38;5;28;01mif\u001b[39;00m should_transpose:\n",
      "File \u001b[0;32m~/opt/anaconda3/envs/py3104/lib/python3.10/site-packages/pandas/core/internals/managers.py:359\u001b[0m, in \u001b[0;36mBaseBlockManager.interpolate\u001b[0;34m(self, **kwargs)\u001b[0m\n\u001b[1;32m    358\u001b[0m \u001b[38;5;28;01mdef\u001b[39;00m \u001b[38;5;21minterpolate\u001b[39m(\u001b[38;5;28mself\u001b[39m: T, \u001b[38;5;241m*\u001b[39m\u001b[38;5;241m*\u001b[39mkwargs) \u001b[38;5;241m-\u001b[39m\u001b[38;5;241m>\u001b[39m T:\n\u001b[0;32m--> 359\u001b[0m     \u001b[38;5;28;01mreturn\u001b[39;00m \u001b[38;5;28;43mself\u001b[39;49m\u001b[38;5;241;43m.\u001b[39;49m\u001b[43mapply\u001b[49m\u001b[43m(\u001b[49m\u001b[38;5;124;43m\"\u001b[39;49m\u001b[38;5;124;43minterpolate\u001b[39;49m\u001b[38;5;124;43m\"\u001b[39;49m\u001b[43m,\u001b[49m\u001b[43m \u001b[49m\u001b[38;5;241;43m*\u001b[39;49m\u001b[38;5;241;43m*\u001b[39;49m\u001b[43mkwargs\u001b[49m\u001b[43m)\u001b[49m\n",
      "File \u001b[0;32m~/opt/anaconda3/envs/py3104/lib/python3.10/site-packages/pandas/core/internals/managers.py:304\u001b[0m, in \u001b[0;36mBaseBlockManager.apply\u001b[0;34m(self, f, align_keys, ignore_failures, **kwargs)\u001b[0m\n\u001b[1;32m    302\u001b[0m         applied \u001b[38;5;241m=\u001b[39m b\u001b[38;5;241m.\u001b[39mapply(f, \u001b[38;5;241m*\u001b[39m\u001b[38;5;241m*\u001b[39mkwargs)\n\u001b[1;32m    303\u001b[0m     \u001b[38;5;28;01melse\u001b[39;00m:\n\u001b[0;32m--> 304\u001b[0m         applied \u001b[38;5;241m=\u001b[39m \u001b[38;5;28;43mgetattr\u001b[39;49m\u001b[43m(\u001b[49m\u001b[43mb\u001b[49m\u001b[43m,\u001b[49m\u001b[43m \u001b[49m\u001b[43mf\u001b[49m\u001b[43m)\u001b[49m\u001b[43m(\u001b[49m\u001b[38;5;241;43m*\u001b[39;49m\u001b[38;5;241;43m*\u001b[39;49m\u001b[43mkwargs\u001b[49m\u001b[43m)\u001b[49m\n\u001b[1;32m    305\u001b[0m \u001b[38;5;28;01mexcept\u001b[39;00m (\u001b[38;5;167;01mTypeError\u001b[39;00m, \u001b[38;5;167;01mNotImplementedError\u001b[39;00m):\n\u001b[1;32m    306\u001b[0m     \u001b[38;5;28;01mif\u001b[39;00m \u001b[38;5;129;01mnot\u001b[39;00m ignore_failures:\n",
      "File \u001b[0;32m~/opt/anaconda3/envs/py3104/lib/python3.10/site-packages/pandas/core/internals/blocks.py:1482\u001b[0m, in \u001b[0;36mEABackedBlock.interpolate\u001b[0;34m(self, method, axis, inplace, limit, fill_value, **kwargs)\u001b[0m\n\u001b[1;32m   1480\u001b[0m     new_values \u001b[38;5;241m=\u001b[39m values\u001b[38;5;241m.\u001b[39mT\u001b[38;5;241m.\u001b[39mfillna(value\u001b[38;5;241m=\u001b[39mfill_value, method\u001b[38;5;241m=\u001b[39mmethod, limit\u001b[38;5;241m=\u001b[39mlimit)\u001b[38;5;241m.\u001b[39mT\n\u001b[1;32m   1481\u001b[0m \u001b[38;5;28;01melse\u001b[39;00m:\n\u001b[0;32m-> 1482\u001b[0m     new_values \u001b[38;5;241m=\u001b[39m \u001b[43mvalues\u001b[49m\u001b[38;5;241;43m.\u001b[39;49m\u001b[43mfillna\u001b[49m\u001b[43m(\u001b[49m\u001b[43mvalue\u001b[49m\u001b[38;5;241;43m=\u001b[39;49m\u001b[43mfill_value\u001b[49m\u001b[43m,\u001b[49m\u001b[43m \u001b[49m\u001b[43mmethod\u001b[49m\u001b[38;5;241;43m=\u001b[39;49m\u001b[43mmethod\u001b[49m\u001b[43m,\u001b[49m\u001b[43m \u001b[49m\u001b[43mlimit\u001b[49m\u001b[38;5;241;43m=\u001b[39;49m\u001b[43mlimit\u001b[49m\u001b[43m)\u001b[49m\n\u001b[1;32m   1483\u001b[0m \u001b[38;5;28;01mreturn\u001b[39;00m \u001b[38;5;28mself\u001b[39m\u001b[38;5;241m.\u001b[39mmake_block_same_class(new_values)\n",
      "File \u001b[0;32m~/opt/anaconda3/envs/py3104/lib/python3.10/site-packages/pandas/core/arrays/masked.py:188\u001b[0m, in \u001b[0;36mBaseMaskedArray.fillna\u001b[0;34m(self, value, method, limit)\u001b[0m\n\u001b[1;32m    184\u001b[0m \u001b[38;5;129m@doc\u001b[39m(ExtensionArray\u001b[38;5;241m.\u001b[39mfillna)\n\u001b[1;32m    185\u001b[0m \u001b[38;5;28;01mdef\u001b[39;00m \u001b[38;5;21mfillna\u001b[39m(\n\u001b[1;32m    186\u001b[0m     \u001b[38;5;28mself\u001b[39m: BaseMaskedArrayT, value\u001b[38;5;241m=\u001b[39m\u001b[38;5;28;01mNone\u001b[39;00m, method\u001b[38;5;241m=\u001b[39m\u001b[38;5;28;01mNone\u001b[39;00m, limit\u001b[38;5;241m=\u001b[39m\u001b[38;5;28;01mNone\u001b[39;00m\n\u001b[1;32m    187\u001b[0m ) \u001b[38;5;241m-\u001b[39m\u001b[38;5;241m>\u001b[39m BaseMaskedArrayT:\n\u001b[0;32m--> 188\u001b[0m     value, method \u001b[38;5;241m=\u001b[39m \u001b[43mvalidate_fillna_kwargs\u001b[49m\u001b[43m(\u001b[49m\u001b[43mvalue\u001b[49m\u001b[43m,\u001b[49m\u001b[43m \u001b[49m\u001b[43mmethod\u001b[49m\u001b[43m)\u001b[49m\n\u001b[1;32m    190\u001b[0m     mask \u001b[38;5;241m=\u001b[39m \u001b[38;5;28mself\u001b[39m\u001b[38;5;241m.\u001b[39m_mask\n\u001b[1;32m    192\u001b[0m     \u001b[38;5;28;01mif\u001b[39;00m is_array_like(value):\n",
      "File \u001b[0;32m~/opt/anaconda3/envs/py3104/lib/python3.10/site-packages/pandas/util/_validators.py:378\u001b[0m, in \u001b[0;36mvalidate_fillna_kwargs\u001b[0;34m(value, method, validate_scalar_dict_value)\u001b[0m\n\u001b[1;32m    376\u001b[0m     \u001b[38;5;28;01mraise\u001b[39;00m \u001b[38;5;167;01mValueError\u001b[39;00m(\u001b[38;5;124m\"\u001b[39m\u001b[38;5;124mMust specify a fill \u001b[39m\u001b[38;5;124m'\u001b[39m\u001b[38;5;124mvalue\u001b[39m\u001b[38;5;124m'\u001b[39m\u001b[38;5;124m or \u001b[39m\u001b[38;5;124m'\u001b[39m\u001b[38;5;124mmethod\u001b[39m\u001b[38;5;124m'\u001b[39m\u001b[38;5;124m.\u001b[39m\u001b[38;5;124m\"\u001b[39m)\n\u001b[1;32m    377\u001b[0m \u001b[38;5;28;01melif\u001b[39;00m value \u001b[38;5;129;01mis\u001b[39;00m \u001b[38;5;28;01mNone\u001b[39;00m \u001b[38;5;129;01mand\u001b[39;00m method \u001b[38;5;129;01mis\u001b[39;00m \u001b[38;5;129;01mnot\u001b[39;00m \u001b[38;5;28;01mNone\u001b[39;00m:\n\u001b[0;32m--> 378\u001b[0m     method \u001b[38;5;241m=\u001b[39m \u001b[43mclean_fill_method\u001b[49m\u001b[43m(\u001b[49m\u001b[43mmethod\u001b[49m\u001b[43m)\u001b[49m\n\u001b[1;32m    380\u001b[0m \u001b[38;5;28;01melif\u001b[39;00m value \u001b[38;5;129;01mis\u001b[39;00m \u001b[38;5;129;01mnot\u001b[39;00m \u001b[38;5;28;01mNone\u001b[39;00m \u001b[38;5;129;01mand\u001b[39;00m method \u001b[38;5;129;01mis\u001b[39;00m \u001b[38;5;28;01mNone\u001b[39;00m:\n\u001b[1;32m    381\u001b[0m     \u001b[38;5;28;01mif\u001b[39;00m validate_scalar_dict_value \u001b[38;5;129;01mand\u001b[39;00m \u001b[38;5;28misinstance\u001b[39m(value, (\u001b[38;5;28mlist\u001b[39m, \u001b[38;5;28mtuple\u001b[39m)):\n",
      "File \u001b[0;32m~/opt/anaconda3/envs/py3104/lib/python3.10/site-packages/pandas/core/missing.py:125\u001b[0m, in \u001b[0;36mclean_fill_method\u001b[0;34m(method, allow_nearest)\u001b[0m\n\u001b[1;32m    123\u001b[0m     expecting \u001b[38;5;241m=\u001b[39m \u001b[38;5;124m\"\u001b[39m\u001b[38;5;124mpad (ffill), backfill (bfill) or nearest\u001b[39m\u001b[38;5;124m\"\u001b[39m\n\u001b[1;32m    124\u001b[0m \u001b[38;5;28;01mif\u001b[39;00m method \u001b[38;5;129;01mnot\u001b[39;00m \u001b[38;5;129;01min\u001b[39;00m valid_methods:\n\u001b[0;32m--> 125\u001b[0m     \u001b[38;5;28;01mraise\u001b[39;00m \u001b[38;5;167;01mValueError\u001b[39;00m(\u001b[38;5;124mf\u001b[39m\u001b[38;5;124m\"\u001b[39m\u001b[38;5;124mInvalid fill method. Expecting \u001b[39m\u001b[38;5;132;01m{\u001b[39;00mexpecting\u001b[38;5;132;01m}\u001b[39;00m\u001b[38;5;124m. Got \u001b[39m\u001b[38;5;132;01m{\u001b[39;00mmethod\u001b[38;5;132;01m}\u001b[39;00m\u001b[38;5;124m\"\u001b[39m)\n\u001b[1;32m    126\u001b[0m \u001b[38;5;28;01mreturn\u001b[39;00m method\n",
      "\u001b[0;31mValueError\u001b[0m: Invalid fill method. Expecting pad (ffill) or backfill (bfill). Got linear"
     ]
    }
   ],
   "source": [
    "my_ser = pd.Series([1,None,3]).convert_dtypes()\n",
    "my_ser.interpolate()"
   ]
  },
  {
   "cell_type": "markdown",
   "id": "9de331e9-064c-4f08-8488-3a046ade8412",
   "metadata": {},
   "source": [
    "### Categorical Variables\n",
    "is used for variables that:\n",
    "- only have a few predifined values\n",
    "- do not allow perform mathematical operations on them\n",
    "- can be ordered"
   ]
  },
  {
   "cell_type": "code",
   "execution_count": 126,
   "id": "af439def-a674-4f3d-81f2-48aeac9d5de6",
   "metadata": {},
   "outputs": [
    {
     "data": {
      "text/plain": [
       "0     S\n",
       "1     M\n",
       "2     L\n",
       "3    XL\n",
       "dtype: object"
      ]
     },
     "execution_count": 126,
     "metadata": {},
     "output_type": "execute_result"
    }
   ],
   "source": [
    "cat = pd.Series(['S','M','L','XL'])\n",
    "cat"
   ]
  },
  {
   "cell_type": "code",
   "execution_count": 129,
   "id": "a89b1dc5-a700-4818-a982-19f868fbe9bd",
   "metadata": {},
   "outputs": [
    {
     "data": {
      "text/html": [
       "<div>\n",
       "<style scoped>\n",
       "    .dataframe tbody tr th:only-of-type {\n",
       "        vertical-align: middle;\n",
       "    }\n",
       "\n",
       "    .dataframe tbody tr th {\n",
       "        vertical-align: top;\n",
       "    }\n",
       "\n",
       "    .dataframe thead th {\n",
       "        text-align: right;\n",
       "    }\n",
       "</style>\n",
       "<table border=\"1\" class=\"dataframe\">\n",
       "  <thead>\n",
       "    <tr style=\"text-align: right;\">\n",
       "      <th></th>\n",
       "      <th>L</th>\n",
       "      <th>M</th>\n",
       "      <th>S</th>\n",
       "      <th>XL</th>\n",
       "    </tr>\n",
       "  </thead>\n",
       "  <tbody>\n",
       "    <tr>\n",
       "      <th>0</th>\n",
       "      <td>0</td>\n",
       "      <td>0</td>\n",
       "      <td>1</td>\n",
       "      <td>0</td>\n",
       "    </tr>\n",
       "    <tr>\n",
       "      <th>1</th>\n",
       "      <td>0</td>\n",
       "      <td>1</td>\n",
       "      <td>0</td>\n",
       "      <td>0</td>\n",
       "    </tr>\n",
       "    <tr>\n",
       "      <th>2</th>\n",
       "      <td>1</td>\n",
       "      <td>0</td>\n",
       "      <td>0</td>\n",
       "      <td>0</td>\n",
       "    </tr>\n",
       "    <tr>\n",
       "      <th>3</th>\n",
       "      <td>0</td>\n",
       "      <td>0</td>\n",
       "      <td>0</td>\n",
       "      <td>1</td>\n",
       "    </tr>\n",
       "  </tbody>\n",
       "</table>\n",
       "</div>"
      ],
      "text/plain": [
       "   L  M  S  XL\n",
       "0  0  0  1   0\n",
       "1  0  1  0   0\n",
       "2  1  0  0   0\n",
       "3  0  0  0   1"
      ]
     },
     "execution_count": 129,
     "metadata": {},
     "output_type": "execute_result"
    }
   ],
   "source": [
    "cat.str.get_dummies() # good for ML but not for us :/"
   ]
  },
  {
   "cell_type": "code",
   "execution_count": 130,
   "id": "ae8c4a04-ab11-49ed-a850-ccf21fafdf12",
   "metadata": {},
   "outputs": [
    {
     "data": {
      "text/plain": [
       "0     S\n",
       "1     M\n",
       "2     L\n",
       "3    XL\n",
       "dtype: category\n",
       "Categories (4, object): ['L', 'M', 'S', 'XL']"
      ]
     },
     "execution_count": 130,
     "metadata": {},
     "output_type": "execute_result"
    }
   ],
   "source": [
    "cat = pd.Series(['S','M','L','XL'],dtype='category')\n",
    "cat"
   ]
  },
  {
   "cell_type": "code",
   "execution_count": 133,
   "id": "3862978a-164d-4d9b-98b0-d575e3c64d02",
   "metadata": {},
   "outputs": [
    {
     "data": {
      "text/plain": [
       "0     S\n",
       "1     M\n",
       "2     L\n",
       "3    XL\n",
       "dtype: category\n",
       "Categories (4, object): ['S' < 'M' < 'L' < 'XL']"
      ]
     },
     "execution_count": 133,
     "metadata": {},
     "output_type": "execute_result"
    }
   ],
   "source": [
    "# specify order\n",
    "from pandas.api.types import CategoricalDtype\n",
    "cat = pd.Series(\n",
    "    data =['S','M','L','XL'],\n",
    "    dtype=CategoricalDtype(categories=['S','M','L','XL'], ordered=True))\n",
    "cat\n"
   ]
  },
  {
   "cell_type": "code",
   "execution_count": 134,
   "id": "d8f75473-783d-41c3-9dc1-72a508a42440",
   "metadata": {},
   "outputs": [
    {
     "data": {
      "text/plain": [
       "Index(['S', 'M', 'L', 'XL'], dtype='object')"
      ]
     },
     "execution_count": 134,
     "metadata": {},
     "output_type": "execute_result"
    }
   ],
   "source": [
    "cat.cat.categories"
   ]
  },
  {
   "cell_type": "code",
   "execution_count": 135,
   "id": "60bb526b-6e35-4dbc-ab50-0da98f8dd909",
   "metadata": {},
   "outputs": [
    {
     "data": {
      "text/plain": [
       "True"
      ]
     },
     "execution_count": 135,
     "metadata": {},
     "output_type": "execute_result"
    }
   ],
   "source": [
    "cat.cat.ordered"
   ]
  },
  {
   "cell_type": "code",
   "execution_count": 140,
   "id": "f46d6628-a26c-4b68-bd60-12afc6d1b23d",
   "metadata": {},
   "outputs": [
    {
     "data": {
      "text/plain": [
       "0     S\n",
       "1     M\n",
       "2     L\n",
       "3    XL\n",
       "dtype: category\n",
       "Categories (6, object): ['S' < 'M' < 'L' < 'XL' < 'XXL' < 'XXXL']"
      ]
     },
     "execution_count": 140,
     "metadata": {},
     "output_type": "execute_result"
    }
   ],
   "source": [
    "#cat = cat.cat.add_categories(['XXL','XXXL'])\n",
    "cat"
   ]
  },
  {
   "cell_type": "code",
   "execution_count": 142,
   "id": "18ef1a17-e34b-4497-a0d9-48a392da4f1d",
   "metadata": {},
   "outputs": [],
   "source": [
    "cat = cat.cat.remove_categories(['S'])"
   ]
  },
  {
   "cell_type": "code",
   "execution_count": 143,
   "id": "d28b0f80-ed8a-4739-98c5-d9cf5b1f818c",
   "metadata": {},
   "outputs": [
    {
     "data": {
      "text/plain": [
       "0    NaN\n",
       "1      M\n",
       "2      L\n",
       "3     XL\n",
       "dtype: category\n",
       "Categories (5, object): ['M' < 'L' < 'XL' < 'XXL' < 'XXXL']"
      ]
     },
     "execution_count": 143,
     "metadata": {},
     "output_type": "execute_result"
    }
   ],
   "source": [
    "cat"
   ]
  },
  {
   "cell_type": "code",
   "execution_count": 144,
   "id": "b6ae8e5c-aa06-4df0-b113-41ca620dfa1a",
   "metadata": {},
   "outputs": [],
   "source": [
    "cat = cat.cat.remove_unused_categories()"
   ]
  },
  {
   "cell_type": "code",
   "execution_count": 145,
   "id": "7c351cce-b6dd-4ce9-908d-272d292104a2",
   "metadata": {},
   "outputs": [
    {
     "data": {
      "text/plain": [
       "0    NaN\n",
       "1      M\n",
       "2      L\n",
       "3     XL\n",
       "dtype: category\n",
       "Categories (3, object): ['M' < 'L' < 'XL']"
      ]
     },
     "execution_count": 145,
     "metadata": {},
     "output_type": "execute_result"
    }
   ],
   "source": [
    "cat"
   ]
  },
  {
   "cell_type": "code",
   "execution_count": 150,
   "id": "95e2253d-d64a-40b1-a5ce-0925a29b1830",
   "metadata": {},
   "outputs": [
    {
     "name": "stdout",
     "output_type": "stream",
     "text": [
      "['m', 'l', 'xl']\n"
     ]
    },
    {
     "ename": "AttributeError",
     "evalue": "'list' object has no attribute 'cat'",
     "output_type": "error",
     "traceback": [
      "\u001b[0;31m---------------------------------------------------------------------------\u001b[0m",
      "\u001b[0;31mAttributeError\u001b[0m                            Traceback (most recent call last)",
      "Input \u001b[0;32mIn [150]\u001b[0m, in \u001b[0;36m<cell line: 3>\u001b[0;34m()\u001b[0m\n\u001b[1;32m      1\u001b[0m \u001b[38;5;66;03m# rename categories\u001b[39;00m\n\u001b[1;32m      2\u001b[0m \u001b[38;5;28mprint\u001b[39m(cat)\n\u001b[0;32m----> 3\u001b[0m \u001b[43mcat\u001b[49m\u001b[38;5;241;43m.\u001b[39;49m\u001b[43mcat\u001b[49m\u001b[38;5;241m.\u001b[39mcategories \u001b[38;5;241m=\u001b[39m [\u001b[38;5;124m'\u001b[39m\u001b[38;5;124mm\u001b[39m\u001b[38;5;124m'\u001b[39m,\u001b[38;5;124m'\u001b[39m\u001b[38;5;124ml\u001b[39m\u001b[38;5;124m'\u001b[39m,\u001b[38;5;124m'\u001b[39m\u001b[38;5;124mxl\u001b[39m\u001b[38;5;124m'\u001b[39m]\n",
      "\u001b[0;31mAttributeError\u001b[0m: 'list' object has no attribute 'cat'"
     ]
    }
   ],
   "source": [
    "# rename categories\n",
    "print(cat)\n",
    "cat.cat.categories = ['m','l','xl']"
   ]
  },
  {
   "cell_type": "code",
   "execution_count": 151,
   "id": "ea25e355-5968-46f0-9ee4-b985384260c2",
   "metadata": {},
   "outputs": [],
   "source": [
    "# reaname wiht cat.rename_categories(list or dict)"
   ]
  },
  {
   "cell_type": "code",
   "execution_count": 153,
   "id": "15063991-3ffe-45c4-a350-0f39c37f8986",
   "metadata": {},
   "outputs": [],
   "source": [
    "# reorder categories with reorder_categories"
   ]
  },
  {
   "cell_type": "code",
   "execution_count": 154,
   "id": "b15401bd-c692-4abb-9284-bedc19c019c5",
   "metadata": {},
   "outputs": [
    {
     "data": {
      "text/plain": [
       "['m', 'l', 'xl']"
      ]
     },
     "execution_count": 154,
     "metadata": {},
     "output_type": "execute_result"
    }
   ],
   "source": [
    "cat"
   ]
  },
  {
   "cell_type": "code",
   "execution_count": 155,
   "id": "5a76e3e5-9848-418d-b2b6-f679b356fab7",
   "metadata": {},
   "outputs": [
    {
     "data": {
      "text/plain": [
       "0     S\n",
       "1     M\n",
       "2     L\n",
       "3    XL\n",
       "dtype: category\n",
       "Categories (4, object): ['S' < 'M' < 'L' < 'XL']"
      ]
     },
     "execution_count": 155,
     "metadata": {},
     "output_type": "execute_result"
    }
   ],
   "source": [
    "cat = pd.Series(\n",
    "    data =['S','M','L','XL'],\n",
    "    dtype=CategoricalDtype(categories=['S','M','L','XL'], ordered=True))\n",
    "cat"
   ]
  },
  {
   "cell_type": "code",
   "execution_count": 157,
   "id": "acb132f5-780f-4322-b4f2-aac519807107",
   "metadata": {},
   "outputs": [
    {
     "data": {
      "text/plain": [
       "0     S\n",
       "1     M\n",
       "2     L\n",
       "3    XL\n",
       "dtype: category\n",
       "Categories (4, object): ['XL' < 'M' < 'L' < 'S']"
      ]
     },
     "execution_count": 157,
     "metadata": {},
     "output_type": "execute_result"
    }
   ],
   "source": [
    "cat = cat.cat.reorder_categories(['XL', 'M', 'L', 'S'])\n",
    "cat"
   ]
  },
  {
   "cell_type": "markdown",
   "id": "47ca462b-3715-4589-82a3-2a3f0013c049",
   "metadata": {},
   "source": [
    "### Hierarchical Indexing\n",
    "it allows us to set multiple index level on an axis. It enables us to manipulate data with an arbitrary number of dimensions in a 1d series and 2d dataframes"
   ]
  },
  {
   "cell_type": "code",
   "execution_count": 158,
   "id": "a9a71345-11a1-438f-958c-7b12087becb7",
   "metadata": {},
   "outputs": [
    {
     "data": {
      "text/plain": [
       "{'movie1': ['drama', 'western'],\n",
       " 'movie2': ['comedy', 'romance'],\n",
       " 'movie3': ['horror', 'thriller', 'action']}"
      ]
     },
     "execution_count": 158,
     "metadata": {},
     "output_type": "execute_result"
    }
   ],
   "source": [
    "movie_dict = { 'movie1' : [\"drama\", \"western\"], \n",
    "              'movie2': [\"comedy\", \"romance\"], \n",
    "              'movie3': [\"horror\", \"thriller\", \"action\"] }\n",
    "movie_dict"
   ]
  },
  {
   "cell_type": "code",
   "execution_count": 159,
   "id": "298a8ffb-6b7f-4cbf-a6b3-8fe6bb9c8489",
   "metadata": {},
   "outputs": [
    {
     "data": {
      "text/plain": [
       "{('movie1', 0): 'drama',\n",
       " ('movie1', 1): 'western',\n",
       " ('movie2', 0): 'comedy',\n",
       " ('movie2', 1): 'romance',\n",
       " ('movie3', 0): 'horror',\n",
       " ('movie3', 1): 'thriller',\n",
       " ('movie3', 2): 'action'}"
      ]
     },
     "execution_count": 159,
     "metadata": {},
     "output_type": "execute_result"
    }
   ],
   "source": [
    "flattened_dict = {(k, i): el for (k, v) in movie_dict.items() for i, el in enumerate(v)} \n",
    "flattened_dict"
   ]
  },
  {
   "cell_type": "code",
   "execution_count": 160,
   "id": "a997bb4c-6df0-4a97-8fbc-333e5ba98f7b",
   "metadata": {},
   "outputs": [
    {
     "data": {
      "text/plain": [
       "movie1  0       drama\n",
       "        1     western\n",
       "movie2  0      comedy\n",
       "        1     romance\n",
       "movie3  0      horror\n",
       "        1    thriller\n",
       "        2      action\n",
       "dtype: object"
      ]
     },
     "execution_count": 160,
     "metadata": {},
     "output_type": "execute_result"
    }
   ],
   "source": [
    "ser = pd.Series(flattened_dict)\n",
    "ser"
   ]
  },
  {
   "cell_type": "code",
   "execution_count": 167,
   "id": "1c008791-1d6d-47a0-8686-6547321106ac",
   "metadata": {},
   "outputs": [
    {
     "name": "stdout",
     "output_type": "stream",
     "text": [
      "0      drama\n",
      "1    western\n",
      "dtype: object\n",
      "0      drama\n",
      "1    western\n",
      "dtype: object\n"
     ]
    }
   ],
   "source": [
    "print(ser['movie1'])\n",
    "print(ser.loc['movie1'])\n"
   ]
  },
  {
   "cell_type": "code",
   "execution_count": 168,
   "id": "d756d744-5285-48fa-95e1-e2c9c3af750e",
   "metadata": {},
   "outputs": [
    {
     "name": "stdout",
     "output_type": "stream",
     "text": [
      "western\n"
     ]
    }
   ],
   "source": [
    "print(ser.loc['movie1',1])"
   ]
  },
  {
   "cell_type": "markdown",
   "id": "d2a40bb6-6cc0-45ef-b0e3-aba3c60475ff",
   "metadata": {},
   "source": [
    "### Append and concat of series and dataframes\n",
    "use pd.concat and df.append \n",
    "you can use the ignore_index=True as a paramters for append to ignore same index"
   ]
  },
  {
   "cell_type": "markdown",
   "id": "45c36cac-e2d1-41d2-9118-d6500cf8223c",
   "metadata": {},
   "source": [
    "when concatenating table with different amount of rows you will end up with <NA> values. To avoud this you could use the SQL joins."
   ]
  },
  {
   "cell_type": "markdown",
   "id": "fa1810f0-80fa-41ee-b6d2-a3308fb76d2b",
   "metadata": {},
   "source": [
    "you can directly use the join function with parameters:\n",
    "- left\n",
    "- right\n",
    "- inner\n",
    "- outer"
   ]
  },
  {
   "cell_type": "markdown",
   "id": "27db71e1-aa3b-4dd6-8fb8-76016407245c",
   "metadata": {},
   "source": [
    "### Groupby\n",
    "group data and computer statistical values of the results"
   ]
  },
  {
   "cell_type": "code",
   "execution_count": 170,
   "id": "84c31d26-0d77-4dfb-bea7-d165d0981a0c",
   "metadata": {},
   "outputs": [
    {
     "data": {
      "text/html": [
       "<div>\n",
       "<style scoped>\n",
       "    .dataframe tbody tr th:only-of-type {\n",
       "        vertical-align: middle;\n",
       "    }\n",
       "\n",
       "    .dataframe tbody tr th {\n",
       "        vertical-align: top;\n",
       "    }\n",
       "\n",
       "    .dataframe thead th {\n",
       "        text-align: right;\n",
       "    }\n",
       "</style>\n",
       "<table border=\"1\" class=\"dataframe\">\n",
       "  <thead>\n",
       "    <tr style=\"text-align: right;\">\n",
       "      <th></th>\n",
       "      <th>matriculation</th>\n",
       "      <th>level</th>\n",
       "      <th>program</th>\n",
       "      <th>exercise_grade</th>\n",
       "      <th>exam_grade</th>\n",
       "    </tr>\n",
       "  </thead>\n",
       "  <tbody>\n",
       "    <tr>\n",
       "      <th>0</th>\n",
       "      <td>1001</td>\n",
       "      <td>Bchlr</td>\n",
       "      <td>BI</td>\n",
       "      <td>1.3</td>\n",
       "      <td>1.0</td>\n",
       "    </tr>\n",
       "    <tr>\n",
       "      <th>1</th>\n",
       "      <td>1002</td>\n",
       "      <td>Bchlr</td>\n",
       "      <td>DS</td>\n",
       "      <td>1.3</td>\n",
       "      <td>1.7</td>\n",
       "    </tr>\n",
       "    <tr>\n",
       "      <th>2</th>\n",
       "      <td>1003</td>\n",
       "      <td>Bchlr</td>\n",
       "      <td>DS</td>\n",
       "      <td>2.0</td>\n",
       "      <td>2.0</td>\n",
       "    </tr>\n",
       "    <tr>\n",
       "      <th>3</th>\n",
       "      <td>1004</td>\n",
       "      <td>Mstr</td>\n",
       "      <td>ME</td>\n",
       "      <td>1.0</td>\n",
       "      <td>1.7</td>\n",
       "    </tr>\n",
       "    <tr>\n",
       "      <th>4</th>\n",
       "      <td>1005</td>\n",
       "      <td>Mstr</td>\n",
       "      <td>BI</td>\n",
       "      <td>2.0</td>\n",
       "      <td>1.0</td>\n",
       "    </tr>\n",
       "    <tr>\n",
       "      <th>5</th>\n",
       "      <td>1006</td>\n",
       "      <td>Mstr</td>\n",
       "      <td>DS</td>\n",
       "      <td>1.3</td>\n",
       "      <td>1.0</td>\n",
       "    </tr>\n",
       "    <tr>\n",
       "      <th>6</th>\n",
       "      <td>1007</td>\n",
       "      <td>Mstr</td>\n",
       "      <td>ME</td>\n",
       "      <td>1.7</td>\n",
       "      <td>1.0</td>\n",
       "    </tr>\n",
       "    <tr>\n",
       "      <th>7</th>\n",
       "      <td>1008</td>\n",
       "      <td>Bchlr</td>\n",
       "      <td>BI</td>\n",
       "      <td>1.0</td>\n",
       "      <td>1.3</td>\n",
       "    </tr>\n",
       "    <tr>\n",
       "      <th>8</th>\n",
       "      <td>1009</td>\n",
       "      <td>Bclr</td>\n",
       "      <td>ME</td>\n",
       "      <td>1.3</td>\n",
       "      <td>1.0</td>\n",
       "    </tr>\n",
       "  </tbody>\n",
       "</table>\n",
       "</div>"
      ],
      "text/plain": [
       "   matriculation  level program  exercise_grade  exam_grade\n",
       "0           1001  Bchlr      BI             1.3         1.0\n",
       "1           1002  Bchlr      DS             1.3         1.7\n",
       "2           1003  Bchlr      DS             2.0         2.0\n",
       "3           1004   Mstr      ME             1.0         1.7\n",
       "4           1005   Mstr      BI             2.0         1.0\n",
       "5           1006   Mstr      DS             1.3         1.0\n",
       "6           1007   Mstr      ME             1.7         1.0\n",
       "7           1008  Bchlr      BI             1.0         1.3\n",
       "8           1009   Bclr      ME             1.3         1.0"
      ]
     },
     "execution_count": 170,
     "metadata": {},
     "output_type": "execute_result"
    }
   ],
   "source": [
    "df = pd.DataFrame( { 'matriculation': [1001, 1002, 1003, 1004, 1005, 1006, 1007, 1008, 1009], \n",
    "                    'level': ['Bchlr', 'Bchlr', 'Bchlr', 'Mstr', 'Mstr', 'Mstr', 'Mstr', 'Bchlr', 'Bclr'],\n",
    "                    'program': ['BI', 'DS', 'DS', 'ME', 'BI', 'DS', 'ME', 'BI', 'ME'], \n",
    "                    'exercise_grade': [1.3, 1.3, 2. , 1. , 2. , 1.3, 1.7, 1. , 1.3], \n",
    "                    'exam_grade': [1. , 1.7, 2. , 1.7, 1. , 1. , 1. , 1.3, 1. ] } )\n",
    "df\n",
    "\n"
   ]
  },
  {
   "cell_type": "code",
   "execution_count": 171,
   "id": "dd15271a-1fbb-47dd-9303-e398576b19fb",
   "metadata": {},
   "outputs": [
    {
     "data": {
      "text/html": [
       "<div>\n",
       "<style scoped>\n",
       "    .dataframe tbody tr th:only-of-type {\n",
       "        vertical-align: middle;\n",
       "    }\n",
       "\n",
       "    .dataframe tbody tr th {\n",
       "        vertical-align: top;\n",
       "    }\n",
       "\n",
       "    .dataframe thead th {\n",
       "        text-align: right;\n",
       "    }\n",
       "</style>\n",
       "<table border=\"1\" class=\"dataframe\">\n",
       "  <thead>\n",
       "    <tr style=\"text-align: right;\">\n",
       "      <th></th>\n",
       "      <th>matriculation</th>\n",
       "      <th>exercise_grade</th>\n",
       "      <th>exam_grade</th>\n",
       "    </tr>\n",
       "    <tr>\n",
       "      <th>program</th>\n",
       "      <th></th>\n",
       "      <th></th>\n",
       "      <th></th>\n",
       "    </tr>\n",
       "  </thead>\n",
       "  <tbody>\n",
       "    <tr>\n",
       "      <th>BI</th>\n",
       "      <td>1004.666667</td>\n",
       "      <td>1.433333</td>\n",
       "      <td>1.100000</td>\n",
       "    </tr>\n",
       "    <tr>\n",
       "      <th>DS</th>\n",
       "      <td>1003.666667</td>\n",
       "      <td>1.533333</td>\n",
       "      <td>1.566667</td>\n",
       "    </tr>\n",
       "    <tr>\n",
       "      <th>ME</th>\n",
       "      <td>1006.666667</td>\n",
       "      <td>1.333333</td>\n",
       "      <td>1.233333</td>\n",
       "    </tr>\n",
       "  </tbody>\n",
       "</table>\n",
       "</div>"
      ],
      "text/plain": [
       "         matriculation  exercise_grade  exam_grade\n",
       "program                                           \n",
       "BI         1004.666667        1.433333    1.100000\n",
       "DS         1003.666667        1.533333    1.566667\n",
       "ME         1006.666667        1.333333    1.233333"
      ]
     },
     "execution_count": 171,
     "metadata": {},
     "output_type": "execute_result"
    }
   ],
   "source": [
    "df.groupby('program').mean()"
   ]
  },
  {
   "cell_type": "code",
   "execution_count": 173,
   "id": "dc437630-459e-41d7-9027-3bb7ffd7d996",
   "metadata": {},
   "outputs": [
    {
     "data": {
      "text/html": [
       "<div>\n",
       "<style scoped>\n",
       "    .dataframe tbody tr th:only-of-type {\n",
       "        vertical-align: middle;\n",
       "    }\n",
       "\n",
       "    .dataframe tbody tr th {\n",
       "        vertical-align: top;\n",
       "    }\n",
       "\n",
       "    .dataframe thead th {\n",
       "        text-align: right;\n",
       "    }\n",
       "</style>\n",
       "<table border=\"1\" class=\"dataframe\">\n",
       "  <thead>\n",
       "    <tr style=\"text-align: right;\">\n",
       "      <th></th>\n",
       "      <th></th>\n",
       "      <th>exercise_grade</th>\n",
       "      <th>exam_grade</th>\n",
       "    </tr>\n",
       "    <tr>\n",
       "      <th>program</th>\n",
       "      <th>level</th>\n",
       "      <th></th>\n",
       "      <th></th>\n",
       "    </tr>\n",
       "  </thead>\n",
       "  <tbody>\n",
       "    <tr>\n",
       "      <th rowspan=\"2\" valign=\"top\">BI</th>\n",
       "      <th>Bchlr</th>\n",
       "      <td>1.15</td>\n",
       "      <td>1.15</td>\n",
       "    </tr>\n",
       "    <tr>\n",
       "      <th>Mstr</th>\n",
       "      <td>2.00</td>\n",
       "      <td>1.00</td>\n",
       "    </tr>\n",
       "    <tr>\n",
       "      <th rowspan=\"2\" valign=\"top\">DS</th>\n",
       "      <th>Bchlr</th>\n",
       "      <td>1.65</td>\n",
       "      <td>1.85</td>\n",
       "    </tr>\n",
       "    <tr>\n",
       "      <th>Mstr</th>\n",
       "      <td>1.30</td>\n",
       "      <td>1.00</td>\n",
       "    </tr>\n",
       "    <tr>\n",
       "      <th rowspan=\"2\" valign=\"top\">ME</th>\n",
       "      <th>Bclr</th>\n",
       "      <td>1.30</td>\n",
       "      <td>1.00</td>\n",
       "    </tr>\n",
       "    <tr>\n",
       "      <th>Mstr</th>\n",
       "      <td>1.35</td>\n",
       "      <td>1.35</td>\n",
       "    </tr>\n",
       "  </tbody>\n",
       "</table>\n",
       "</div>"
      ],
      "text/plain": [
       "               exercise_grade  exam_grade\n",
       "program level                            \n",
       "BI      Bchlr            1.15        1.15\n",
       "        Mstr             2.00        1.00\n",
       "DS      Bchlr            1.65        1.85\n",
       "        Mstr             1.30        1.00\n",
       "ME      Bclr             1.30        1.00\n",
       "        Mstr             1.35        1.35"
      ]
     },
     "execution_count": 173,
     "metadata": {},
     "output_type": "execute_result"
    }
   ],
   "source": [
    "df.groupby(['program', 'level'])[['exercise_grade','exam_grade']].mean()"
   ]
  },
  {
   "cell_type": "code",
   "execution_count": 175,
   "id": "19f3176f-2ea6-4d85-ab0f-d3e8c7d74497",
   "metadata": {},
   "outputs": [
    {
     "data": {
      "text/html": [
       "<div>\n",
       "<style scoped>\n",
       "    .dataframe tbody tr th:only-of-type {\n",
       "        vertical-align: middle;\n",
       "    }\n",
       "\n",
       "    .dataframe tbody tr th {\n",
       "        vertical-align: top;\n",
       "    }\n",
       "\n",
       "    .dataframe thead tr th {\n",
       "        text-align: left;\n",
       "    }\n",
       "\n",
       "    .dataframe thead tr:last-of-type th {\n",
       "        text-align: right;\n",
       "    }\n",
       "</style>\n",
       "<table border=\"1\" class=\"dataframe\">\n",
       "  <thead>\n",
       "    <tr>\n",
       "      <th></th>\n",
       "      <th></th>\n",
       "      <th colspan=\"2\" halign=\"left\">exercise_grade</th>\n",
       "      <th colspan=\"2\" halign=\"left\">exam_grade</th>\n",
       "    </tr>\n",
       "    <tr>\n",
       "      <th></th>\n",
       "      <th></th>\n",
       "      <th>mean</th>\n",
       "      <th>min</th>\n",
       "      <th>mean</th>\n",
       "      <th>min</th>\n",
       "    </tr>\n",
       "    <tr>\n",
       "      <th>program</th>\n",
       "      <th>level</th>\n",
       "      <th></th>\n",
       "      <th></th>\n",
       "      <th></th>\n",
       "      <th></th>\n",
       "    </tr>\n",
       "  </thead>\n",
       "  <tbody>\n",
       "    <tr>\n",
       "      <th rowspan=\"2\" valign=\"top\">BI</th>\n",
       "      <th>Bchlr</th>\n",
       "      <td>1.15</td>\n",
       "      <td>1.0</td>\n",
       "      <td>1.15</td>\n",
       "      <td>1.0</td>\n",
       "    </tr>\n",
       "    <tr>\n",
       "      <th>Mstr</th>\n",
       "      <td>2.00</td>\n",
       "      <td>2.0</td>\n",
       "      <td>1.00</td>\n",
       "      <td>1.0</td>\n",
       "    </tr>\n",
       "    <tr>\n",
       "      <th rowspan=\"2\" valign=\"top\">DS</th>\n",
       "      <th>Bchlr</th>\n",
       "      <td>1.65</td>\n",
       "      <td>1.3</td>\n",
       "      <td>1.85</td>\n",
       "      <td>1.7</td>\n",
       "    </tr>\n",
       "    <tr>\n",
       "      <th>Mstr</th>\n",
       "      <td>1.30</td>\n",
       "      <td>1.3</td>\n",
       "      <td>1.00</td>\n",
       "      <td>1.0</td>\n",
       "    </tr>\n",
       "    <tr>\n",
       "      <th rowspan=\"2\" valign=\"top\">ME</th>\n",
       "      <th>Bclr</th>\n",
       "      <td>1.30</td>\n",
       "      <td>1.3</td>\n",
       "      <td>1.00</td>\n",
       "      <td>1.0</td>\n",
       "    </tr>\n",
       "    <tr>\n",
       "      <th>Mstr</th>\n",
       "      <td>1.35</td>\n",
       "      <td>1.0</td>\n",
       "      <td>1.35</td>\n",
       "      <td>1.0</td>\n",
       "    </tr>\n",
       "  </tbody>\n",
       "</table>\n",
       "</div>"
      ],
      "text/plain": [
       "              exercise_grade      exam_grade     \n",
       "                        mean  min       mean  min\n",
       "program level                                    \n",
       "BI      Bchlr           1.15  1.0       1.15  1.0\n",
       "        Mstr            2.00  2.0       1.00  1.0\n",
       "DS      Bchlr           1.65  1.3       1.85  1.7\n",
       "        Mstr            1.30  1.3       1.00  1.0\n",
       "ME      Bclr            1.30  1.3       1.00  1.0\n",
       "        Mstr            1.35  1.0       1.35  1.0"
      ]
     },
     "execution_count": 175,
     "metadata": {},
     "output_type": "execute_result"
    }
   ],
   "source": [
    "df.groupby(['program', 'level'])[['exercise_grade','exam_grade']].agg(['mean', 'min']) # perform multiple function at once"
   ]
  },
  {
   "cell_type": "code",
   "execution_count": 177,
   "id": "0ff918bf-a2a9-427a-9544-3faf3b16167f",
   "metadata": {},
   "outputs": [
    {
     "data": {
      "text/html": [
       "<div>\n",
       "<style scoped>\n",
       "    .dataframe tbody tr th:only-of-type {\n",
       "        vertical-align: middle;\n",
       "    }\n",
       "\n",
       "    .dataframe tbody tr th {\n",
       "        vertical-align: top;\n",
       "    }\n",
       "\n",
       "    .dataframe thead tr th {\n",
       "        text-align: left;\n",
       "    }\n",
       "\n",
       "    .dataframe thead tr:last-of-type th {\n",
       "        text-align: right;\n",
       "    }\n",
       "</style>\n",
       "<table border=\"1\" class=\"dataframe\">\n",
       "  <thead>\n",
       "    <tr>\n",
       "      <th></th>\n",
       "      <th></th>\n",
       "      <th colspan=\"2\" halign=\"left\">exercise_grade</th>\n",
       "      <th colspan=\"2\" halign=\"left\">exam_grade</th>\n",
       "    </tr>\n",
       "    <tr>\n",
       "      <th></th>\n",
       "      <th></th>\n",
       "      <th>mean</th>\n",
       "      <th>max</th>\n",
       "      <th>median</th>\n",
       "      <th>min</th>\n",
       "    </tr>\n",
       "    <tr>\n",
       "      <th>program</th>\n",
       "      <th>level</th>\n",
       "      <th></th>\n",
       "      <th></th>\n",
       "      <th></th>\n",
       "      <th></th>\n",
       "    </tr>\n",
       "  </thead>\n",
       "  <tbody>\n",
       "    <tr>\n",
       "      <th rowspan=\"2\" valign=\"top\">BI</th>\n",
       "      <th>Bchlr</th>\n",
       "      <td>1.15</td>\n",
       "      <td>1.3</td>\n",
       "      <td>1.15</td>\n",
       "      <td>1.0</td>\n",
       "    </tr>\n",
       "    <tr>\n",
       "      <th>Mstr</th>\n",
       "      <td>2.00</td>\n",
       "      <td>2.0</td>\n",
       "      <td>1.00</td>\n",
       "      <td>1.0</td>\n",
       "    </tr>\n",
       "    <tr>\n",
       "      <th rowspan=\"2\" valign=\"top\">DS</th>\n",
       "      <th>Bchlr</th>\n",
       "      <td>1.65</td>\n",
       "      <td>2.0</td>\n",
       "      <td>1.85</td>\n",
       "      <td>1.7</td>\n",
       "    </tr>\n",
       "    <tr>\n",
       "      <th>Mstr</th>\n",
       "      <td>1.30</td>\n",
       "      <td>1.3</td>\n",
       "      <td>1.00</td>\n",
       "      <td>1.0</td>\n",
       "    </tr>\n",
       "    <tr>\n",
       "      <th rowspan=\"2\" valign=\"top\">ME</th>\n",
       "      <th>Bclr</th>\n",
       "      <td>1.30</td>\n",
       "      <td>1.3</td>\n",
       "      <td>1.00</td>\n",
       "      <td>1.0</td>\n",
       "    </tr>\n",
       "    <tr>\n",
       "      <th>Mstr</th>\n",
       "      <td>1.35</td>\n",
       "      <td>1.7</td>\n",
       "      <td>1.35</td>\n",
       "      <td>1.0</td>\n",
       "    </tr>\n",
       "  </tbody>\n",
       "</table>\n",
       "</div>"
      ],
      "text/plain": [
       "              exercise_grade      exam_grade     \n",
       "                        mean  max     median  min\n",
       "program level                                    \n",
       "BI      Bchlr           1.15  1.3       1.15  1.0\n",
       "        Mstr            2.00  2.0       1.00  1.0\n",
       "DS      Bchlr           1.65  2.0       1.85  1.7\n",
       "        Mstr            1.30  1.3       1.00  1.0\n",
       "ME      Bclr            1.30  1.3       1.00  1.0\n",
       "        Mstr            1.35  1.7       1.35  1.0"
      ]
     },
     "execution_count": 177,
     "metadata": {},
     "output_type": "execute_result"
    }
   ],
   "source": [
    "# perform multiple function at once where each function is column specific\n",
    "df.groupby(['program', 'level'])[['exercise_grade','exam_grade']].agg(\n",
    "    { 'exercise_grade': ['mean','max'],\n",
    "      'exam_grade': ['median', 'min']\n",
    "    })"
   ]
  },
  {
   "cell_type": "markdown",
   "id": "8c65da42-a308-4880-bcc9-576d90571cf0",
   "metadata": {},
   "source": [
    "### Working with Files"
   ]
  },
  {
   "cell_type": "markdown",
   "id": "57d71358-2412-4aa5-a4df-110a2b34a61d",
   "metadata": {},
   "source": [
    "there are lots of functions to parse pd.Dataframe to a file or read it from file:\n",
    "- read_csv\n",
    "- to_csv\n",
    "- read_json\n",
    "- to_json\n",
    "...\n",
    "html, xml, feater, sql, latex"
   ]
  },
  {
   "cell_type": "markdown",
   "id": "3dedf627-9e1b-4c76-886f-aee9cfb723e4",
   "metadata": {},
   "source": [
    "### Visualization with Pandas\n",
    "\n",
    "it is not usable to have pandas for data visualization, but it is cool to make simple plots for data exploration"
   ]
  },
  {
   "cell_type": "code",
   "execution_count": 180,
   "id": "648bf593-7bf3-477a-b98f-b176a9fd12d4",
   "metadata": {},
   "outputs": [],
   "source": [
    "from sklearn import datasets \n",
    "iris = datasets.load_iris() \n",
    "iris_df = pd.DataFrame( np.concatenate( \n",
    "    (iris.data, np.array([iris.target]).T), axis=1 ),\n",
    "    columns=( 'sepal_length', 'sepal_width', 'petal_length', 'petal_width', 'target' ) ) \n",
    "\n",
    "iris_df = iris_df.astype({'target': 'int32'})"
   ]
  },
  {
   "cell_type": "code",
   "execution_count": 181,
   "id": "4b407db9-cc4e-4b78-8b00-201183a677d3",
   "metadata": {},
   "outputs": [
    {
     "data": {
      "image/png": "[encoded data removed]",
      "text/plain": [
       "<Figure size 432x288 with 1 Axes>"
      ]
     },
     "metadata": {
      "needs_background": "light"
     },
     "output_type": "display_data"
    }
   ],
   "source": [
    "axes = iris_df.plot.scatter(\n",
    "    x = 'petal_length',\n",
    "    y = 'petal_width',\n",
    "    c=iris_df.target.apply(lambda x: ('red', 'green', 'blue')[x]))"
   ]
  },
  {
   "cell_type": "code",
   "execution_count": 182,
   "id": "798e3275-4e98-46d6-b016-36d0ec5b8c24",
   "metadata": {},
   "outputs": [
    {
     "data": {
      "image/png": "[encoded data removed]",
      "text/plain": [
       "<Figure size 432x288 with 1 Axes>"
      ]
     },
     "metadata": {
      "needs_background": "light"
     },
     "output_type": "display_data"
    }
   ],
   "source": [
    "loss = pd.DataFrame({\n",
    "    'loss': [1000,900,800,400,200,100,10,0]\n",
    "})\n",
    "\n",
    "axes = loss.plot.line()"
   ]
  },
  {
   "cell_type": "code",
   "execution_count": 185,
   "id": "bb1c4310-0f37-4f7c-bbae-a7b60e74c04e",
   "metadata": {},
   "outputs": [
    {
     "data": {
      "text/plain": [
       "Text(0.5, 1.0, 'HELLO and WELCOME')"
      ]
     },
     "execution_count": 185,
     "metadata": {},
     "output_type": "execute_result"
    },
    {
     "data": {
      "image/png": "[encoded data removed]",
      "text/plain": [
       "<Figure size 432x288 with 1 Axes>"
      ]
     },
     "metadata": {
      "needs_background": "light"
     },
     "output_type": "display_data"
    }
   ],
   "source": [
    "ls_df = pd.DataFrame({\n",
    "    'lab': ['Tomatos','Potatos', 'Pumpkins'],\n",
    "    'val':[10,20,18]\n",
    "})\n",
    "ax = ls_df.plot.bar(x='lab', y='val')\n",
    "ax.grid()\n",
    "ax.set_title(\"HELLO and WELCOME\")"
   ]
  },
  {
   "cell_type": "markdown",
   "id": "0d610e07-5784-4a69-a6f6-539c0df8cd4f",
   "metadata": {},
   "source": [
    "you can also make histogram, and a boxplot and many more:\n",
    "- line\n",
    "- bar\n",
    "- hist\n",
    "- box\n",
    "- kde\n",
    "- area\n",
    "- scatter\n",
    "- pie"
   ]
  },
  {
   "cell_type": "code",
   "execution_count": null,
   "id": "a3510709-9fce-412c-828d-3568b74ac1f6",
   "metadata": {},
   "outputs": [],
   "source": []
  }
 ],
 "metadata": {
  "kernelspec": {
   "display_name": "Python [conda env:py3104]",
   "language": "python",
   "name": "conda-env-py3104-py"
  },
  "language_info": {
   "codemirror_mode": {
    "name": "ipython",
    "version": 3
   },
   "file_extension": ".py",
   "mimetype": "text/x-python",
   "name": "python",
   "nbconvert_exporter": "python",
   "pygments_lexer": "ipython3",
   "version": "3.10.4"
  }
 },
 "nbformat": 4,
 "nbformat_minor": 5
}
