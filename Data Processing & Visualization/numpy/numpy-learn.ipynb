{
 "cells": [
  {
   "cell_type": "code",
   "execution_count": 1,
   "id": "8414dc54",
   "metadata": {},
   "outputs": [],
   "source": [
    "import numpy as np\n",
    "import sys"
   ]
  },
  {
   "cell_type": "markdown",
   "id": "4afa1c18",
   "metadata": {},
   "source": [
    "# Basics"
   ]
  },
  {
   "cell_type": "markdown",
   "id": "0f4bc879",
   "metadata": {},
   "source": [
    "### Init of arrays and dimensions"
   ]
  },
  {
   "cell_type": "code",
   "execution_count": 97,
   "id": "271da353",
   "metadata": {
    "scrolled": true
   },
   "outputs": [
    {
     "name": "stdout",
     "output_type": "stream",
     "text": [
      "1. [[5.47383175 0.15025496 0.4393669 ]\n",
      " [9.61020199 0.65741673 0.21588289]]\n",
      "Dimensions: 2\n",
      "2. [0. 0. 0. 0.]\n",
      "Dimensions: 1\n",
      "3. [[1 1 1 1]]\n",
      "Dimensions: 2\n",
      "4. [[99 99 99 99]\n",
      " [99 99 99 99]]\n",
      "Dimensions: 2\n",
      "5. [[[1 1 1]\n",
      "  [1 1 1]\n",
      "  [1 1 1]\n",
      "  [1 1 1]]\n",
      "\n",
      " [[1 1 1]\n",
      "  [1 1 1]\n",
      "  [1 1 1]\n",
      "  [1 1 1]]]\n",
      "Dimensions: 3\n",
      "6. [[7.96475511 1.48647951 2.36218367]\n",
      " [4.32440975 9.35204645 4.19366197]]\n",
      "7. [[22 12 20]\n",
      " [ 6  1 18]]\n",
      "8. [[1. 0. 0. 0. 0.]\n",
      " [0. 1. 0. 0. 0.]\n",
      " [0. 0. 1. 0. 0.]\n",
      " [0. 0. 0. 1. 0.]\n",
      " [0. 0. 0. 0. 1.]]\n"
     ]
    }
   ],
   "source": [
    "# init array\n",
    "# you always need to know the shape/size of arr --> welcome back java\n",
    "init_arr = np.empty(shape=(2,3))\n",
    "zeros_arr = np.zeros((4,))\n",
    "ones_arr = np.ones((1,4)).astype(int) # casting \n",
    "ones_arr_2d = np.full((2,4), 99).astype(int) # insert 99 to all elements of array\n",
    "zeros_arr_3d = np.ones((2,4,3), dtype='int16')\n",
    "\n",
    "random = 10* np.random.rand(2,3)\n",
    "random_int = np.random.randint(1,25, (2,3))\n",
    "\n",
    "identity = np.identity(5) # specify only number of rows\n",
    "\n",
    "# dimension 4, is just a simple 1D list which has 4 elements\n",
    "# dimension 1,4 is a 2D array which has only one element (another list)\n",
    "# dimension 2,4 is a 2D array too, but it has 2 rows and 4 element is each col\n",
    "# dimension x,y,z is a 3D array\n",
    "\n",
    "print(f'1. {init_arr}')\n",
    "print(f'Dimensions: {init_arr.ndim}')\n",
    "print(f'2. {zeros_arr}')\n",
    "print(f'Dimensions: {zeros_arr.ndim}')\n",
    "print(f'3. {ones_arr}')\n",
    "print(f'Dimensions: {ones_arr.ndim}')\n",
    "print(f'4. {ones_arr_2d}')\n",
    "print(f'Dimensions: {ones_arr_2d.ndim}')\n",
    "print(f'5. {zeros_arr_3d}')\n",
    "print(f'Dimensions: {zeros_arr_3d.ndim}')\n",
    "print(f'6. {random}')\n",
    "print(f'7. {random_int}')\n",
    "print(f'8. {identity}')\n"
   ]
  },
  {
   "cell_type": "markdown",
   "id": "77f04096",
   "metadata": {},
   "source": [
    "### Shapes and element access"
   ]
  },
  {
   "cell_type": "code",
   "execution_count": 42,
   "id": "3dbab818",
   "metadata": {},
   "outputs": [
    {
     "name": "stdout",
     "output_type": "stream",
     "text": [
      "Shape: (4,)\n",
      "[3 2 1 2]\n",
      "Shape: (1, 4)\n",
      "[[3 2 1 2]]\n",
      "Shape: (2, 2, 3)\n",
      "[[[ 1  2  3]\n",
      "  [ 4  5  6]]\n",
      "\n",
      " [[ 7  8  9]\n",
      "  [10 11 12]]]\n",
      "Element access\n",
      "2\n",
      "2\n",
      "9\n"
     ]
    }
   ],
   "source": [
    "test = np.array([3,2,1,2])\n",
    "test2d = np.array([[3,2,1,2]])\n",
    "test3d = np.array([[[1,2,3], [4,5,6]], [[7,8,9], [10,11,12]]])\n",
    "\n",
    "print(f'Shape: {test.shape}')\n",
    "print(test)\n",
    "print(f'Shape: {test2d.shape}')\n",
    "print(test2d)\n",
    "print(f'Shape: {test3d.shape}')\n",
    "print(test3d)\n",
    "print(\"Element access\")\n",
    "print(test[1])\n",
    "print(test2d[0][1])\n",
    "print(test3d[1][0][2])"
   ]
  },
  {
   "cell_type": "code",
   "execution_count": 66,
   "id": "85e7ae62",
   "metadata": {
    "scrolled": true
   },
   "outputs": [
    {
     "name": "stdout",
     "output_type": "stream",
     "text": [
      "[[1 2 3 4]\n",
      " [5 6 7 8]]\n",
      "8\n",
      "8\n"
     ]
    }
   ],
   "source": [
    "# you can access elements in numpy way too:\n",
    "test = np.array([[1,2,3,4],[5,6,7,8]])\n",
    "print(test)\n",
    "print(test[1][3])\n",
    "print(test[1,3]) # this is numpy way!"
   ]
  },
  {
   "cell_type": "code",
   "execution_count": 68,
   "id": "16a2ad92",
   "metadata": {
    "scrolled": true
   },
   "outputs": [
    {
     "name": "stdout",
     "output_type": "stream",
     "text": [
      "[1 2 3 4]\n",
      "[2 6]\n"
     ]
    }
   ],
   "source": [
    "# get specific row and column\n",
    "print(test[0,:])\n",
    "print(test[:,1])"
   ]
  },
  {
   "cell_type": "code",
   "execution_count": 78,
   "id": "1f16cf46",
   "metadata": {
    "scrolled": true
   },
   "outputs": [
    {
     "name": "stdout",
     "output_type": "stream",
     "text": [
      "[[3.38755047 8.75279934 8.54343105 1.88299141 7.44615626 3.23708112]\n",
      " [6.10513507 5.18654475 6.48847388 2.9021679  3.06891515 4.95689708]\n",
      " [8.38351874 5.71431027 8.0717411  9.81527407 3.82080269 3.81456619]]\n",
      "[8.75279934 1.88299141]\n"
     ]
    }
   ],
   "source": [
    "# [startindex: endindex: step]\n",
    "test = 10 * np.random.rand(3,6)\n",
    "print(test)\n",
    "print(test[0,1:-1:2])"
   ]
  },
  {
   "cell_type": "markdown",
   "id": "be9ad33b",
   "metadata": {},
   "source": [
    "### Change elements"
   ]
  },
  {
   "cell_type": "code",
   "execution_count": 89,
   "id": "caf35d88",
   "metadata": {
    "scrolled": true
   },
   "outputs": [
    {
     "name": "stdout",
     "output_type": "stream",
     "text": [
      "[[6.1173351  7.53108236 1.97722816]\n",
      " [3.60381423 3.09918496 3.08719108]\n",
      " [0.72400399 6.72629014 8.79665977]]\n",
      "##################\n",
      "[[ 6.1173351   7.53108236 99.        ]\n",
      " [ 3.60381423  3.09918496  3.08719108]\n",
      " [ 0.72400399  6.72629014  8.79665977]]\n",
      "##################\n",
      "[[1.         2.         3.        ]\n",
      " [3.60381423 3.09918496 3.08719108]\n",
      " [0.72400399 6.72629014 8.79665977]]\n",
      "##################\n",
      "[[ 1.          2.          3.        ]\n",
      " [ 3.60381423  3.09918496  3.08719108]\n",
      " [ 0.72400399 22.         33.        ]]\n",
      "##################\n",
      "[[ 1.          2.          3.        ]\n",
      " [ 5.          5.          5.        ]\n",
      " [ 0.72400399 22.         33.        ]]\n"
     ]
    }
   ],
   "source": [
    "# change element, whole rows/columns and segments\n",
    "test = 10 * np.random.rand(3,3)\n",
    "print(test)\n",
    "print(\"##################\")\n",
    "test[0,2] = 99\n",
    "print(test)\n",
    "print(\"##################\")\n",
    "\n",
    "# change first row\n",
    "test[0,:] = [1,2,3]\n",
    "print(test)\n",
    "print(\"##################\")      \n",
    "\n",
    "# change third row but only last 2 elements\n",
    "test[2,-2:] = [22,33]\n",
    "print(test)\n",
    "print(\"##################\")\n",
    "test[1,:] = [5] # make whole row with 5\n",
    "print(test)"
   ]
  },
  {
   "cell_type": "markdown",
   "id": "782a412c",
   "metadata": {},
   "source": [
    "#### extend array by same values"
   ]
  },
  {
   "cell_type": "code",
   "execution_count": 103,
   "id": "9fcd90a1",
   "metadata": {},
   "outputs": [
    {
     "name": "stdout",
     "output_type": "stream",
     "text": [
      "[[1 2 3 4]]\n",
      "##################\n",
      "[[1 1 1 2 2 2 3 3 3 4 4 4]]\n",
      "##################\n",
      "[[1 2 3 4]\n",
      " [1 2 3 4]\n",
      " [1 2 3 4]]\n",
      "##################\n"
     ]
    }
   ],
   "source": [
    "arr = np.array([[1,2,3,4]])\n",
    "arr_row = np.repeat(arr, 3, axis=1)\n",
    "arr_col = np.repeat(arr, 3, axis=0)\n",
    "print(arr)\n",
    "print(\"##################\")\n",
    "print(arr_row)\n",
    "print(\"##################\")\n",
    "print(arr_col)\n",
    "print(\"##################\")"
   ]
  },
  {
   "cell_type": "markdown",
   "id": "992819b9",
   "metadata": {},
   "source": [
    "### Get type and size"
   ]
  },
  {
   "cell_type": "code",
   "execution_count": 47,
   "id": "cd72c53f",
   "metadata": {},
   "outputs": [
    {
     "name": "stdout",
     "output_type": "stream",
     "text": [
      "int64\n",
      "int16\n",
      "int16\n",
      "float64\n"
     ]
    }
   ],
   "source": [
    "# all arrays in numpy are fixed in size and can have only one type\n",
    "# types\n",
    "# check https://numpy.org/doc/stable/user/basics.types.html\n",
    "int_arr = np.array([1,2,3,4])\n",
    "small_int_arr = np.array([1,2,3,4], dtype='int16')\n",
    "small_int_arr2 = np.array([1,2,3,4], dtype=np.short)\n",
    "float_arr = np.array([1.2, 3.4])\n",
    "\n",
    "print(int_arr.dtype)\n",
    "print(small_int_arr.dtype)\n",
    "print(small_int_arr2.dtype)\n",
    "print(float_arr.dtype)"
   ]
  },
  {
   "cell_type": "code",
   "execution_count": 52,
   "id": "ae560953",
   "metadata": {},
   "outputs": [
    {
     "name": "stdout",
     "output_type": "stream",
     "text": [
      "8\n",
      "2\n",
      "8\n"
     ]
    }
   ],
   "source": [
    "# size in bytes\n",
    "print(int_arr.itemsize)\n",
    "print(small_int_arr.itemsize)\n",
    "print(float_arr.itemsize)"
   ]
  },
  {
   "cell_type": "code",
   "execution_count": 56,
   "id": "633df398",
   "metadata": {},
   "outputs": [
    {
     "name": "stdout",
     "output_type": "stream",
     "text": [
      "4\n",
      "8\n",
      "32\n"
     ]
    }
   ],
   "source": [
    "# total size = num of elements * size of each element (what we get in itemsize)\n",
    "print(int_arr.size)\n",
    "print(int_arr.itemsize)\n",
    "print(int_arr.nbytes)"
   ]
  },
  {
   "cell_type": "markdown",
   "id": "aa1d1759",
   "metadata": {},
   "source": [
    "## Arithmetics"
   ]
  },
  {
   "cell_type": "markdown",
   "id": "5b2dec6a",
   "metadata": {},
   "source": [
    "### Basic operations"
   ]
  },
  {
   "cell_type": "code",
   "execution_count": 108,
   "id": "66720160",
   "metadata": {},
   "outputs": [
    {
     "name": "stdout",
     "output_type": "stream",
     "text": [
      "[1 2 3 4]\n"
     ]
    }
   ],
   "source": [
    "arr = np.array([1,2,3,4])\n",
    "print(arr)"
   ]
  },
  {
   "cell_type": "code",
   "execution_count": 112,
   "id": "04d16cee",
   "metadata": {},
   "outputs": [
    {
     "data": {
      "text/plain": [
       "array([3, 4, 5, 6])"
      ]
     },
     "execution_count": 112,
     "metadata": {},
     "output_type": "execute_result"
    }
   ],
   "source": [
    "arr + 2 # every element will be made +2, works same for all basic operation (*, /, -, //, ** ...)"
   ]
  },
  {
   "cell_type": "markdown",
   "id": "4eaab5bb",
   "metadata": {},
   "source": [
    "### Arrays operations"
   ]
  },
  {
   "cell_type": "code",
   "execution_count": 113,
   "id": "14145198",
   "metadata": {},
   "outputs": [],
   "source": [
    "arr1 = np.array([1,2,3,4])\n",
    "arr2 = np.array([5,6,7,8])"
   ]
  },
  {
   "cell_type": "code",
   "execution_count": 116,
   "id": "00e63521",
   "metadata": {},
   "outputs": [
    {
     "data": {
      "text/plain": [
       "array([ 6,  8, 10, 12])"
      ]
     },
     "execution_count": 116,
     "metadata": {},
     "output_type": "execute_result"
    }
   ],
   "source": [
    "arr1+arr2 # every element multiply with every element, row by row. Works same for all basic operations"
   ]
  },
  {
   "cell_type": "code",
   "execution_count": 117,
   "id": "b4bc4727",
   "metadata": {},
   "outputs": [
    {
     "ename": "ValueError",
     "evalue": "operands could not be broadcast together with shapes (4,) (3,) ",
     "output_type": "error",
     "traceback": [
      "\u001b[0;31m---------------------------------------------------------------------------\u001b[0m",
      "\u001b[0;31mValueError\u001b[0m                                Traceback (most recent call last)",
      "\u001b[0;32m<ipython-input-117-ab7e0f7f1260>\u001b[0m in \u001b[0;36m<module>\u001b[0;34m\u001b[0m\n\u001b[1;32m      1\u001b[0m \u001b[0marr_fail\u001b[0m \u001b[0;34m=\u001b[0m \u001b[0mnp\u001b[0m\u001b[0;34m.\u001b[0m\u001b[0marray\u001b[0m\u001b[0;34m(\u001b[0m\u001b[0;34m[\u001b[0m\u001b[0;36m1\u001b[0m\u001b[0;34m,\u001b[0m\u001b[0;36m2\u001b[0m\u001b[0;34m,\u001b[0m\u001b[0;36m3\u001b[0m\u001b[0;34m]\u001b[0m\u001b[0;34m)\u001b[0m \u001b[0;31m# less elements in one arr?\u001b[0m\u001b[0;34m\u001b[0m\u001b[0;34m\u001b[0m\u001b[0m\n\u001b[0;32m----> 2\u001b[0;31m \u001b[0marr1\u001b[0m\u001b[0;34m+\u001b[0m\u001b[0marr_fail\u001b[0m\u001b[0;34m\u001b[0m\u001b[0;34m\u001b[0m\u001b[0m\n\u001b[0m",
      "\u001b[0;31mValueError\u001b[0m: operands could not be broadcast together with shapes (4,) (3,) "
     ]
    }
   ],
   "source": [
    "arr_fail = np.array([1,2,3]) # less elements in one arr?\n",
    "arr1+arr_fail"
   ]
  },
  {
   "cell_type": "markdown",
   "id": "5e1dd1ef",
   "metadata": {},
   "source": [
    "## Linear Algebra"
   ]
  },
  {
   "cell_type": "code",
   "execution_count": 122,
   "id": "c8473251",
   "metadata": {},
   "outputs": [
    {
     "name": "stdout",
     "output_type": "stream",
     "text": [
      "[[1 1 1]\n",
      " [1 1 1]]\n",
      "[[2 2]\n",
      " [2 2]\n",
      " [2 2]]\n"
     ]
    }
   ],
   "source": [
    "arr = np.ones((2,3), dtype=\"int\")\n",
    "print(arr)\n",
    "arr2 = np.full((3,2),2)\n",
    "print(arr2)"
   ]
  },
  {
   "cell_type": "markdown",
   "id": "72d1d7be",
   "metadata": {},
   "source": [
    "#### matrix multipliction\n",
    "num of rows in arr == num of cols in arr2"
   ]
  },
  {
   "cell_type": "code",
   "execution_count": 124,
   "id": "8aa125f7",
   "metadata": {},
   "outputs": [
    {
     "name": "stdout",
     "output_type": "stream",
     "text": [
      "(2, 3)\n",
      "(3, 2)\n"
     ]
    },
    {
     "data": {
      "text/plain": [
       "True"
      ]
     },
     "execution_count": 124,
     "metadata": {},
     "output_type": "execute_result"
    }
   ],
   "source": [
    "print(arr.shape)\n",
    "print(arr2.shape)\n",
    "arr.shape[0] == arr2.shape[1]"
   ]
  },
  {
   "cell_type": "code",
   "execution_count": 125,
   "id": "02714e54",
   "metadata": {},
   "outputs": [
    {
     "ename": "ValueError",
     "evalue": "operands could not be broadcast together with shapes (2,3) (3,2) ",
     "output_type": "error",
     "traceback": [
      "\u001b[0;31m---------------------------------------------------------------------------\u001b[0m",
      "\u001b[0;31mValueError\u001b[0m                                Traceback (most recent call last)",
      "\u001b[0;32m<ipython-input-125-0b7167ae9480>\u001b[0m in \u001b[0;36m<module>\u001b[0;34m\u001b[0m\n\u001b[0;32m----> 1\u001b[0;31m \u001b[0marr\u001b[0m \u001b[0;34m*\u001b[0m \u001b[0marr2\u001b[0m\u001b[0;34m\u001b[0m\u001b[0;34m\u001b[0m\u001b[0m\n\u001b[0m",
      "\u001b[0;31mValueError\u001b[0m: operands could not be broadcast together with shapes (2,3) (3,2) "
     ]
    }
   ],
   "source": [
    "arr * arr2"
   ]
  },
  {
   "cell_type": "code",
   "execution_count": 126,
   "id": "64355dca",
   "metadata": {},
   "outputs": [
    {
     "data": {
      "text/plain": [
       "array([[6, 6],\n",
       "       [6, 6]])"
      ]
     },
     "execution_count": 126,
     "metadata": {},
     "output_type": "execute_result"
    }
   ],
   "source": [
    "np.matmul(arr,arr2)"
   ]
  },
  {
   "cell_type": "markdown",
   "id": "1fa99fb7",
   "metadata": {},
   "source": [
    "stuff to look at: determinate, inverse, vector decompositiion \n",
    "https://numpy.org/doc/stable/reference/routines.linalg.html"
   ]
  },
  {
   "cell_type": "markdown",
   "id": "ca2e1b0a",
   "metadata": {},
   "source": [
    "## Statisitcs"
   ]
  },
  {
   "cell_type": "code",
   "execution_count": 141,
   "id": "e2b0eaa4",
   "metadata": {},
   "outputs": [
    {
     "name": "stdout",
     "output_type": "stream",
     "text": [
      "[[1 2 3 4]\n",
      " [3 5 5 5]\n",
      " [5 6 4 8]]\n",
      "1\n",
      "4.25\n",
      "[1 3 4]\n"
     ]
    }
   ],
   "source": [
    "stats = np.array([[1,2,3,4],[3,5,5,5],[5,6,4,8]])\n",
    "print(stats)\n",
    "print(np.min(stats))\n",
    "print(np.average(stats))\n",
    "\n",
    "print(np.min(stats, axis=1)) # 0 is column wise and 1 is row wise"
   ]
  },
  {
   "cell_type": "markdown",
   "id": "92af609b",
   "metadata": {},
   "source": [
    "for more see https://numpy.org/doc/stable/reference/routines.statistics.html"
   ]
  },
  {
   "cell_type": "markdown",
   "id": "cf29f019",
   "metadata": {},
   "source": [
    "## Array manupulation and organisation"
   ]
  },
  {
   "cell_type": "code",
   "execution_count": 148,
   "id": "923ce008",
   "metadata": {},
   "outputs": [
    {
     "name": "stdout",
     "output_type": "stream",
     "text": [
      "[[ 1  2  3  4]\n",
      " [ 5  6  7  8]\n",
      " [ 9 10 11 12]\n",
      " [13 14 15 16]]\n",
      "(4, 4)\n"
     ]
    }
   ],
   "source": [
    "before = np.array([[1,2,3,4],[5,6,7,8], [9,10,11,12], [13,14,15,16]])\n",
    "print(before)\n",
    "print(before.shape)"
   ]
  },
  {
   "cell_type": "code",
   "execution_count": 149,
   "id": "ce1a0180",
   "metadata": {},
   "outputs": [
    {
     "name": "stdout",
     "output_type": "stream",
     "text": [
      "[[ 1  2  3  4  5  6  7  8]\n",
      " [ 9 10 11 12 13 14 15 16]]\n",
      "(2, 8)\n"
     ]
    }
   ],
   "source": [
    "after = before.reshape(2,8)\n",
    "print(after)\n",
    "print(after.shape)"
   ]
  },
  {
   "cell_type": "code",
   "execution_count": 151,
   "id": "bc58e038",
   "metadata": {},
   "outputs": [
    {
     "name": "stdout",
     "output_type": "stream",
     "text": [
      "[[[[ 1  2]\n",
      "   [ 3  4]]\n",
      "\n",
      "  [[ 5  6]\n",
      "   [ 7  8]]]\n",
      "\n",
      "\n",
      " [[[ 9 10]\n",
      "   [11 12]]\n",
      "\n",
      "  [[13 14]\n",
      "   [15 16]]]]\n"
     ]
    }
   ],
   "source": [
    "after_after = before.reshape(2,2,2,2)\n",
    "print(after_after)"
   ]
  },
  {
   "cell_type": "markdown",
   "id": "41a0f515",
   "metadata": {},
   "source": [
    "#### Vertically stacking"
   ]
  },
  {
   "cell_type": "code",
   "execution_count": 155,
   "id": "5c9dee4d",
   "metadata": {},
   "outputs": [
    {
     "name": "stdout",
     "output_type": "stream",
     "text": [
      "[[1 2 3 4]\n",
      " [5 6 7 8]]\n",
      "##################\n",
      "[[1 2 3 4]\n",
      " [5 6 7 8]\n",
      " [1 2 3 4]]\n",
      "##################\n",
      "[1 2 3 4 5 6 7 8]\n"
     ]
    }
   ],
   "source": [
    "v1 = np.array([1,2,3,4])\n",
    "v2 = np.array([5,6,7,8])\n",
    "print(np.vstack([v1,v2]))\n",
    "print(\"##################\")\n",
    "print(np.vstack([v1,v2,v1]))\n",
    "print(\"##################\")\n",
    "print(np.hstack([v1,v2]))"
   ]
  },
  {
   "cell_type": "markdown",
   "id": "1cbe28a7",
   "metadata": {},
   "source": [
    "## Other stuff"
   ]
  },
  {
   "cell_type": "markdown",
   "id": "bd8932db",
   "metadata": {},
   "source": [
    "### Load data from file"
   ]
  },
  {
   "cell_type": "code",
   "execution_count": null,
   "id": "1b2055a3",
   "metadata": {},
   "outputs": [],
   "source": [
    "file_data = np.genfromtxt('data.txt', delimiter=',')"
   ]
  },
  {
   "cell_type": "markdown",
   "id": "2c275173",
   "metadata": {},
   "source": [
    "### Advanced indexing"
   ]
  },
  {
   "cell_type": "code",
   "execution_count": null,
   "id": "8304a3fa",
   "metadata": {},
   "outputs": [],
   "source": [
    "# if in data.txt the value is higher than 50 return true. The return here will be a boolean array\n",
    "file_data > 50\n",
    "# access data which is larger than 50\n",
    "filedata[filedata > 50]"
   ]
  },
  {
   "cell_type": "code",
   "execution_count": 156,
   "id": "f2b6b311",
   "metadata": {},
   "outputs": [
    {
     "data": {
      "text/plain": [
       "array([1, 3, 9])"
      ]
     },
     "execution_count": 156,
     "metadata": {},
     "output_type": "execute_result"
    }
   ],
   "source": [
    "# indexing with array\n",
    "a = np.array([1,2,3,4,5,6,7,8,9])\n",
    "a[[0,2,8]]"
   ]
  },
  {
   "cell_type": "code",
   "execution_count": 166,
   "id": "7b0661af",
   "metadata": {},
   "outputs": [
    {
     "name": "stdout",
     "output_type": "stream",
     "text": [
      "[[ 1  2  3  4  5]\n",
      " [ 6  7  8  9 10]\n",
      " [11 12 13 14 15]\n",
      " [16 17 18 19 20]\n",
      " [21 22 23 24 25]\n",
      " [26 27 28 29 30]]\n"
     ]
    },
    {
     "data": {
      "text/plain": [
       "array([11, 12, 13, 14, 15, 16, 17])"
      ]
     },
     "execution_count": 166,
     "metadata": {},
     "output_type": "execute_result"
    }
   ],
   "source": [
    "arr1 = np.array([[1,2,3,4,5], [6,7,8,9,10]])\n",
    "arr2 = np.array([[11,12,13,14,15], [16,17,18,19,20]])\n",
    "arr3 = np.array([[21,22,23,24,25], [26,27,28,29,30]])\n",
    "\n",
    "res = np.vstack([arr1,arr2,arr3])\n",
    "print(res)\n",
    "# find 11,12,16,17\n",
    "res[(res > 10) & (res < 18)]"
   ]
  }
 ],
 "metadata": {
  "kernelspec": {
   "display_name": "Python 3",
   "language": "python",
   "name": "python3"
  },
  "language_info": {
   "codemirror_mode": {
    "name": "ipython",
    "version": 3
   },
   "file_extension": ".py",
   "mimetype": "text/x-python",
   "name": "python",
   "nbconvert_exporter": "python",
   "pygments_lexer": "ipython3",
   "version": "3.8.8"
  }
 },
 "nbformat": 4,
 "nbformat_minor": 5
}
