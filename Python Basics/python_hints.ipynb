{
 "cells": [
  {
   "cell_type": "markdown",
   "metadata": {},
   "source": [
    "# Python Methods and Tools Reminder"
   ]
  },
  {
   "cell_type": "markdown",
   "metadata": {},
   "source": [
    "## Save data short hint"
   ]
  },
  {
   "cell_type": "code",
   "execution_count": 1,
   "metadata": {},
   "outputs": [],
   "source": [
    "# 00000101 -> 8 bits == 1 byte \n",
    "# 00000000 00000000 00000000 00000101 -> 4 bytes"
   ]
  },
  {
   "cell_type": "markdown",
   "metadata": {},
   "source": [
    "## Reverse String or Array"
   ]
  },
  {
   "cell_type": "code",
   "execution_count": 2,
   "metadata": {},
   "outputs": [
    {
     "name": "stdout",
     "output_type": "stream",
     "text": [
      "olleH\n"
     ]
    }
   ],
   "source": [
    "s = \"Hello\"\n",
    "s = s[::-1]\n",
    "print(s)"
   ]
  },
  {
   "cell_type": "markdown",
   "metadata": {},
   "source": [
    "## Substring / Subarray"
   ]
  },
  {
   "cell_type": "code",
   "execution_count": 5,
   "metadata": {},
   "outputs": [
    {
     "name": "stdout",
     "output_type": "stream",
     "text": [
      "[2, 4, 4]\n",
      "(1, 6)\n"
     ]
    }
   ],
   "source": [
    "# take part of String or array \n",
    "arr = [1, 2, 4, 4, 3]\n",
    "arr = arr[1:4] # -> takes from index one to index for (not included)\n",
    "print(arr)\n",
    "\n",
    "# alternative\n",
    "tuple = (1,4,6,7,2,33,4,6)[:4:2] # -> tuple = (1,6)\n",
    "print(tuple)"
   ]
  },
  {
   "cell_type": "markdown",
   "metadata": {},
   "source": [
    "## Set"
   ]
  },
  {
   "cell_type": "code",
   "execution_count": 8,
   "metadata": {},
   "outputs": [
    {
     "name": "stdout",
     "output_type": "stream",
     "text": [
      "{1, 2, 3, 4, 6}\n",
      "{2, 3}\n",
      "{1}\n",
      "True\n"
     ]
    }
   ],
   "source": [
    "s = {1,2,3}\n",
    "s2 = {1,4,6}\n",
    "\n",
    "union = s.union(s2) # --> combines two sets\n",
    "print(union)\n",
    "diff = s. difference(s2)\n",
    "print(diff)\n",
    "inter = s.intersection(s2) # -> same elements will be displayed\n",
    "print(inter)\n",
    "\n",
    "checker = 1 in s # -> gives true if 1 is in set s and false if not \n",
    "print(checker)"
   ]
  },
  {
   "cell_type": "markdown",
   "metadata": {},
   "source": [
    "## Dictionary"
   ]
  },
  {
   "cell_type": "code",
   "execution_count": 7,
   "metadata": {},
   "outputs": [
    {
     "name": "stdout",
     "output_type": "stream",
     "text": [
      "value\n",
      "True\n",
      "4 6\n"
     ]
    }
   ],
   "source": [
    "s = {\"key\" : \"value\", 4 : 6}\n",
    "print(s[\"key\"]) # -> will print value of key \"key\"\n",
    "\n",
    "# print if key is in x (x is a dictionary)\n",
    "if \"key\" in s.keys():\n",
    "    print(\"True\") \n",
    "\n",
    "del s[\"key\"] # -> deleting keys from dic s\n",
    "\n",
    "# print key value pairs of dic\n",
    "for key, value in s.items():\n",
    "    print(key, value)"
   ]
  },
  {
   "cell_type": "markdown",
   "metadata": {},
   "source": [
    "## Comprehensions"
   ]
  },
  {
   "cell_type": "markdown",
   "metadata": {},
   "source": [
    "### Comprehensions Lists"
   ]
  },
  {
   "cell_type": "code",
   "execution_count": 13,
   "metadata": {},
   "outputs": [
    {
     "name": "stdout",
     "output_type": "stream",
     "text": [
      "x: [0, 1, 2, 3, 4]\n",
      "s: [0, 5, 10, 15, 20, 25, 30, 35, 40, 45, 50, 55, 60, 65, 70, 75, 80, 85, 90, 95]\n"
     ]
    }
   ],
   "source": [
    "x = [x for x in range(5)] \n",
    "print(f'x: {x}')\n",
    "\n",
    "s = [i for i in range(100) if i % 5 == 0] # -> the list has only values die durch 5 teilen von 0 bis 100\n",
    "print(f's: {s}')"
   ]
  },
  {
   "cell_type": "markdown",
   "metadata": {},
   "source": [
    "### Comprehensions Dictionaries"
   ]
  },
  {
   "cell_type": "code",
   "execution_count": 14,
   "metadata": {},
   "outputs": [
    {
     "name": "stdout",
     "output_type": "stream",
     "text": [
      "{0: 0, 1: 0, 2: 0, 3: 0, 4: 0}\n"
     ]
    }
   ],
   "source": [
    "dictioanry_random = {x:0 for x in range(5)}\n",
    "print(dictioanry_random)"
   ]
  },
  {
   "cell_type": "markdown",
   "metadata": {},
   "source": [
    "### Tuple Comprehension"
   ]
  },
  {
   "cell_type": "code",
   "execution_count": 15,
   "metadata": {},
   "outputs": [
    {
     "name": "stdout",
     "output_type": "stream",
     "text": [
      "(0, 1, 2, 3, 4)\n"
     ]
    }
   ],
   "source": [
    "tuple_example = tuple (x for x in range(5))\n",
    "print(tuple_example)"
   ]
  },
  {
   "cell_type": "markdown",
   "metadata": {},
   "source": [
    "## Functions"
   ]
  },
  {
   "cell_type": "code",
   "execution_count": 16,
   "metadata": {},
   "outputs": [
    {
     "name": "stdout",
     "output_type": "stream",
     "text": [
      "(20, 2.0)\n"
     ]
    }
   ],
   "source": [
    "# return 2 values\n",
    "def my_function(param1, param2):\n",
    "    return param1*10, param2 / 20\n",
    "print(my_function(2,40))"
   ]
  },
  {
   "cell_type": "code",
   "execution_count": 18,
   "metadata": {},
   "outputs": [
    {
     "name": "stdout",
     "output_type": "stream",
     "text": [
      "(15, 35)\n",
      "(15, 99)\n"
     ]
    }
   ],
   "source": [
    "# optional value (set default!)\n",
    "def optional_param_func(param1, param2, optional_param=35):\n",
    "    return param1+param2, optional_param\n",
    "print(optional_param_func(5,10))\n",
    "print(optional_param_func(5,10,99))"
   ]
  },
  {
   "cell_type": "markdown",
   "metadata": {},
   "source": [
    "### *ARGS"
   ]
  },
  {
   "cell_type": "code",
   "execution_count": 23,
   "metadata": {},
   "outputs": [
    {
     "name": "stdout",
     "output_type": "stream",
     "text": [
      "1 3 55 6 67 88\n",
      "Hello\n",
      "Welcome\n",
      "to\n",
      "GeeksforGeeks\n"
     ]
    }
   ],
   "source": [
    "x = [1,3,55,6,67,88]\n",
    "print(*x) # space separated\n",
    "\n",
    "# *args for variable number of arguments\n",
    "def myFun(*argv): \n",
    "    for arg in argv: \n",
    "        print (arg)\n",
    "myFun('Hello', 'Welcome', 'to', 'GeeksforGeeks')         "
   ]
  },
  {
   "cell_type": "markdown",
   "metadata": {},
   "source": [
    "### **KWARGS"
   ]
  },
  {
   "cell_type": "code",
   "execution_count": 24,
   "metadata": {},
   "outputs": [
    {
     "name": "stdout",
     "output_type": "stream",
     "text": [
      "first == Geeks\n",
      "mid == for\n",
      "last == Geeks\n"
     ]
    }
   ],
   "source": [
    "# *kargs for variable number of keyword arguments\n",
    " \n",
    "def myFun(**kwargs): \n",
    "    for key, value in kwargs.items():\n",
    "        print (\"%s == %s\" %(key, value))\n",
    " \n",
    "# Driver code\n",
    "myFun(first ='Geeks', mid ='for', last='Geeks')  "
   ]
  },
  {
   "cell_type": "markdown",
   "metadata": {},
   "source": [
    "## Exceptions"
   ]
  },
  {
   "cell_type": "code",
   "execution_count": 25,
   "metadata": {},
   "outputs": [],
   "source": [
    "# throw exception\n",
    "raise Exception(\"Bad\")"
   ]
  },
  {
   "cell_type": "code",
   "execution_count": 28,
   "metadata": {},
   "outputs": [
    {
     "name": "stdout",
     "output_type": "stream",
     "text": [
      "division by zero\n",
      "finally\n"
     ]
    }
   ],
   "source": [
    "# handle Exception\n",
    "try: \n",
    "    2 / 0\n",
    "except Exception as e:\n",
    "    print(e)\n",
    "\n",
    "finally:\n",
    "    print(\"finally\")"
   ]
  },
  {
   "cell_type": "markdown",
   "metadata": {},
   "source": [
    "## Lambda"
   ]
  },
  {
   "cell_type": "code",
   "execution_count": 30,
   "metadata": {},
   "outputs": [],
   "source": [
    "x = lambda x: x+5"
   ]
  },
  {
   "cell_type": "markdown",
   "metadata": {},
   "source": [
    "#### In map: Function will be applied to all objects of iterable. In filter: Function will be applied to only those objects of iterable who goes True on the condition specified in expression."
   ]
  },
  {
   "cell_type": "code",
   "execution_count": 33,
   "metadata": {},
   "outputs": [
    {
     "name": "stdout",
     "output_type": "stream",
     "text": [
      "[3, 4, 6, 123, 125.533, 23245, 14, 147, 10, 67, 46, 8, 9, 6, 5, 6]\n"
     ]
    }
   ],
   "source": [
    "x = [1,2,4,121,123.533,23243,12,145,8,65,44,6,7,4,3,4]\n",
    "mp = map(lambda i: i+2, x)\n",
    "print(list(mp)) # caps to list "
   ]
  },
  {
   "cell_type": "markdown",
   "metadata": {},
   "source": [
    "## Class"
   ]
  },
  {
   "cell_type": "code",
   "execution_count": 36,
   "metadata": {},
   "outputs": [
    {
     "name": "stdout",
     "output_type": "stream",
     "text": [
      "bark\n"
     ]
    }
   ],
   "source": [
    "class Dog:\n",
    "    def bark(self):\n",
    "        print(\"bark\")\n",
    "\n",
    "\n",
    "d = Dog()\n",
    "d.bark()"
   ]
  },
  {
   "cell_type": "markdown",
   "metadata": {},
   "source": [
    "### class attributes vs instance attributes\n"
   ]
  },
  {
   "cell_type": "code",
   "execution_count": 41,
   "metadata": {},
   "outputs": [
    {
     "name": "stdout",
     "output_type": "stream",
     "text": [
      "45\n",
      "1\n",
      "45\n",
      "1\n",
      "1\n"
     ]
    }
   ],
   "source": [
    "class Dog:\n",
    "    # it is like a static attribute which will be used with this value in every instance of that class\n",
    "    class_var = 1\n",
    "\n",
    "    def __init__(self, i_var):\n",
    "        # this is a instance variable which can be totally individual for every new instance if that class \n",
    "        self.i_var = 45\n",
    "\n",
    "d = Dog(8080)\n",
    "d1 = Dog(404)\n",
    "print(d.i_var)\n",
    "print(d.class_var)\n",
    "print(d1.i_var)\n",
    "print(d1.class_var)\n",
    "print(Dog.class_var)"
   ]
  },
  {
   "cell_type": "markdown",
   "metadata": {},
   "source": [
    "### Loop thru list of objects"
   ]
  },
  {
   "cell_type": "code",
   "execution_count": 42,
   "metadata": {},
   "outputs": [
    {
     "name": "stdout",
     "output_type": "stream",
     "text": [
      "Bruh that dog called Bay\n",
      "Charlie\n",
      "Bruh that dog called Arnold\n"
     ]
    }
   ],
   "source": [
    "# loop thru list of objects\n",
    "class Dog:\n",
    "    def __init__(self, name, age):\n",
    "        self.name = name\n",
    "        self.age = age\n",
    "\n",
    "    def get_name(self):\n",
    "        return self.name\n",
    "\n",
    "    def get_age(self):\n",
    "        return self.age\n",
    "\n",
    "\n",
    "class Dogs:\n",
    "    def __init__(self):\n",
    "        self.dogs_list = []\n",
    "\n",
    "    def append_dog(self, dog):\n",
    "        self.dogs_list.append(dog)\n",
    "\n",
    "    def get_dogs_list(self):\n",
    "        return self.dogs_list\n",
    "\n",
    "\n",
    "dog1 = Dog(\"Bay\", 20)\n",
    "dog2 = Dog(\"Charlie\", 9)\n",
    "dog3 = Dog(\"Arnold\", 1)\n",
    "\n",
    "dogs = Dogs()\n",
    "dogs.append_dog(dog1)\n",
    "dogs.append_dog(dog2)\n",
    "dogs.append_dog(dog3)\n",
    "\n",
    "\n",
    "for dog in dogs.get_dogs_list():\n",
    "    if dog.get_age() == 9:\n",
    "        print(dog.get_name())\n",
    "    else:\n",
    "        print(f'Bruh that dog called {dog.get_name()}')\n",
    "\n"
   ]
  },
  {
   "cell_type": "markdown",
   "metadata": {},
   "source": [
    "## Inheritance"
   ]
  },
  {
   "cell_type": "code",
   "execution_count": 44,
   "metadata": {},
   "outputs": [
    {
     "name": "stdout",
     "output_type": "stream",
     "text": [
      "Cat sleeping\n",
      "Miauuu\n"
     ]
    }
   ],
   "source": [
    "class Tier:\n",
    "    def sleep(self):\n",
    "        print(f'{type(self).__name__} sleeping')\n",
    "    def eat(self):\n",
    "        print(\"eating\")\n",
    "\n",
    "class Cat(Tier): # (<Superclass)  \n",
    "    def __init__(self):\n",
    "        pass\n",
    "    \n",
    "    def miau(self):\n",
    "        print(\"Miauuu\")\n",
    "        \n",
    "cat = Cat()   \n",
    "cat.sleep()\n",
    "cat.miau()"
   ]
  },
  {
   "cell_type": "markdown",
   "metadata": {},
   "source": [
    "### global vars access via classname"
   ]
  },
  {
   "cell_type": "code",
   "execution_count": 45,
   "metadata": {},
   "outputs": [
    {
     "name": "stdout",
     "output_type": "stream",
     "text": [
      "Hey\n"
     ]
    }
   ],
   "source": [
    "class Tester:\n",
    "    global_var = \"Hey\"\n",
    "\n",
    "    def return_varp(self):\n",
    "        return self.global_var\n",
    "\n",
    "\n",
    "print(Tester.global_var)"
   ]
  },
  {
   "cell_type": "markdown",
   "metadata": {},
   "source": [
    "## Class Methods"
   ]
  },
  {
   "cell_type": "code",
   "execution_count": 47,
   "metadata": {},
   "outputs": [
    {
     "name": "stdout",
     "output_type": "stream",
     "text": [
      "wowo its new\n"
     ]
    }
   ],
   "source": [
    "class Tester:\n",
    "    global_var = \"Hey\"\n",
    "\n",
    "    # this classmethod can be used by every instance of that class\n",
    "    @classmethod\n",
    "    def set_global(cls, new_global):\n",
    "        Tester.global_var = new_global\n",
    "\n",
    "\n",
    "Tester.set_global(\"wowo its new\")\n",
    "print(Tester.global_var)"
   ]
  },
  {
   "cell_type": "markdown",
   "metadata": {},
   "source": [
    "## Static Methods"
   ]
  },
  {
   "cell_type": "code",
   "execution_count": 48,
   "metadata": {},
   "outputs": [],
   "source": [
    "class Tester:\n",
    "    # tatic methods -> do not acmes anything (other class or methods)\n",
    "    @staticmethod\n",
    "    def read_data(data):\n",
    "        return data"
   ]
  },
  {
   "cell_type": "markdown",
   "metadata": {},
   "source": [
    "## Separator of array and bring into single string"
   ]
  },
  {
   "cell_type": "code",
   "execution_count": 1,
   "metadata": {},
   "outputs": [
    {
     "name": "stdout",
     "output_type": "stream",
     "text": [
      "Sascha,Iana,Lol,Hey\n",
      "Sascha,Iana,Lol,Hey\n"
     ]
    }
   ],
   "source": [
    "arr = [\"Sascha\", \"Iana\", \"Lol\", \"Hey\"]\n",
    "DELIMITER = \",\"\n",
    "print(DELIMITER.join(arr))\n",
    "\n",
    "#ALTERNATIVE\n",
    "print(*arr,sep=\",\")"
   ]
  },
  {
   "cell_type": "code",
   "execution_count": null,
   "metadata": {},
   "outputs": [],
   "source": [
    "prin"
   ]
  }
 ],
 "metadata": {
  "kernelspec": {
   "display_name": "Python 3",
   "language": "python",
   "name": "python3"
  },
  "language_info": {
   "codemirror_mode": {
    "name": "ipython",
    "version": 3
   },
   "file_extension": ".py",
   "mimetype": "text/x-python",
   "name": "python",
   "nbconvert_exporter": "python",
   "pygments_lexer": "ipython3",
   "version": "3.8.3"
  }
 },
 "nbformat": 4,
 "nbformat_minor": 4
}
